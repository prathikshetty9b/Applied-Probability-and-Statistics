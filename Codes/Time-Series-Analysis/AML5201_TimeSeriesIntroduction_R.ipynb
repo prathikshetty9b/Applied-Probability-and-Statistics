{
  "nbformat": 4,
  "nbformat_minor": 0,
  "metadata": {
    "kernelspec": {
      "display_name": "R",
      "language": "R",
      "name": "ir"
    },
    "language_info": {
      "codemirror_mode": "r",
      "file_extension": ".r",
      "mimetype": "text/x-r-source",
      "name": "R",
      "pygments_lexer": "r",
      "version": "3.3.1"
    },
    "colab": {
      "name": "AML5201_TimeSeriesIntroduction_R.ipynb",
      "provenance": [],
      "collapsed_sections": []
    }
  },
  "cells": [
    {
      "cell_type": "code",
      "metadata": {
        "id": "ib48UrWrH6Gj"
      },
      "source": [
        "library(ggplot2) # powerful visualization library\n",
        "library(dplyr) # powerful data wrangling library"
      ],
      "execution_count": null,
      "outputs": []
    },
    {
      "cell_type": "code",
      "source": [
        "## Sales data (user-given)\n",
        "t = seq(1, 20)\n",
        "s = c(2.8, 2.1, 4, 4.5, 3.8, 3.2, 4.8, 5.4, 4, 3.6, 5.5, 5.8, 4.3, 3.9, 6, 6.4, NA, NA, NA, NA)\n",
        "salesData <- data.frame(t, s)\n",
        "colnames(salesData) = c('time', 'sales')\n",
        "salesData"
      ],
      "metadata": {
        "id": "YpZAFGgeRgh1"
      },
      "execution_count": null,
      "outputs": []
    },
    {
      "cell_type": "code",
      "source": [
        "## Plot the sales data\n",
        "p1 = ggplot(salesData, aes(x = time, y = sales)) +\n",
        "  geom_line(col = 'light blue' ) +\n",
        "  geom_point() +\n",
        "  xlab('Time') +\n",
        "  ylab('Sales') +\n",
        "  theme_minimal()\n",
        "p1 "
      ],
      "metadata": {
        "id": "y5TM9qbeS-v6"
      },
      "execution_count": null,
      "outputs": []
    },
    {
      "cell_type": "code",
      "source": [
        "## Fit a linear regression model to the sales data\n",
        "p2 = ggplot(salesData, aes(x = time, y = sales), col = 'light blue' ) +\n",
        "  geom_point() +\n",
        "  stat_smooth(method= 'lm' ,col= 'red', se = FALSE)\n",
        "p2 "
      ],
      "metadata": {
        "id": "Xj9A4VKoT5D4"
      },
      "execution_count": null,
      "outputs": []
    },
    {
      "cell_type": "code",
      "source": [
        "## Calculate a moving average of the data\n",
        "k = 4 # size of the subset for which average is calculated\n",
        "\n",
        "s = salesData$sales # sales values\n",
        "mavg = rep(NA, length(s)) # empty array to store moving averages\n",
        "index = k-1\n",
        "\n",
        "for (i in c(1:length(s))){\n",
        "  if (i <= length(s)-k+ 1 ){\n",
        "    #mavg[3] = mean(s[1:4])\n",
        "    mavg[index] = mean(s[seq(i, i+(k-1))])\n",
        "    index = index + 1\n",
        "  }\n",
        "}\n",
        "\n",
        "mavg"
      ],
      "metadata": {
        "id": "VB59_N2PUhSy"
      },
      "execution_count": null,
      "outputs": []
    },
    {
      "cell_type": "code",
      "source": [
        "print(mean(s[seq(15, 15+(k-1))]))"
      ],
      "metadata": {
        "id": "IxeJdbyNj9lz"
      },
      "execution_count": null,
      "outputs": []
    },
    {
      "cell_type": "code",
      "source": [
        "## Superimpose plot of moving averages over original time series\n",
        "mSalesData = data.frame(salesData, mavg = mavg)\n",
        "p3 = ggplot(mSalesData, aes(x = time, y = sales))+\n",
        "  geom_line(col = 'light blue')+\n",
        "  geom_point()+\n",
        "  geom_line(aes(x = time, y = mavg), col = 'orange')+\n",
        "  geom_point(aes(x = time, y = mavg), col = 'orange')+\n",
        "  xlab('Time')+\n",
        "  ylab('Sales')+\n",
        "  theme_minimal()\n",
        "p3  "
      ],
      "metadata": {
        "id": "VebWvBItVixh"
      },
      "execution_count": null,
      "outputs": []
    },
    {
      "cell_type": "code",
      "source": [
        "## Calculate seasonality-plus-irregular component of the data\n",
        "k = 4 # size of the subset for which average is calculated\n",
        "\n",
        "s = salesData$sales # sales values\n",
        "si = rep(NA, length(s)) # empty array to store seasonality-plus-irregular component \n",
        "index = k-1\n",
        "\n",
        "for (i in c(1:length(s))){\n",
        "  if (i <= length(s)-k+ 1 ){\n",
        "    si[index] = s[index] / mean(s[seq(i, i+(k-1))]) # Seasonality + Irregular Component\n",
        "    index = index + 1\n",
        "  }\n",
        "}\n",
        "\n",
        "si"
      ],
      "metadata": {
        "id": "GZFncd9GW5ab"
      },
      "execution_count": null,
      "outputs": []
    },
    {
      "cell_type": "code",
      "source": [
        "## Superimpose plot of sesonality over original time series\n",
        "smSalesData = data.frame(mSalesData, si = si)\n",
        "p4 = ggplot(smSalesData, aes(x = time, y = sales))+\n",
        "  geom_line(col = 'light blue')+\n",
        "  geom_point()+\n",
        "  geom_line(aes(x = time, y = si), col = 'orange')+\n",
        "  geom_point(aes(x = time, y = si), col = 'orange')+\n",
        "  xlab('Time')+\n",
        "  ylab('Sales')+\n",
        "  theme_minimal()\n",
        "p4 "
      ],
      "metadata": {
        "id": "_VHV7c6rXjG9"
      },
      "execution_count": null,
      "outputs": []
    },
    {
      "cell_type": "code",
      "source": [
        "eps = rnorm(100, mean = 0, sd = 1) # random noise\n",
        "mu = 2 # the constant mean of the time series\n",
        "# The process, that is the time series\n",
        "#Y_t = mu + eps\n",
        "#Y_t = 1.5*(1:length(eps)) + eps\n",
        "#Y_t = 5.5*sin((2*pi/10)*(1:length(eps))) + eps\n",
        "Y_t = 1.5*(1:length(eps)) + 5.5*sin((2*pi/10)*(1:length(eps))) + eps\n",
        "#Y_t = 1.5*(1:length(eps)) * 5.5*sin((2*pi/10)*(1:length(eps))) * eps\n",
        "\n",
        "# plotting the time series\n",
        "ts.plot(Y_t, main = \"Example of (random) stationary time series\", ylab = expression(X[t]))"
      ],
      "metadata": {
        "id": "t8EwDiGHQ2xE"
      },
      "execution_count": null,
      "outputs": []
    },
    {
      "cell_type": "code",
      "source": [
        "acf(Y_t, lag.max = 20)"
      ],
      "metadata": {
        "id": "lHPcQOeYyluD"
      },
      "execution_count": null,
      "outputs": []
    },
    {
      "cell_type": "code",
      "source": [
        "# Load the car sales dataset\n",
        "file = '/content/carsales.csv'\n",
        "csData = read.csv(file, header = TRUE, stringsAsFactors = FALSE)\n",
        "colnames(csData) = c('Date', 'Sales')\n",
        "head(csData)"
      ],
      "metadata": {
        "id": "3bKq-KuQaCTX"
      },
      "execution_count": null,
      "outputs": []
    },
    {
      "cell_type": "code",
      "source": [
        "# Sales for March 1994\n",
        "csData[which(csData$Date == '1994-03-01'), 'Sales']"
      ],
      "metadata": {
        "id": "uHKZMgJPJ2VN"
      },
      "execution_count": null,
      "outputs": []
    },
    {
      "cell_type": "code",
      "source": [
        "# Convert dataframe into a time series object\n",
        "csData.ts = ts(data = csData$Sales, frequency = 12, start = c(1992, 1), end = c(2021, 10)) "
      ],
      "metadata": {
        "id": "q2y-FczzanFj"
      },
      "execution_count": null,
      "outputs": []
    },
    {
      "cell_type": "code",
      "source": [
        "class(csData.ts)"
      ],
      "metadata": {
        "id": "pJZTjR_lLrCA"
      },
      "execution_count": null,
      "outputs": []
    },
    {
      "cell_type": "code",
      "source": [
        "print(csData.ts)"
      ],
      "metadata": {
        "id": "tfLvwaFpLzHO"
      },
      "execution_count": null,
      "outputs": []
    },
    {
      "cell_type": "code",
      "source": [
        "start(csData.ts)"
      ],
      "metadata": {
        "id": "5ZZhViB4dA9D"
      },
      "execution_count": null,
      "outputs": []
    },
    {
      "cell_type": "code",
      "source": [
        "end(csData.ts)"
      ],
      "metadata": {
        "id": "HKTkQI2jdDcu"
      },
      "execution_count": null,
      "outputs": []
    },
    {
      "cell_type": "code",
      "source": [
        "time(csData.ts)"
      ],
      "metadata": {
        "id": "INpfbiy2dIRU"
      },
      "execution_count": null,
      "outputs": []
    },
    {
      "cell_type": "code",
      "source": [
        "frequency(csData.ts)"
      ],
      "metadata": {
        "id": "HnMd12JZdQNP"
      },
      "execution_count": null,
      "outputs": []
    },
    {
      "cell_type": "code",
      "source": [
        "deltat(csData.ts)"
      ],
      "metadata": {
        "id": "Ixu8-qpJdTCI"
      },
      "execution_count": null,
      "outputs": []
    },
    {
      "cell_type": "code",
      "source": [
        "csData.ts[1:5]"
      ],
      "metadata": {
        "id": "gbbi5w6rdYix"
      },
      "execution_count": null,
      "outputs": []
    },
    {
      "cell_type": "code",
      "source": [
        "tmp = window(csData.ts, start=c(1994, 3), end=c(1994, 4))\n",
        "class(tmp) "
      ],
      "metadata": {
        "id": "8tb2UKsqdem5"
      },
      "execution_count": null,
      "outputs": []
    },
    {
      "cell_type": "code",
      "source": [
        "tmp"
      ],
      "metadata": {
        "id": "Q8AesWD-djbs"
      },
      "execution_count": null,
      "outputs": []
    },
    {
      "cell_type": "code",
      "source": [
        "ts.plot(window(csData.ts, start = c(1992, 1), end = c(2021, 10)),\n",
        "ylab = \"Sales\",  col = \"blue\", lwd = 2, main = \"Car Sales Data\") "
      ],
      "metadata": {
        "id": "XXlETGZedvx8"
      },
      "execution_count": null,
      "outputs": []
    },
    {
      "cell_type": "code",
      "source": [
        "length(csData$Sales)"
      ],
      "metadata": {
        "id": "fL1WFJpIgKS1"
      },
      "execution_count": null,
      "outputs": []
    },
    {
      "cell_type": "code",
      "source": [
        "## Calculate a moving average of the data\n",
        "k = 12 # size-1 of the subset for which average is calculated\n",
        "\n",
        "csData['SalesT'] = NA\n",
        "\n",
        "for (i in seq(7, length(csData$Sales)-6)){\n",
        "  # Approach-1\n",
        "  #csData[i, 'SalesT'] = mean(csData[i-6:i+6, 'Sales'])\n",
        "  # Approach-2\n",
        "  csData[i, 'SalesT'] = (1/24)*csData[i-6, 'Sales'] +\n",
        "                        (1/12)*sum(csData[(i-5):(i+5), 'Sales']) +\n",
        "                        (1/24)*csData[i+6, 'Sales']  \n",
        "}  "
      ],
      "metadata": {
        "id": "_lm1MSkWeNst"
      },
      "execution_count": null,
      "outputs": []
    },
    {
      "cell_type": "code",
      "source": [
        "head(csData, 20)"
      ],
      "metadata": {
        "id": "e2g9qjCVR9be"
      },
      "execution_count": null,
      "outputs": []
    },
    {
      "cell_type": "code",
      "source": [
        "plot.ts(csData$SalesT)"
      ],
      "metadata": {
        "id": "LV-ROH-7STjp"
      },
      "execution_count": null,
      "outputs": []
    },
    {
      "cell_type": "code",
      "source": [
        "# Add another column to dataframe containing\n",
        "# the seasonality and the noise component\n",
        "csData['SalesSN'] = csData$Sales / csData$SalesT"
      ],
      "metadata": {
        "id": "kqLfw_s2l0nG"
      },
      "execution_count": null,
      "outputs": []
    },
    {
      "cell_type": "code",
      "source": [
        "plot(csData$SalesSN, type = 'l')"
      ],
      "metadata": {
        "id": "HxTzCcYYmdNA"
      },
      "execution_count": null,
      "outputs": []
    },
    {
      "cell_type": "code",
      "source": [
        "# Convert dataframe into a time series object\n",
        "tmp1.ts = ts(data = csData$Sales, frequency = 12, start = c(1992, 1), end = c(2021, 10))\n",
        "tmp2.ts = ts(data = csData$SalesT, frequency = 12, start = c(1992, 1), end = c(2021, 10))\n",
        "tmp3.ts = ts(data = csData$SalesSN, frequency = 12, start = c(1992, 1), end = c(2021, 10))\n",
        "csData.ts = cbind(tmp1.ts, tmp2.ts, tmp3.ts)"
      ],
      "metadata": {
        "id": "7BESienySt7O"
      },
      "execution_count": null,
      "outputs": []
    },
    {
      "cell_type": "code",
      "source": [
        "# Average for January\n",
        "ind = seq(1, length(csData.ts[, 1]), by = 12)\n",
        "print(ind)\n",
        "print(length(csData.ts[, 1]))\n",
        "mean(csData.ts[ind, 3], na.rm = TRUE)"
      ],
      "metadata": {
        "id": "ERBPWUwjvCc-"
      },
      "execution_count": null,
      "outputs": []
    },
    {
      "cell_type": "code",
      "source": [
        "csData['SalesS'] = NA\n",
        "m = 1\n",
        "ind = seq(m, length(csData.ts[, 1]), by = 12)\n",
        "monthly_average[m] = mean(csData.ts[ind, 3], na.rm = TRUE)\n",
        "csData[ind, 'SalesS']"
      ],
      "metadata": {
        "id": "v46O9-sPXDtz"
      },
      "execution_count": null,
      "outputs": []
    },
    {
      "cell_type": "code",
      "source": [
        "## Calculate the average seasonal+plus noise component of every month\n",
        "csData['SalesS'] = NA\n",
        "monthly_average = rep(0, 12)\n",
        "\n",
        "for (m in c(1:12)){\n",
        "  ind = seq(m, length(csData.ts[, 1]), by = 12)\n",
        "  monthly_average[m] = mean(csData.ts[ind, 3], na.rm = TRUE)\n",
        "  csData[ind, 'SalesS'] = monthly_average[m]\n",
        "}"
      ],
      "metadata": {
        "id": "bGoDAfiSjdKC"
      },
      "execution_count": null,
      "outputs": []
    },
    {
      "cell_type": "code",
      "source": [
        "# Add a column to store the noise\n",
        "csData['Noise'] = csData$SalesSN-csData$SalesS"
      ],
      "metadata": {
        "id": "djVmF-iZY_Fw"
      },
      "execution_count": null,
      "outputs": []
    },
    {
      "cell_type": "code",
      "source": [
        "head(csData, 20)"
      ],
      "metadata": {
        "id": "cXCJoW4dXYeV"
      },
      "execution_count": null,
      "outputs": []
    },
    {
      "cell_type": "code",
      "source": [
        "# Convert dataframe into a time series object\n",
        "tmp1.ts = ts(data = csData$Sales, frequency = 12, start = c(1992, 1), end = c(2021, 10))\n",
        "tmp2.ts = ts(data = csData$SalesT, frequency = 12, start = c(1992, 1), end = c(2021, 10))\n",
        "tmp3.ts = ts(data = csData$SalesS, frequency = 12, start = c(1992, 1), end = c(2021, 10))\n",
        "tmp4.ts = ts(data = csData$Noise, frequency = 12, start = c(1992, 1), end = c(2021, 10))\n",
        "csData.ts = cbind(tmp1.ts, tmp2.ts, tmp3.ts, tmp4.ts)"
      ],
      "metadata": {
        "id": "JWIPrppbXgZ6"
      },
      "execution_count": null,
      "outputs": []
    },
    {
      "cell_type": "code",
      "source": [
        "plot(csData.ts)"
      ],
      "metadata": {
        "id": "1-A_beCYXsKf"
      },
      "execution_count": null,
      "outputs": []
    },
    {
      "cell_type": "code",
      "source": [
        "plot(decompose(csData.ts[, 1]))"
      ],
      "metadata": {
        "id": "vuY605EopqKW"
      },
      "execution_count": null,
      "outputs": []
    },
    {
      "cell_type": "code",
      "source": [
        "# Autocorrelation function\n",
        "acf(csData.ts[, 1], lag.max = 1)"
      ],
      "metadata": {
        "id": "ZzgaRORCZzbI"
      },
      "execution_count": null,
      "outputs": []
    }
  ]
}