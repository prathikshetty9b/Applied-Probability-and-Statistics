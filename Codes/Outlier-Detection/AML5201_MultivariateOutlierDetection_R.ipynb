{
  "cells": [
    {
      "cell_type": "markdown",
      "metadata": {
        "id": "m_0IeRbLGWjA"
      },
      "source": [
        "**Install packages**"
      ]
    },
    {
      "cell_type": "code",
      "execution_count": null,
      "metadata": {
        "id": "aLeB1yyiGTUJ",
        "vscode": {
          "languageId": "r"
        }
      },
      "outputs": [],
      "source": [
        "# Package for ggplot2 enhancements\n",
        "install.packages(\"ggExtra\")\n",
        "\n",
        "# Package for multivariate normal distribution\n",
        "install.packages('mvtnorm')"
      ]
    },
    {
      "cell_type": "markdown",
      "metadata": {
        "id": "cBwU1D1ib2o6"
      },
      "source": [
        "**Load essential libraries**"
      ]
    },
    {
      "cell_type": "code",
      "execution_count": 16,
      "metadata": {
        "id": "4DhQTLweb138",
        "vscode": {
          "languageId": "r"
        }
      },
      "outputs": [],
      "source": [
        "library(ggplot2) # library for plotting\n",
        "library(dplyr) # library for data wrangling\n",
        "library(ggExtra) # library for enhanced ggplot2 plots\n",
        "library(mvtnorm) # library for multivariate normal distribution\n",
        "library(tidyr) # library to reorganize data"
      ]
    },
    {
      "cell_type": "code",
      "execution_count": 17,
      "metadata": {
        "id": "3NfALqh66Jy0",
        "vscode": {
          "languageId": "r"
        }
      },
      "outputs": [
        {
          "name": "stdout",
          "output_type": "stream",
          "text": [
            "List of 3\n",
            " $ X   : num [1:1000, 1:11] 6.65 -5.63 9.72 -4.64 -12.84 ...\n",
            " $ Xval: num [1:100, 1:11] 18.27 -3.19 -5.26 12.95 3.76 ...\n",
            " $ yval: num [1:100, 1] 1 0 0 1 0 0 0 0 0 0 ...\n",
            " - attr(*, \"header\")=List of 3\n",
            "  ..$ description: chr \"MATLAB 5.0 MAT-file, Platform: GLNXA64, Created on: Thu Dec  1 23:12:48 2011                                                \"\n",
            "  ..$ version    : chr \"5\"\n",
            "  ..$ endian     : chr \"little\"\n"
          ]
        }
      ],
      "source": [
        "# Load RData file data2.RData\n",
        "load(url('https://tinyurl.com/527nxn23'))\n",
        "str(data2)"
      ]
    },
    {
      "cell_type": "code",
      "execution_count": 18,
      "metadata": {
        "id": "a7KbwXXcK9lQ",
        "vscode": {
          "languageId": "r"
        }
      },
      "outputs": [
        {
          "data": {
            "text/html": [
              "<table class=\"dataframe\">\n",
              "<caption>A matrix: 5 × 11 of type dbl</caption>\n",
              "<tbody>\n",
              "\t<tr><td>  6.653114</td><td> 13.689702</td><td>17.552845</td><td>-11.933497</td><td> -5.756409</td><td>15.435921</td><td>-12.1367520</td><td> 8.2241226</td><td> -4.8840241</td><td> 5.3493353</td><td>17.351372352</td></tr>\n",
              "\t<tr><td> -5.630542</td><td>-18.937667</td><td>18.644624</td><td> -6.155825</td><td>-25.988864</td><td>15.409553</td><td>-16.5955163</td><td> 9.4546537</td><td> -2.8771734</td><td>-6.0094204</td><td>19.210636116</td></tr>\n",
              "\t<tr><td>  9.721525</td><td> -9.982489</td><td>15.571434</td><td>-32.224266</td><td> -5.595799</td><td>24.321383</td><td>  0.8327735</td><td>10.7945546</td><td>  0.7275748</td><td>10.3929750</td><td> 7.085994903</td></tr>\n",
              "\t<tr><td> -4.635766</td><td>-10.716040</td><td>20.356571</td><td> -9.002097</td><td> -4.920569</td><td>-4.261957</td><td> -1.3058288</td><td> 0.9499803</td><td> -8.6341066</td><td> 0.1984454</td><td> 0.006771413</td></tr>\n",
              "\t<tr><td>-12.841044</td><td>-20.388313</td><td> 9.491936</td><td> -7.038500</td><td> -9.921087</td><td>-3.716105</td><td> -9.3847304</td><td>-2.3255336</td><td>-13.5185624</td><td>11.0070290</td><td>14.003210283</td></tr>\n",
              "</tbody>\n",
              "</table>\n"
            ],
            "text/latex": [
              "A matrix: 5 × 11 of type dbl\n",
              "\\begin{tabular}{lllllllllll}\n",
              "\t   6.653114 &  13.689702 & 17.552845 & -11.933497 &  -5.756409 & 15.435921 & -12.1367520 &  8.2241226 &  -4.8840241 &  5.3493353 & 17.351372352\\\\\n",
              "\t  -5.630542 & -18.937667 & 18.644624 &  -6.155825 & -25.988864 & 15.409553 & -16.5955163 &  9.4546537 &  -2.8771734 & -6.0094204 & 19.210636116\\\\\n",
              "\t   9.721525 &  -9.982489 & 15.571434 & -32.224266 &  -5.595799 & 24.321383 &   0.8327735 & 10.7945546 &   0.7275748 & 10.3929750 &  7.085994903\\\\\n",
              "\t  -4.635766 & -10.716040 & 20.356571 &  -9.002097 &  -4.920569 & -4.261957 &  -1.3058288 &  0.9499803 &  -8.6341066 &  0.1984454 &  0.006771413\\\\\n",
              "\t -12.841044 & -20.388313 &  9.491936 &  -7.038500 &  -9.921087 & -3.716105 &  -9.3847304 & -2.3255336 & -13.5185624 & 11.0070290 & 14.003210283\\\\\n",
              "\\end{tabular}\n"
            ],
            "text/markdown": [
              "\n",
              "A matrix: 5 × 11 of type dbl\n",
              "\n",
              "|   6.653114 |  13.689702 | 17.552845 | -11.933497 |  -5.756409 | 15.435921 | -12.1367520 |  8.2241226 |  -4.8840241 |  5.3493353 | 17.351372352 |\n",
              "|  -5.630542 | -18.937667 | 18.644624 |  -6.155825 | -25.988864 | 15.409553 | -16.5955163 |  9.4546537 |  -2.8771734 | -6.0094204 | 19.210636116 |\n",
              "|   9.721525 |  -9.982489 | 15.571434 | -32.224266 |  -5.595799 | 24.321383 |   0.8327735 | 10.7945546 |   0.7275748 | 10.3929750 |  7.085994903 |\n",
              "|  -4.635766 | -10.716040 | 20.356571 |  -9.002097 |  -4.920569 | -4.261957 |  -1.3058288 |  0.9499803 |  -8.6341066 |  0.1984454 |  0.006771413 |\n",
              "| -12.841044 | -20.388313 |  9.491936 |  -7.038500 |  -9.921087 | -3.716105 |  -9.3847304 | -2.3255336 | -13.5185624 | 11.0070290 | 14.003210283 |\n",
              "\n"
            ],
            "text/plain": [
              "     [,1]       [,2]       [,3]      [,4]       [,5]       [,6]     \n",
              "[1,]   6.653114  13.689702 17.552845 -11.933497  -5.756409 15.435921\n",
              "[2,]  -5.630542 -18.937667 18.644624  -6.155825 -25.988864 15.409553\n",
              "[3,]   9.721525  -9.982489 15.571434 -32.224266  -5.595799 24.321383\n",
              "[4,]  -4.635766 -10.716040 20.356571  -9.002097  -4.920569 -4.261957\n",
              "[5,] -12.841044 -20.388313  9.491936  -7.038500  -9.921087 -3.716105\n",
              "     [,7]        [,8]       [,9]        [,10]      [,11]       \n",
              "[1,] -12.1367520  8.2241226  -4.8840241  5.3493353 17.351372352\n",
              "[2,] -16.5955163  9.4546537  -2.8771734 -6.0094204 19.210636116\n",
              "[3,]   0.8327735 10.7945546   0.7275748 10.3929750  7.085994903\n",
              "[4,]  -1.3058288  0.9499803  -8.6341066  0.1984454  0.006771413\n",
              "[5,]  -9.3847304 -2.3255336 -13.5185624 11.0070290 14.003210283"
            ]
          },
          "metadata": {},
          "output_type": "display_data"
        }
      ],
      "source": [
        "# Training data\n",
        "X_train = data2$X # training data as matrix (all samples here are non-anomalous)\n",
        "df_train = as.data.frame(X_train) # training data frame\n",
        "head(X_train, n = 5)"
      ]
    },
    {
      "cell_type": "code",
      "execution_count": 19,
      "metadata": {
        "id": "PHS_Ch7WLYE_",
        "vscode": {
          "languageId": "r"
        }
      },
      "outputs": [
        {
          "data": {
            "text/html": [
              "<table class=\"dataframe\">\n",
              "<caption>A matrix: 5 × 1 of type dbl</caption>\n",
              "<tbody>\n",
              "\t<tr><td>1</td></tr>\n",
              "\t<tr><td>0</td></tr>\n",
              "\t<tr><td>0</td></tr>\n",
              "\t<tr><td>1</td></tr>\n",
              "\t<tr><td>0</td></tr>\n",
              "</tbody>\n",
              "</table>\n"
            ],
            "text/latex": [
              "A matrix: 5 × 1 of type dbl\n",
              "\\begin{tabular}{l}\n",
              "\t 1\\\\\n",
              "\t 0\\\\\n",
              "\t 0\\\\\n",
              "\t 1\\\\\n",
              "\t 0\\\\\n",
              "\\end{tabular}\n"
            ],
            "text/markdown": [
              "\n",
              "A matrix: 5 × 1 of type dbl\n",
              "\n",
              "| 1 |\n",
              "| 0 |\n",
              "| 0 |\n",
              "| 1 |\n",
              "| 0 |\n",
              "\n"
            ],
            "text/plain": [
              "     [,1]\n",
              "[1,] 1   \n",
              "[2,] 0   \n",
              "[3,] 0   \n",
              "[4,] 1   \n",
              "[5,] 0   "
            ]
          },
          "metadata": {},
          "output_type": "display_data"
        }
      ],
      "source": [
        "# Validation data\n",
        "X_validate = data2$Xval # validation data as matrix\n",
        "y_validate = data2$yval # validation data labels\n",
        "df_validate = as.data.frame(X_validate) # validation data frame\n",
        "head(y_validate, n = 5) # 1 represents an outlier sample, 0 represents a regular sample"
      ]
    },
    {
      "cell_type": "code",
      "execution_count": 20,
      "metadata": {
        "id": "8_3Xh3TUL_gQ",
        "vscode": {
          "languageId": "r"
        }
      },
      "outputs": [
        {
          "data": {
            "text/html": [
              "0.1"
            ],
            "text/latex": [
              "0.1"
            ],
            "text/markdown": [
              "0.1"
            ],
            "text/plain": [
              "[1] 0.1"
            ]
          },
          "metadata": {},
          "output_type": "display_data"
        }
      ],
      "source": [
        "# Fraction of servers that are outliers in the validation set\n",
        "mean(y_validate == 1)  # supervised algorithms have to address such class imbalance"
      ]
    },
    {
      "cell_type": "code",
      "execution_count": 21,
      "metadata": {
        "id": "Zw3ZnpYB8fCG",
        "vscode": {
          "languageId": "r"
        }
      },
      "outputs": [
        {
          "data": {
            "text/html": [
              "<table class=\"dataframe\">\n",
              "<caption>A data.frame: 5 × 2</caption>\n",
              "<thead>\n",
              "\t<tr><th></th><th scope=col>Variable</th><th scope=col>Value</th></tr>\n",
              "\t<tr><th></th><th scope=col>&lt;chr&gt;</th><th scope=col>&lt;dbl&gt;</th></tr>\n",
              "</thead>\n",
              "<tbody>\n",
              "\t<tr><th scope=row>1</th><td>V1</td><td>  6.653114</td></tr>\n",
              "\t<tr><th scope=row>2</th><td>V1</td><td> -5.630542</td></tr>\n",
              "\t<tr><th scope=row>3</th><td>V1</td><td>  9.721525</td></tr>\n",
              "\t<tr><th scope=row>4</th><td>V1</td><td> -4.635766</td></tr>\n",
              "\t<tr><th scope=row>5</th><td>V1</td><td>-12.841044</td></tr>\n",
              "</tbody>\n",
              "</table>\n"
            ],
            "text/latex": [
              "A data.frame: 5 × 2\n",
              "\\begin{tabular}{r|ll}\n",
              "  & Variable & Value\\\\\n",
              "  & <chr> & <dbl>\\\\\n",
              "\\hline\n",
              "\t1 & V1 &   6.653114\\\\\n",
              "\t2 & V1 &  -5.630542\\\\\n",
              "\t3 & V1 &   9.721525\\\\\n",
              "\t4 & V1 &  -4.635766\\\\\n",
              "\t5 & V1 & -12.841044\\\\\n",
              "\\end{tabular}\n"
            ],
            "text/markdown": [
              "\n",
              "A data.frame: 5 × 2\n",
              "\n",
              "| <!--/--> | Variable &lt;chr&gt; | Value &lt;dbl&gt; |\n",
              "|---|---|---|\n",
              "| 1 | V1 |   6.653114 |\n",
              "| 2 | V1 |  -5.630542 |\n",
              "| 3 | V1 |   9.721525 |\n",
              "| 4 | V1 |  -4.635766 |\n",
              "| 5 | V1 | -12.841044 |\n",
              "\n"
            ],
            "text/plain": [
              "  Variable Value     \n",
              "1 V1         6.653114\n",
              "2 V1        -5.630542\n",
              "3 V1         9.721525\n",
              "4 V1        -4.635766\n",
              "5 V1       -12.841044"
            ]
          },
          "metadata": {},
          "output_type": "display_data"
        }
      ],
      "source": [
        "# Wide to long dataframe containing training data\n",
        "df_gather_train = gather(as.data.frame(X_train))\n",
        "colnames(df_gather_train) = c('Variable', 'Value')\n",
        "head(df_gather_train, n = 5)"
      ]
    },
    {
      "cell_type": "code",
      "execution_count": 22,
      "metadata": {
        "id": "tNVOUaLvMpMA",
        "vscode": {
          "languageId": "r"
        }
      },
      "outputs": [
        {
          "data": {
            "text/html": [
              "<table class=\"dataframe\">\n",
              "<caption>A data.frame: 5 × 2</caption>\n",
              "<thead>\n",
              "\t<tr><th></th><th scope=col>Variable</th><th scope=col>Value</th></tr>\n",
              "\t<tr><th></th><th scope=col>&lt;chr&gt;</th><th scope=col>&lt;dbl&gt;</th></tr>\n",
              "</thead>\n",
              "<tbody>\n",
              "\t<tr><th scope=row>1</th><td>V1</td><td>18.271283</td></tr>\n",
              "\t<tr><th scope=row>2</th><td>V1</td><td>-3.193070</td></tr>\n",
              "\t<tr><th scope=row>3</th><td>V1</td><td>-5.256678</td></tr>\n",
              "\t<tr><th scope=row>4</th><td>V1</td><td>12.953176</td></tr>\n",
              "\t<tr><th scope=row>5</th><td>V1</td><td> 3.763819</td></tr>\n",
              "</tbody>\n",
              "</table>\n"
            ],
            "text/latex": [
              "A data.frame: 5 × 2\n",
              "\\begin{tabular}{r|ll}\n",
              "  & Variable & Value\\\\\n",
              "  & <chr> & <dbl>\\\\\n",
              "\\hline\n",
              "\t1 & V1 & 18.271283\\\\\n",
              "\t2 & V1 & -3.193070\\\\\n",
              "\t3 & V1 & -5.256678\\\\\n",
              "\t4 & V1 & 12.953176\\\\\n",
              "\t5 & V1 &  3.763819\\\\\n",
              "\\end{tabular}\n"
            ],
            "text/markdown": [
              "\n",
              "A data.frame: 5 × 2\n",
              "\n",
              "| <!--/--> | Variable &lt;chr&gt; | Value &lt;dbl&gt; |\n",
              "|---|---|---|\n",
              "| 1 | V1 | 18.271283 |\n",
              "| 2 | V1 | -3.193070 |\n",
              "| 3 | V1 | -5.256678 |\n",
              "| 4 | V1 | 12.953176 |\n",
              "| 5 | V1 |  3.763819 |\n",
              "\n"
            ],
            "text/plain": [
              "  Variable Value    \n",
              "1 V1       18.271283\n",
              "2 V1       -3.193070\n",
              "3 V1       -5.256678\n",
              "4 V1       12.953176\n",
              "5 V1        3.763819"
            ]
          },
          "metadata": {},
          "output_type": "display_data"
        }
      ],
      "source": [
        "# Wide to long dataframe containing validation data\n",
        "df_gather_validate = gather(as.data.frame(X_validate))\n",
        "colnames(df_gather_validate) = c('Variable', 'Value')\n",
        "head(df_gather_validate, n = 5)"
      ]
    },
    {
      "cell_type": "code",
      "execution_count": 23,
      "metadata": {
        "id": "qA7ylAiPNEFR",
        "vscode": {
          "languageId": "r"
        }
      },
      "outputs": [
        {
          "data": {
            "image/png": "[encoded data removed]",
            "text/plain": [
              "plot without title"
            ]
          },
          "metadata": {
            "image/png": {
              "height": 420,
              "width": 420
            }
          },
          "output_type": "display_data"
        }
      ],
      "source": [
        "# Separate density plots for each variable (or features) in the training data\n",
        "df_gather_train %>% ggplot(aes(x = Value, fill = Variable, color = Variable)) +\n",
        "geom_density(alpha = 0.3)+ggtitle('Distibution of variables from training data')\n",
        "\n",
        "# Which variable appears the least normally disributed?"
      ]
    },
    {
      "cell_type": "code",
      "execution_count": 24,
      "metadata": {
        "id": "67NCmd8L9AkD",
        "vscode": {
          "languageId": "r"
        }
      },
      "outputs": [
        {
          "data": {
            "image/png": "[encoded data removed]",
            "text/plain": [
              "plot without title"
            ]
          },
          "metadata": {
            "image/png": {
              "height": 420,
              "width": 420
            }
          },
          "output_type": "display_data"
        }
      ],
      "source": [
        "# Separate density plots for each variable (or features) in the validation data\n",
        "df_gather_validate %>% ggplot(aes(x = Value, fill = Variable, color = Variable)) +\n",
        "geom_density(alpha = 0.3)+ggtitle('Distibution of variables from validation data')\n",
        "\n",
        "# Which variable appears the least normally disributed?"
      ]
    },
    {
      "cell_type": "code",
      "execution_count": 25,
      "metadata": {
        "id": "i6hhUDJCNazV",
        "vscode": {
          "languageId": "r"
        }
      },
      "outputs": [
        {
          "data": {
            "image/png": "[encoded data removed]",
            "text/plain": [
              "plot without title"
            ]
          },
          "metadata": {
            "image/png": {
              "height": 420,
              "width": 420
            }
          },
          "output_type": "display_data"
        }
      ],
      "source": [
        "# Make a scatter plot with the marginal densities for any pair of variables\n",
        "# in the training data\n",
        "\n",
        "p1 = ggplot(data = df_train, aes(x = V1, y = V5)) + \n",
        "geom_point(size = 2, alpha = 0.7) + xlab(\"Variable-1\") + \n",
        "   ylab(\"Variable-5\") + ggtitle(\"Scatter Plot\") +\n",
        "   coord_fixed(ratio = 1) +\n",
        "   stat_ellipse(level = 0.68, color = 'red')+\n",
        "   stat_ellipse(level = 0.95, color = 'green')+\n",
        "   stat_ellipse(level = 0.997, color = 'blue')\n",
        "\n",
        "# Add marginal histogram plot to the scatter plot \n",
        "delta =1\n",
        "ggMarginal(p1, type = 'histogram', color = 'black', binwidth = delta)\n",
        "\n",
        "# Add marginal density plot to the scatter plot\n",
        "ggMarginal(p1, type = 'density', color = 'cyan')"
      ]
    },
    {
      "cell_type": "code",
      "execution_count": 33,
      "metadata": {
        "id": "Qt_rO5iac7Sv",
        "vscode": {
          "languageId": "r"
        }
      },
      "outputs": [
        {
          "ename": "ERROR",
          "evalue": "Error in solve.default(cov(as.data.frame(cbind(X_train, 2 * X_train[, : system is computationally singular: reciprocal condition number = 1.32631e-17\n",
          "output_type": "error",
          "traceback": [
            "Error in solve.default(cov(as.data.frame(cbind(X_train, 2 * X_train[, : system is computationally singular: reciprocal condition number = 1.32631e-17\nTraceback:\n",
            "1. solve(cov(as.data.frame(cbind(X_train, 2 * X_train[, 11]))))",
            "2. solve.default(cov(as.data.frame(cbind(X_train, 2 * X_train[, \n .     11]))))"
          ]
        }
      ],
      "source": [
        "solve(cov(as.data.frame(cbind(X_train, 2*X_train[, 11]))))\n",
        "#solve(cov(as.data.frame(cbind(X_train, 2*X_train[, 11]))))"
      ]
    },
    {
      "cell_type": "code",
      "execution_count": 37,
      "metadata": {
        "id": "HiiqXXP-NruT",
        "vscode": {
          "languageId": "r"
        }
      },
      "outputs": [
        {
          "data": {
            "text/html": [
              "<table class=\"dataframe\">\n",
              "<caption>A data.frame: 6 × 12</caption>\n",
              "<thead>\n",
              "\t<tr><th></th><th scope=col>V1</th><th scope=col>V2</th><th scope=col>V3</th><th scope=col>V4</th><th scope=col>V5</th><th scope=col>V6</th><th scope=col>V7</th><th scope=col>V8</th><th scope=col>V9</th><th scope=col>V10</th><th scope=col>V11</th><th scope=col>MD</th></tr>\n",
              "\t<tr><th></th><th scope=col>&lt;dbl&gt;</th><th scope=col>&lt;dbl&gt;</th><th scope=col>&lt;dbl&gt;</th><th scope=col>&lt;dbl&gt;</th><th scope=col>&lt;dbl&gt;</th><th scope=col>&lt;dbl&gt;</th><th scope=col>&lt;dbl&gt;</th><th scope=col>&lt;dbl&gt;</th><th scope=col>&lt;dbl&gt;</th><th scope=col>&lt;dbl&gt;</th><th scope=col>&lt;dbl&gt;</th><th scope=col>&lt;dbl&gt;</th></tr>\n",
              "</thead>\n",
              "<tbody>\n",
              "\t<tr><th scope=row>1</th><td>18.271283</td><td>-12.359268</td><td> 5.000970</td><td>  1.611472</td><td> 1.088592</td><td>29.314410</td><td> -8.313531</td><td>36.4383382</td><td> -9.4766787</td><td>-25.9281827</td><td> 7.108628</td><td>5.673373</td></tr>\n",
              "\t<tr><th scope=row>2</th><td>-3.193070</td><td>-19.705821</td><td> 6.528556</td><td>-21.570858</td><td> 3.050556</td><td>23.477503</td><td> -1.133420</td><td>12.6884094</td><td>-10.9683011</td><td> -1.1986661</td><td> 1.908441</td><td>3.517914</td></tr>\n",
              "\t<tr><th scope=row>3</th><td>-5.256678</td><td>-12.918720</td><td>25.435141</td><td> -7.231568</td><td> 3.647838</td><td>12.366550</td><td> -6.512076</td><td> 8.7509021</td><td> -0.7687545</td><td> -3.2610945</td><td>13.729474</td><td>2.911051</td></tr>\n",
              "\t<tr><th scope=row>4</th><td>12.953176</td><td>-10.350333</td><td>19.857858</td><td>-24.424608</td><td> 3.266105</td><td>30.445294</td><td>-11.125842</td><td>12.8156288</td><td>  9.3513545</td><td> -6.1136236</td><td>17.627375</td><td>4.592003</td></tr>\n",
              "\t<tr><th scope=row>5</th><td> 3.763819</td><td> -5.728187</td><td>11.400169</td><td>-17.555297</td><td>-6.246576</td><td>16.155969</td><td> -9.724758</td><td>16.9966156</td><td> -5.1686543</td><td>  0.1879945</td><td>11.401234</td><td>1.613877</td></tr>\n",
              "\t<tr><th scope=row>6</th><td>-8.701132</td><td> -5.139959</td><td>21.404200</td><td>-18.084270</td><td>-9.109825</td><td> 6.903168</td><td> -3.486003</td><td> 0.2738549</td><td> -7.5489155</td><td>  9.0570309</td><td> 2.890973</td><td>2.807131</td></tr>\n",
              "</tbody>\n",
              "</table>\n"
            ],
            "text/latex": [
              "A data.frame: 6 × 12\n",
              "\\begin{tabular}{r|llllllllllll}\n",
              "  & V1 & V2 & V3 & V4 & V5 & V6 & V7 & V8 & V9 & V10 & V11 & MD\\\\\n",
              "  & <dbl> & <dbl> & <dbl> & <dbl> & <dbl> & <dbl> & <dbl> & <dbl> & <dbl> & <dbl> & <dbl> & <dbl>\\\\\n",
              "\\hline\n",
              "\t1 & 18.271283 & -12.359268 &  5.000970 &   1.611472 &  1.088592 & 29.314410 &  -8.313531 & 36.4383382 &  -9.4766787 & -25.9281827 &  7.108628 & 5.673373\\\\\n",
              "\t2 & -3.193070 & -19.705821 &  6.528556 & -21.570858 &  3.050556 & 23.477503 &  -1.133420 & 12.6884094 & -10.9683011 &  -1.1986661 &  1.908441 & 3.517914\\\\\n",
              "\t3 & -5.256678 & -12.918720 & 25.435141 &  -7.231568 &  3.647838 & 12.366550 &  -6.512076 &  8.7509021 &  -0.7687545 &  -3.2610945 & 13.729474 & 2.911051\\\\\n",
              "\t4 & 12.953176 & -10.350333 & 19.857858 & -24.424608 &  3.266105 & 30.445294 & -11.125842 & 12.8156288 &   9.3513545 &  -6.1136236 & 17.627375 & 4.592003\\\\\n",
              "\t5 &  3.763819 &  -5.728187 & 11.400169 & -17.555297 & -6.246576 & 16.155969 &  -9.724758 & 16.9966156 &  -5.1686543 &   0.1879945 & 11.401234 & 1.613877\\\\\n",
              "\t6 & -8.701132 &  -5.139959 & 21.404200 & -18.084270 & -9.109825 &  6.903168 &  -3.486003 &  0.2738549 &  -7.5489155 &   9.0570309 &  2.890973 & 2.807131\\\\\n",
              "\\end{tabular}\n"
            ],
            "text/markdown": [
              "\n",
              "A data.frame: 6 × 12\n",
              "\n",
              "| <!--/--> | V1 &lt;dbl&gt; | V2 &lt;dbl&gt; | V3 &lt;dbl&gt; | V4 &lt;dbl&gt; | V5 &lt;dbl&gt; | V6 &lt;dbl&gt; | V7 &lt;dbl&gt; | V8 &lt;dbl&gt; | V9 &lt;dbl&gt; | V10 &lt;dbl&gt; | V11 &lt;dbl&gt; | MD &lt;dbl&gt; |\n",
              "|---|---|---|---|---|---|---|---|---|---|---|---|---|\n",
              "| 1 | 18.271283 | -12.359268 |  5.000970 |   1.611472 |  1.088592 | 29.314410 |  -8.313531 | 36.4383382 |  -9.4766787 | -25.9281827 |  7.108628 | 5.673373 |\n",
              "| 2 | -3.193070 | -19.705821 |  6.528556 | -21.570858 |  3.050556 | 23.477503 |  -1.133420 | 12.6884094 | -10.9683011 |  -1.1986661 |  1.908441 | 3.517914 |\n",
              "| 3 | -5.256678 | -12.918720 | 25.435141 |  -7.231568 |  3.647838 | 12.366550 |  -6.512076 |  8.7509021 |  -0.7687545 |  -3.2610945 | 13.729474 | 2.911051 |\n",
              "| 4 | 12.953176 | -10.350333 | 19.857858 | -24.424608 |  3.266105 | 30.445294 | -11.125842 | 12.8156288 |   9.3513545 |  -6.1136236 | 17.627375 | 4.592003 |\n",
              "| 5 |  3.763819 |  -5.728187 | 11.400169 | -17.555297 | -6.246576 | 16.155969 |  -9.724758 | 16.9966156 |  -5.1686543 |   0.1879945 | 11.401234 | 1.613877 |\n",
              "| 6 | -8.701132 |  -5.139959 | 21.404200 | -18.084270 | -9.109825 |  6.903168 |  -3.486003 |  0.2738549 |  -7.5489155 |   9.0570309 |  2.890973 | 2.807131 |\n",
              "\n"
            ],
            "text/plain": [
              "  V1        V2         V3        V4         V5        V6        V7        \n",
              "1 18.271283 -12.359268  5.000970   1.611472  1.088592 29.314410  -8.313531\n",
              "2 -3.193070 -19.705821  6.528556 -21.570858  3.050556 23.477503  -1.133420\n",
              "3 -5.256678 -12.918720 25.435141  -7.231568  3.647838 12.366550  -6.512076\n",
              "4 12.953176 -10.350333 19.857858 -24.424608  3.266105 30.445294 -11.125842\n",
              "5  3.763819  -5.728187 11.400169 -17.555297 -6.246576 16.155969  -9.724758\n",
              "6 -8.701132  -5.139959 21.404200 -18.084270 -9.109825  6.903168  -3.486003\n",
              "  V8         V9          V10         V11       MD      \n",
              "1 36.4383382  -9.4766787 -25.9281827  7.108628 5.673373\n",
              "2 12.6884094 -10.9683011  -1.1986661  1.908441 3.517914\n",
              "3  8.7509021  -0.7687545  -3.2610945 13.729474 2.911051\n",
              "4 12.8156288   9.3513545  -6.1136236 17.627375 4.592003\n",
              "5 16.9966156  -5.1686543   0.1879945 11.401234 1.613877\n",
              "6  0.2738549  -7.5489155   9.0570309  2.890973 2.807131"
            ]
          },
          "metadata": {},
          "output_type": "display_data"
        }
      ],
      "source": [
        "## Build model using training data \n",
        "mu_train = colMeans(X_train) # sample mean using training data\n",
        "S_train = cov(as.data.frame(X_train)) # sample covariance matrix using training data\n",
        "S_train_inverse = solve(S_train)  # inverse of sample covariance matrix from training data\n",
        "\n",
        "# Mahalanobis distance of training samples\n",
        "M_distance_train = apply(X_train, 1, function(x){sqrt(t(x-mu_train) %*% S_train_inverse %*% (x-mu_train))})\n",
        "\n",
        "# Mahalanobis distance of validation samples using model built using training data\n",
        "M_distance_validate = apply(X_validate, 1, function(x){sqrt(t(x-mu_train) %*% S_train_inverse %*% (x-mu_train))})\n",
        "\n",
        "# Add Mahalanobis distance as new column of training and validation data frame\n",
        "df_train$MD = M_distance_train\n",
        "df_validate$MD = M_distance_validate\n",
        "\n",
        "head(df_validate)"
      ]
    },
    {
      "cell_type": "code",
      "execution_count": 38,
      "metadata": {
        "vscode": {
          "languageId": "r"
        }
      },
      "outputs": [
        {
          "data": {
            "text/html": [
              "17.2750085175001"
            ],
            "text/latex": [
              "17.2750085175001"
            ],
            "text/markdown": [
              "17.2750085175001"
            ],
            "text/plain": [
              "[1] 17.27501"
            ]
          },
          "metadata": {},
          "output_type": "display_data"
        }
      ],
      "source": [
        "k = ncol(X_train)\n",
        "qchisq(0.9,k)"
      ]
    },
    {
      "cell_type": "code",
      "execution_count": null,
      "metadata": {
        "id": "h94T0U7mOCYX",
        "vscode": {
          "languageId": "r"
        }
      },
      "outputs": [],
      "source": [
        "## Determine cutoff probability such that we get the best performance on the validation set\n",
        "## Best performance corresponds to, for example, the best F1 score (close to 1)\n",
        "\n",
        "# Add a new column to training and validation data frame for outliers\n",
        "k = ncol(X_train) # dimensions or the number of features\n",
        "j = 1 # vary this to change cutoff probability\n",
        "cutoff_probability = 1-(10^(-j))\n",
        "threshold = qchisq(?, ?) # threshold for Mahalanobis distance\n",
        "df_train$Outliers = ((?)^2 >= threshold)\n",
        "df_validate$Outliers = ((df_validate$MD)^2 >= ?)\n",
        "\n",
        "# True positives\n",
        "tp = sum((df_validate$Outliers == 'TRUE') & (y_validate == 1))\n",
        "# False positives\n",
        "fp = sum((df_validate$Outliers == 'TRUE') & (y_validate == 0))\n",
        "# False negatives\n",
        "fn = sum((df_validate$Outliers == 'FALSE') & (y_validate == 1))\n",
        "# Precision\n",
        "precision = tp / (tp + fp)\n",
        "# Recall\n",
        "recall = tp / (tp + fn)\n",
        "# F1 score\n",
        "F1 = (2 * precision * recall) / (precision + recall)\n",
        "cat(sprintf('Threshold = %f\\n', threshold))\n",
        "cat(sprintf('For probability cutoff = %f, \\nPrecision = %f,\\nRecall = %f,\\nF1 score = %f,\\nFraction of outliers in training data = %f\\n', cutoff_probability, precision, recall, F1,mean(df_train$Outliers == 'TRUE')))"
      ]
    }
  ],
  "metadata": {
    "colab": {
      "collapsed_sections": [],
      "name": "AML5201_MultivariateOutlierDetection_R.ipynb",
      "provenance": []
    },
    "kernelspec": {
      "display_name": "R",
      "language": "R",
      "name": "ir"
    },
    "language_info": {
      "codemirror_mode": "r",
      "file_extension": ".r",
      "mimetype": "text/x-r-source",
      "name": "R",
      "pygments_lexer": "r",
      "version": "4.1.1"
    }
  },
  "nbformat": 4,
  "nbformat_minor": 0
}
