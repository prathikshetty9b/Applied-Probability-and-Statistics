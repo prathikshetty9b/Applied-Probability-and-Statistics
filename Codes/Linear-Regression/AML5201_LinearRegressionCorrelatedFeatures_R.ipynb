{
  "nbformat": 4,
  "nbformat_minor": 0,
  "metadata": {
    "kernelspec": {
      "display_name": "R",
      "language": "R",
      "name": "ir"
    },
    "language_info": {
      "codemirror_mode": "r",
      "file_extension": ".r",
      "mimetype": "text/x-r-source",
      "name": "R",
      "pygments_lexer": "r",
      "version": "3.3.1"
    },
    "colab": {
      "name": "AML5201_LinearRegressionCorrelatedFeatures_R.ipynb",
      "provenance": [],
      "collapsed_sections": []
    }
  },
  "cells": [
    {
      "cell_type": "code",
      "metadata": {
        "id": "DqhwkGgc53b0"
      },
      "source": [
        "install.packages(\"ggcorrplot\")\n",
        "#install.packages('car')"
      ],
      "execution_count": null,
      "outputs": []
    },
    {
      "cell_type": "code",
      "metadata": {
        "id": "ZYL3iIIREdsz"
      },
      "source": [
        "library(ggplot2)\n",
        "library(tidyverse)\n",
        "library(ggcorrplot)\n",
        "#library(car)"
      ],
      "execution_count": null,
      "outputs": []
    },
    {
      "cell_type": "code",
      "metadata": {
        "id": "_4p7VB3_WXfD"
      },
      "source": [
        "# Load the cars data\n",
        "file = '/content/bloodpress.txt'\n",
        "pData = read.csv(file, header = TRUE, sep = '\\t', row.names = 1, stringsAsFactors = FALSE)\n",
        "head(pData, 5)"
      ],
      "execution_count": null,
      "outputs": []
    },
    {
      "cell_type": "code",
      "metadata": {
        "id": "SvhmkG525W4g"
      },
      "source": [
        "# Sample correlation matrix and correlation plot\n",
        "sample_corrMatrix = cor(pData)\n",
        "print(sample_corrMatrix)\n",
        "# Standard R function to visualize correlation\n",
        "pairs(pData)\n",
        "# ggcorrplot R function to visualize correlation\n",
        "ggcorrplot(sample_corrMatrix, method = \"circle\")"
      ],
      "execution_count": null,
      "outputs": []
    },
    {
      "cell_type": "code",
      "metadata": {
        "id": "tLxSIGyZh0ET"
      },
      "source": [
        "# Simple linear regression model for\n",
        "# BP vs. Stress \n",
        "model = lm(data = pData, BP ~ Stress)\n",
        "summary(model)\n",
        "\n",
        "ggplot(data = pData, aes(x = Stress, y = BP)) +\n",
        "   geom_point(size = 1, color = 'blue') +\n",
        "   geom_smooth(method = lm, formula = y ~ x, color = 'red', se = FALSE) +\n",
        "   geom_point(aes(x = mean(Stress), y = mean(BP)), size = 1.5, color = 'green') +\n",
        "   geom_text(aes(x = mean(Stress), y = mean(BP)), label = 'mean sample', hjust = 0, vjust = -0.5, size = 6, color = 'green') +\n",
        "   labs(x = 'Stress', y = 'BP') + \n",
        "   ggtitle(\"Sample regression line\") +\n",
        "   theme(axis.text = element_text(size = 12),\n",
        "   axis.text.x = element_text(size = 14),\n",
        "   axis.text.y = element_text(size = 14),\n",
        "   axis.title = element_text(size = 14, face = \"bold\"))"
      ],
      "execution_count": null,
      "outputs": []
    },
    {
      "cell_type": "code",
      "metadata": {
        "id": "KiTe-I8z_N5Q"
      },
      "source": [
        "# Simple linear regression model for\n",
        "# BP vs. BSA\n",
        "model = lm(data = pData, BP ~ BSA)\n",
        "summary(model)\n",
        "\n",
        "ggplot(data = pData, aes(x = BSA, y = BP)) +\n",
        "   geom_point(size = 1, color = 'blue') +\n",
        "   geom_smooth(method = lm, formula = y ~ x, color = 'red', se = FALSE) +\n",
        "   geom_point(aes(x = mean(BSA), y = mean(BP)), size = 1.5, color = 'green') +\n",
        "   geom_text(aes(x = mean(BSA), y = mean(BP)), label = 'mean sample', hjust = 0, vjust = -0.5, size = 6, color = 'green') +\n",
        "   labs(x = 'BSA', y = 'BP') + \n",
        "   ggtitle(\"Sample regression line\") +\n",
        "   theme(axis.text = element_text(size = 12),\n",
        "   axis.text.x = element_text(size = 14),\n",
        "   axis.text.y = element_text(size = 14),\n",
        "   axis.title = element_text(size = 14, face = \"bold\"))"
      ],
      "execution_count": null,
      "outputs": []
    },
    {
      "cell_type": "code",
      "metadata": {
        "id": "i8nuf7vmAHXz"
      },
      "source": [
        "# Multiplr linear regression model for\n",
        "# BP vs. Stress + BSA\n",
        "model = lm(data = pData, BP ~ Stress + BSA)\n",
        "summary(model)"
      ],
      "execution_count": null,
      "outputs": []
    },
    {
      "cell_type": "code",
      "metadata": {
        "id": "2L4qIvxJCEvY"
      },
      "source": [
        "# Simple linear regression model for\n",
        "# BP vs. Weight \n",
        "model = lm(data = pData, BP ~ Weight)\n",
        "summary(model)\n",
        "\n",
        "ggplot(data = pData, aes(x = Weight, y = BP)) +\n",
        "   geom_point(size = 1, color = 'blue') +\n",
        "   geom_smooth(method = lm, formula = y ~ x, color = 'red', se = FALSE) +\n",
        "   geom_point(aes(x = mean(Weight), y = mean(BP)), size = 1.5, color = 'green') +\n",
        "   geom_text(aes(x = mean(Weight), y = mean(BP)), label = 'mean sample', hjust = 0, vjust = -0.5, size = 6, color = 'green') +\n",
        "   labs(x = 'Weight', y = 'BP') + \n",
        "   ggtitle(\"Sample regression line\") +\n",
        "   theme(axis.text = element_text(size = 12),\n",
        "   axis.text.x = element_text(size = 14),\n",
        "   axis.text.y = element_text(size = 14),\n",
        "   axis.title = element_text(size = 14, face = \"bold\"))"
      ],
      "execution_count": null,
      "outputs": []
    },
    {
      "cell_type": "code",
      "metadata": {
        "id": "MP1l5pbWCqUO"
      },
      "source": [
        "# Multiple linear regression model for\n",
        "# BP vs. BSA + Weight\n",
        "model = lm(data = pData, BP ~ BSA + Weight)\n",
        "summary(model)"
      ],
      "execution_count": null,
      "outputs": []
    },
    {
      "cell_type": "code",
      "metadata": {
        "id": "wPBbxIJOEZgp"
      },
      "source": [
        "# Multiple linear regression model for\n",
        "# BP vs. Weight + BSA (notice the change in order of the predictors)\n",
        "model = lm(data = pData, BP ~ Weight + BSA)\n",
        "summary(model)"
      ],
      "execution_count": null,
      "outputs": []
    },
    {
      "cell_type": "code",
      "metadata": {
        "id": "5Y31ChlHGCOG"
      },
      "source": [
        "# Multiple linear regression model for\n",
        "# BP vs. all predictors\n",
        "model = lm(data = pData, BP ~ .)\n",
        "summary(model)"
      ],
      "execution_count": null,
      "outputs": []
    },
    {
      "cell_type": "code",
      "metadata": {
        "id": "eceWKIYPLQJ8"
      },
      "source": [
        "# Calculate variance inflation factor (VIF) for model\n",
        "# built using all predictors\n",
        "vif(model)"
      ],
      "execution_count": null,
      "outputs": []
    },
    {
      "cell_type": "code",
      "metadata": {
        "id": "dfCnpWVtR6bm"
      },
      "source": [
        "# Multiple linear regression model for\n",
        "# Weight vs. all remaining predictors\n",
        "model = lm(data = pData, Weight ~ Age + BSA + Dur + Pulse + Stress)\n",
        "summary(model)"
      ],
      "execution_count": null,
      "outputs": []
    },
    {
      "cell_type": "code",
      "metadata": {
        "id": "OxIDE-dSS7nd"
      },
      "source": [
        "# VIF for the predictor \"Weight\" is larger than 5\n",
        "# Investigate the sample correlation matrix and throw\n",
        "# away predictors highly correlated with Weight (BSA, Pulse)\n",
        "# Multiple linear regression model for\n",
        "# BP vs. all predictors except BSA and Pulse\n",
        "model = lm(data = pData, BP ~ Age + Weight + Dur + Stress)\n",
        "summary(model)"
      ],
      "execution_count": null,
      "outputs": []
    },
    {
      "cell_type": "code",
      "metadata": {
        "id": "beVBVXHbWCtt"
      },
      "source": [
        "vif(model) # no multicollinearity detected"
      ],
      "execution_count": null,
      "outputs": []
    },
    {
      "cell_type": "code",
      "metadata": {
        "id": "TopOCJ5UXqgX"
      },
      "source": [
        "# Throw away the insignificant predictors\n",
        "model = lm(data = pData, BP ~ Age + Weight)\n",
        "summary(model)"
      ],
      "execution_count": null,
      "outputs": []
    },
    {
      "cell_type": "code",
      "metadata": {
        "id": "k_Dyt1K9gJ_r"
      },
      "source": [
        "pData = pData %>% mutate(StressLevel = case_when(\n",
        "  Stress >= 0 & Stress <= 50 ~ 'Low',\n",
        "  Stress > 50  ~ 'High'\n",
        "  ))\n",
        "head(pData, n = 5)    "
      ],
      "execution_count": null,
      "outputs": []
    }
  ]
}