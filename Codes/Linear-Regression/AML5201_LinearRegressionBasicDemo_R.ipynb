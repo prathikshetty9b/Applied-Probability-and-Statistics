{
  "nbformat": 4,
  "nbformat_minor": 0,
  "metadata": {
    "kernelspec": {
      "display_name": "R",
      "language": "R",
      "name": "ir"
    },
    "language_info": {
      "codemirror_mode": "r",
      "file_extension": ".r",
      "mimetype": "text/x-r-source",
      "name": "R",
      "pygments_lexer": "r",
      "version": "3.3.1"
    },
    "colab": {
      "name": "AML5201_LinearRegressionBasicDemo_R.ipynb",
      "provenance": [],
      "collapsed_sections": []
    }
  },
  "cells": [
    {
      "cell_type": "code",
      "metadata": {
        "id": "ib48UrWrH6Gj"
      },
      "source": [
        "library(ggplot2) # powerful visualization library\n",
        "library(dplyr) # powerful data wrangling library"
      ],
      "execution_count": null,
      "outputs": []
    },
    {
      "cell_type": "code",
      "metadata": {
        "id": "R43YbLKVvCz_"
      },
      "source": [
        "# Load the data\n",
        "file = '/content/mtcars.csv'\n",
        "carData = read.csv(file, header = TRUE, row.names = 1, stringsAsFactors = FALSE)\n",
        "head(carData, 5)"
      ],
      "execution_count": null,
      "outputs": []
    },
    {
      "cell_type": "code",
      "metadata": {
        "id": "1V0Pwuf1wSKY"
      },
      "source": [
        "str(carData)"
      ],
      "execution_count": null,
      "outputs": []
    },
    {
      "cell_type": "code",
      "metadata": {
        "id": "5ggD3WEVwwNn"
      },
      "source": [
        "# Prints the column names in the dataframe (a.k.a. variable names)\n",
        "categorical_cols = c('cyl', 'vs', 'am', 'gear', 'carb')\n",
        "colnames(carData)\n",
        "(colnames(carData) %in% categorical_cols)\n",
        "!(colnames(carData) %in% categorical_cols)"
      ],
      "execution_count": null,
      "outputs": []
    },
    {
      "cell_type": "code",
      "metadata": {
        "id": "ptEJMR5oxyb6"
      },
      "source": [
        "# Convert categorical columns to represent factor levels\n",
        "carData[categorical_cols] = lapply(carData[categorical_cols], as.factor)\n",
        "str(carData)"
      ],
      "execution_count": null,
      "outputs": []
    },
    {
      "cell_type": "code",
      "metadata": {
        "id": "oDrDJJ-FzQ4m"
      },
      "source": [
        "# How many levels does the categorical variable cyl have? What is the reference level?\n",
        "contrasts(carData$cyl)"
      ],
      "execution_count": null,
      "outputs": []
    },
    {
      "cell_type": "code",
      "metadata": {
        "id": "YFX7vrtC1gyu"
      },
      "source": [
        "# Create a scatter plot of mpg vs. HP\n",
        "ggplot(data = carData, aes(x = hp, y = mpg, color = factor(cyl))) +\n",
        "  geom_point(size = 1) "
      ],
      "execution_count": null,
      "outputs": []
    },
    {
      "cell_type": "code",
      "metadata": {
        "id": "NMuK0OMw2r9o"
      },
      "source": [
        "# Fit a linear model for approximating mpg as a function of hp.\n",
        "# Print the model's summary.\n",
        "model = lm(data = carData, mpg ~ hp)\n",
        "summary(model)"
      ],
      "execution_count": null,
      "outputs": []
    },
    {
      "cell_type": "code",
      "metadata": {
        "id": "kH88UqcU--hL"
      },
      "source": [
        "beta_0_hat = summary(model)$coefficients[\"(Intercept)\", \"Estimate\"]\n",
        "beta_0_hat"
      ],
      "execution_count": null,
      "outputs": []
    },
    {
      "cell_type": "code",
      "metadata": {
        "id": "2ZbshrzkBc5r"
      },
      "source": [
        "# Fit a linear model for approximating mpg as a function of hp and disp.\n",
        "# Print the model's summary.\n",
        "model = lm(data = carData, mpg ~ hp + disp)\n",
        "summary(model)"
      ],
      "execution_count": null,
      "outputs": []
    },
    {
      "cell_type": "code",
      "metadata": {
        "id": "gE-RRGpICe-4"
      },
      "source": [
        "# Fit a linear model for approximating mpg as a function of cyl.\n",
        "# Print the model's summary.\n",
        "model = lm(data = carData, mpg ~ cyl)\n",
        "summary(model)"
      ],
      "execution_count": null,
      "outputs": []
    },
    {
      "cell_type": "code",
      "metadata": {
        "id": "4QuNO53mCezv"
      },
      "source": [
        ""
      ],
      "execution_count": null,
      "outputs": []
    }
  ]
}