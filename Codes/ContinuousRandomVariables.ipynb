{
  "nbformat": 4,
  "nbformat_minor": 0,
  "metadata": {
    "kernelspec": {
      "display_name": "R",
      "language": "R",
      "name": "ir"
    },
    "language_info": {
      "codemirror_mode": "r",
      "file_extension": ".r",
      "mimetype": "text/x-r-source",
      "name": "R",
      "pygments_lexer": "r",
      "version": "3.3.1"
    },
    "colab": {
      "name": "ContinuousRandomVariables.ipynb",
      "provenance": [],
      "collapsed_sections": []
    }
  },
  "cells": [
    {
      "cell_type": "code",
      "source": [
        "# Package for side-by-side ggplot plots\n",
        "install.packages('patchwork')          "
      ],
      "metadata": {
        "id": "_Ew4cNOdfsTh"
      },
      "execution_count": null,
      "outputs": []
    },
    {
      "cell_type": "code",
      "metadata": {
        "id": "dO8c1j8QqPou"
      },
      "source": [
        "library(ggplot2)\n",
        "library(dplyr)\n",
        "library(patchwork)   "
      ],
      "execution_count": null,
      "outputs": []
    },
    {
      "cell_type": "markdown",
      "source": [
        "The seq() function to generate an array."
      ],
      "metadata": {
        "id": "Q94C1ySVYl4r"
      }
    },
    {
      "cell_type": "code",
      "source": [
        "mu_Male = 170\n",
        "sigma_Male = 8\n",
        "delta = 2\n",
        "seq(mu_Male-4*sigma_Male, mu_Male+4*sigma_Male, by = delta)"
      ],
      "metadata": {
        "id": "XiATJ2tacsDo"
      },
      "execution_count": null,
      "outputs": []
    },
    {
      "cell_type": "markdown",
      "source": [
        "Simulate heights of male students and using bin width = 2 cm over the range 138 cm-202 cm, plot the:\n",
        "\n",
        "1. **Frequency histogram**, where each bin has a height equal to the number of students whose heights fall in that bin);\n",
        "2. **Relative frequency histogram**, where each bin has a height equal to the proportion of students whose heights fall in that bin);\n",
        "3. **Density histogram**, where each bin has a height equal to the proportion of students whose heights fall in that bin divided by the bin width)."
      ],
      "metadata": {
        "id": "PMNABFGgYyHm"
      }
    },
    {
      "cell_type": "code",
      "source": [
        "# Parameters\n",
        "mu_Male = 170\n",
        "sigma_Male = 8\n",
        "\n",
        "# Bin width\n",
        "delta = 2.0\n",
        "\n",
        "nsimulations = 1e5\n",
        "simulatedData_Male = rnorm(nsimulations, mean = mu_Male, sd = sigma_Male)\n",
        "\n",
        "dfHeights = as.data.frame(simulatedData_Male)\n",
        "colnames(dfHeights) = c('MaleHeight')\n",
        "\n",
        "# Plot the frequency histogram for male student heights\n",
        "p1 = ggplot(data = dfHeights) +\n",
        "  geom_histogram(aes(x = MaleHeight, y = ..count..),\n",
        "  breaks = seq(mu_Male-4*sigma_Male, mu_Male+4*sigma_Male, by = delta),\n",
        "  colour = 'black', fill = 'steelblue', alpha = 0.4) +\n",
        "  labs(x = 'Height (cm)', y = 'Frequency') \n",
        "\n",
        "# Plot the relative frequency histogram for male student heights\n",
        "p2 = ggplot(data = dfHeights) +\n",
        "  geom_histogram(aes(x = MaleHeight, y = ..count../sum(..count..)),\n",
        "  breaks = seq(mu_Male-4*sigma_Male, mu_Male+4*sigma_Male, by = delta),\n",
        "  colour = 'black', fill = 'steelblue', alpha = 0.4) +\n",
        "  labs(x = 'Height (cm)', y = 'Relative Frequency')\n",
        "\n",
        "# Plot the density histogram for male student heights\n",
        "p3 = ggplot(data = dfHeights) +\n",
        "  geom_histogram(aes(x = MaleHeight, y = ..density..),\n",
        "  breaks = seq(mu_Male-4*sigma_Male, mu_Male+4*sigma_Male, by = delta),\n",
        "  colour = 'black', fill = 'steelblue', alpha = 0.4) +\n",
        "  labs(x = 'Height (cm)', y = 'Density')\n",
        "\n",
        "# Plot the density histogram along with density curve for male student heights\n",
        "p4 = ggplot(data = dfHeights) +\n",
        "  geom_histogram(aes(x = MaleHeight, y = ..density..),\n",
        "  breaks = seq(mu_Male-4*sigma_Male, mu_Male+4*sigma_Male, by = delta),\n",
        "  colour = 'black', fill = 'steelblue', alpha = 0.4) +\n",
        "  stat_function(fun = dnorm, args = list(mean = mean(dfHeights$MaleHeight), sd = sd(dfHeights$MaleHeight))) +\n",
        "  labs(x = 'Height (cm)', y = 'Density')\n",
        "\n",
        "\n",
        "# Plot the histograms side-by-side\n",
        "p1 + p2 + p3 + p4 + plot_layout(ncol = 2)"
      ],
      "metadata": {
        "id": "hIbopvBGu0wt"
      },
      "execution_count": null,
      "outputs": []
    },
    {
      "cell_type": "markdown",
      "source": [
        "Calculate the probability that a random student's height is equal to 170 cm."
      ],
      "metadata": {
        "id": "D6hupvB2GWlL"
      }
    },
    {
      "cell_type": "code",
      "source": [
        "# Approximate probability using simulation\n",
        "mean(dfHeights == 170)"
      ],
      "metadata": {
        "id": "j96yJuV-GgPc"
      },
      "execution_count": null,
      "outputs": []
    },
    {
      "cell_type": "markdown",
      "source": [
        "Calculate the probability that a random student's height is in between 170 cm and 172 cm."
      ],
      "metadata": {
        "id": "bh9pzNCojhL9"
      }
    },
    {
      "cell_type": "code",
      "source": [
        "# Approximate probability using simulation\n",
        "mean(dfHeights >= 170 & dfHeights <= 172)"
      ],
      "metadata": {
        "id": "rZCEgYfBH7O3"
      },
      "execution_count": null,
      "outputs": []
    },
    {
      "cell_type": "code",
      "source": [
        "# Parameters\n",
        "mu_Male = 170\n",
        "sigma_Male = 8\n",
        "\n",
        "# Bin width\n",
        "delta = 2.0\n",
        "\n",
        "nsimulations = 1e5\n",
        "simulatedData_Male = rnorm(nsimulations, mean = mu_Male, sd = sigma_Male)\n",
        "\n",
        "df = as.data.frame(simulatedData_Male)\n",
        "colnames(df) = c('MaleHeight')\n",
        "\n",
        "# Calculate probability directly using simulated data\n",
        "mean(df['MaleHeight'] >= 170 & df['MaleHeight'] <= 172)\n",
        "\n",
        "# Calculate probability using the relative frequency histogram\n",
        "p1 = ggplot(data = df) +\n",
        "  geom_histogram(aes(x = MaleHeight, y = ..count../sum(..count..), fill = (..x..>=170 & ..x..<=172)),\n",
        "  breaks = seq(mu_Male-4*sigma_Male, mu_Male+4*sigma_Male, by = delta),\n",
        "  colour = 'black', alpha = 0.4) +\n",
        "  labs(x = 'Height (cm)', y = 'Relative Frequency')\n",
        "\n",
        "\n",
        "# Calculate probability using the density histogram\n",
        "p2 = ggplot(data = df) +\n",
        "  geom_histogram(aes(x = MaleHeight, y = ..density.., fill = (..x..>=170 & ..x..<=172)),\n",
        "  breaks = seq(mu_Male-4*sigma_Male, mu_Male+4*sigma_Male, by = delta),\n",
        "  colour = 'black', alpha = 0.4) +\n",
        "  labs(x = 'Height (cm)', y = 'Density')\n",
        " \n",
        "# Plot the histograms side-by-side\n",
        "p1 + p2 + plot_layout(ncol = 1)"
      ],
      "metadata": {
        "id": "lMS7oboMIEzG"
      },
      "execution_count": null,
      "outputs": []
    },
    {
      "cell_type": "markdown",
      "source": [
        "Calculate the probability that a random student's height is in between 170 cm and 171 cm."
      ],
      "metadata": {
        "id": "DWSCuZE51vZ5"
      }
    },
    {
      "cell_type": "code",
      "source": [
        "# Parameters\n",
        "mu_Male = 170\n",
        "sigma_Male = 8\n",
        "\n",
        "# Bin width\n",
        "delta = 2.0\n",
        "\n",
        "nsimulations = 1e5\n",
        "simulatedData_Male = rnorm(nsimulations, mean = mu_Male, sd = sigma_Male)\n",
        "\n",
        "df = as.data.frame(simulatedData_Male)\n",
        "colnames(df) = c('MaleHeight')\n",
        "\n",
        "# Calculate probability directly using simulated data\n",
        "mean(df['MaleHeight'] >= 170 & df['MaleHeight'] <= 171)\n",
        "\n",
        "# Calculate probability using the relative frequency histogram\n",
        "p1 = ggplot(data = df) +\n",
        "  geom_histogram(aes(x = MaleHeight, y = ..count../sum(..count..), fill = (..x..>=170 & ..x..<=171)),\n",
        "  breaks = seq(mu_Male-4*sigma_Male, mu_Male+4*sigma_Male, by = delta),\n",
        "  colour = 'black', alpha = 0.4) +\n",
        "  labs(x = 'Height (cm)', y = 'Relative Frequency')\n",
        "\n",
        "\n",
        "# Calculate probability using the density histogram\n",
        "p2 = ggplot(data = df) +\n",
        "  geom_histogram(aes(x = MaleHeight, y = ..density.., fill = (..x..>=170 & ..x..<=171)),\n",
        "  breaks = seq(mu_Male-4*sigma_Male, mu_Male+4*sigma_Male, by = delta),\n",
        "  colour = 'black', alpha = 0.4) +\n",
        "  labs(x = 'Height (cm)', y = 'Density')\n",
        " \n",
        "# Plot the histograms side-by-side\n",
        "p1 + p2 + plot_layout(ncol = 1)"
      ],
      "metadata": {
        "id": "UWdfOLsgk1vi"
      },
      "execution_count": null,
      "outputs": []
    },
    {
      "cell_type": "markdown",
      "source": [
        "Histogram shape vs. bin width"
      ],
      "metadata": {
        "id": "-Bj9bkOO2sBr"
      }
    },
    {
      "cell_type": "code",
      "source": [
        "# Parameters\n",
        "mu_Male = 170\n",
        "sigma_Male = 8\n",
        "\n",
        "nsimulations = 1e5\n",
        "simulatedData_Male = rnorm(nsimulations, mean = mu_Male, sd = sigma_Male)\n",
        "\n",
        "df = as.data.frame(simulatedData_Male)\n",
        "colnames(df) = c('MaleHeight')\n",
        "\n",
        "# Bin width\n",
        "delta = 8.0\n",
        "\n",
        "# Plot the density histogram along with density curve for male student heights\n",
        "p1 = ggplot(data = df) +\n",
        "  geom_histogram(aes(x = MaleHeight, y = ..density..),\n",
        "  breaks = seq(mu_Male-4*sigma_Male, mu_Male+4*sigma_Male, by = delta),\n",
        "  colour = 'black', fill = 'steelblue', alpha = 0.4) +\n",
        "  stat_function(fun = dnorm, args = list(mean = mean(df$MaleHeight), sd = sd(df$MaleHeight))) +\n",
        "  labs(x = 'Height (cm)', y = 'Density')\n",
        "\n",
        "# Bin width\n",
        "delta = 4.0\n",
        "\n",
        "# Plot the density histogram along with density curve for male student heights\n",
        "p2 = ggplot(data = df) +\n",
        "  geom_histogram(aes(x = MaleHeight, y = ..density..),\n",
        "  breaks = seq(mu_Male-4*sigma_Male, mu_Male+4*sigma_Male, by = delta),\n",
        "  colour = 'black', fill = 'steelblue', alpha = 0.4) +\n",
        "  stat_function(fun = dnorm, args = list(mean = mean(df$MaleHeight), sd = sd(df$MaleHeight))) +\n",
        "  labs(x = 'Height (cm)', y = 'Density')\n",
        "\n",
        "# Bin width\n",
        "delta = 2.0\n",
        "\n",
        "# Plot the density histogram along with density curve for male student heights\n",
        "p3 = ggplot(data = df) +\n",
        "  geom_histogram(aes(x = MaleHeight, y = ..density..),\n",
        "  breaks = seq(mu_Male-4*sigma_Male, mu_Male+4*sigma_Male, by = delta),\n",
        "  colour = 'black', fill = 'steelblue', alpha = 0.4) +\n",
        "  stat_function(fun = dnorm, args = list(mean = mean(df$MaleHeight), sd = sd(df$MaleHeight))) +\n",
        "  labs(x = 'Height (cm)', y = 'Density')\n",
        "\n",
        "# Bin width\n",
        "delta = 0.5\n",
        "\n",
        "# Plot the density histogram along with density curve for male student heights\n",
        "p4 = ggplot(data = df) +\n",
        "  geom_histogram(aes(x = MaleHeight, y = ..density..),\n",
        "  breaks = seq(mu_Male-4*sigma_Male, mu_Male+4*sigma_Male, by = delta),\n",
        "  colour = 'black', fill = 'steelblue', alpha = 0.4) +\n",
        "  stat_function(fun = dnorm, args = list(mean = mean(df$MaleHeight), sd = sd(df$MaleHeight))) +\n",
        "  labs(x = 'Height (cm)', y = 'Density')\n",
        "\n",
        "\n",
        "# Plot the histograms side-by-side\n",
        "p1 + p2 + p3 + p4 + plot_layout(ncol = 2)"
      ],
      "metadata": {
        "id": "jn9_J2kiWmTB"
      },
      "execution_count": null,
      "outputs": []
    },
    {
      "cell_type": "markdown",
      "source": [
        "Simulate heights of male students: $$X\\sim N(\\mu = 170\\,\\text{cm},\\sigma = 8\\,\\text{cm})$$\n",
        "and female students: $$Y\\sim N(\\mu = 165\\,\\text{cm},\\sigma = 3\\,\\text{cm})$$ and plot both the histograms together."
      ],
      "metadata": {
        "id": "YBMcpXaBOeDO"
      }
    },
    {
      "cell_type": "code",
      "source": [
        "# Parameters\n",
        "mu_Male = 170\n",
        "sigma_Male = 8\n",
        "mu_Female = 165\n",
        "sigma_Female = 3\n",
        "\n",
        "# Bin width\n",
        "delta = 2\n",
        "\n",
        "nsimulations = 1e5\n",
        "simulatedData_Male = rnorm(nsimulations, mean = mu_Male, sd = sigma_Male)\n",
        "simulatedData_Female = rnorm(nsimulations, mean = mu_Female, sd = sigma_Female)\n",
        "\n",
        "df = as.data.frame(cbind(simulatedData_Male, simulatedData_Female))\n",
        "colnames(df) = c('Male', 'Female')\n",
        "#head(df, 10)\n",
        "\n",
        "# Plot the relative frequency histogram for male and female students\n",
        "p1 = ggplot(data = df) +\n",
        "  geom_histogram(aes(x = Male, y = ..count../sum(..count..), fill = 'Male'),\n",
        "  breaks = seq(mu_Male-4*sigma_Male, mu_Male+4*sigma_Male, by = delta),\n",
        "  colour = 'black', alpha = 0.4) +\n",
        "  geom_histogram(aes(x= Female, y = ..count../sum(..count..), fill = 'Female'),\n",
        "  breaks = seq(mu_Male-4*sigma_Male, mu_Male+4*sigma_Male, by = delta),\n",
        "  colour = 'black', alpha = 0.4) +\n",
        "  labs(x = 'Height (cm)', y = 'Relative Frequency', fill = 'Gender')\n",
        " \n",
        "# Plot the density histogram for male and female students\n",
        "p2 = ggplot(data = df) +\n",
        "  geom_histogram(aes(x = Male, y = ..density.., fill = 'Male'),\n",
        "  breaks = seq(mu_Male-4*sigma_Male, mu_Male+4*sigma_Male, by = delta),\n",
        "  colour = 'black', alpha = 0.4) +\n",
        "  geom_histogram(aes(x= Female, y = ..density.., fill = 'Female'),\n",
        "  breaks = seq(mu_Male-4*sigma_Male, mu_Male+4*sigma_Male, by = delta),\n",
        "  colour = 'black', alpha = 0.4) +\n",
        "  labs(x = 'Height (cm)', y = 'Density', fill = 'Gender')\n",
        "\n",
        "\n",
        "# Plot the histograms side-by-side\n",
        "p1 + p2 + plot_layout(ncol = 2)"
      ],
      "metadata": {
        "id": "sSAdt7SKV_Dt"
      },
      "execution_count": null,
      "outputs": []
    },
    {
      "cell_type": "markdown",
      "source": [
        "Consider $X\\sim N(\\mu = 170\\,\\text{cm},\\sigma = 8\\,\\text{cm})$ as representing the height of a random student. We say $X$ is normally distributed with parameters mean $\\mu= 170\\,\\text{cm}$ and standard deviation $\\sigma = 8\\,\\text{cm}.$ The probability density function (PDF) of $X$ is given by $$f_X(x) = \\frac{1}{\\sqrt{2\\pi\\sigma^2}}e^{-\\frac{1}{2}\\left(\\frac{x-\\mu}{\\sigma}\\right)^2} = \\frac{1}{\\sqrt{2\\pi8^2}}e^{-\\frac{1}{2}\\left(\\frac{x-170}{8}\\right)^2}.$$ For example, $f_X(160)$ gives the probabilty per unit interval (that is, probability per cm) concentrated at 160 cm. The $\\texttt{dnorm}$ function evaluates the PDF for any input $x$ such as $\\texttt{dnorm(160, mean = 170, sd = 8)}.$ The result is also called the likelihood at $x=160\\,\\text{cm}.$ Think of the PDF as a smooth curve approximating the density histogram.\n",
        "\n",
        "In order to calculate a probability like $P(160\\leq X\\leq162),$ we simply calculate the area under the PDF curve between $x=160$ and $x=162.$ The area under the PDF is calculated using the $\\texttt{pnorm}$ function. For example, $$\\texttt{pnorm(160, mean = 170, sd = 8)}$$ gives the probability $P(X \\leq160) = F_X(160)$ which is the area under the PDF curve from $-\\infty$ to $160,$ and $$\\texttt{pnorm(162, mean = 170, sd = 8)-pnorm(160, mean = 170, sd = 8)}$$ gives the probability $P(160\\leq X\\leq162).$ This is similar to the area under the density histogram between 160 cm and 162 cm."
      ],
      "metadata": {
        "id": "DxyNoTHEEcNt"
      }
    },
    {
      "cell_type": "code",
      "source": [
        "# Parameters\n",
        "mu_Male = 170\n",
        "sigma_Male = 8\n",
        "\n",
        "nsimulations = 1e5\n",
        "simulatedData_Male = rnorm(nsimulations, mean = mu_Male, sd = sigma_Male)\n",
        "\n",
        "dfHeights = as.data.frame(simulatedData_Male)\n",
        "colnames(dfHeights) = c('MaleHeight')\n",
        "\n",
        "# P(160 <= X <= 162) using simulated data\n",
        "mean(dfHeights['MaleHeight'] >= 160 & dfHeights['MaleHeight'] <= 162)\n",
        "\n",
        "# P(160 <= X <= 162) using area under the PDF\n",
        "pnorm(162, mean = mu_Male, sd = sigma_Male) - pnorm(160, mean = mu_Male, sd = sigma_Male)\n",
        "\n",
        "# P(160 <= X <= 162) using area under the density histogram segment that is approximating the PDF over 160 to 162\n",
        "dnorm(161, mean = mu_Male, sd = sigma_Male) * (162-160) # This is like area = height multiplied by base width\n",
        "\n",
        "# Approximating the PDF at 161 cm (likelihood at 161 cm)\n",
        "h = 1.0\n",
        "(pnorm(161+(h/2), mean = mu_Male, sd = sigma_Male) - pnorm(161-(h/2), mean = mu_Male, sd = sigma_Male))/h\n",
        "# Exact PDF evaluated at x = 161\n",
        "dnorm(161, mean = mu_Male, sd = sigma_Male)\n",
        "\n",
        "# Likelihood ratio\n",
        "dnorm(162, mean = mu_Male, sd = sigma_Male) / dnorm(160, mean = mu_Male, sd = sigma_Male)\n",
        "\n",
        "# The area under the PDF between 160 cm and 162 cm highlighted \n",
        "x = seq(mu_Male-4*sigma_Male, mu_Male+4*sigma_Male, by = (8*sigma_Male)/1000)\n",
        "y = dnorm(x = x, mean = mu_Male, sd = sigma_Male)\n",
        "\n",
        "df = data.frame(x, y)\n",
        "p = ggplot(df) +\n",
        "  geom_line(aes(x, y)) +\n",
        "  geom_ribbon(data = df %>% filter(x >= 160 & x <= 162),  aes(x = x,\n",
        "                  ymin = 0, ymax = y), fill = \"blue\") +\n",
        "  labs(x = 'x', y = 'f(x)', title = 'Probability Density Function of a Normal RV') +\n",
        "  theme(axis.text = element_text(size = 12),\n",
        "  axis.text.x = element_text(size = 14),\n",
        "  axis.text.y = element_text(size = 14),\n",
        "  axis.title =element_text(size = 14, face = \"bold\"))\n",
        "p  "
      ],
      "metadata": {
        "id": "dV0vkn-fEdD0"
      },
      "execution_count": null,
      "outputs": []
    },
    {
      "cell_type": "markdown",
      "source": [
        "What about a probability like $P(X\\geq 190) = 1 - F_X(190)$?"
      ],
      "metadata": {
        "id": "2H-Om9oAJeQC"
      }
    },
    {
      "cell_type": "code",
      "metadata": {
        "id": "g1O9l_OGPfpR"
      },
      "source": [
        "# P(X >= 190) using simulated data\n",
        "mean(dfHeights['MaleHeight'] >= 190)\n",
        "\n",
        "# P(X >= 190) using area under the PDF\n",
        "1-pnorm(190, mu_Male, sigma_Male) # 1-F_X(190)\n",
        "pnorm(190, mu_Male, sigma_Male, lower.tail = FALSE) # 1-F_X(190)"
      ],
      "execution_count": null,
      "outputs": []
    },
    {
      "cell_type": "markdown",
      "source": [
        "![](https://bl3302files.storage.live.com/y4mSacrhvmYQvAQs9HfveCtAfA3fJ0t7jP4GNhaY3UqVuxcYA-326aVrKCeU9xdhW3gwZrlXJJjJ8_IkQoYfnJMb4XrT9gfiExsipeWrIOPtuYYeCy15oYo5TbugNfLMPu9XUM_HBTaC8z139Vrnokl3ENXIIZnl0ZyLONkcDDnz19L0UBss_37QeUHgSFPK4za?width=451&height=163&cropmode=none)"
      ],
      "metadata": {
        "id": "ti995y8Xct1t"
      }
    },
    {
      "cell_type": "code",
      "source": [
        "p = pnorm(50, mean = 40, sd = 4, lower.tail = FALSE)\n",
        "r = 1\n",
        "1-pnbinom(10-r, r, p)"
      ],
      "metadata": {
        "id": "T3n7xJhe2tMI"
      },
      "execution_count": null,
      "outputs": []
    },
    {
      "cell_type": "markdown",
      "metadata": {
        "id": "pLc97lBusw0k"
      },
      "source": [
        "PDF of a uniform random variable $X\\sim\\text{Unif}(a,b)$ is given by $f_X(x)=\\begin{cases}\\frac{1}{b-a}&\\text{if }a\\leq x\\leq b\\\\0&\\text{otherwise}.\\end{cases}.$\n",
        "\n",
        "For example, consider $X\\sim\\text{Unif}(a=0, b= 1).$"
      ]
    },
    {
      "cell_type": "code",
      "metadata": {
        "id": "kahPEXuwypBf"
      },
      "source": [
        "a = 0\n",
        "b = 1\n",
        "x = seq(a-2.5, b+2.5, by = .01)\n",
        "f_X = dunif(x, a, b)\n",
        "df = data.frame(x, f_X) \n",
        "p = ggplot(data = df, aes(x = x, y = f_X)) +\n",
        "    geom_line(aes(x, f_X)) +\n",
        "    geom_ribbon(data = df %>% filter(x >= 0.8 & x <= 1.0),  aes(x = x,\n",
        "                  ymin = 0, ymax = f_X), fill = \"blue\") +\n",
        "    labs(x = 'x', y = 'f_X(x)', title = 'Probability Density Function of a Uniform RV') +\n",
        "    theme(axis.text = element_text(size = 12),\n",
        "    axis.text.x = element_text(size = 14),\n",
        "    axis.text.y = element_text(size = 14),\n",
        "    axis.title =element_text(size = 14, face = \"bold\"))\n",
        "p  "
      ],
      "execution_count": null,
      "outputs": []
    },
    {
      "cell_type": "markdown",
      "source": [
        "At a particular bus stop buses arrive and leave at 15 minute intervals (2:00, 2:15, 2:30 etc.)\n",
        "\n",
        "Passengers arrive at a bus stop uniformly between 2:00 and 2:30 PM. Define a random variable $X$ that captures the arrival time in minutes of a random passenger starting from 2 PM.\n",
        "\n",
        "$$X\\sim\\text{Unif}(a=0, b=30).$$\n",
        "\n",
        "1. What is the probability that a passenger has to wait less than 5 minutes for a bus?\n",
        "$P((10 < X < 15)\\ \\text{OR}\\ (25 < X < 30)) = P(10 < X <15) + P(25 < X < 30).$\n",
        "2. What is the probability that a passenger has to wait more than 14 minutes for a bus? $P((0<X<1)\\ \\text{OR}\\ (15 < X < 16)) = P(0<X<1) + P(15<X<16).$"
      ],
      "metadata": {
        "id": "5Iwpm6L6wRIn"
      }
    },
    {
      "cell_type": "code",
      "source": [
        "a = 0\n",
        "b = 30\n",
        "punif(10, a, b) # P(X <= 10) cumulative distribution function (CDF)\n",
        "punif(15, a, b)- punif(10, a, b) # P(10 <= X <= 15)\n",
        "punif(30, a, b)- punif(25, a, b) # P(25 <= X <= 30)\n",
        "punif(15, a, b)- punif(10, a, b)+punif(30, a, b)- punif(25, a, b)\n",
        "punif(1, a, b) - punif(0, a, b) + punif(16, a, b) - punif(15, a, b)"
      ],
      "metadata": {
        "id": "oqtUWkbYzhiD"
      },
      "execution_count": null,
      "outputs": []
    },
    {
      "cell_type": "markdown",
      "source": [
        "Simulate a uniform random variable $X\\sim\\text{Unif}(a=0, b=1)$ using the $\\texttt{runif()}$ function."
      ],
      "metadata": {
        "id": "SopAnaG0LdkT"
      }
    },
    {
      "cell_type": "code",
      "metadata": {
        "id": "nrzUkpP99jO8"
      },
      "source": [
        "# Parameters\n",
        "a = 0\n",
        "b = 1\n",
        "\n",
        "# Bin width\n",
        "delta = 0.1\n",
        "\n",
        "# Simulate data\n",
        "nsimulations = 1e4\n",
        "simulatedData = runif(nsimulations, a, b)\n",
        "df = as.data.frame(simulatedData)\n",
        "colnames(df) = c('SimulatedValues')\n",
        "\n",
        "# Plot the frequency histogram\n",
        "p1 = ggplot(data = df) +\n",
        "  geom_histogram(aes(x = SimulatedValues, y = ..count..),\n",
        "  breaks = seq(a-2, b+2, by = delta),\n",
        "  colour = 'black', fill = 'steelblue', alpha = 0.4) +\n",
        "  labs(x = 'Time (hrs)', y = 'Frequency') \n",
        "\n",
        "# Plot the relative frequency histogram\n",
        "p2 = ggplot(data = df) +\n",
        "  geom_histogram(aes(x = SimulatedValues, y = ..count../sum(..count..)),\n",
        "  breaks = seq(a-2, b+2, by = delta),\n",
        "  colour = 'black', fill = 'steelblue', alpha = 0.4) +\n",
        "  labs(x = 'Height (cm)', y = 'Relative Frequency')\n",
        "\n",
        "# Plot the density histogram\n",
        "p3 = ggplot(data = df) +\n",
        "  geom_histogram(aes(x = SimulatedValues, y = ..density..),\n",
        "  breaks = seq(a-2, b+2, by = delta),\n",
        "  colour = 'black', fill = 'steelblue', alpha = 0.4) +\n",
        "  labs(x = 'Height (cm)', y = 'Density')\n",
        "\n",
        "# Plot the density histogram along with density curve\n",
        "p4 = ggplot(data = df) +\n",
        "  geom_histogram(aes(x = SimulatedValues, y = ..density..),\n",
        "  breaks = seq(a-2, b+2, by = delta),\n",
        "  colour = 'black', fill = 'steelblue', alpha = 0.4) +\n",
        "  stat_function(fun = dunif, args = list(min = min(df$SimulatedValues), max = max(df$SimulatedValues))) +\n",
        "  labs(x = 'Height (cm)', y = 'Density')\n",
        "\n",
        "\n",
        "# Plot the histograms side-by-side\n",
        "p1 + p2 + p3 + p4 + plot_layout(ncol = 2)"
      ],
      "execution_count": null,
      "outputs": []
    },
    {
      "cell_type": "code",
      "source": [
        "max(df$SimulatedValues)"
      ],
      "metadata": {
        "id": "H7CmhEfEggRH"
      },
      "execution_count": null,
      "outputs": []
    },
    {
      "cell_type": "markdown",
      "source": [
        "Simulate failure times of laptop modeled by an exponential random variable: $$T\\sim\\text{Exp}\\left(\\lambda = \\frac{1}{5000}\\,\\frac{\\text{failures}}{\\text{hour}}\\right).$$\n",
        "\n",
        "$T$ is the time until the next failure of a random laptop given that on an average there are 1/5000 failures per hour.\n",
        "\n",
        "1. **Frequency histogram**, where each bin has a height equal to the number of laptops whose failure times (in 5000 hours) fall in that bin);\n",
        "2. **Relative frequency histogram**, where each bin has a height equal to the proportion of laptops whose failure times (in 5000 hours) fall in that bin);\n",
        "3. **Density histogram**, where each bin has a height equal to the proportion of laptops whose failure times (in 5000 hours) in that bin divided by the bin width)."
      ],
      "metadata": {
        "id": "RWglZA7IS9gT"
      }
    },
    {
      "cell_type": "code",
      "source": [
        "#rpois(1e2, lambda = 1) # X~Poi(lambda = 1 failures per 5000 hour)\n",
        "mean(rexp(1e6, rate = 1/5000))\n",
        "#rnorm(1e2, mean = 170, sd = 8)\n",
        "#rbinom(1e2, 12, 0.2)"
      ],
      "metadata": {
        "id": "A-gsIcYmjET1"
      },
      "execution_count": null,
      "outputs": []
    },
    {
      "cell_type": "code",
      "source": [
        "# Parameters\n",
        "lambda = 1/5000\n",
        "\n",
        "# Bin width\n",
        "delta = 1000\n",
        "\n",
        "nsimulations = 1e5\n",
        "simulatedData = rexp(nsimulations, rate = 1/5000)\n",
        "\n",
        "df = as.data.frame(simulatedData)\n",
        "colnames(df) = c('FailureTime')\n",
        "\n",
        "# Plot the frequency histogram for failure times\n",
        "p1 = ggplot(data = df) +\n",
        "  geom_histogram(aes(x = FailureTime, y = ..count..),\n",
        "  breaks = seq(0, 10000, by = delta),\n",
        "  colour = 'black', fill = 'steelblue', alpha = 0.4) +\n",
        "  labs(x = 'Time (Hours)', y = 'Frequency') \n",
        "\n",
        "# Plot the relative frequency histogram for failure time\n",
        "p2 = ggplot(data = df) +\n",
        "  geom_histogram(aes(x = FailureTime, y = ..count../sum(..count..)),\n",
        "  breaks =seq(0, 10000, by = delta),\n",
        "  colour = 'black', fill = 'steelblue', alpha = 0.4) +\n",
        "  labs(x = 'Time (Hours)', y = 'Relative Frequency')\n",
        "\n",
        "# Plot the density histogram for failure time\n",
        "p3 = ggplot(data = df) +\n",
        "  geom_histogram(aes(x = FailureTime, y = ..density..),\n",
        "  breaks = seq(0, 10000, by = delta),\n",
        "  colour = 'black', fill = 'steelblue', alpha = 0.4) +\n",
        "  labs(x = 'Time (Hours)', y = 'Density')\n",
        "\n",
        "# Plot the density histogram along with density curve for failure time\n",
        "p4 = ggplot(data = df) +\n",
        "  geom_histogram(aes(x = FailureTime, y = ..density..),\n",
        "  breaks = seq(0, 10000, by = delta),\n",
        "  colour = 'black', fill = 'steelblue', alpha = 0.4) +\n",
        "  stat_function(fun = dexp, args = list(rate = 1 / mean(df$FailureTime))) +\n",
        "  labs(x = 'Time (Hours)', y = 'Density')\n",
        "\n",
        "# Plot the histograms side-by-side\n",
        "p1 + p2 + p3 + p4 + plot_layout(ncol = 2)"
      ],
      "metadata": {
        "id": "G3jbeP0EVbGd"
      },
      "execution_count": null,
      "outputs": []
    },
    {
      "cell_type": "markdown",
      "source": [
        "Comparison of the PDF of exponential random variables with different rate parameters $\\lambda$: \n",
        "\n",
        "$$T_1\\sim\\text{Exp}(\\lambda = 2)\\, \\text{and } T_2\\sim\\text{Exp}(\\lambda = 1/2).$$"
      ],
      "metadata": {
        "id": "s2GDt86TRZB_"
      }
    },
    {
      "cell_type": "code",
      "source": [
        "t = seq(0, 20, by = .05)\n",
        "f_T1 = dexp(t, rate = 2)\n",
        "df1 = data.frame(t, f_T1) \n",
        "f_T2 = dexp(t, rate = 1/2)\n",
        "df2 = data.frame(t, f_T2) \n",
        "p1 = ggplot(data = df1) +\n",
        "    geom_line(aes(x = t, y = f_T1)) +\n",
        "    geom_ribbon(data = df1 %>% filter(t >= 1 & t <= 2),  aes(x = t,\n",
        "                  ymin = 0, ymax = f_T1), fill = \"blue\") +\n",
        "    labs(x = 't', y = 'f(t)', title = 'Probability Density Function lambda = 2') +\n",
        "    theme(axis.text = element_text(size = 12),\n",
        "    axis.text.x = element_text(size = 14),\n",
        "    axis.text.y = element_text(size = 14),\n",
        "    axis.title =element_text(size = 14, face = \"bold\"))\n",
        "\n",
        "p2 = ggplot(data = df2) +\n",
        "    geom_line(aes(x = t, y = f_T2)) +\n",
        "    geom_ribbon(data = df2 %>% filter(t >= 1 & t <= 2),  aes(x = t,\n",
        "                  ymin = 0, ymax = f_T2), fill = \"blue\") +\n",
        "    labs(x = 't', y = 'f(t)', title = 'Probability Density Function lambda = 1/2') +\n",
        "    theme(axis.text = element_text(size = 12),\n",
        "    axis.text.x = element_text(size = 14),\n",
        "    axis.text.y = element_text(size = 14),\n",
        "    axis.title =element_text(size = 14, face = \"bold\"))\n",
        "\n",
        "p1 + p2 + plot_layout(ncol = 2)  "
      ],
      "metadata": {
        "id": "e5z3sYIaPWwF"
      },
      "execution_count": null,
      "outputs": []
    },
    {
      "cell_type": "markdown",
      "metadata": {
        "id": "Y21Xr_WQzmzd"
      },
      "source": [
        "PDF of an exponential random variable $T\\sim\\text{Exp}(\\lambda)$ is given by $$f_T(t)=\\begin{cases}\\lambda e^{-\\lambda t}&\\text{if }t\\geq 0\\\\0&\\text{otherwise}.\\end{cases}.$$ For example, consider $T\\sim\\text{Exp}(\\lambda = 2).$"
      ]
    },
    {
      "cell_type": "code",
      "metadata": {
        "id": "v-c0l8W7zZqY"
      },
      "source": [
        "t = seq(0, 20, by = .05)\n",
        "f_T = dexp(t, rate = 2)\n",
        "df = data.frame(t, f_T) \n",
        "p = ggplot(data = df) +\n",
        "    geom_line(aes(x = t, y = f_T)) +\n",
        "    geom_ribbon(data = df %>% filter(t >= 1 & t <= 10),  aes(x = t,\n",
        "                  ymin = 0, ymax = f_T), fill = \"blue\") +\n",
        "    labs(x = 't', y = 'f(t)', title = 'Probability Density Function') +\n",
        "    theme(axis.text = element_text(size = 12),\n",
        "    axis.text.x = element_text(size = 14),\n",
        "    axis.text.y = element_text(size = 14),\n",
        "    axis.title =element_text(size = 14, face = \"bold\"))\n",
        "p  "
      ],
      "execution_count": null,
      "outputs": []
    },
    {
      "cell_type": "markdown",
      "source": [
        "![](https://bl3302files.storage.live.com/y4muNx5nrPMNokpEQ0hSFncnokoy7ocFbPYJgo9h9LxDCilpJh9aK--oJcCVqWtq8tgTWLJg8Qyi0wck3ZhlgU4-U_0BzrCKDXY3rjD9umOzwt53rC5nL4f59c8yvmKFeGCGKKqMrdqBuOHIh6SFoF0D7jibQ-qreLEAbFUqtkNEYOilzbEZ-3LF2qUTh6TAzzV?width=660&height=391&cropmode=none)"
      ],
      "metadata": {
        "id": "91TUYVaTcakk"
      }
    },
    {
      "cell_type": "code",
      "metadata": {
        "id": "rNq_XwBnBuTu"
      },
      "source": [
        "pexp(11, rate = 2) - pexp(9, rate = 2)\n",
        "pexp(11, rate = 2, lower.tail=FALSE)"
      ],
      "execution_count": null,
      "outputs": []
    },
    {
      "cell_type": "code",
      "source": [
        "# P(T > 5*365*4 hours), T~Exp(rate = 1/5000 failure per hour)\n",
        "1-pexp(5*365*4, rate = 1/5000) # 1 - P(T <= 5*365*4)\n",
        "pexp(5*365*4, rate = 1/5000, lower.tail = FALSE)\n",
        "\n",
        "# P(T > 4 years), T~Exp(rate = 365*24/5000 failure per year)\n",
        "1-pexp((5*4)/24, rate = 365*24/5000)"
      ],
      "metadata": {
        "id": "exnaS2I1YtOk"
      },
      "execution_count": null,
      "outputs": []
    },
    {
      "cell_type": "markdown",
      "source": [
        "![](https://bl3302files.storage.live.com/y4mqcunFWufbZoqiEdv6VwMJzoCf_Tr9ITfxRfrY9zHp84-QQrqHbxtKHBiUcvgQmWq0sF1xkauf72M_h_ndzOWXjd_qYeqovJY_jOvAeHy9fF7lu0fdUmBVVk4-lo_RpTjRy8V2S4ECquJl-yMa1mFYRAAIvGXx0NEl_ABUZHaQ_M2g3PydLWB9uA7pplK9aKn?width=660&height=302&cropmode=none)"
      ],
      "metadata": {
        "id": "9CyvXWZQbJ5k"
      }
    },
    {
      "cell_type": "code",
      "source": [
        "nsimulations = 1e5\n",
        "dataA = rnorm(nsimulations, mean = 20, sd = 4)\n",
        "dataB = rexp(nsimulations, rate = 1/20)\n",
        "pA = mean(dataA > 18)\n",
        "pB = mean(dataB > 18)\n",
        "pA\n",
        "pB\n",
        "pA = pnorm(18, mean = 20, sd = 4, lower.tail = FALSE)\n",
        "pB = pexp(18, rate = 1/20, lower.tail = FALSE)\n",
        "pA\n",
        "pB\n",
        "# Probability that the screen is manufactured by A given that T > 18\n",
        "(pA * 0.5) / (pA * 0.5 + pB * 0.5)\n",
        "# Probability that the screen is manufactured by B given that T > 18\n",
        "(pB * 0.5) / (pB * 0.5 + pA * 0.5)"
      ],
      "metadata": {
        "id": "iSM8VH-Jv2T4"
      },
      "execution_count": null,
      "outputs": []
    },
    {
      "cell_type": "markdown",
      "source": [
        "![](https://bl3302files.storage.live.com/y4mglacF4S9CUNNCOSu753zK6KisVN3fL8NHVXRNxAFa-OxsgVHACzz8lG8KQuXXY-NPrTcLUm7Sixhoqc9dyApmhdspw3EZiXC5AlSmBE2_CfOXhSzoHtYI19eX_Lvo3zck5LHSwZVbWE9pOOTV3ZOzMxbicbKZuTV0IGrxF-xjpPf5e0ZV8kR9BaL5wHQR162?width=660&height=309&cropmode=none)"
      ],
      "metadata": {
        "id": "XGTHdY4PbqHW"
      }
    },
    {
      "cell_type": "code",
      "source": [
        "# T ~ Exp(rate = 1/10 calls per minute)\n",
        "# P(T > 20)\n",
        "pexp(20, rate = 1/10, lower.tail = FALSE)"
      ],
      "metadata": {
        "id": "lH2wmvSRy32k"
      },
      "execution_count": null,
      "outputs": []
    },
    {
      "cell_type": "code",
      "source": [
        "changing_rate_noemp = runif(1, min = -0.02, max = 0.01)\n",
        "changing_rate_noemp\n",
        "changing_rate_avgclaimemp = rnorm(1, mean = 0.01, sd = 0.02)\n",
        "changing_rate_avgclaimemp\n",
        "sim_mon = 12\n",
        "n_employee = 20\n",
        "125*n_employee * ((1 + changing_rate_noemp)^c(1:sim_mon))\n",
        "avg_claim_per_employee = 250\n",
        "print('------')\n",
        "avg_claim_per_employee *((1 + changing_rate_avgclaimemp)^c(1:sim_mon))  "
      ],
      "metadata": {
        "id": "CB_lFLdSdL5O"
      },
      "execution_count": null,
      "outputs": []
    },
    {
      "cell_type": "markdown",
      "metadata": {
        "id": "BgS2y4sYAhPT"
      },
      "source": [
        "Employee Insurance Problem: read the problem statement in the **AdditionalNotes/** folder"
      ]
    },
    {
      "cell_type": "code",
      "metadata": {
        "id": "ArC4-ZSBz-VL"
      },
      "source": [
        "# Problem-1\n",
        "HungryDawg_sim_fun = function(n_employee,\n",
        "                               avg_claim_per_employee,\n",
        "                               amt_paid_per_employee,\n",
        "                               sim_mon,\n",
        "                               nsimulations,\n",
        "                               incre_rate_employee_min,\n",
        "                               incre_rate_employee_max,\n",
        "                               incre_rate_avg_claim_mean,\n",
        "                               incre_rate_avg_claim_sd\n",
        "){\n",
        "  # Create empty array to store cost to company\n",
        "  cost_to_company = c()\n",
        "  # Simulate for each scenario\n",
        "  for (k in c(1:nsimulations)){\n",
        "    # Uniform distribution for changing rate of number of employees\n",
        "    changing_rate_noemp = runif(1, min = incre_rate_employee_min, max = incre_rate_employee_max)\n",
        "  \n",
        "    # Normal distribution for changing rate of average claim per employee\n",
        "    changing_rate_avgclaimemp = rnorm(1, mean = incre_rate_avg_claim_mean,\n",
        "                                     sd = incre_rate_avg_claim_sd)\n",
        "\n",
        "    # Forecast number of employees in the future months\n",
        "    forecast_n_employee = n_employee * ((1 + changing_rate_noemp)^c(1:sim_mon)) \n",
        "\n",
        "    # Forecast monthly premium amount paid in the future months\n",
        "    forecast_monthly_amount_paid = amt_paid_per_employee * forecast_n_employee \n",
        "    \n",
        "    # Forecast monthly average claim per employee in the future months\n",
        "    forecast_avgclaim_employee = avg_claim_per_employee *((1 + changing_rate_avgclaimemp)^c(1:sim_mon))  \n",
        "\n",
        "    # Forecast monthly total claim in the future months\n",
        "    forecast_monthly_total_claim = forecast_avgclaim_employee * forecast_n_employee\n",
        "\n",
        "    # Update total cost to company\n",
        "    cost_to_company[k] = sum(forecast_monthly_total_claim - forecast_monthly_amount_paid)\n",
        "  } \n",
        "\n",
        "  return(cost_to_company)\n",
        "}"
      ],
      "execution_count": null,
      "outputs": []
    },
    {
      "cell_type": "code",
      "metadata": {
        "id": "GpoUKVqpDIiy"
      },
      "source": [
        "set.seed(1)\n",
        "test1 = HungryDawg_sim_fun(n_employee = 10,\n",
        "                            avg_claim_per_employee = 250,\n",
        "                            amt_paid_per_employee = 125,\n",
        "                            sim_mon = 12,\n",
        "                            nsimulations = 5,\n",
        "                            incre_rate_employee_min = -0.01,\n",
        "                            incre_rate_employee_max = 0.01,\n",
        "                            incre_rate_avg_claim_mean = 0.01,\n",
        "                            incre_rate_avg_claim_sd = 0.02)\n",
        "test1"
      ],
      "execution_count": null,
      "outputs": []
    },
    {
      "cell_type": "code",
      "metadata": {
        "id": "TlAEnLnGDmoN"
      },
      "source": [
        "# Problem-2\n",
        "budget = 20e06\n",
        "\n",
        "# (a) Simulate 10000 10-month costs of the current health plan\n",
        "set.seed(2)\n",
        "vec_sim_cost_10000 = HungryDawg_sim_fun(n_employee = ?,\n",
        "                                        avg_claim_per_employee = ?,\n",
        "                                        amt_paid_per_employee = ?,\n",
        "                                        sim_mon = 10,\n",
        "                                        sim_times = 10000,\n",
        "                                        incre_rate_employee_min = -0.02,\n",
        "                                        incre_rate_employee_max = 0.04,\n",
        "                                        incre_rate_avg_claim_mean = 0.005,\n",
        "                                        incre_rate_avg_claim_sd = 0.01)\n",
        "\n",
        "# (b) Compute mean and standard deviation of the simulated costs\n",
        "mean_cost_10000 = ?(vec_sim_cost_10000)\n",
        "sd_cost_10000 = ?(vec_sim_cost_10000)\n",
        "\n",
        "#(c) Compute the percentage of simulated scenarios in which cost exceeds the budget\n",
        "pct_budget_empty_147 = (sum(? > ?) / 10000) * 100\n",
        "\n",
        "# (d) If the company increases the monthly premium to $150 per employee, what is\n",
        "# the estimated probability that the company will deplete their budget for the health plan?\n",
        "set.seed(2)\n",
        "vec_sim_cost_10000 = HungryDawg_sim_fun(n_employee = 19735,\n",
        "                                        avg_claim_per_employee = 224,\n",
        "                                        amt_paid_per_employee = ?,\n",
        "                                        sim_mon = 10,\n",
        "                                        sim_times = 10000,\n",
        "                                        incre_rate_employee_min = -0.02,\n",
        "                                        incre_rate_employee_max = 0.04,\n",
        "                                        incre_rate_avg_claim_mean = 0.005,\n",
        "                                        incre_rate_avg_claim_sd = 0.01)\n",
        "\n",
        "pct_budget_empty_150 =  (?(vec_sim_cost_10000 > ?) / 10000) * 100\n",
        "\n",
        "#(e) Simulate to select the lowest premium so that the risk of depleting the\n",
        "# budget is less than 5%\n",
        "premium_list = c(?, ?, ?, ?, ?, ?, ?)\n",
        "# Create empty vector to store risk probability percentagefor each premium\n",
        "pct_risk_probability = c()\n",
        "for (k in c(1:length(?))){\n",
        "  set.seed(2)\n",
        "  vec_sim_cost_10000 = HungryDawg_sim_fun(n_employee = 19735,\n",
        "                                        avg_claim_per_employee = 224,\n",
        "                                        amt_paid_per_employee = ?,\n",
        "                                        sim_mon = 10,\n",
        "                                        sim_times = 10000,\n",
        "                                        incre_rate_employee_min = -0.02,\n",
        "                                        incre_rate_employee_max = 0.04,\n",
        "                                        incre_rate_avg_claim_mean = 0.005,\n",
        "                                        incre_rate_avg_claim_sd = 0.01)\n",
        "  # Update risk probability\n",
        "  pct_risk_probability[k] = (?(? > ?) / 10000) * 100                                       \n",
        "}\n",
        "# Select smallest premium for which risk probability is less than 5% \n",
        "slct_premium = premium_list[which(? < 5)[1]]"
      ],
      "execution_count": null,
      "outputs": []
    },
    {
      "cell_type": "markdown",
      "source": [
        "PDF of an Beta random variable $P\\sim\\text{Beta}(a, b)$ is given by $$f_P(p)=\\begin{cases}\\frac{p^{a-1}(1-p)^{b-1}}{\\int_0^1p^{a-1}(1-p)^{b-1}}&\\text{if }p\\geq 0\\\\0&\\text{otherwise}.\\end{cases}.$$ For example, consider $P\\sim\\text{Beta}(a=1,b=1).$"
      ],
      "metadata": {
        "id": "tsrNJCA29bfy"
      }
    },
    {
      "cell_type": "code",
      "source": [
        "a = 1\n",
        "b = 1\n",
        "p = seq(a-2.5, b+2.5, by = .01)\n",
        "f_P = dbeta(p, a, b)\n",
        "df = data.frame(p, f_P) \n",
        "p1 = ggplot(data = df) +\n",
        "    geom_line(aes(x = p, y = f_P)) +\n",
        "    # geom_ribbon(data = df %>% filter(x >= 0.8 & x <= 1.0),  aes(x = x,\n",
        "    #               ymin = 0, ymax = f_X), fill = \"blue\") +\n",
        "    labs(x = 'p', y = 'f_P(p)', title = 'Probability Density Function of a Beta RV with a = 1, b = 1') +\n",
        "    theme(axis.text = element_text(size = 12),\n",
        "    axis.text.x = element_text(size = 14),\n",
        "    axis.text.y = element_text(size = 14),\n",
        "    axis.title =element_text(size = 14, face = \"bold\"))\n",
        "\n",
        "# Out of 10 tosses, 8 are heads and 2 are tails\n",
        "f_P = dbeta(p, a+8, b+2)\n",
        "df = data.frame(p, f_P) \n",
        "p2 = ggplot(data = df) +\n",
        "    geom_line(aes(x = p, y = f_P)) +\n",
        "    # geom_ribbon(data = df %>% filter(x >= 0.8 & x <= 1.0),  aes(x = x,\n",
        "    #               ymin = 0, ymax = f_X), fill = \"blue\") +\n",
        "    labs(x = 'p', y = 'f_P(p)', title = 'Updated Probability Density Function of a Beta RV with a = 1+8, b = 1+2') +\n",
        "    theme(axis.text = element_text(size = 12),\n",
        "    axis.text.x = element_text(size = 14),\n",
        "    axis.text.y = element_text(size = 14),\n",
        "    axis.title =element_text(size = 14, face = \"bold\"))\n",
        "\n",
        "# Out of 100 tosses, 80 are heads and 20 are tails\n",
        "f_P = dbeta(p, a+80, b+20)\n",
        "df = data.frame(p, f_P) \n",
        "p3 = ggplot(data = df) +\n",
        "    geom_line(aes(x = p, y = f_P)) +\n",
        "    # geom_ribbon(data = df %>% filter(x >= 0.8 & x <= 1.0),  aes(x = x,\n",
        "    #               ymin = 0, ymax = f_X), fill = \"blue\") +\n",
        "    labs(x = 'p', y = 'f_P(p)', title = 'Updated Probability Density Function of a Beta RV with a = 1+80, b = 1+20') +\n",
        "    theme(axis.text = element_text(size = 12),\n",
        "    axis.text.x = element_text(size = 14),\n",
        "    axis.text.y = element_text(size = 14),\n",
        "    axis.title =element_text(size = 14, face = \"bold\"))\n",
        "\n",
        "# Out of 1000 tosses, 800 are heads and 200 are tails\n",
        "f_P = dbeta(p, a+800, b+200)\n",
        "df = data.frame(p, f_P) \n",
        "p4 = ggplot(data = df) +\n",
        "    geom_line(aes(x = p, y = f_P)) +\n",
        "    # geom_ribbon(data = df %>% filter(x >= 0.8 & x <= 1.0),  aes(x = x,\n",
        "    #               ymin = 0, ymax = f_X), fill = \"blue\") +\n",
        "    labs(x = 'p', y = 'f_P(p)', title = 'Updated Probability Density Function of a Beta RV with a = 1+800, b = 1+200') +\n",
        "    theme(axis.text = element_text(size = 12),\n",
        "    axis.text.x = element_text(size = 14),\n",
        "    axis.text.y = element_text(size = 14),\n",
        "    axis.title =element_text(size = 14, face = \"bold\"))\n",
        "\n",
        "\n",
        "p1 + p2 + p3 + p4 + plot_layout(ncol = 1)\n",
        "\n",
        "p = 800/(800+200)\n",
        "p\n",
        "p = rbeta(1, 1+800, 1+200)\n",
        "p"
      ],
      "metadata": {
        "id": "2WrspM2w9a_s"
      },
      "execution_count": null,
      "outputs": []
    },
    {
      "cell_type": "markdown",
      "source": [
        "Suppose you want to buy a book from Amazon. There are 3 sellers offering the book at essentially the same price. The sellers' ratings details are as follows:\n",
        "\n",
        "* Seller-A has 94% positive feedback from 85,193 reviews;\n",
        "* Seller-B has 98% positive feedback from 20,785 reviews;\n",
        "* Seller-C has 99% positive feedback from 840 reviews.\n",
        "\n",
        "Who will you buy the book from?\n",
        "\n",
        "Let $P_A, P_B,$ and $P_C$ be the probabilities that sellers-A, B, and C will give a positive service. We can start with a uniform prior distribution: $$P_A\\sim\\text{Beta}(a = 1,\\,b = 1),$$ $$P_B\\sim\\text{Beta}(a = 1,\\,b = 1),$$ $$P_C\\sim\\text{Beta}(a = 1,\\,b = 1).$$ We update the prior distributions to posterior distributions after observing the review data: $$P_A\\sim\\text{Beta}(a = 1+0.94\\times85193,\\,b = 1+(1-0.94)\\times85193),$$ $$P_B\\sim\\text{Beta}(a = 1+0.98\\times20785,\\,b = 1+(1-0.98)\\times20785),$$ $$P_C\\sim\\text{Beta}(a = 1+0.99\\times840,\\,b = 1+(1-0.99)\\times840).$$\n",
        "\n"
      ],
      "metadata": {
        "id": "OEsNugXawhqX"
      }
    },
    {
      "cell_type": "code",
      "source": [
        "a = 1\n",
        "b = 1\n",
        "nsimulations = 1e5\n",
        "\n",
        "simulatedData_A = rbeta(nsimulations, a + 0.94*85193, b + (1-0.94)*85193)\n",
        "simulatedData_B = rbeta(nsimulations, a + 0.98*20785, b + (1-0.98)*20785)\n",
        "simulatedData_C = rbeta(nsimulations, a + 0.99*840, b + (1-0.99)*840)\n",
        "\n",
        "mean(simulatedData_A > simulatedData_B & simulatedData_A > simulatedData_C)\n",
        "mean(simulatedData_B > simulatedData_A & simulatedData_B > simulatedData_C)\n",
        "mean(simulatedData_C > simulatedData_A & simulatedData_C > simulatedData_B)"
      ],
      "metadata": {
        "id": "5PAgtmnTzIhp"
      },
      "execution_count": null,
      "outputs": []
    }
  ]
}