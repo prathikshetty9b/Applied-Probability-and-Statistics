{
  "nbformat": 4,
  "nbformat_minor": 0,
  "metadata": {
    "kernelspec": {
      "display_name": "R",
      "language": "R",
      "name": "ir"
    },
    "language_info": {
      "codemirror_mode": "r",
      "file_extension": ".r",
      "mimetype": "text/x-r-source",
      "name": "R",
      "pygments_lexer": "r",
      "version": "3.3.1"
    },
    "colab": {
      "name": "AML5201_CovarianceMatrixProjectionPCA_R.ipynb",
      "provenance": [],
      "collapsed_sections": []
    }
  },
  "cells": [
    {
      "cell_type": "code",
      "metadata": {
        "id": "nTmGOkPXZjUv"
      },
      "source": [
        "library(tidyverse)"
      ],
      "execution_count": null,
      "outputs": []
    },
    {
      "cell_type": "markdown",
      "source": [
        "**Data Matrix**\n",
        "\n",
        "Patient dataset corresponding to 4 patients and 3 features:\n",
        "\n",
        "![Patient dataset](https://bl3302files.storage.live.com/y4mDUt2YjMzGPgHdbnZnzzQ9GYvwHVIhAFiGFkCAW3d7QS2vr5v9x6cQLkfrgKK_O9MwAnqe6UF-r3jAeywfR3prvcRRxTumNRJjrIMA5eWbZuRAh1QnEi8bwzLsmrtg9AIjXY3Eh-8P2OxJcfkbGxH2-rEyKQYV3L7DjnomZ68lTEBjShqYOTH6oD65KoaFRK-?width=256&height=153&cropmode=none)"
      ],
      "metadata": {
        "id": "DeQbM5cpNH0H"
      }
    },
    {
      "cell_type": "code",
      "source": [
        "# Create dataframe with 3 columns\n",
        "HR = c(76, 74, 72, 78)\n",
        "BP = c(126, 120, 118, 136)\n",
        "Temp = c(38, 38, 37.5, 37)\n",
        "pData = data.frame(HR, BP, Temp)\n",
        "print(pData)\n",
        "cat(sprintf('---------------------\\n'))\n",
        "\n",
        "# Convert dataframe to matrix\n",
        "X = as.matrix(pData)\n",
        "print(dim(X))\n",
        "cat(sprintf('---------------------\\n'))\n",
        "print(X)"
      ],
      "metadata": {
        "id": "IhvgODjPNNhv"
      },
      "execution_count": null,
      "outputs": []
    },
    {
      "cell_type": "markdown",
      "source": [
        "**Vectors from the data matrix**\n",
        "\n",
        "![Patient dataset](https://bl3302files.storage.live.com/y4mOmQPnVqf4iHNia7wgkQQs8Oi7mrO3_h5zh1zK3ExVR7SB_IGCFwy72nvi8_f9q2eeK5B73A8v1qvr9UIhs8pChuvy0Y9YPznn7hsL3ktxkI33BJIox7-7LqQEx8XvH6yHrafSadsHxIopns4AbmrGKZaxGrb_DStRhZpD2y_EZhQo2mfNJSixwwFELAXO_e4?width=256&height=167&cropmode=none)\n",
        "\n",
        "1st feature vector (heart rate) for all patients:\n",
        "$$x_1 = \\begin{bmatrix}76\\\\74\\\\72\\\\78\\end{bmatrix}$$\n",
        "\n",
        "1st patient vector for all features:\n",
        "$$x^{(1)} = \\begin{bmatrix}76\\\\126\\\\38\\end{bmatrix}$$"
      ],
      "metadata": {
        "id": "qTAaXZ5PNXUj"
      }
    },
    {
      "cell_type": "code",
      "source": [
        "# Vector for 1st feature (HR)\n",
        "x_1 = X[, 1]\n",
        "print(x_1)\n",
        "cat(sprintf('\\n'))\n",
        "\n",
        "# Vector for 2nd feature (BP)\n",
        "x_2 = X[, 2]\n",
        "print(x_2)\n",
        "cat(sprintf('\\n'))\n",
        "\n",
        "# Vector for 1st patient\n",
        "x1 = X[1, ]\n",
        "print(x1)\n",
        "cat(sprintf('\\n'))\n",
        "\n",
        "# Vector for 2nd patient\n",
        "x2 = X[2, ]\n",
        "print(x2)"
      ],
      "metadata": {
        "id": "Erkq0-CNNot3"
      },
      "execution_count": null,
      "outputs": []
    },
    {
      "cell_type": "markdown",
      "source": [
        "**Projection of vectors and its relationship to dot product**\n",
        "\n",
        "![Vector projection](https://bl3302files.storage.live.com/y4miuCtKP9ptv6lIB8EqEU_u7cbEydy0UsEgHl4ECni2UVONtvKZgf73pIQ4vuA99ZHP8K96W_1i-QuhSIN12IudLaUTF3_jZzFqVfsaRK7QubMS9p5C1ErN6tB8I_UqQZnSY2JSGnu0IvJQrRcd2rX2Hzngfka3tCqJhbAMdElywcis2gRaoiuEGDVqaXpZYYp?width=256&height=209&cropmode=none)"
      ],
      "metadata": {
        "id": "8WOFrwpsOsyJ"
      }
    },
    {
      "cell_type": "code",
      "source": [
        "# Project all patients onto the e_1 (HR) direction\n",
        "e_1 = c(1, 0, 0)\n",
        "projected_samples = c(e_1 %*% X[1, ] / norm(e_1, type = '2'),\n",
        "e_1 %*% X[2, ] / norm(e_1, type = '2'),\n",
        "e_1 %*% X[3, ] / norm(e_1, type = '2'),\n",
        "e_1 %*% X[4, ] / norm(e_1, type = '2'))\n",
        "print(projected_samples)\n",
        "\n",
        "# Variance of the projected data\n",
        "var(projected_samples)"
      ],
      "metadata": {
        "id": "O9s5219oOxnR"
      },
      "execution_count": null,
      "outputs": []
    },
    {
      "cell_type": "code",
      "source": [
        "X %*% (e_1 / norm(e_1, type = '2')) "
      ],
      "metadata": {
        "id": "ESNVP1ndYEjv"
      },
      "execution_count": null,
      "outputs": []
    },
    {
      "cell_type": "code",
      "source": [
        "v = c(1, 2, 3)\n",
        "var(X %*% (v / norm(v, type = '2')))"
      ],
      "metadata": {
        "id": "canV6U6_Y4xK"
      },
      "execution_count": null,
      "outputs": []
    },
    {
      "cell_type": "code",
      "source": [
        "# How different (or varying) are the patients w.r.t. each feature?\n",
        "var(X[, 1]) # Variance of HR\n",
        "var(X[, 2]) # Variance of BP\n",
        "var(X[, 3]) # Variance of Temp\n",
        "var(X)"
      ],
      "metadata": {
        "id": "F-qm_Z_pO_yk"
      },
      "execution_count": null,
      "outputs": []
    },
    {
      "cell_type": "code",
      "source": [
        "# A simple data matrix to understand samples seen as vectors\n",
        "sData = data.frame(\"X1\" = c(5, 3), \"X2\" = c(2, 6))\n",
        "print(sData)"
      ],
      "metadata": {
        "id": "Lswe7XMpPNQh"
      },
      "execution_count": null,
      "outputs": []
    },
    {
      "cell_type": "markdown",
      "source": [
        "**Geometric representation of samples as vectors**"
      ],
      "metadata": {
        "id": "cLmBS8iVPVNe"
      }
    },
    {
      "cell_type": "code",
      "source": [
        "p1 = sData %>% ggplot() + \n",
        "  geom_segment(aes(x = 0, y = 0, xend = X1[1], yend = X2[1]), size = 1,\n",
        "   arrow = arrow(length = unit(0.5,\"cm\")), color = 'red') +\n",
        "  geom_segment(aes(x = 0, y = 0, xend = X1[2], yend = X2[2]), size = 1,\n",
        "   arrow = arrow(length = unit(0.5,\"cm\")), color = 'blue') +\n",
        "  geom_text(aes(x = X1[1], y = X2[1]), label = 'x^1', hjust = -0.5, vjust = 0, size = 10) +\n",
        "  geom_text(aes(x = X1[2], y= X2[2]), label = 'x^2', hjust = -0.5, vjust = 0.5, size = 10) +\n",
        "  labs( x = '', y = '', title = 'Vectors') +\n",
        "  geom_vline(xintercept = 0, linetype = 'dashed') + \n",
        "  geom_hline(yintercept = 0, linetype = 'dashed') +\n",
        "  theme(axis.text.x = element_text(size = 20),\n",
        "   axis.text.y= element_text(size = 20),\n",
        "   axis.line = element_line(colour = \"darkblue\", size = 1, linetype = \"solid\")) +\n",
        "   scale_x_continuous(expand = c(0, 0), limits = c(-11, 11)) +\n",
        "   scale_y_continuous(expand = c(0, 0), limits = c(-11, 11))\n",
        "p1"
      ],
      "metadata": {
        "id": "6aCgZ470PS5u"
      },
      "execution_count": null,
      "outputs": []
    },
    {
      "cell_type": "code",
      "source": [
        "X = as.matrix(sData)\n",
        "print(X)"
      ],
      "metadata": {
        "id": "dAXuUv34PrGH"
      },
      "execution_count": null,
      "outputs": []
    },
    {
      "cell_type": "code",
      "source": [
        "# Scalar projection of x^2 onto a direction v\n",
        "v = c(10, 10)\n",
        "shadowLength = (X[2,] %*% v)/(norm(v, type = '2'))\n",
        "shadowLength = as.numeric(shadowLength)\n",
        "print(shadowLength)\n",
        "# Vector projection of x^2 onto v\n",
        "unitVector = v / (norm(v, type = '2'))\n",
        "X2Projected = shadowLength * unitVector\n",
        "print(X2Projected)"
      ],
      "metadata": {
        "id": "k9nipHKEPsNp"
      },
      "execution_count": null,
      "outputs": []
    },
    {
      "cell_type": "code",
      "source": [
        "p2 = sData %>% ggplot() + \n",
        "  geom_segment(aes(x = 0, y = 0, xend = X1[1], yend = X2[1]), size = 1,\n",
        "   arrow = arrow(length = unit(0.5,\"cm\")), color = 'red') +\n",
        "  geom_segment(aes(x = 0, y = 0, xend = X1[2], yend = X2[2]), size = 1,\n",
        "   arrow = arrow(length = unit(0.5,\"cm\")), color = 'blue') +\n",
        "  geom_segment(aes(x = 0, y = 0, xend = v[1], yend = v[2]), size = 1,\n",
        "   arrow = arrow(length = unit(0.5,\"cm\")), color = 'green') +\n",
        "  geom_segment(aes(x = 0, y = 0, xend = X2Projected[1], yend = X2Projected[2]), size = 1,\n",
        "   arrow = arrow(length = unit(0.5,\"cm\")), color = 'black', linetype = 'dashed') +   \n",
        "  geom_text(aes(x = X1[1], y = X1[2]), label = 'x^1', hjust = -0.5, vjust = 0, size = 10) +\n",
        "  geom_text(aes(x = X2[1], y= X2[2]), label = 'x^2', hjust = -0.5, vjust = 0.5, size = 10) +\n",
        "  labs( x = '', y = '', title = 'Vectors') +\n",
        "  geom_vline(xintercept = 0, linetype = 'dashed') + \n",
        "  geom_hline(yintercept = 0, linetype = 'dashed') +\n",
        "  theme(axis.text.x = element_text(size = 20),\n",
        "   axis.text.y= element_text(size = 20),\n",
        "   axis.line = element_line(colour = \"darkblue\", size = 1, linetype = \"solid\")) +\n",
        "   scale_x_continuous(expand = c(0, 0), limits = c(-11, 11)) +\n",
        "   scale_y_continuous(expand = c(0, 0), limits = c(-11, 11))\n",
        "p2"
      ],
      "metadata": {
        "id": "IEwcwYcnP_D9"
      },
      "execution_count": null,
      "outputs": []
    },
    {
      "cell_type": "markdown",
      "source": [
        "**A simulated data matrix**"
      ],
      "metadata": {
        "id": "BM6_rl6vCt27"
      }
    },
    {
      "cell_type": "code",
      "metadata": {
        "id": "12zQX1Q5JtDk"
      },
      "source": [
        "nsamples = 1000\n",
        "sim_frame = data.frame(months = 1:nsamples,\n",
        "                     fixed_costs = 3995,\n",
        "                     meals_sold = NA,\n",
        "                     price_per_meal = NA,\n",
        "                     profit_per_meal = NA,\n",
        "                     labor_costs = NA,\n",
        "                     profit = NA)\n",
        "head(sim_frame)"
      ],
      "execution_count": null,
      "outputs": []
    },
    {
      "cell_type": "code",
      "metadata": {
        "id": "mOkNocogJ1gx"
      },
      "source": [
        "set.seed(123)\n",
        "sim_frame = sim_frame %>% \n",
        "  mutate(meals_sold = rnorm(n = nsamples, mean = 3000, sd = 100),\n",
        "         price_per_meal = sample(x = c(20, 18.50, 16.50, 15),\n",
        "                                 size = nsamples,\n",
        "                                 replace = T,\n",
        "                                 prob = c(.25, .35, .3, .1)),\n",
        "         profit_per_meal = price_per_meal - 11,\n",
        "         labor_costs = runif(n = nsamples, min = 5000, max = 7000) + 0.3*meals_sold,\n",
        "         profit = meals_sold * profit_per_meal - labor_costs - fixed_costs)\n",
        "\n",
        "head(sim_frame)"
      ],
      "execution_count": null,
      "outputs": []
    },
    {
      "cell_type": "code",
      "source": [
        "str(sim_frame)"
      ],
      "metadata": {
        "id": "tJJtvObGdnFK"
      },
      "execution_count": null,
      "outputs": []
    },
    {
      "cell_type": "code",
      "metadata": {
        "id": "ClvfDDEa_DD6"
      },
      "source": [
        "qplot(sim_frame$meals_sold, sim_frame$labor_costs)"
      ],
      "execution_count": null,
      "outputs": []
    },
    {
      "cell_type": "code",
      "metadata": {
        "id": "sFrC5vagK43t"
      },
      "source": [
        "cor(sim_frame$meals_sold, sim_frame$labor_costs, method = 'pearson')"
      ],
      "execution_count": null,
      "outputs": []
    },
    {
      "cell_type": "code",
      "metadata": {
        "id": "sl2y0mQx_b5j"
      },
      "source": [
        "cor(sim_frame$meals_sold, sim_frame$labor_costs, method = 'spearman')"
      ],
      "execution_count": null,
      "outputs": []
    },
    {
      "cell_type": "code",
      "metadata": {
        "id": "hkxdoL6cEqp_"
      },
      "source": [
        "simData = sim_frame %>% select(meals_sold, labor_costs)\n",
        "head(simData, n = 5)"
      ],
      "execution_count": null,
      "outputs": []
    },
    {
      "cell_type": "code",
      "metadata": {
        "id": "wINYDPJvFFl0"
      },
      "source": [
        "cov(simData)"
      ],
      "execution_count": null,
      "outputs": []
    },
    {
      "cell_type": "code",
      "metadata": {
        "id": "d05Rw_77FOZe"
      },
      "source": [
        "S12 = (1/(nsamples-1)) * (simData$meals_sold - mean(simData$meals_sold)) %*% (simData$labor_costs - mean(simData$labor_costs))\n",
        "as.numeric(S12)"
      ],
      "execution_count": null,
      "outputs": []
    },
    {
      "cell_type": "code",
      "metadata": {
        "id": "jZJQVqB5GTuX"
      },
      "source": [
        "X = as.matrix(simData)\n",
        "str(X)"
      ],
      "execution_count": null,
      "outputs": []
    },
    {
      "cell_type": "code",
      "metadata": {
        "id": "CAzX89EGMTyN"
      },
      "source": [
        "S = matrix(0, nrow = 2, ncol = 2)\n",
        "mu = colMeans(X)\n",
        "for (i in seq(1, nsamples)){\n",
        "  S = S + (X[i,] - mu) %*% t(X[i,] - mu) \n",
        "}\n",
        "S = (1/(nsamples-1)) * S"
      ],
      "execution_count": null,
      "outputs": []
    },
    {
      "cell_type": "code",
      "metadata": {
        "id": "8A6uHBS-b9hq"
      },
      "source": [
        "S"
      ],
      "execution_count": null,
      "outputs": []
    },
    {
      "cell_type": "code",
      "metadata": {
        "id": "pb2f-AhfcW6U"
      },
      "source": [
        "cor(simData)"
      ],
      "execution_count": null,
      "outputs": []
    },
    {
      "cell_type": "code",
      "metadata": {
        "id": "LMUWqOoAPoA2"
      },
      "source": [
        "# Calculate eigenvalues & eigenvectors of sample covariance matrix\n",
        "eX = eigen(S)\n",
        "str(eX)"
      ],
      "execution_count": null,
      "outputs": []
    },
    {
      "cell_type": "code",
      "metadata": {
        "id": "dzRC7a2mP_e7"
      },
      "source": [
        "lambda = eX$values \n",
        "print(lambda)"
      ],
      "execution_count": null,
      "outputs": []
    },
    {
      "cell_type": "code",
      "metadata": {
        "id": "3T6_GHvmPyHT"
      },
      "source": [
        "u = eX$vectors\n",
        "print(u)"
      ],
      "execution_count": null,
      "outputs": []
    },
    {
      "cell_type": "code",
      "metadata": {
        "id": "QBBHCS29T25-"
      },
      "source": [
        "norm(u[,1], type = '2')\n",
        "norm(u[,2], type = '2')"
      ],
      "execution_count": null,
      "outputs": []
    },
    {
      "cell_type": "code",
      "source": [
        "u[, 1] %*% u[, 2]"
      ],
      "metadata": {
        "id": "hhFcLnWciBj_"
      },
      "execution_count": null,
      "outputs": []
    },
    {
      "cell_type": "code",
      "metadata": {
        "id": "QnYtj2E6RahJ"
      },
      "source": [
        "p4 = simDataScaled %>% ggplot(aes(x = meals_sold, y = labor_costs)) +\n",
        "  geom_point(size = 1) +\n",
        "  geom_segment(aes(x = 0, y = 0, xend = u[1, 1], yend = u[2, 1]), size = 1,\n",
        "   arrow = arrow(length = unit(0.5,\"cm\")), color = 'red') +\n",
        "  geom_segment(aes(x = 0, y = 0, xend = u[1, 2], yend = u[2, 2]), size = 1,\n",
        "   arrow = arrow(length = unit(0.5,\"cm\")), color = 'blue') \n",
        "p4"
      ],
      "execution_count": null,
      "outputs": []
    },
    {
      "cell_type": "code",
      "source": [
        "cov(S)\n",
        "(1/nsamples-1)*t(X) %*% () %*% X"
      ],
      "metadata": {
        "id": "B90gpRJxi2V-"
      },
      "execution_count": null,
      "outputs": []
    },
    {
      "cell_type": "code",
      "metadata": {
        "id": "TE3raq3HgjAl"
      },
      "source": [
        "eX$vectors = -eX$vectors\n",
        "u = eX$vectors\n",
        "print(u)"
      ],
      "execution_count": null,
      "outputs": []
    },
    {
      "cell_type": "code",
      "metadata": {
        "id": "KOLPRCIegpmH"
      },
      "source": [
        "norm(u[,1], type = '2')\n",
        "norm(u[,2], type = '2')"
      ],
      "execution_count": null,
      "outputs": []
    },
    {
      "cell_type": "code",
      "metadata": {
        "id": "qj6KfITqQjnO"
      },
      "source": [
        "u[, 1] %*% u[, 2] "
      ],
      "execution_count": null,
      "outputs": []
    },
    {
      "cell_type": "code",
      "metadata": {
        "id": "4aQxYcM-QVIb"
      },
      "source": [
        "p5 = simDataScaled %>% ggplot(aes(x = meals_sold, y = labor_costs)) +\n",
        "  geom_point(size = 1) +\n",
        "  geom_segment(aes(x = 0, y = 0, xend = u[1, 1], yend = u[2, 1]), size = 1,\n",
        "   arrow = arrow(length = unit(0.5,\"cm\")), color = 'red') +\n",
        "  geom_segment(aes(x = 0, y = 0, xend = u[1, 2], yend = u[2, 2]), size = 1,\n",
        "   arrow = arrow(length = unit(0.5,\"cm\")), color = 'blue') \n",
        "p5"
      ],
      "execution_count": null,
      "outputs": []
    },
    {
      "cell_type": "code",
      "metadata": {
        "id": "2tcmM2F8yw9-"
      },
      "source": [
        "X[1:5,]"
      ],
      "execution_count": null,
      "outputs": []
    },
    {
      "cell_type": "code",
      "metadata": {
        "id": "3rkT7ZASfIVf"
      },
      "source": [
        "# Project samples onto the direction of the first eigenvector\n",
        "shadowLength1 = X %*% u[,1]\n",
        "shadowLength1 = as.numeric(shadowLength1)\n",
        "# Vector projection\n",
        "unitVector = u[,1]\n",
        "projectedSamples1 = u[,1] %*% t(as.matrix(shadowLength1))"
      ],
      "execution_count": null,
      "outputs": []
    },
    {
      "cell_type": "code",
      "metadata": {
        "id": "tjlDIkimOAHC"
      },
      "source": [
        "# Project samples onto the direction of the second eigenvector\n",
        "shadowLength2 = X %*% u[,2]\n",
        "shadowLength2 = as.numeric(shadowLength2)\n",
        "# Vector projection\n",
        "unitVector = u[,2]\n",
        "projectedSamples2 = u[,2] %*% t(as.matrix(shadowLength2))"
      ],
      "execution_count": null,
      "outputs": []
    },
    {
      "cell_type": "code",
      "metadata": {
        "id": "U1NSdnOoBcxd"
      },
      "source": [
        "str(shadowLength1)"
      ],
      "execution_count": null,
      "outputs": []
    },
    {
      "cell_type": "code",
      "metadata": {
        "id": "Qn_IYEITOjUE"
      },
      "source": [
        "str(projectedSamples1)"
      ],
      "execution_count": null,
      "outputs": []
    },
    {
      "cell_type": "code",
      "metadata": {
        "id": "E0WHycPxBxdo"
      },
      "source": [
        "projectedSamples1"
      ],
      "execution_count": null,
      "outputs": []
    },
    {
      "cell_type": "code",
      "metadata": {
        "id": "ITh_ucoEOfMB"
      },
      "source": [
        "projectedSamples2"
      ],
      "execution_count": null,
      "outputs": []
    },
    {
      "cell_type": "code",
      "metadata": {
        "id": "--CwX2ZgPaZk"
      },
      "source": [
        "p6 = simDataScaled %>% ggplot(aes(x = meals_sold, y = labor_costs)) +\n",
        "  geom_point(size = 1) +\n",
        "  geom_segment(aes(x = 0, y = 0, xend = u[1, 1], yend = u[2, 1]), size = 2,\n",
        "   arrow = arrow(length = unit(0.5,\"cm\")), color = 'red') +\n",
        "  geom_segment(aes(x = 0, y = 0, xend = u[1, 2], yend = u[2, 2]), size = 2,\n",
        "   arrow = arrow(length = unit(0.5,\"cm\")), color = 'blue') +\n",
        "  geom_point(aes(x = projectedSamples1[1, ], y = projectedSamples1[2, ]), color = 'magenta', size = 1) +\n",
        "  geom_point(aes(x = projectedSamples2[1, ], y = projectedSamples2[2, ]), color = 'brown', size = 1)\n",
        "p6"
      ],
      "execution_count": null,
      "outputs": []
    },
    {
      "cell_type": "code",
      "metadata": {
        "id": "OiEZpNCbx6Hc"
      },
      "source": [
        "var(X %*% u[,1])\n",
        "lambda[1]"
      ],
      "execution_count": null,
      "outputs": []
    },
    {
      "cell_type": "code",
      "metadata": {
        "id": "OSyTCOH80CE6"
      },
      "source": [
        "var(X %*% u[,2])\n",
        "lambda[2]"
      ],
      "execution_count": null,
      "outputs": []
    },
    {
      "cell_type": "code",
      "metadata": {
        "id": "ng38e7sZN9sA"
      },
      "source": [
        "cor(X %*% u[,1], X %*% u[,2])"
      ],
      "execution_count": null,
      "outputs": []
    },
    {
      "cell_type": "code",
      "metadata": {
        "id": "lfnEbP9KQ-2g"
      },
      "source": [
        "eX$vectors"
      ],
      "execution_count": null,
      "outputs": []
    },
    {
      "cell_type": "code",
      "metadata": {
        "id": "_vekWJBgQ5wA"
      },
      "source": [
        "u[, 1]"
      ],
      "execution_count": null,
      "outputs": []
    },
    {
      "cell_type": "code",
      "metadata": {
        "id": "QYOz5oI4SXMc"
      },
      "source": [
        "X[1:2,]"
      ],
      "execution_count": null,
      "outputs": []
    },
    {
      "cell_type": "code",
      "metadata": {
        "id": "qDasLrL51TgH"
      },
      "source": [
        "# First eigenvector\n",
        "as.matrix(u[, 1])\n",
        "# First sample\n",
        "as.matrix(X[1, ])\n",
        "# Shadow length of the projection of the first sample onto the direction of the first eigenvector\n",
        "X[1, ] %*% u[, 1]"
      ],
      "execution_count": null,
      "outputs": []
    }
  ]
}