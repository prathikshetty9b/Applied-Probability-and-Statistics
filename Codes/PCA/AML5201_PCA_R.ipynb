{
  "cells": [
    {
      "cell_type": "markdown",
      "metadata": {
        "id": "cBwU1D1ib2o6"
      },
      "source": [
        "**Load essential libraries**"
      ]
    },
    {
      "cell_type": "code",
      "execution_count": 3,
      "metadata": {
        "id": "4DhQTLweb138",
        "vscode": {
          "languageId": "r"
        }
      },
      "outputs": [
        {
          "name": "stderr",
          "output_type": "stream",
          "text": [
            "\n",
            "Attaching package: 'dplyr'\n",
            "\n",
            "\n",
            "The following objects are masked from 'package:stats':\n",
            "\n",
            "    filter, lag\n",
            "\n",
            "\n",
            "The following objects are masked from 'package:base':\n",
            "\n",
            "    intersect, setdiff, setequal, union\n",
            "\n",
            "\n"
          ]
        }
      ],
      "source": [
        "library(ggplot2) # library for plotting\n",
        "library(dplyr) # library for data wrangling"
      ]
    },
    {
      "cell_type": "code",
      "execution_count": 4,
      "metadata": {
        "id": "6IROuoYjM7pq",
        "vscode": {
          "languageId": "r"
        }
      },
      "outputs": [
        {
          "name": "stdout",
          "output_type": "stream",
          "text": [
            "'data.frame':\t50 obs. of  5 variables:\n",
            " $ Oil     : num  16.5 17.7 16.2 16.7 16.3 19.1 18.4 17.5 15.7 16.4 ...\n",
            " $ Density : int  2955 2660 2870 2920 2975 2790 2750 2770 2955 2945 ...\n",
            " $ Crispy  : int  10 14 12 10 11 13 13 10 11 11 ...\n",
            " $ Fracture: int  23 9 17 31 26 16 17 26 23 24 ...\n",
            " $ Hardness: int  97 139 143 95 143 189 114 63 123 132 ...\n"
          ]
        }
      ],
      "source": [
        "## Load data - refer to http://openmv.net/info/food-texture for data description \n",
        "file = 'http://openmv.net/file/food-texture.csv'\n",
        "foodData = read.csv(file, header = TRUE, row.names = 1)\n",
        "## Print structure of data frame\n",
        "str(foodData)"
      ]
    },
    {
      "cell_type": "code",
      "execution_count": 5,
      "metadata": {
        "id": "Osm3V-ix4CvU",
        "vscode": {
          "languageId": "r"
        }
      },
      "outputs": [
        {
          "data": {
            "text/html": [
              "<table class=\"dataframe\">\n",
              "<caption>A data.frame: 5 × 5</caption>\n",
              "<thead>\n",
              "\t<tr><th></th><th scope=col>Oil</th><th scope=col>Density</th><th scope=col>Crispy</th><th scope=col>Fracture</th><th scope=col>Hardness</th></tr>\n",
              "\t<tr><th></th><th scope=col>&lt;dbl&gt;</th><th scope=col>&lt;int&gt;</th><th scope=col>&lt;int&gt;</th><th scope=col>&lt;int&gt;</th><th scope=col>&lt;int&gt;</th></tr>\n",
              "</thead>\n",
              "<tbody>\n",
              "\t<tr><th scope=row>B110</th><td>16.5</td><td>2955</td><td>10</td><td>23</td><td> 97</td></tr>\n",
              "\t<tr><th scope=row>B136</th><td>17.7</td><td>2660</td><td>14</td><td> 9</td><td>139</td></tr>\n",
              "\t<tr><th scope=row>B171</th><td>16.2</td><td>2870</td><td>12</td><td>17</td><td>143</td></tr>\n",
              "\t<tr><th scope=row>B192</th><td>16.7</td><td>2920</td><td>10</td><td>31</td><td> 95</td></tr>\n",
              "\t<tr><th scope=row>B225</th><td>16.3</td><td>2975</td><td>11</td><td>26</td><td>143</td></tr>\n",
              "</tbody>\n",
              "</table>\n"
            ],
            "text/latex": [
              "A data.frame: 5 × 5\n",
              "\\begin{tabular}{r|lllll}\n",
              "  & Oil & Density & Crispy & Fracture & Hardness\\\\\n",
              "  & <dbl> & <int> & <int> & <int> & <int>\\\\\n",
              "\\hline\n",
              "\tB110 & 16.5 & 2955 & 10 & 23 &  97\\\\\n",
              "\tB136 & 17.7 & 2660 & 14 &  9 & 139\\\\\n",
              "\tB171 & 16.2 & 2870 & 12 & 17 & 143\\\\\n",
              "\tB192 & 16.7 & 2920 & 10 & 31 &  95\\\\\n",
              "\tB225 & 16.3 & 2975 & 11 & 26 & 143\\\\\n",
              "\\end{tabular}\n"
            ],
            "text/markdown": [
              "\n",
              "A data.frame: 5 × 5\n",
              "\n",
              "| <!--/--> | Oil &lt;dbl&gt; | Density &lt;int&gt; | Crispy &lt;int&gt; | Fracture &lt;int&gt; | Hardness &lt;int&gt; |\n",
              "|---|---|---|---|---|---|\n",
              "| B110 | 16.5 | 2955 | 10 | 23 |  97 |\n",
              "| B136 | 17.7 | 2660 | 14 |  9 | 139 |\n",
              "| B171 | 16.2 | 2870 | 12 | 17 | 143 |\n",
              "| B192 | 16.7 | 2920 | 10 | 31 |  95 |\n",
              "| B225 | 16.3 | 2975 | 11 | 26 | 143 |\n",
              "\n"
            ],
            "text/plain": [
              "     Oil  Density Crispy Fracture Hardness\n",
              "B110 16.5 2955    10     23        97     \n",
              "B136 17.7 2660    14      9       139     \n",
              "B171 16.2 2870    12     17       143     \n",
              "B192 16.7 2920    10     31        95     \n",
              "B225 16.3 2975    11     26       143     "
            ]
          },
          "metadata": {},
          "output_type": "display_data"
        }
      ],
      "source": [
        "## Print first 5 samples of data frame\n",
        "head(foodData, n = 5)"
      ]
    },
    {
      "cell_type": "code",
      "execution_count": 6,
      "metadata": {
        "id": "jglloopNLWCZ",
        "vscode": {
          "languageId": "r"
        }
      },
      "outputs": [],
      "source": [
        "## Modify data frame\n",
        "# Modify crispy column to reflect high (0) and low (1) crispness\n",
        "foodData = foodData %>% mutate(Crispy = ifelse(Crispy > 11, 'high', 'low'))\n",
        "\n",
        "# Change Crispy column to factor type\n",
        "foodData['Crispy'] = lapply(foodData['Crispy'], factor)"
      ]
    },
    {
      "cell_type": "code",
      "execution_count": 7,
      "metadata": {
        "id": "CdwwmrQ3PydO",
        "vscode": {
          "languageId": "r"
        }
      },
      "outputs": [
        {
          "name": "stdout",
          "output_type": "stream",
          "text": [
            "'data.frame':\t50 obs. of  5 variables:\n",
            " $ Oil     : num  16.5 17.7 16.2 16.7 16.3 19.1 18.4 17.5 15.7 16.4 ...\n",
            " $ Density : int  2955 2660 2870 2920 2975 2790 2750 2770 2955 2945 ...\n",
            " $ Crispy  : Factor w/ 2 levels \"high\",\"low\": 2 1 1 2 2 1 1 2 2 2 ...\n",
            " $ Fracture: int  23 9 17 31 26 16 17 26 23 24 ...\n",
            " $ Hardness: int  97 139 143 95 143 189 114 63 123 132 ...\n"
          ]
        }
      ],
      "source": [
        "## Print structure of modified data frame\n",
        "str(foodData)"
      ]
    },
    {
      "cell_type": "code",
      "execution_count": 8,
      "metadata": {
        "id": "KQkF_NmGN2gS",
        "vscode": {
          "languageId": "r"
        }
      },
      "outputs": [
        {
          "data": {
            "text/html": [
              "<table class=\"dataframe\">\n",
              "<caption>A data.frame: 5 × 5</caption>\n",
              "<thead>\n",
              "\t<tr><th></th><th scope=col>Oil</th><th scope=col>Density</th><th scope=col>Crispy</th><th scope=col>Fracture</th><th scope=col>Hardness</th></tr>\n",
              "\t<tr><th></th><th scope=col>&lt;dbl&gt;</th><th scope=col>&lt;int&gt;</th><th scope=col>&lt;fct&gt;</th><th scope=col>&lt;int&gt;</th><th scope=col>&lt;int&gt;</th></tr>\n",
              "</thead>\n",
              "<tbody>\n",
              "\t<tr><th scope=row>B110</th><td>16.5</td><td>2955</td><td>low </td><td>23</td><td> 97</td></tr>\n",
              "\t<tr><th scope=row>B136</th><td>17.7</td><td>2660</td><td>high</td><td> 9</td><td>139</td></tr>\n",
              "\t<tr><th scope=row>B171</th><td>16.2</td><td>2870</td><td>high</td><td>17</td><td>143</td></tr>\n",
              "\t<tr><th scope=row>B192</th><td>16.7</td><td>2920</td><td>low </td><td>31</td><td> 95</td></tr>\n",
              "\t<tr><th scope=row>B225</th><td>16.3</td><td>2975</td><td>low </td><td>26</td><td>143</td></tr>\n",
              "</tbody>\n",
              "</table>\n"
            ],
            "text/latex": [
              "A data.frame: 5 × 5\n",
              "\\begin{tabular}{r|lllll}\n",
              "  & Oil & Density & Crispy & Fracture & Hardness\\\\\n",
              "  & <dbl> & <int> & <fct> & <int> & <int>\\\\\n",
              "\\hline\n",
              "\tB110 & 16.5 & 2955 & low  & 23 &  97\\\\\n",
              "\tB136 & 17.7 & 2660 & high &  9 & 139\\\\\n",
              "\tB171 & 16.2 & 2870 & high & 17 & 143\\\\\n",
              "\tB192 & 16.7 & 2920 & low  & 31 &  95\\\\\n",
              "\tB225 & 16.3 & 2975 & low  & 26 & 143\\\\\n",
              "\\end{tabular}\n"
            ],
            "text/markdown": [
              "\n",
              "A data.frame: 5 × 5\n",
              "\n",
              "| <!--/--> | Oil &lt;dbl&gt; | Density &lt;int&gt; | Crispy &lt;fct&gt; | Fracture &lt;int&gt; | Hardness &lt;int&gt; |\n",
              "|---|---|---|---|---|---|\n",
              "| B110 | 16.5 | 2955 | low  | 23 |  97 |\n",
              "| B136 | 17.7 | 2660 | high |  9 | 139 |\n",
              "| B171 | 16.2 | 2870 | high | 17 | 143 |\n",
              "| B192 | 16.7 | 2920 | low  | 31 |  95 |\n",
              "| B225 | 16.3 | 2975 | low  | 26 | 143 |\n",
              "\n"
            ],
            "text/plain": [
              "     Oil  Density Crispy Fracture Hardness\n",
              "B110 16.5 2955    low    23        97     \n",
              "B136 17.7 2660    high    9       139     \n",
              "B171 16.2 2870    high   17       143     \n",
              "B192 16.7 2920    low    31        95     \n",
              "B225 16.3 2975    low    26       143     "
            ]
          },
          "metadata": {},
          "output_type": "display_data"
        }
      ],
      "source": [
        "## Print first 5 samples of modified data frame\n",
        "head(foodData, n = 5)"
      ]
    },
    {
      "cell_type": "code",
      "execution_count": 9,
      "metadata": {
        "id": "ClvfDDEa_DD6",
        "vscode": {
          "languageId": "r"
        }
      },
      "outputs": [
        {
          "data": {
            "image/png": "[encoded data removed]",
            "text/plain": [
              "plot without title"
            ]
          },
          "metadata": {
            "image/png": {
              "height": 420,
              "width": 420
            }
          },
          "output_type": "display_data"
        }
      ],
      "source": [
        "## Scatter plot between Density (x-axis) and Hardness (y-axis)\n",
        "p1 = ggplot(data = foodData, aes(x = Density, y = Hardness)) +\n",
        "  geom_point(size = 1) \n",
        "p1"
      ]
    },
    {
      "cell_type": "code",
      "execution_count": 10,
      "metadata": {
        "id": "8uBvDdJpOEMm",
        "vscode": {
          "languageId": "r"
        }
      },
      "outputs": [
        {
          "data": {
            "image/png": "[encoded data removed]",
            "text/plain": [
              "plot without title"
            ]
          },
          "metadata": {
            "image/png": {
              "height": 420,
              "width": 420
            }
          },
          "output_type": "display_data"
        }
      ],
      "source": [
        "## Scatter plot between Density (x-axis) and Hardness (y-axis) color coded using Crispy\n",
        "p2 = ggplot(data = foodData, aes(x = Density, y = Hardness, color = factor(Crispy))) +\n",
        "  geom_point(size = 1) \n",
        "p2"
      ]
    },
    {
      "cell_type": "code",
      "execution_count": 11,
      "metadata": {
        "id": "sFrC5vagK43t",
        "vscode": {
          "languageId": "r"
        }
      },
      "outputs": [
        {
          "data": {
            "text/html": [
              "0.107937196412299"
            ],
            "text/latex": [
              "0.107937196412299"
            ],
            "text/markdown": [
              "0.107937196412299"
            ],
            "text/plain": [
              "[1] 0.1079372"
            ]
          },
          "metadata": {},
          "output_type": "display_data"
        }
      ],
      "source": [
        "## Print correlation between Density and Hardness\n",
        "cor(foodData$Density, foodData$Hardness, method = 'pearson')"
      ]
    },
    {
      "cell_type": "code",
      "execution_count": 12,
      "metadata": {
        "id": "rLOGgEaBy5Bv",
        "vscode": {
          "languageId": "r"
        }
      },
      "outputs": [
        {
          "name": "stdout",
          "output_type": "stream",
          "text": [
            "                 Oil    Density   Fracture    Hardness\n",
            "Oil       1.00000000 -0.7500240 -0.5337392 -0.09604521\n",
            "Density  -0.75002399  1.0000000  0.5721324  0.10793720\n",
            "Fracture -0.53373917  0.5721324  1.0000000 -0.37335844\n",
            "Hardness -0.09604521  0.1079372 -0.3733584  1.00000000\n"
          ]
        }
      ],
      "source": [
        "# Correlation between the continuous features \n",
        "print(cor(foodData %>% select(-c('Crispy'))))"
      ]
    },
    {
      "cell_type": "code",
      "execution_count": 13,
      "metadata": {
        "id": "vo9VRxfP8_dJ",
        "vscode": {
          "languageId": "r"
        }
      },
      "outputs": [],
      "source": [
        "## Select data frame consisiting of two features: Density, Hardness, & Crispy\n",
        "foodData3 = foodData %>% select(c('Density', 'Hardness', 'Crispy'))"
      ]
    },
    {
      "cell_type": "code",
      "execution_count": 14,
      "metadata": {
        "id": "MMpYBHqWyhAS",
        "vscode": {
          "languageId": "r"
        }
      },
      "outputs": [
        {
          "data": {
            "text/html": [
              "<table class=\"dataframe\">\n",
              "<caption>A data.frame: 5 × 3</caption>\n",
              "<thead>\n",
              "\t<tr><th></th><th scope=col>Density</th><th scope=col>Hardness</th><th scope=col>Crispy</th></tr>\n",
              "\t<tr><th></th><th scope=col>&lt;int&gt;</th><th scope=col>&lt;int&gt;</th><th scope=col>&lt;fct&gt;</th></tr>\n",
              "</thead>\n",
              "<tbody>\n",
              "\t<tr><th scope=row>B110</th><td>2955</td><td> 97</td><td>low </td></tr>\n",
              "\t<tr><th scope=row>B136</th><td>2660</td><td>139</td><td>high</td></tr>\n",
              "\t<tr><th scope=row>B171</th><td>2870</td><td>143</td><td>high</td></tr>\n",
              "\t<tr><th scope=row>B192</th><td>2920</td><td> 95</td><td>low </td></tr>\n",
              "\t<tr><th scope=row>B225</th><td>2975</td><td>143</td><td>low </td></tr>\n",
              "</tbody>\n",
              "</table>\n"
            ],
            "text/latex": [
              "A data.frame: 5 × 3\n",
              "\\begin{tabular}{r|lll}\n",
              "  & Density & Hardness & Crispy\\\\\n",
              "  & <int> & <int> & <fct>\\\\\n",
              "\\hline\n",
              "\tB110 & 2955 &  97 & low \\\\\n",
              "\tB136 & 2660 & 139 & high\\\\\n",
              "\tB171 & 2870 & 143 & high\\\\\n",
              "\tB192 & 2920 &  95 & low \\\\\n",
              "\tB225 & 2975 & 143 & low \\\\\n",
              "\\end{tabular}\n"
            ],
            "text/markdown": [
              "\n",
              "A data.frame: 5 × 3\n",
              "\n",
              "| <!--/--> | Density &lt;int&gt; | Hardness &lt;int&gt; | Crispy &lt;fct&gt; |\n",
              "|---|---|---|---|\n",
              "| B110 | 2955 |  97 | low  |\n",
              "| B136 | 2660 | 139 | high |\n",
              "| B171 | 2870 | 143 | high |\n",
              "| B192 | 2920 |  95 | low  |\n",
              "| B225 | 2975 | 143 | low  |\n",
              "\n"
            ],
            "text/plain": [
              "     Density Hardness Crispy\n",
              "B110 2955     97      low   \n",
              "B136 2660    139      high  \n",
              "B171 2870    143      high  \n",
              "B192 2920     95      low   \n",
              "B225 2975    143      low   "
            ]
          },
          "metadata": {},
          "output_type": "display_data"
        }
      ],
      "source": [
        "head(foodData3, n = 5)"
      ]
    },
    {
      "cell_type": "code",
      "execution_count": 15,
      "metadata": {
        "id": "hrzomDCd9Sqi",
        "vscode": {
          "languageId": "r"
        }
      },
      "outputs": [],
      "source": [
        "# Mean center the data matrix\n",
        "X = as.matrix(foodData3 %>% select(-c('Crispy')))\n",
        "X_m = X - rep(1, nrow(X)) %*% t(colMeans(X))"
      ]
    },
    {
      "cell_type": "code",
      "execution_count": 16,
      "metadata": {
        "id": "pdtrBscd99T9",
        "vscode": {
          "languageId": "r"
        }
      },
      "outputs": [
        {
          "name": "stdout",
          "output_type": "stream",
          "text": [
            "           Density Hardness\n",
            "Density  15500.245 418.2980\n",
            "Hardness   418.298 968.9261\n",
            "           Density Hardness\n",
            "Density  15500.245 418.2980\n",
            "Hardness   418.298 968.9261\n"
          ]
        }
      ],
      "source": [
        "# Calculate the sample covariance matrix\n",
        "S = (1/(nrow(X_m)-1))*t(X_m) %*% X\n",
        "print(S)\n",
        "S = cov(foodData3 %>% select(-c('Crispy')))\n",
        "print(S)"
      ]
    },
    {
      "cell_type": "code",
      "execution_count": 17,
      "metadata": {
        "id": "rKd7_wrS-5J4",
        "vscode": {
          "languageId": "r"
        }
      },
      "outputs": [
        {
          "name": "stdout",
          "output_type": "stream",
          "text": [
            "            [,1]        [,2]\n",
            "[1,] -0.99958663  0.02875026\n",
            "[2,] -0.02875026 -0.99958663\n",
            "[1] 15512.276   956.895\n"
          ]
        }
      ],
      "source": [
        "# Calculate eigenvalues & eigenvectors of sample covariance matrix\n",
        "e = eigen(S)\n",
        "V = e$vectors\n",
        "lambda = e$values \n",
        "print(V)\n",
        "print(lambda)"
      ]
    },
    {
      "cell_type": "code",
      "execution_count": 18,
      "metadata": {
        "vscode": {
          "languageId": "r"
        }
      },
      "outputs": [
        {
          "name": "stdout",
          "output_type": "stream",
          "text": [
            "[1] 0\n"
          ]
        }
      ],
      "source": [
        "# Dot product of first and second column\n",
        "dir1 = V[,1]\n",
        "dir2 = V[,2]\n",
        "dotProduct = as.numeric(V[,1] %*% V[,2])\n",
        "\n",
        "print(dotProduct)"
      ]
    },
    {
      "cell_type": "code",
      "execution_count": 20,
      "metadata": {
        "vscode": {
          "languageId": "r"
        }
      },
      "outputs": [
        {
          "name": "stdout",
          "output_type": "stream",
          "text": [
            "         [,1]\n",
            "[1,] 15512.28\n"
          ]
        }
      ],
      "source": [
        "# Project X onto the first direction\n",
        "projection1 = X %*% dir1\n",
        "print(cov(projection1))"
      ]
    },
    {
      "cell_type": "code",
      "execution_count": null,
      "metadata": {
        "vscode": {
          "languageId": "r"
        }
      },
      "outputs": [
        {
          "name": "stdout",
          "output_type": "stream",
          "text": [
            "          [,1]        [,2]\n",
            "B110 -2956.567  -12.002894\n",
            "B136 -2662.897  -62.466858\n",
            "B171 -2872.925  -60.427650\n",
            "B192 -2921.524  -11.009979\n",
            "B225 -2977.881  -57.408873\n",
            "B237 -2794.280 -108.708656\n",
            "B261 -2752.141  -34.889669\n",
            "B264 -2770.666   16.664254\n",
            "B353 -2957.315  -37.992146\n",
            "B360 -2947.578  -47.275928\n",
            "B366 -2832.309  -39.586755\n",
            "B377 -2838.773  -90.421922\n",
            "B391 -2863.705  -87.703992\n",
            "B397 -2968.633  -83.685628\n",
            "B404 -2930.658   19.265122\n",
            "B437 -2774.116 -103.286141\n",
            "B445 -2652.182  -37.764695\n",
            "B462 -2892.888  -58.853059\n",
            "B485 -2697.077  -33.472173\n",
            "B488 -2757.886  -60.735170\n",
            "B502 -3003.849  -90.676062\n",
            "B554 -2982.592  -47.269256\n",
            "B556 -2783.163  -70.012280\n",
            "B575 -2707.131  -35.183844\n",
            "B576 -2828.605  -84.711904\n",
            "B605 -2878.124  -67.281005\n",
            "B612 -2946.658  -15.289156\n",
            "B615 -2922.329  -38.998405\n",
            "B649 -2847.533  -47.152194\n",
            "B665 -2645.862    8.072539\n",
            "B674 -3081.774  -17.405391\n",
            "B692 -2827.599  -49.726372\n",
            "B694 -3126.353   -2.117417\n",
            "B719 -2782.905  -61.016000\n",
            "B727 -2904.321 -108.544887\n",
            "B758 -2571.956  -31.068436\n",
            "B776 -2636.815  -25.201322\n",
            "B799 -2728.042  -66.595611\n",
            "B836 -2866.691  -17.589177\n",
            "B848 -2976.789  -19.424582\n",
            "B861 -2982.908  -58.264709\n",
            "B869 -2872.350  -40.435918\n",
            "B876 -2922.703  -51.993031\n",
            "B882 -3102.744  -50.816331\n",
            "B889 -2912.247  -36.287148\n",
            "B907 -2867.266  -37.580909\n",
            "B911 -2998.506  -78.824774\n",
            "B923 -2927.183  -33.856721\n",
            "B971 -2702.219  -38.326355\n",
            "B998 -2845.980    6.825484\n"
          ]
        }
      ],
      "source": [
        "projection = X %*% V\n",
        "print(projection)"
      ]
    },
    {
      "cell_type": "code",
      "execution_count": null,
      "metadata": {
        "vscode": {
          "languageId": "r"
        }
      },
      "outputs": [
        {
          "data": {
            "text/html": [
              "<style>\n",
              ".list-inline {list-style: none; margin:0; padding: 0}\n",
              ".list-inline>li {display: inline-block}\n",
              ".list-inline>li:not(:last-child)::after {content: \"\\00b7\"; padding: 0 .5ex}\n",
              "</style>\n",
              "<ol class=list-inline><li>15512.2760450875</li><li>956.894975320706</li></ol>\n"
            ],
            "text/latex": [
              "\\begin{enumerate*}\n",
              "\\item 15512.2760450875\n",
              "\\item 956.894975320706\n",
              "\\end{enumerate*}\n"
            ],
            "text/markdown": [
              "1. 15512.2760450875\n",
              "2. 956.894975320706\n",
              "\n",
              "\n"
            ],
            "text/plain": [
              "[1] 15512.276   956.895"
            ]
          },
          "metadata": {},
          "output_type": "display_data"
        }
      ],
      "source": [
        "#Find Variance using apply function\n",
        "apply(projection,2,var)"
      ]
    },
    {
      "cell_type": "code",
      "execution_count": null,
      "metadata": {
        "id": "3rkT7ZASfIVf",
        "vscode": {
          "languageId": "r"
        }
      },
      "outputs": [],
      "source": [
        "## Project samples onto the direction of the first and second eigenvectors\n",
        "\n",
        "V = -V \n",
        "# Calculate shadow length of data\n",
        "shadowLength1 = X %*% V[, 1]\n",
        "shadowLength1 = as.numeric(shadowLength1)\n",
        "shadowLength2 = X %*% V[, 2]\n",
        "shadowLength2 = as.numeric(shadowLength2)\n",
        "\n",
        "# Vector projection\n",
        "projectedSamples1 = V[, 1] %*% t(as.matrix(shadowLength1))\n",
        "projectedSamples2 = V[, 2] %*% t(as.matrix(shadowLength2))"
      ]
    },
    {
      "cell_type": "code",
      "execution_count": null,
      "metadata": {
        "id": "--CwX2ZgPaZk",
        "vscode": {
          "languageId": "r"
        }
      },
      "outputs": [
        {
          "data": {
            "image/png": "[encoded data removed]",
            "text/plain": [
              "plot without title"
            ]
          },
          "metadata": {
            "image/png": {
              "height": 420,
              "width": 420
            }
          },
          "output_type": "display_data"
        }
      ],
      "source": [
        "## Scatter plot of Density and Hardness, color coded using Crispy and first\n",
        "## two eigenvectors with the projected data on to the first principal direction\n",
        "## also color coded using Crispy\n",
        "V = -V # this is a minor adjustment to flip the sign of the eigenvectors\n",
        "p3 = foodData3 %>% ggplot(aes(x = Density, y = Hardness, color = factor(Crispy))) +\n",
        "  geom_point(size = 1) +\n",
        "  geom_segment(aes(x = 0, y = 0, xend = 100*V[1, 1], yend = 100*V[2, 1]), size = 0.5,\n",
        "   arrow = arrow(length = unit(0.1,\"cm\")), color = 'red') +\n",
        "  geom_segment(aes(x = 0, y = 0, xend = 100*V[1, 2], yend = 100*V[2, 2]), size = 0.5,\n",
        "   arrow = arrow(length = unit(0.1,\"cm\")), color = 'blue') +\n",
        "  geom_point(aes(x = projectedSamples1[1, ], y = projectedSamples1[2, ], color = factor(Crispy)), shape = 4, size = 2.0) \n",
        "p3"
      ]
    },
    {
      "cell_type": "code",
      "execution_count": null,
      "metadata": {
        "id": "LZBnTQqBaLEu",
        "vscode": {
          "languageId": "r"
        }
      },
      "outputs": [
        {
          "data": {
            "image/png": "[encoded data removed]",
            "text/plain": [
              "plot without title"
            ]
          },
          "metadata": {
            "image/png": {
              "height": 420,
              "width": 420
            }
          },
          "output_type": "display_data"
        }
      ],
      "source": [
        "## Scatter plot of Density and Hardness, color coded using Crispy and first\n",
        "## two eigenvectors with the projected data on to the second principal direction\n",
        "## also color coded using Crispy\n",
        "p4 = foodData3 %>% ggplot(aes(x = Density, y = Hardness, color = factor(Crispy))) +\n",
        "  geom_point(size = 1) +\n",
        "  geom_segment(aes(x = 0, y = 0, xend = 100*V[1, 1], yend = 100*V[2, 1]), size = 0.5,\n",
        "   arrow = arrow(length = unit(0.1,\"cm\")), color = 'red') +\n",
        "  geom_segment(aes(x = 0, y = 0, xend = 100*V[1, 2], yend = 100*V[2, 2]), size = 0.5,\n",
        "   arrow = arrow(length = unit(0.1,\"cm\")), color = 'blue') +\n",
        "  geom_point(aes(x = projectedSamples2[1, ], y = projectedSamples2[2, ], color = factor(Crispy)), shape = 4, size = 2.0) \n",
        "p4"
      ]
    },
    {
      "cell_type": "code",
      "execution_count": 21,
      "metadata": {
        "vscode": {
          "languageId": "r"
        }
      },
      "outputs": [
        {
          "data": {
            "text/plain": [
              "Standard deviations (1, .., p=2):\n",
              "[1] 124.54829  30.93372\n",
              "\n",
              "Rotation (n x k) = (2 x 2):\n",
              "                 PC1         PC2\n",
              "Density  -0.99958663  0.02875026\n",
              "Hardness -0.02875026 -0.99958663"
            ]
          },
          "metadata": {},
          "output_type": "display_data"
        }
      ],
      "source": [
        "#Principle component analysis using R\n",
        "prcomp(X)"
      ]
    },
    {
      "cell_type": "code",
      "execution_count": 23,
      "metadata": {
        "vscode": {
          "languageId": "r"
        }
      },
      "outputs": [
        {
          "data": {
            "text/plain": [
              "Standard deviations (1, .., p=2):\n",
              "[1] 1.0525860 0.9444908\n",
              "\n",
              "Rotation (n x k) = (2 x 2):\n",
              "                PC1        PC2\n",
              "Density  -0.7071068  0.7071068\n",
              "Hardness -0.7071068 -0.7071068"
            ]
          },
          "metadata": {},
          "output_type": "display_data"
        }
      ],
      "source": [
        "prcomp(X, scale = TRUE)"
      ]
    },
    {
      "cell_type": "code",
      "execution_count": null,
      "metadata": {
        "vscode": {
          "languageId": "r"
        }
      },
      "outputs": [],
      "source": []
    }
  ],
  "metadata": {
    "colab": {
      "collapsed_sections": [],
      "name": "AML5201_PCA_R.ipynb",
      "provenance": []
    },
    "kernelspec": {
      "display_name": "R",
      "language": "R",
      "name": "ir"
    },
    "language_info": {
      "codemirror_mode": "r",
      "file_extension": ".r",
      "mimetype": "text/x-r-source",
      "name": "R",
      "pygments_lexer": "r",
      "version": "4.1.1"
    }
  },
  "nbformat": 4,
  "nbformat_minor": 0
}
