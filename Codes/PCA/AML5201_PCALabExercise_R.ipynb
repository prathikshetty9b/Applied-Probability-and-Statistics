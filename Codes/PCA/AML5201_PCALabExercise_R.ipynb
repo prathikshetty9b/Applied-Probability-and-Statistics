{
  "cells": [
    {
      "cell_type": "code",
      "execution_count": 1,
      "metadata": {
        "id": "nTmGOkPXZjUv",
        "vscode": {
          "languageId": "r"
        }
      },
      "outputs": [
        {
          "name": "stderr",
          "output_type": "stream",
          "text": [
            "\n",
            "Attaching package: 'dplyr'\n",
            "\n",
            "\n",
            "The following objects are masked from 'package:stats':\n",
            "\n",
            "    filter, lag\n",
            "\n",
            "\n",
            "The following objects are masked from 'package:base':\n",
            "\n",
            "    intersect, setdiff, setequal, union\n",
            "\n",
            "\n"
          ]
        }
      ],
      "source": [
        "library(ggplot2)\n",
        "library(dplyr)"
      ]
    },
    {
      "cell_type": "code",
      "execution_count": 101,
      "metadata": {
        "id": "BjtWsiK518rt",
        "vscode": {
          "languageId": "r"
        }
      },
      "outputs": [],
      "source": [
        "## Load data - refer to http://openmv.net/info/food-texture for data description \n",
        "file = 'http://openmv.net/file/food-texture.csv'\n",
        "foodData = read.csv(file, header = TRUE, row.names = 1)"
      ]
    },
    {
      "cell_type": "code",
      "execution_count": 3,
      "metadata": {
        "id": "yqt-fOL56_FS",
        "vscode": {
          "languageId": "r"
        }
      },
      "outputs": [
        {
          "name": "stdout",
          "output_type": "stream",
          "text": [
            "'data.frame':\t50 obs. of  5 variables:\n",
            " $ Oil     : num  16.5 17.7 16.2 16.7 16.3 19.1 18.4 17.5 15.7 16.4 ...\n",
            " $ Density : int  2955 2660 2870 2920 2975 2790 2750 2770 2955 2945 ...\n",
            " $ Crispy  : int  10 14 12 10 11 13 13 10 11 11 ...\n",
            " $ Fracture: int  23 9 17 31 26 16 17 26 23 24 ...\n",
            " $ Hardness: int  97 139 143 95 143 189 114 63 123 132 ...\n"
          ]
        }
      ],
      "source": [
        "## Print structure of data frame\n",
        "str(foodData)"
      ]
    },
    {
      "cell_type": "code",
      "execution_count": 4,
      "metadata": {
        "id": "Osm3V-ix4CvU",
        "vscode": {
          "languageId": "r"
        }
      },
      "outputs": [
        {
          "data": {
            "text/html": [
              "<table class=\"dataframe\">\n",
              "<caption>A data.frame: 5 × 5</caption>\n",
              "<thead>\n",
              "\t<tr><th></th><th scope=col>Oil</th><th scope=col>Density</th><th scope=col>Crispy</th><th scope=col>Fracture</th><th scope=col>Hardness</th></tr>\n",
              "\t<tr><th></th><th scope=col>&lt;dbl&gt;</th><th scope=col>&lt;int&gt;</th><th scope=col>&lt;int&gt;</th><th scope=col>&lt;int&gt;</th><th scope=col>&lt;int&gt;</th></tr>\n",
              "</thead>\n",
              "<tbody>\n",
              "\t<tr><th scope=row>B110</th><td>16.5</td><td>2955</td><td>10</td><td>23</td><td> 97</td></tr>\n",
              "\t<tr><th scope=row>B136</th><td>17.7</td><td>2660</td><td>14</td><td> 9</td><td>139</td></tr>\n",
              "\t<tr><th scope=row>B171</th><td>16.2</td><td>2870</td><td>12</td><td>17</td><td>143</td></tr>\n",
              "\t<tr><th scope=row>B192</th><td>16.7</td><td>2920</td><td>10</td><td>31</td><td> 95</td></tr>\n",
              "\t<tr><th scope=row>B225</th><td>16.3</td><td>2975</td><td>11</td><td>26</td><td>143</td></tr>\n",
              "</tbody>\n",
              "</table>\n"
            ],
            "text/latex": [
              "A data.frame: 5 × 5\n",
              "\\begin{tabular}{r|lllll}\n",
              "  & Oil & Density & Crispy & Fracture & Hardness\\\\\n",
              "  & <dbl> & <int> & <int> & <int> & <int>\\\\\n",
              "\\hline\n",
              "\tB110 & 16.5 & 2955 & 10 & 23 &  97\\\\\n",
              "\tB136 & 17.7 & 2660 & 14 &  9 & 139\\\\\n",
              "\tB171 & 16.2 & 2870 & 12 & 17 & 143\\\\\n",
              "\tB192 & 16.7 & 2920 & 10 & 31 &  95\\\\\n",
              "\tB225 & 16.3 & 2975 & 11 & 26 & 143\\\\\n",
              "\\end{tabular}\n"
            ],
            "text/markdown": [
              "\n",
              "A data.frame: 5 × 5\n",
              "\n",
              "| <!--/--> | Oil &lt;dbl&gt; | Density &lt;int&gt; | Crispy &lt;int&gt; | Fracture &lt;int&gt; | Hardness &lt;int&gt; |\n",
              "|---|---|---|---|---|---|\n",
              "| B110 | 16.5 | 2955 | 10 | 23 |  97 |\n",
              "| B136 | 17.7 | 2660 | 14 |  9 | 139 |\n",
              "| B171 | 16.2 | 2870 | 12 | 17 | 143 |\n",
              "| B192 | 16.7 | 2920 | 10 | 31 |  95 |\n",
              "| B225 | 16.3 | 2975 | 11 | 26 | 143 |\n",
              "\n"
            ],
            "text/plain": [
              "     Oil  Density Crispy Fracture Hardness\n",
              "B110 16.5 2955    10     23        97     \n",
              "B136 17.7 2660    14      9       139     \n",
              "B171 16.2 2870    12     17       143     \n",
              "B192 16.7 2920    10     31        95     \n",
              "B225 16.3 2975    11     26       143     "
            ]
          },
          "metadata": {},
          "output_type": "display_data"
        }
      ],
      "source": [
        "## Print first 5 samples of data frame\n",
        "head(foodData, n = 5)"
      ]
    },
    {
      "cell_type": "code",
      "execution_count": 109,
      "metadata": {
        "id": "jglloopNLWCZ",
        "vscode": {
          "languageId": "r"
        }
      },
      "outputs": [],
      "source": [
        "## Modify data frame\n",
        "# Rename Oil column to OilPercentage\n",
        "foodData = foodData %>% rename(OilPercentage = Oil)\n",
        "\n",
        "# Modify crispy column to reflect high (0) and low (1) crispness\n",
        "foodData = foodData %>% mutate(Crispy = ifelse(Crispy > 11, 'high', 'low'))\n",
        "\n",
        "# Change Crispy column to factor type\n",
        "foodData['Crispy'] = lapply(foodData['Crispy'], factor)"
      ]
    },
    {
      "cell_type": "code",
      "execution_count": 6,
      "metadata": {
        "id": "CdwwmrQ3PydO",
        "vscode": {
          "languageId": "r"
        }
      },
      "outputs": [
        {
          "name": "stdout",
          "output_type": "stream",
          "text": [
            "'data.frame':\t50 obs. of  5 variables:\n",
            " $ OilPercentage: num  16.5 17.7 16.2 16.7 16.3 19.1 18.4 17.5 15.7 16.4 ...\n",
            " $ Density      : int  2955 2660 2870 2920 2975 2790 2750 2770 2955 2945 ...\n",
            " $ Crispy       : Factor w/ 2 levels \"high\",\"low\": 2 1 1 2 2 1 1 2 2 2 ...\n",
            " $ Fracture     : int  23 9 17 31 26 16 17 26 23 24 ...\n",
            " $ Hardness     : int  97 139 143 95 143 189 114 63 123 132 ...\n"
          ]
        }
      ],
      "source": [
        "## Print structure of modified data frame\n",
        "str(foodData)"
      ]
    },
    {
      "cell_type": "code",
      "execution_count": 7,
      "metadata": {
        "id": "KQkF_NmGN2gS",
        "vscode": {
          "languageId": "r"
        }
      },
      "outputs": [
        {
          "data": {
            "text/html": [
              "<table class=\"dataframe\">\n",
              "<caption>A data.frame: 5 × 5</caption>\n",
              "<thead>\n",
              "\t<tr><th></th><th scope=col>OilPercentage</th><th scope=col>Density</th><th scope=col>Crispy</th><th scope=col>Fracture</th><th scope=col>Hardness</th></tr>\n",
              "\t<tr><th></th><th scope=col>&lt;dbl&gt;</th><th scope=col>&lt;int&gt;</th><th scope=col>&lt;fct&gt;</th><th scope=col>&lt;int&gt;</th><th scope=col>&lt;int&gt;</th></tr>\n",
              "</thead>\n",
              "<tbody>\n",
              "\t<tr><th scope=row>B110</th><td>16.5</td><td>2955</td><td>low </td><td>23</td><td> 97</td></tr>\n",
              "\t<tr><th scope=row>B136</th><td>17.7</td><td>2660</td><td>high</td><td> 9</td><td>139</td></tr>\n",
              "\t<tr><th scope=row>B171</th><td>16.2</td><td>2870</td><td>high</td><td>17</td><td>143</td></tr>\n",
              "\t<tr><th scope=row>B192</th><td>16.7</td><td>2920</td><td>low </td><td>31</td><td> 95</td></tr>\n",
              "\t<tr><th scope=row>B225</th><td>16.3</td><td>2975</td><td>low </td><td>26</td><td>143</td></tr>\n",
              "</tbody>\n",
              "</table>\n"
            ],
            "text/latex": [
              "A data.frame: 5 × 5\n",
              "\\begin{tabular}{r|lllll}\n",
              "  & OilPercentage & Density & Crispy & Fracture & Hardness\\\\\n",
              "  & <dbl> & <int> & <fct> & <int> & <int>\\\\\n",
              "\\hline\n",
              "\tB110 & 16.5 & 2955 & low  & 23 &  97\\\\\n",
              "\tB136 & 17.7 & 2660 & high &  9 & 139\\\\\n",
              "\tB171 & 16.2 & 2870 & high & 17 & 143\\\\\n",
              "\tB192 & 16.7 & 2920 & low  & 31 &  95\\\\\n",
              "\tB225 & 16.3 & 2975 & low  & 26 & 143\\\\\n",
              "\\end{tabular}\n"
            ],
            "text/markdown": [
              "\n",
              "A data.frame: 5 × 5\n",
              "\n",
              "| <!--/--> | OilPercentage &lt;dbl&gt; | Density &lt;int&gt; | Crispy &lt;fct&gt; | Fracture &lt;int&gt; | Hardness &lt;int&gt; |\n",
              "|---|---|---|---|---|---|\n",
              "| B110 | 16.5 | 2955 | low  | 23 |  97 |\n",
              "| B136 | 17.7 | 2660 | high |  9 | 139 |\n",
              "| B171 | 16.2 | 2870 | high | 17 | 143 |\n",
              "| B192 | 16.7 | 2920 | low  | 31 |  95 |\n",
              "| B225 | 16.3 | 2975 | low  | 26 | 143 |\n",
              "\n"
            ],
            "text/plain": [
              "     OilPercentage Density Crispy Fracture Hardness\n",
              "B110 16.5          2955    low    23        97     \n",
              "B136 17.7          2660    high    9       139     \n",
              "B171 16.2          2870    high   17       143     \n",
              "B192 16.7          2920    low    31        95     \n",
              "B225 16.3          2975    low    26       143     "
            ]
          },
          "metadata": {},
          "output_type": "display_data"
        }
      ],
      "source": [
        "## Print first 5 samples of modified data frame\n",
        "head(foodData, n = 5)"
      ]
    },
    {
      "cell_type": "markdown",
      "metadata": {
        "id": "u7Kna-7AGypA"
      },
      "source": [
        "**Question-1**: Make a scatter plot between Density (x-axis) and OilPercentage (y-axis). What do you observe from this plot?"
      ]
    },
    {
      "cell_type": "code",
      "execution_count": 8,
      "metadata": {
        "id": "ClvfDDEa_DD6",
        "vscode": {
          "languageId": "r"
        }
      },
      "outputs": [
        {
          "data": {
            "image/png": "[encoded data removed]",
            "text/plain": [
              "plot without title"
            ]
          },
          "metadata": {
            "image/png": {
              "height": 420,
              "width": 420
            }
          },
          "output_type": "display_data"
        }
      ],
      "source": [
        "## Scatter plot between Density (x-axis) and OilPercentage (y-axis)\n",
        "p1 = ggplot(data = foodData, aes(x = Density, y = OilPercentage)) +\n",
        "  geom_point(size = 3) \n",
        "p1"
      ]
    },
    {
      "cell_type": "markdown",
      "metadata": {
        "id": "OSYJc-F-HBiZ"
      },
      "source": [
        "**Question-2**: Make a scatter plot between Density (x-axis) and OilPercentage (y-axis) color coded using Crispy. What do you observe from this plot?"
      ]
    },
    {
      "cell_type": "code",
      "execution_count": 9,
      "metadata": {
        "id": "8uBvDdJpOEMm",
        "vscode": {
          "languageId": "r"
        }
      },
      "outputs": [
        {
          "data": {
            "image/png": "[encoded data removed]",
            "text/plain": [
              "plot without title"
            ]
          },
          "metadata": {
            "image/png": {
              "height": 420,
              "width": 420
            }
          },
          "output_type": "display_data"
        }
      ],
      "source": [
        "## Scatter plot between Density (x-axis) and OilPercentage (y-axis) color coded using Crispy\n",
        "p2 = ggplot(data = foodData, aes(x = Density, y = OilPercentage, color = factor(Crispy)))+\n",
        "    geom_point(size = 3)\n",
        "p2"
      ]
    },
    {
      "cell_type": "markdown",
      "metadata": {
        "id": "DuNx3TN7HPJi"
      },
      "source": [
        "**Question-3**: Calculate Pearson's correlation between Density and OilPercentage. "
      ]
    },
    {
      "cell_type": "code",
      "execution_count": 10,
      "metadata": {
        "id": "sFrC5vagK43t",
        "vscode": {
          "languageId": "r"
        }
      },
      "outputs": [
        {
          "data": {
            "text/html": [
              "-0.750023990403618"
            ],
            "text/latex": [
              "-0.750023990403618"
            ],
            "text/markdown": [
              "-0.750023990403618"
            ],
            "text/plain": [
              "[1] -0.750024"
            ]
          },
          "metadata": {},
          "output_type": "display_data"
        }
      ],
      "source": [
        "## Print correlation between Density and OilPercentage\n",
        "cor(foodData$Density, foodData$OilPercentage, method = 'pearson')"
      ]
    },
    {
      "cell_type": "markdown",
      "metadata": {
        "id": "BxGDSnCNHdIF"
      },
      "source": [
        "**Question-4**: Select data frame without Crispy column."
      ]
    },
    {
      "cell_type": "code",
      "execution_count": 11,
      "metadata": {
        "id": "2lIlkwFx6Aew",
        "vscode": {
          "languageId": "r"
        }
      },
      "outputs": [
        {
          "data": {
            "text/html": [
              "<table class=\"dataframe\">\n",
              "<caption>A data.frame: 5 × 4</caption>\n",
              "<thead>\n",
              "\t<tr><th></th><th scope=col>OilPercentage</th><th scope=col>Density</th><th scope=col>Fracture</th><th scope=col>Hardness</th></tr>\n",
              "\t<tr><th></th><th scope=col>&lt;dbl&gt;</th><th scope=col>&lt;int&gt;</th><th scope=col>&lt;int&gt;</th><th scope=col>&lt;int&gt;</th></tr>\n",
              "</thead>\n",
              "<tbody>\n",
              "\t<tr><th scope=row>B110</th><td>16.5</td><td>2955</td><td>23</td><td> 97</td></tr>\n",
              "\t<tr><th scope=row>B136</th><td>17.7</td><td>2660</td><td> 9</td><td>139</td></tr>\n",
              "\t<tr><th scope=row>B171</th><td>16.2</td><td>2870</td><td>17</td><td>143</td></tr>\n",
              "\t<tr><th scope=row>B192</th><td>16.7</td><td>2920</td><td>31</td><td> 95</td></tr>\n",
              "\t<tr><th scope=row>B225</th><td>16.3</td><td>2975</td><td>26</td><td>143</td></tr>\n",
              "</tbody>\n",
              "</table>\n"
            ],
            "text/latex": [
              "A data.frame: 5 × 4\n",
              "\\begin{tabular}{r|llll}\n",
              "  & OilPercentage & Density & Fracture & Hardness\\\\\n",
              "  & <dbl> & <int> & <int> & <int>\\\\\n",
              "\\hline\n",
              "\tB110 & 16.5 & 2955 & 23 &  97\\\\\n",
              "\tB136 & 17.7 & 2660 &  9 & 139\\\\\n",
              "\tB171 & 16.2 & 2870 & 17 & 143\\\\\n",
              "\tB192 & 16.7 & 2920 & 31 &  95\\\\\n",
              "\tB225 & 16.3 & 2975 & 26 & 143\\\\\n",
              "\\end{tabular}\n"
            ],
            "text/markdown": [
              "\n",
              "A data.frame: 5 × 4\n",
              "\n",
              "| <!--/--> | OilPercentage &lt;dbl&gt; | Density &lt;int&gt; | Fracture &lt;int&gt; | Hardness &lt;int&gt; |\n",
              "|---|---|---|---|---|\n",
              "| B110 | 16.5 | 2955 | 23 |  97 |\n",
              "| B136 | 17.7 | 2660 |  9 | 139 |\n",
              "| B171 | 16.2 | 2870 | 17 | 143 |\n",
              "| B192 | 16.7 | 2920 | 31 |  95 |\n",
              "| B225 | 16.3 | 2975 | 26 | 143 |\n",
              "\n"
            ],
            "text/plain": [
              "     OilPercentage Density Fracture Hardness\n",
              "B110 16.5          2955    23        97     \n",
              "B136 17.7          2660     9       139     \n",
              "B171 16.2          2870    17       143     \n",
              "B192 16.7          2920    31        95     \n",
              "B225 16.3          2975    26       143     "
            ]
          },
          "metadata": {},
          "output_type": "display_data"
        }
      ],
      "source": [
        "## Select data frame without Crispy column\n",
        "fData = foodData %>% select(-c('Crispy'))\n",
        "head(fData, n = 5)"
      ]
    },
    {
      "cell_type": "markdown",
      "metadata": {
        "id": "X1ixjpP1Htfw"
      },
      "source": [
        "**Question-5**: Scale data frame selected above."
      ]
    },
    {
      "cell_type": "code",
      "execution_count": 28,
      "metadata": {
        "id": "9JaQnJmm6TAn",
        "vscode": {
          "languageId": "r"
        }
      },
      "outputs": [
        {
          "name": "stdout",
          "output_type": "stream",
          "text": [
            "              OilPercentage    Density   Fracture    Hardness\n",
            "OilPercentage    1.00000000 -0.7500240 -0.5337392 -0.09604521\n",
            "Density         -0.75002399  1.0000000  0.5721324  0.10793720\n",
            "Fracture        -0.53373917  0.5721324  1.0000000 -0.37335844\n",
            "Hardness        -0.09604521  0.1079372 -0.3733584  1.00000000\n",
            "              OilPercentage    Density   Fracture    Hardness\n",
            "OilPercentage    1.00000000 -0.7500240 -0.5337392 -0.09604521\n",
            "Density         -0.75002399  1.0000000  0.5721324  0.10793720\n",
            "Fracture        -0.53373917  0.5721324  1.0000000 -0.37335844\n",
            "Hardness        -0.09604521  0.1079372 -0.3733584  1.00000000\n",
            "              OilPercentage    Density   Fracture    Hardness\n",
            "OilPercentage    1.00000000 -0.7500240 -0.5337392 -0.09604521\n",
            "Density         -0.75002399  1.0000000  0.5721324  0.10793720\n",
            "Fracture        -0.53373917  0.5721324  1.0000000 -0.37335844\n",
            "Hardness        -0.09604521  0.1079372 -0.3733584  1.00000000\n"
          ]
        }
      ],
      "source": [
        "## Scale data frame selected above\n",
        "fDataScaled = as.data.frame(scale(fData))\n",
        "\n",
        "#Covariance of the scaled data\n",
        "print(cov(fDataScaled))\n",
        "\n",
        "#Corelation of the scaled data\n",
        "print(cor(fDataScaled))\n",
        "\n",
        "#Corelation of the data\n",
        "print(cor(fData))"
      ]
    },
    {
      "cell_type": "code",
      "execution_count": 18,
      "metadata": {
        "vscode": {
          "languageId": "r"
        }
      },
      "outputs": [
        {
          "data": {
            "image/png": "[encoded data removed]",
            "text/plain": [
              "plot without title"
            ]
          },
          "metadata": {
            "image/png": {
              "height": 420,
              "width": 420
            }
          },
          "output_type": "display_data"
        }
      ],
      "source": [
        "## Scatter plot between Density (x-axis) and OilPercentage (y-axis) color coded using Crispy\n",
        "p9 = ggplot(data = fDataScaled, aes(x = Density, y = OilPercentage))+\n",
        "    geom_point(size = 3)\n",
        "p9"
      ]
    },
    {
      "cell_type": "code",
      "execution_count": 13,
      "metadata": {
        "id": "sc_Jk-To6Ku9",
        "vscode": {
          "languageId": "r"
        }
      },
      "outputs": [
        {
          "data": {
            "text/html": [
              "<table class=\"dataframe\">\n",
              "<caption>A data.frame: 5 × 4</caption>\n",
              "<thead>\n",
              "\t<tr><th></th><th scope=col>OilPercentage</th><th scope=col>Density</th><th scope=col>Fracture</th><th scope=col>Hardness</th></tr>\n",
              "\t<tr><th></th><th scope=col>&lt;dbl&gt;</th><th scope=col>&lt;dbl&gt;</th><th scope=col>&lt;dbl&gt;</th><th scope=col>&lt;dbl&gt;</th></tr>\n",
              "</thead>\n",
              "<tbody>\n",
              "\t<tr><th scope=row>B110</th><td>-0.4409529</td><td> 0.78232945</td><td> 0.3915059</td><td>-1.0016841</td></tr>\n",
              "\t<tr><th scope=row>B136</th><td> 0.3128127</td><td>-1.58714886</td><td>-2.1697476</td><td> 0.3476017</td></tr>\n",
              "\t<tr><th scope=row>B171</th><td>-0.6293943</td><td> 0.09959841</td><td>-0.7061742</td><td> 0.4761051</td></tr>\n",
              "\t<tr><th scope=row>B192</th><td>-0.3153253</td><td> 0.50120490</td><td> 1.8550793</td><td>-1.0659358</td></tr>\n",
              "\t<tr><th scope=row>B225</th><td>-0.5665805</td><td> 0.94297204</td><td> 0.9403459</td><td> 0.4761051</td></tr>\n",
              "</tbody>\n",
              "</table>\n"
            ],
            "text/latex": [
              "A data.frame: 5 × 4\n",
              "\\begin{tabular}{r|llll}\n",
              "  & OilPercentage & Density & Fracture & Hardness\\\\\n",
              "  & <dbl> & <dbl> & <dbl> & <dbl>\\\\\n",
              "\\hline\n",
              "\tB110 & -0.4409529 &  0.78232945 &  0.3915059 & -1.0016841\\\\\n",
              "\tB136 &  0.3128127 & -1.58714886 & -2.1697476 &  0.3476017\\\\\n",
              "\tB171 & -0.6293943 &  0.09959841 & -0.7061742 &  0.4761051\\\\\n",
              "\tB192 & -0.3153253 &  0.50120490 &  1.8550793 & -1.0659358\\\\\n",
              "\tB225 & -0.5665805 &  0.94297204 &  0.9403459 &  0.4761051\\\\\n",
              "\\end{tabular}\n"
            ],
            "text/markdown": [
              "\n",
              "A data.frame: 5 × 4\n",
              "\n",
              "| <!--/--> | OilPercentage &lt;dbl&gt; | Density &lt;dbl&gt; | Fracture &lt;dbl&gt; | Hardness &lt;dbl&gt; |\n",
              "|---|---|---|---|---|\n",
              "| B110 | -0.4409529 |  0.78232945 |  0.3915059 | -1.0016841 |\n",
              "| B136 |  0.3128127 | -1.58714886 | -2.1697476 |  0.3476017 |\n",
              "| B171 | -0.6293943 |  0.09959841 | -0.7061742 |  0.4761051 |\n",
              "| B192 | -0.3153253 |  0.50120490 |  1.8550793 | -1.0659358 |\n",
              "| B225 | -0.5665805 |  0.94297204 |  0.9403459 |  0.4761051 |\n",
              "\n"
            ],
            "text/plain": [
              "     OilPercentage Density     Fracture   Hardness  \n",
              "B110 -0.4409529     0.78232945  0.3915059 -1.0016841\n",
              "B136  0.3128127    -1.58714886 -2.1697476  0.3476017\n",
              "B171 -0.6293943     0.09959841 -0.7061742  0.4761051\n",
              "B192 -0.3153253     0.50120490  1.8550793 -1.0659358\n",
              "B225 -0.5665805     0.94297204  0.9403459  0.4761051"
            ]
          },
          "metadata": {},
          "output_type": "display_data"
        }
      ],
      "source": [
        "## Print first 5 rows of scaled data frame\n",
        "head(fDataScaled, n = 5)"
      ]
    },
    {
      "cell_type": "markdown",
      "metadata": {
        "id": "g9F2z9wyIDWY"
      },
      "source": [
        "**Question 6**: From the output of the cell below, answer the following questions:\n",
        "\n",
        "\n",
        "1.   Which principal component assigns the greatest weight (in magnitude) to Density?      \n",
        "2.   Which principal component assigns the greatest weight (in magnitude) to OilPercentage?\n",
        "3.    True/false: the 2nd principal component score for a sample assigns a maximum weight to its Hardness.\n",
        "\n",
        "**Answers**\n",
        "\n",
        "1. First Principle Component assigns the greatest weight to Density\n",
        "2. Fourth Principle Component assigns the greatest weight to OilPercentage\n",
        "3. True \n",
        "\n"
      ]
    },
    {
      "cell_type": "code",
      "execution_count": 52,
      "metadata": {
        "id": "xyegzfrs8EF2",
        "vscode": {
          "languageId": "r"
        }
      },
      "outputs": [
        {
          "name": "stdout",
          "output_type": "stream",
          "text": [
            "OilPercentage       Density      Fracture      Hardness \n",
            "         16.5        2955.0          23.0          97.0 \n",
            "             [,1]          [,2]        [,3]\n",
            "[1,]  0.009586874 -0.0004450571  0.07247084\n",
            "[2,] -0.999232018 -0.0265642071  0.02779123\n",
            "[3,] -0.024996203 -0.0789396372 -0.99393044\n",
            "[4,] -0.028612149  0.9965253025 -0.07796089\n",
            "Standard deviations (1, .., p=4):\n",
            "[1] 124.592891  31.029178   3.787778   1.018706\n",
            "\n",
            "Rotation (n x k) = (4 x 4):\n",
            "                       PC1           PC2         PC3          PC4\n",
            "OilPercentage  0.009586874 -0.0004450571  0.07247084 -0.997324356\n",
            "Density       -0.999232018 -0.0265642071  0.02779123 -0.007573901\n",
            "Fracture      -0.024996203 -0.0789396372 -0.99393044 -0.072429274\n",
            "Hardness      -0.028612149  0.9965253025 -0.07796089 -0.006384787\n"
          ]
        }
      ],
      "source": [
        "#Sample Covariance Matrix\n",
        "S = cov(fData)\n",
        "\n",
        "# Calculate eigenvalues & eigenvectors of sample covariance matrix\n",
        "e = eigen(S) \n",
        "\n",
        "# Eigenvectors of the sample covariance matrix\n",
        "u = e$vectors\n",
        "\n",
        "# Eigenvalues of the sample covariance matrix\n",
        "lambda = e$values\n",
        "\n",
        "# Extract data matrix from data frame\n",
        "X = as.matrix(fData)\n",
        "\n",
        "# Print first sample\n",
        "print(X[1, ]) \n",
        "\n",
        "# Print the first 3 eigenvectors or principal directions\n",
        "print(u[,1:3]) \n",
        "\n",
        "print(prcomp(fData))"
      ]
    },
    {
      "cell_type": "markdown",
      "metadata": {
        "id": "LSehr3cYKUoL"
      },
      "source": [
        "**Question-7**: Explain the output of the cell below?\n",
        "\n",
        "**Answer**\n",
        "Variance of the data project along the first principal component "
      ]
    },
    {
      "cell_type": "code",
      "execution_count": 53,
      "metadata": {
        "id": "iU7yJd7mKl9C",
        "vscode": {
          "languageId": "r"
        }
      },
      "outputs": [
        {
          "name": "stdout",
          "output_type": "stream",
          "text": [
            "         [,1]\n",
            "[1,] 15523.39\n"
          ]
        }
      ],
      "source": [
        "#Variance of the data projected along the first principal component\n",
        "print(var(X %*% u[, 1])) "
      ]
    },
    {
      "cell_type": "markdown",
      "metadata": {
        "id": "UP1d1N-CKsKC"
      },
      "source": [
        "**Question-8**: How many minimum principal components are needed to explain more than 90% of the variance in the data? Show calculation in code cell below."
      ]
    },
    {
      "cell_type": "code",
      "execution_count": 54,
      "metadata": {
        "id": "aKWbI1JU8OGo",
        "vscode": {
          "languageId": "r"
        }
      },
      "outputs": [
        {
          "data": {
            "text/html": [
              "<style>\n",
              ".list-inline {list-style: none; margin:0; padding: 0}\n",
              ".list-inline>li {display: inline-block}\n",
              ".list-inline>li:not(:last-child)::after {content: \"\\00b7\"; padding: 0 .5ex}\n",
              "</style>\n",
              "<ol class=list-inline><li>94.0721148031066</li><li>99.9067663790397</li><li>99.9937111326438</li><li>100</li></ol>\n"
            ],
            "text/latex": [
              "\\begin{enumerate*}\n",
              "\\item 94.0721148031066\n",
              "\\item 99.9067663790397\n",
              "\\item 99.9937111326438\n",
              "\\item 100\n",
              "\\end{enumerate*}\n"
            ],
            "text/markdown": [
              "1. 94.0721148031066\n",
              "2. 99.9067663790397\n",
              "3. 99.9937111326438\n",
              "4. 100\n",
              "\n",
              "\n"
            ],
            "text/plain": [
              "[1]  94.07211  99.90677  99.99371 100.00000"
            ]
          },
          "metadata": {},
          "output_type": "display_data"
        }
      ],
      "source": [
        "#1 princple component is needed \n",
        "varPercent = (lambda/sum(lambda))*100\n",
        "\n",
        "cumsum(varPercent)"
      ]
    },
    {
      "cell_type": "markdown",
      "metadata": {
        "id": "Yc-k6lymK9sx"
      },
      "source": [
        "**Question 9**: From the output of the cell below, answer the following questions:\n",
        "\n",
        "\n",
        "1.   Which principal component assigns positive weights for all the features?\n",
        "2.   The 1st principal component assigns the least weight (in magnitude) to which feature?\n",
        "\n",
        "**Answers**\n",
        "\n",
        "1. Principal Component 3 assigns positive weights for all features \n",
        "2. 1st principal component assigns the least weight to Hardness Feature"
      ]
    },
    {
      "cell_type": "code",
      "execution_count": 93,
      "metadata": {
        "id": "P0tUNCpG6aN6",
        "vscode": {
          "languageId": "r"
        }
      },
      "outputs": [
        {
          "name": "stdout",
          "output_type": "stream",
          "text": [
            "OilPercentage       Density      Fracture      Hardness \n",
            "   -0.4409529     0.7823294     0.3915059    -1.0016841 \n",
            "            [,1]       [,2]       [,3]\n",
            "[1,]  0.58633268 -0.2240111 0.59225884\n",
            "[2,] -0.59639892  0.2197746 0.01510427\n",
            "[3,] -0.54419604 -0.3762826 0.67499995\n",
            "[4,]  0.06612857  0.8717394 0.43974583\n"
          ]
        },
        {
          "data": {
            "text/plain": [
              "Standard deviations (1, .., p=4):\n",
              "[1] 1.4991499 1.1013861 0.5488669 0.4881017\n",
              "\n",
              "Rotation (n x k) = (4 x 4):\n",
              "                      PC1        PC2        PC3        PC4\n",
              "OilPercentage  0.58633268 -0.2240111 0.59225884 -0.5052351\n",
              "Density       -0.59639892  0.2197746 0.01510427 -0.7718674\n",
              "Fracture      -0.54419604 -0.3762826 0.67499995  0.3265534\n",
              "Hardness       0.06612857  0.8717394 0.43974583  0.2057209"
            ]
          },
          "metadata": {},
          "output_type": "display_data"
        }
      ],
      "source": [
        "# Calculate eigenvalues & eigenvectors of sample correlation matrix\n",
        "e = eigen(cov(fDataScaled)) \n",
        "\n",
        "# Eigenvectors of the sample correlation matrix\n",
        "u = e$vectors\n",
        "\n",
        "# Eigenvalues of the sample correlation matrix\n",
        "lambda = e$values\n",
        "\n",
        "# Extract data matrix from data frame\n",
        "X = as.matrix(fDataScaled)\n",
        "\n",
        "# Print first sample\n",
        "print(X[1, ]) \n",
        "\n",
        "# Print the first 3 eigenvectors or principal directions\n",
        "print(u[, 1:3]) \n",
        "\n",
        "prcomp(fDataScaled)"
      ]
    },
    {
      "cell_type": "markdown",
      "metadata": {
        "id": "pd7Ec3iML3RJ"
      },
      "source": [
        "**Question-10**: How many minimum principal components are needed to explain more than 90% of the variance in the data? Show calculation in code cell below."
      ]
    },
    {
      "cell_type": "code",
      "execution_count": 56,
      "metadata": {
        "id": "PkVzWhh67TWl",
        "vscode": {
          "languageId": "r"
        }
      },
      "outputs": [
        {
          "data": {
            "text/html": [
              "<style>\n",
              ".list-inline {list-style: none; margin:0; padding: 0}\n",
              ".list-inline>li {display: inline-block}\n",
              ".list-inline>li:not(:last-child)::after {content: \"\\00b7\"; padding: 0 .5ex}\n",
              "</style>\n",
              "<ol class=list-inline><li>56.1862589596847</li><li>86.5125452103502</li><li>94.0439176996023</li><li>100</li></ol>\n"
            ],
            "text/latex": [
              "\\begin{enumerate*}\n",
              "\\item 56.1862589596847\n",
              "\\item 86.5125452103502\n",
              "\\item 94.0439176996023\n",
              "\\item 100\n",
              "\\end{enumerate*}\n"
            ],
            "text/markdown": [
              "1. 56.1862589596847\n",
              "2. 86.5125452103502\n",
              "3. 94.0439176996023\n",
              "4. 100\n",
              "\n",
              "\n"
            ],
            "text/plain": [
              "[1]  56.18626  86.51255  94.04392 100.00000"
            ]
          },
          "metadata": {},
          "output_type": "display_data"
        }
      ],
      "source": [
        "#Three principle components are needed\n",
        "varPercent = (lambda/sum(lambda))*100\n",
        "cumsum(varPercent)"
      ]
    },
    {
      "cell_type": "code",
      "execution_count": 65,
      "metadata": {
        "id": "vo9VRxfP8_dJ",
        "vscode": {
          "languageId": "r"
        }
      },
      "outputs": [],
      "source": [
        "## Select data frame consisiting of two features: Density & OilPercentage\n",
        "fDataTwoFeatures = fData %>% select(c('Density', 'OilPercentage'))"
      ]
    },
    {
      "cell_type": "code",
      "execution_count": 66,
      "metadata": {
        "id": "CHoDrrK3qtOr",
        "vscode": {
          "languageId": "r"
        }
      },
      "outputs": [
        {
          "name": "stdout",
          "output_type": "stream",
          "text": [
            "                Density OilPercentage\n",
            "Density        1.000000     -0.750024\n",
            "OilPercentage -0.750024      1.000000\n"
          ]
        }
      ],
      "source": [
        "## Calculate sample correlation matrix of data frame selected above\n",
        "corMatrix = cor(fDataTwoFeatures)\n",
        "print(corMatrix)"
      ]
    },
    {
      "cell_type": "code",
      "execution_count": 67,
      "metadata": {
        "id": "LMUWqOoAPoA2",
        "vscode": {
          "languageId": "r"
        }
      },
      "outputs": [
        {
          "name": "stdout",
          "output_type": "stream",
          "text": [
            "           [,1]       [,2]\n",
            "[1,] -0.7071068 -0.7071068\n",
            "[2,]  0.7071068 -0.7071068\n",
            "[1] 1.750024 0.249976\n"
          ]
        }
      ],
      "source": [
        "# Calculate eigenvalues & eigenvectors of sample correlation matrix\n",
        "e = eigen(corMatrix)\n",
        "u = e$vectors\n",
        "lambda = e$values \n",
        "print(u)\n",
        "print(lambda)"
      ]
    },
    {
      "cell_type": "code",
      "execution_count": 68,
      "metadata": {
        "id": "2tcmM2F8yw9-",
        "vscode": {
          "languageId": "r"
        }
      },
      "outputs": [],
      "source": [
        "## Extract scaled data matrix from data frame\n",
        "X = scale(fDataTwoFeatures)"
      ]
    },
    {
      "cell_type": "markdown",
      "metadata": {
        "id": "gMlsmnsPMaXb"
      },
      "source": [
        "**Question-11**: Complete the code cell below for calculating the shadow length and vector projection on to the first principal component direction."
      ]
    },
    {
      "cell_type": "code",
      "execution_count": 69,
      "metadata": {
        "id": "3rkT7ZASfIVf",
        "vscode": {
          "languageId": "r"
        }
      },
      "outputs": [],
      "source": [
        "## Project samples onto the direction of the first eigenvector\n",
        "\n",
        "# Calculate shadow length of data\n",
        "shadowLength1 = X %*% u[, 1]\n",
        "shadowLength1 = as.numeric(shadowLength1)\n",
        "\n",
        "# Vector projection\n",
        "unitVector = u[, 1]\n",
        "projectedSamples1 = u[, 1] %*% t(as.matrix(shadowLength1))"
      ]
    },
    {
      "cell_type": "code",
      "execution_count": 70,
      "metadata": {
        "id": "buJxlrKE-8z0",
        "vscode": {
          "languageId": "r"
        }
      },
      "outputs": [],
      "source": [
        "## Scale data frame and add Crispy column to data frame\n",
        "fDataTwoFeaturesScaled = as.data.frame(scale(fDataTwoFeatures))\n",
        "fDataTwoFeaturesScaled['Crispy'] = foodData['Crispy']"
      ]
    },
    {
      "cell_type": "markdown",
      "metadata": {
        "id": "mkFnfgADM2DQ"
      },
      "source": [
        "**Question-12**: Complete code below to output a scatter plot of Density and OilPercentage, color coded using Crispy along with the first and second eigenvectors with the projected data on to the first principal direction also color coded using Crispy."
      ]
    },
    {
      "cell_type": "code",
      "execution_count": 76,
      "metadata": {
        "id": "--CwX2ZgPaZk",
        "vscode": {
          "languageId": "r"
        }
      },
      "outputs": [
        {
          "data": {
            "image/png": "[encoded data removed]",
            "text/plain": [
              "plot without title"
            ]
          },
          "metadata": {
            "image/png": {
              "height": 420,
              "width": 420
            }
          },
          "output_type": "display_data"
        }
      ],
      "source": [
        "## Scatter plot of Density and OilPercentage, color coded using Crispy and first\n",
        "## two eigenvectors with the projected data on to the first principal direction\n",
        "## also color coded using Crispy\n",
        "u = -u # this is a minor adjustment to flip the sign of the eigenvectors\n",
        "p3 = fDataTwoFeaturesScaled %>% ggplot(aes(x = Density, y = OilPercentage, color = factor(Crispy))) +\n",
        "  geom_point(size = 3) +\n",
        "  geom_segment(aes(x = 0, y = 0, xend = u[1, 1], yend = u[2, 1]), size = 0.5,\n",
        "   arrow = arrow(length = unit(0.5,\"cm\")), color = 'red') +\n",
        "  geom_segment(aes(x = 0, y = 0, xend = u[1, 2], yend = u[2, 2]), size = 0.5,\n",
        "   arrow = arrow(length = unit(0.5,\"cm\")), color = 'blue') +\n",
        "  geom_point(aes(x = projectedSamples1[1, ], y = projectedSamples1[2, ], color = factor(Crispy)), shape = 7, size = 3.0) \n",
        "p3"
      ]
    },
    {
      "cell_type": "markdown",
      "metadata": {
        "id": "Z6zoQaYCNXGO"
      },
      "source": [
        "**Question-13**: Projected data on to which principal direction (1st or 2nd) shows maximum separability in the data with respect to Crispy?"
      ]
    },
    {
      "cell_type": "code",
      "execution_count": 113,
      "metadata": {
        "vscode": {
          "languageId": "r"
        }
      },
      "outputs": [],
      "source": [
        "fDataPCA = X %*% u"
      ]
    },
    {
      "cell_type": "code",
      "execution_count": 110,
      "metadata": {
        "vscode": {
          "languageId": "r"
        }
      },
      "outputs": [
        {
          "data": {
            "text/html": [
              "<table class=\"dataframe\">\n",
              "<caption>A data.frame: 5 × 5</caption>\n",
              "<thead>\n",
              "\t<tr><th></th><th scope=col>PC1</th><th scope=col>PC2</th><th scope=col>PC3</th><th scope=col>PC4</th><th scope=col>foodData.Crispy</th></tr>\n",
              "\t<tr><th></th><th scope=col>&lt;dbl&gt;</th><th scope=col>&lt;dbl&gt;</th><th scope=col>&lt;dbl&gt;</th><th scope=col>&lt;dbl&gt;</th><th scope=col>&lt;fct&gt;</th></tr>\n",
              "</thead>\n",
              "<tbody>\n",
              "\t<tr><th scope=row>B110</th><td>-1.00442142</td><td>-0.7498098</td><td>-0.4255617</td><td>-0.45928948</td><td>low </td></tr>\n",
              "\t<tr><th scope=row>B136</th><td> 2.33374067</td><td> 0.7005678</td><td>-1.1504298</td><td> 0.42999494</td><td>high</td></tr>\n",
              "\t<tr><th scope=row>B171</th><td>-0.01265347</td><td> 0.8436412</td><td>-0.6385623</td><td> 0.10845649</td><td>high</td></tr>\n",
              "\t<tr><th scope=row>B192</th><td>-1.56381922</td><td>-1.4464638</td><td> 0.6042538</td><td> 0.15894691</td><td>low </td></tr>\n",
              "\t<tr><th scope=row>B225</th><td>-1.37484055</td><td> 0.3953654</td><td> 0.5227793</td><td>-0.03657509</td><td>low </td></tr>\n",
              "</tbody>\n",
              "</table>\n"
            ],
            "text/latex": [
              "A data.frame: 5 × 5\n",
              "\\begin{tabular}{r|lllll}\n",
              "  & PC1 & PC2 & PC3 & PC4 & foodData.Crispy\\\\\n",
              "  & <dbl> & <dbl> & <dbl> & <dbl> & <fct>\\\\\n",
              "\\hline\n",
              "\tB110 & -1.00442142 & -0.7498098 & -0.4255617 & -0.45928948 & low \\\\\n",
              "\tB136 &  2.33374067 &  0.7005678 & -1.1504298 &  0.42999494 & high\\\\\n",
              "\tB171 & -0.01265347 &  0.8436412 & -0.6385623 &  0.10845649 & high\\\\\n",
              "\tB192 & -1.56381922 & -1.4464638 &  0.6042538 &  0.15894691 & low \\\\\n",
              "\tB225 & -1.37484055 &  0.3953654 &  0.5227793 & -0.03657509 & low \\\\\n",
              "\\end{tabular}\n"
            ],
            "text/markdown": [
              "\n",
              "A data.frame: 5 × 5\n",
              "\n",
              "| <!--/--> | PC1 &lt;dbl&gt; | PC2 &lt;dbl&gt; | PC3 &lt;dbl&gt; | PC4 &lt;dbl&gt; | foodData.Crispy &lt;fct&gt; |\n",
              "|---|---|---|---|---|---|\n",
              "| B110 | -1.00442142 | -0.7498098 | -0.4255617 | -0.45928948 | low  |\n",
              "| B136 |  2.33374067 |  0.7005678 | -1.1504298 |  0.42999494 | high |\n",
              "| B171 | -0.01265347 |  0.8436412 | -0.6385623 |  0.10845649 | high |\n",
              "| B192 | -1.56381922 | -1.4464638 |  0.6042538 |  0.15894691 | low  |\n",
              "| B225 | -1.37484055 |  0.3953654 |  0.5227793 | -0.03657509 | low  |\n",
              "\n"
            ],
            "text/plain": [
              "     PC1         PC2        PC3        PC4         foodData.Crispy\n",
              "B110 -1.00442142 -0.7498098 -0.4255617 -0.45928948 low            \n",
              "B136  2.33374067  0.7005678 -1.1504298  0.42999494 high           \n",
              "B171 -0.01265347  0.8436412 -0.6385623  0.10845649 high           \n",
              "B192 -1.56381922 -1.4464638  0.6042538  0.15894691 low            \n",
              "B225 -1.37484055  0.3953654  0.5227793 -0.03657509 low            "
            ]
          },
          "metadata": {},
          "output_type": "display_data"
        }
      ],
      "source": [
        "pcaData <- prcomp(fDataScaled)\n",
        "pcaDataFrame = pcaData$x[,1:4]\n",
        "\n",
        "scores = data.frame(pcaDataFrame,foodData$Crispy)\n",
        "\n",
        "head(scores, n = 5)"
      ]
    },
    {
      "cell_type": "code",
      "execution_count": 119,
      "metadata": {
        "vscode": {
          "languageId": "r"
        }
      },
      "outputs": [
        {
          "data": {
            "image/png": "[encoded data removed]",
            "text/plain": [
              "plot without title"
            ]
          },
          "metadata": {
            "image/png": {
              "height": 420,
              "width": 420
            }
          },
          "output_type": "display_data"
        }
      ],
      "source": [
        "pc1 = scores %>% ggplot(aes(x = PC1, y = PC2, color = factor(foodData.Crispy))) +\n",
        "    geom_point(size = 3)\n",
        "pc1"
      ]
    },
    {
      "cell_type": "code",
      "execution_count": 115,
      "metadata": {
        "vscode": {
          "languageId": "r"
        }
      },
      "outputs": [
        {
          "data": {
            "image/png": "[encoded data removed]",
            "text/plain": [
              "plot without title"
            ]
          },
          "metadata": {
            "image/png": {
              "height": 420,
              "width": 420
            }
          },
          "output_type": "display_data"
        }
      ],
      "source": [
        "pc2 = scores %>% ggplot(aes(x = PC1, y = PC3, color = factor(foodData.Crispy))) +\n",
        "    geom_point(size = 3)\n",
        "pc2"
      ]
    },
    {
      "cell_type": "code",
      "execution_count": 120,
      "metadata": {
        "vscode": {
          "languageId": "r"
        }
      },
      "outputs": [
        {
          "data": {
            "image/png": "[encoded data removed]",
            "text/plain": [
              "plot without title"
            ]
          },
          "metadata": {
            "image/png": {
              "height": 420,
              "width": 420
            }
          },
          "output_type": "display_data"
        }
      ],
      "source": [
        "pc3 = scores %>% ggplot(aes(x = PC2, y = PC3, color = factor(foodData.Crispy))) +\n",
        "    geom_point(size = 3)\n",
        "pc3"
      ]
    },
    {
      "cell_type": "code",
      "execution_count": 121,
      "metadata": {
        "vscode": {
          "languageId": "r"
        }
      },
      "outputs": [
        {
          "data": {
            "text/html": [
              "<table class=\"dataframe\">\n",
              "<caption>A matrix: 4 × 4 of type dbl</caption>\n",
              "<thead>\n",
              "\t<tr><th></th><th scope=col>PC1</th><th scope=col>PC2</th><th scope=col>PC3</th><th scope=col>PC4</th></tr>\n",
              "</thead>\n",
              "<tbody>\n",
              "\t<tr><th scope=row>PC1</th><td> 1.000000e+00</td><td> 2.280180e-16</td><td>-4.950457e-16</td><td>1.623938e-16</td></tr>\n",
              "\t<tr><th scope=row>PC2</th><td> 2.280180e-16</td><td> 1.000000e+00</td><td>-3.749898e-18</td><td>2.492051e-16</td></tr>\n",
              "\t<tr><th scope=row>PC3</th><td>-4.950457e-16</td><td>-3.749898e-18</td><td> 1.000000e+00</td><td>3.070421e-16</td></tr>\n",
              "\t<tr><th scope=row>PC4</th><td> 1.623938e-16</td><td> 2.492051e-16</td><td> 3.070421e-16</td><td>1.000000e+00</td></tr>\n",
              "</tbody>\n",
              "</table>\n"
            ],
            "text/latex": [
              "A matrix: 4 × 4 of type dbl\n",
              "\\begin{tabular}{r|llll}\n",
              "  & PC1 & PC2 & PC3 & PC4\\\\\n",
              "\\hline\n",
              "\tPC1 &  1.000000e+00 &  2.280180e-16 & -4.950457e-16 & 1.623938e-16\\\\\n",
              "\tPC2 &  2.280180e-16 &  1.000000e+00 & -3.749898e-18 & 2.492051e-16\\\\\n",
              "\tPC3 & -4.950457e-16 & -3.749898e-18 &  1.000000e+00 & 3.070421e-16\\\\\n",
              "\tPC4 &  1.623938e-16 &  2.492051e-16 &  3.070421e-16 & 1.000000e+00\\\\\n",
              "\\end{tabular}\n"
            ],
            "text/markdown": [
              "\n",
              "A matrix: 4 × 4 of type dbl\n",
              "\n",
              "| <!--/--> | PC1 | PC2 | PC3 | PC4 |\n",
              "|---|---|---|---|---|\n",
              "| PC1 |  1.000000e+00 |  2.280180e-16 | -4.950457e-16 | 1.623938e-16 |\n",
              "| PC2 |  2.280180e-16 |  1.000000e+00 | -3.749898e-18 | 2.492051e-16 |\n",
              "| PC3 | -4.950457e-16 | -3.749898e-18 |  1.000000e+00 | 3.070421e-16 |\n",
              "| PC4 |  1.623938e-16 |  2.492051e-16 |  3.070421e-16 | 1.000000e+00 |\n",
              "\n"
            ],
            "text/plain": [
              "    PC1           PC2           PC3           PC4         \n",
              "PC1  1.000000e+00  2.280180e-16 -4.950457e-16 1.623938e-16\n",
              "PC2  2.280180e-16  1.000000e+00 -3.749898e-18 2.492051e-16\n",
              "PC3 -4.950457e-16 -3.749898e-18  1.000000e+00 3.070421e-16\n",
              "PC4  1.623938e-16  2.492051e-16  3.070421e-16 1.000000e+00"
            ]
          },
          "metadata": {},
          "output_type": "display_data"
        }
      ],
      "source": [
        "cor(pcaDataFrame)"
      ]
    },
    {
      "cell_type": "code",
      "execution_count": 124,
      "metadata": {
        "vscode": {
          "languageId": "r"
        }
      },
      "outputs": [
        {
          "data": {
            "image/png": "[encoded data removed]",
            "text/plain": [
              "plot without title"
            ]
          },
          "metadata": {
            "image/png": {
              "height": 420,
              "width": 420
            }
          },
          "output_type": "display_data"
        }
      ],
      "source": [
        "library(gridExtra)\n",
        "grid.arrange(pc1,pc2,pc3)"
      ]
    },
    {
      "cell_type": "code",
      "execution_count": null,
      "metadata": {
        "vscode": {
          "languageId": "r"
        }
      },
      "outputs": [],
      "source": []
    }
  ],
  "metadata": {
    "colab": {
      "collapsed_sections": [],
      "name": "AML5201_PCALabExercise_R.ipynb",
      "provenance": []
    },
    "kernelspec": {
      "display_name": "R",
      "language": "R",
      "name": "ir"
    },
    "language_info": {
      "codemirror_mode": "r",
      "file_extension": ".r",
      "mimetype": "text/x-r-source",
      "name": "R",
      "pygments_lexer": "r",
      "version": "4.1.1"
    }
  },
  "nbformat": 4,
  "nbformat_minor": 0
}
