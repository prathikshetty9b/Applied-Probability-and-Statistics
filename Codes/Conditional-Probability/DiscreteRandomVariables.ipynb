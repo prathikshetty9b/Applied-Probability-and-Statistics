{
  "cells": [
    {
      "cell_type": "code",
      "execution_count": 4,
      "metadata": {
        "id": "UUKyea-RwmZy"
      },
      "outputs": [
        {
          "name": "stderr",
          "output_type": "stream",
          "text": [
            "\n",
            "Attaching package: 'dplyr'\n",
            "\n",
            "\n",
            "The following objects are masked from 'package:stats':\n",
            "\n",
            "    filter, lag\n",
            "\n",
            "\n",
            "The following objects are masked from 'package:base':\n",
            "\n",
            "    intersect, setdiff, setequal, union\n",
            "\n",
            "\n"
          ]
        }
      ],
      "source": [
        "library(ggplot2)\n",
        "library(dplyr)"
      ]
    },
    {
      "cell_type": "code",
      "execution_count": 1,
      "metadata": {
        "id": "04FFyHVr05Ug"
      },
      "outputs": [
        {
          "data": {
            "text/html": [
              "<style>\n",
              ".list-inline {list-style: none; margin:0; padding: 0}\n",
              ".list-inline>li {display: inline-block}\n",
              ".list-inline>li:not(:last-child)::after {content: \"\\00b7\"; padding: 0 .5ex}\n",
              "</style>\n",
              "<ol class=list-inline><li>0</li><li>1</li></ol>\n"
            ],
            "text/latex": [
              "\\begin{enumerate*}\n",
              "\\item 0\n",
              "\\item 1\n",
              "\\end{enumerate*}\n"
            ],
            "text/markdown": [
              "1. 0\n",
              "2. 1\n",
              "\n",
              "\n"
            ],
            "text/plain": [
              "[1] 0 1"
            ]
          },
          "metadata": {},
          "output_type": "display_data"
        },
        {
          "data": {
            "text/html": [
              "1000"
            ],
            "text/latex": [
              "1000"
            ],
            "text/markdown": [
              "1000"
            ],
            "text/plain": [
              "[1] 1000"
            ]
          },
          "metadata": {},
          "output_type": "display_data"
        }
      ],
      "source": [
        "# Scenario: A salesman has scheduled two appointments to sell insurance. His\n",
        "# first appointment will lead to a sale with probability 0.3, and his second will\n",
        "# lead independently to a sale with probability 0.6. Any sale made is equally\n",
        "# likely to be either for the deluxe model, which costs Rs. 1000, or the standard\n",
        "# model, which costs Rs. 500. Let X be the random variable representing the total\n",
        "# Rupee value of sales. What are the different values that X can take? What are\n",
        "# the associated probabilities?\n",
        "\n",
        "# The implementation below can be simplified further as shown in the next code\n",
        "# cell\n",
        "\n",
        "# Sampling space for appointment success (0 corresponds to no sale, 1 corresponds to a sale)\n",
        "s_appointment = c(0, 1)\n",
        "\n",
        "# Appointment success and failure probabilities\n",
        "p_appointment = matrix(nrow  = 2, ncol = 2, c(0.7, 0.4, 0.3, 0.6), byrow = TRUE)\n",
        "\n",
        "# Sampling space for book type \n",
        "s_book = c('s', 'd')\n",
        "\n",
        "# Book type probabilities\n",
        "p_book = c(0.5, 0.5)\n",
        "\n",
        "result = numeric(2)  \n",
        "# Simulate whether sales happen in first and second appointments\n",
        "for (j in c(1:2)) {\n",
        "  result[j] = sample(s_appointment, size = 1, prob = p_appointment[, j])\n",
        "}  \n",
        "earnings = 0\n",
        "if (result[1] == 1) {\n",
        "  booktype = sample(s_book, size = 1, prob = p_book)\n",
        "  if (booktype == 's'){\n",
        "      earnings = earnings + 500\n",
        "  }\n",
        "  else{\n",
        "      earnings = earnings + 1000\n",
        "  }\n",
        "}\n",
        "if (result[2] == 1) {\n",
        "  booktype = sample(s_book, size = 1, prob = p_book)\n",
        "  if (booktype == \"i\") {\n",
        "      earnings <- earnings + 500\n",
        "  }\n",
        "  else{\n",
        "      earnings <- earnings + 1000\n",
        "  }\n",
        "}\n",
        "result\n",
        "earnings"
      ]
    },
    {
      "cell_type": "code",
      "execution_count": 2,
      "metadata": {
        "id": "ED9fXq6K1_ZZ"
      },
      "outputs": [
        {
          "data": {
            "text/html": [
              "0.279019"
            ],
            "text/latex": [
              "0.279019"
            ],
            "text/markdown": [
              "0.279019"
            ],
            "text/plain": [
              "[1] 0.279019"
            ]
          },
          "metadata": {},
          "output_type": "display_data"
        },
        {
          "data": {
            "text/html": [
              "0.270147"
            ],
            "text/latex": [
              "0.270147"
            ],
            "text/markdown": [
              "0.270147"
            ],
            "text/plain": [
              "[1] 0.270147"
            ]
          },
          "metadata": {},
          "output_type": "display_data"
        },
        {
          "data": {
            "text/html": [
              "0.314998"
            ],
            "text/latex": [
              "0.314998"
            ],
            "text/markdown": [
              "0.314998"
            ],
            "text/plain": [
              "[1] 0.314998"
            ]
          },
          "metadata": {},
          "output_type": "display_data"
        },
        {
          "data": {
            "text/html": [
              "0.091054"
            ],
            "text/latex": [
              "0.091054"
            ],
            "text/markdown": [
              "0.091054"
            ],
            "text/plain": [
              "[1] 0.091054"
            ]
          },
          "metadata": {},
          "output_type": "display_data"
        },
        {
          "data": {
            "text/html": [
              "0.044782"
            ],
            "text/latex": [
              "0.044782"
            ],
            "text/markdown": [
              "0.044782"
            ],
            "text/plain": [
              "[1] 0.044782"
            ]
          },
          "metadata": {},
          "output_type": "display_data"
        },
        {
          "data": {
            "text/plain": [
              "simulatedData\n",
              "     0    500   1000   1500   2000 \n",
              "279019 270147 314998  91054  44782 "
            ]
          },
          "metadata": {},
          "output_type": "display_data"
        },
        {
          "data": {
            "text/plain": [
              "simulatedData\n",
              "       0      500     1000     1500     2000 \n",
              "0.279019 0.270147 0.314998 0.091054 0.044782 "
            ]
          },
          "metadata": {},
          "output_type": "display_data"
        }
      ],
      "source": [
        "# Scenario:A salesman has scheduled two appointments to sell encyclopedias. His\n",
        "# first appointment will lead to a sale with probability 0.3, and his second will # nolint\n",
        "# lead independently to a sale with probability 0.6. Any sale made is equally\n",
        "# likely to be either for the deluxe model, which costs Rs. 1000, or the standard\n",
        "# model, which costs Rs. 500. Let X be the random variable representing the total\n",
        "# Rupee value of sales. What are the different values that X can take? What are\n",
        "# the associated probabilities?\n",
        "\n",
        "# Sampling space for appointment success (0 corresponds to no sale, 1 corresponds to a sale)\n",
        "s_appointment = c(0, 1)\n",
        "\n",
        "# Appointment success and failure probabilities\n",
        "p_appointment = matrix(nrow  = 2, ncol = 2, c(0.7, 0.4, 0.3, 0.6), byrow = TRUE)\n",
        "\n",
        "# Sampling space for book type \n",
        "s_book = c(500, 1000)\n",
        "\n",
        "# Book type probabilities\n",
        "p_book = c(0.5, 0.5)\n",
        "\n",
        "nsimulations = 1e6\n",
        "\n",
        "# Simulate one trial (one day) of the sales experiment\n",
        "salesResult = function(){\n",
        "  result = numeric(2)  \n",
        "  # Simulate whether sales happen in first and second appointments\n",
        "  for (j in c(1:2)){\n",
        "      result[j] = sample(s_appointment, size = 1, prob = p_appointment[, j])\n",
        "      }    \n",
        "  # Calculate earnings if sales happen in first and second appointments\n",
        "  return(ifelse(result[1] == 1, sample(s_book, size = 1, prob = p_book), 0) +\n",
        "  ifelse(result[2] == 1, sample(s_book, size = 1, prob = p_book), 0))\n",
        "}\n",
        "\n",
        "simulatedData = replicate(nsimulations, salesResult())\n",
        "#simulatedData\n",
        "mean(simulatedData == 0) # an approximtion to P(X = 0)\n",
        "mean(simulatedData == 500) # an approximtion to P(X = 500)\n",
        "mean(simulatedData == 1000) # an approximtion to P(X = 1000)\n",
        "mean(simulatedData == 1500) # an approximtion to P(X = 1500)\n",
        "mean(simulatedData == 2000) # an approximtion to P(X = 2000)\n",
        "table(simulatedData)\n",
        "table(simulatedData) / nsimulations\n"
      ]
    },
    {
      "cell_type": "code",
      "execution_count": null,
      "metadata": {
        "id": "5qcAyEsSEh0_"
      },
      "outputs": [],
      "source": [
        "# This is a variant of the salesman problem\n",
        "\n",
        "# Scenario: A salesman has scheduled two appointments to sell insurance plans. His\n",
        "# first appointment will lead to a sale with probability 0.3, and his second\n",
        "# will lead independently to a sale with probability 0.6. In the morning appointment,\n",
        "# the salesman is equally likely to see both insurance types, and in the afternoon\n",
        "# appointment, ther is a 70% chance that he sells the individual insurance. The\n",
        "# individual insurance costs Rs. 500 and the family insurance costs Rs. 1000. \n",
        "# Let X be the random variable representing the total Rupee value of sales. \n",
        "# What are the different values that X can take? What are the associated probabilities?\n",
        "\n",
        "# Sampling space for appointment success (0 corresponds to no sale, 1 corresponds to a sale)\n",
        "s_appointment = c(0, 1)\n",
        "\n",
        "# Appointment success and failure probabilities\n",
        "p_appointment = matrix(nrow  = 2, ncol = 2, c(0.7, 0.4, 0.3, 0.6), byrow = TRUE)\n",
        "\n",
        "# Sampling space for insurance type \n",
        "s_insurance = c(500, 1000)\n",
        "\n",
        "# Insurance type probabilities\n",
        "p_insurance = matrix(nrow  = 2, ncol = 2, c(0.5, 0.5, 0.7, 0.3), byrow = TRUE)\n",
        "\n",
        "nsimulations = 1e6\n",
        "\n",
        "# Simulate one trial (one day) of the sales experiment\n",
        "salesResult = function(){\n",
        "  result = numeric(2)  \n",
        "  # Simulate whether sales happen in first and second appointments\n",
        "  for (j in c(1:2)){\n",
        "      result[j] = sample(s_appointment, size = 1, prob = p_appointment[, j])\n",
        "      }    \n",
        "  # Calculate earnings if sales happen in first and second appointments\n",
        "  return(ifelse(result[1] == 1, sample(s_insurance, size = 1, prob = p_insurance[, 1]), 0) +\n",
        "  ifelse(result[2] == 1, sample(s_insurance, size = 1, prob = p_insurance[, 2]), 0))\n",
        "}\n",
        "\n",
        "simulatedData = replicate(nsimulations, salesResult())\n",
        "#simulatedData\n",
        "mean(simulatedData == 0) # an approximtion to P(X = 0)\n",
        "mean(simulatedData == 500) # an approximtion to P(X = 500)\n",
        "mean(simulatedData == 1000) # an approximtion to P(X = 1000)\n",
        "mean(simulatedData == 1500) # an approximtion to P(X = 1500)\n",
        "mean(simulatedData == 2000) # an approximtion to P(X = 2000)\n",
        "table(simulatedData)\n",
        "table(simulatedData) / nsimulations"
      ]
    },
    {
      "cell_type": "markdown",
      "metadata": {
        "id": "D_cJMnipLUz8"
      },
      "source": [
        "**Scenario**: A salesman has scheduled two appointments to sell encyclopedias. His first appointment will lead to a sale with probability 0.3, and his second will lead independently to a sale with probability 0.6. Any sale made is equally\n",
        "likely to be either for the deluxe model, which costs Rs. 1000, or the standard\n",
        "model, which costs Rs. 500. Let X be the random variable representing the total\n",
        "Rupee value of sales. What are the different values that X can take? What are\n",
        "the associated probabilities?\n",
        "\n",
        "$X$ = total earnings from one day \n",
        "\n",
        "$X$ is a discrete random variable \n",
        "\n",
        "$X = 0, 500, 1000, 1500, 2000$\n",
        "\n",
        "$P(X = 0)  = 0.28, P(X = 500) = 0.31, P(X = 1000) = 0.275, P(X = 1500) = 0.095, P(X = 2000) = 0.04$\n",
        "\n",
        "Probability Mass Function (PMF) of the random variable $X$ is denoted as $P_X(x),$ where $x$ represents the possible values that the random variable $X$ can take.\n",
        "\n",
        "$P_X(0) = P(X = 0) = 0.28$\n",
        "\n",
        "$P_X(500) = P(X = 500) = 0.27$\n",
        "\n",
        "$P_X(1000) = P(X = 1000) = 0.315$\n",
        "\n",
        "$P_X(1500) = P(X = 1500) = 0.09$\n",
        "\n",
        "$P_X(2000) = P(X = 2000) = 0.045$"
      ]
    },
    {
      "cell_type": "code",
      "execution_count": 8,
      "metadata": {
        "id": "b-xhW59AKVjH"
      },
      "outputs": [
        {
          "data": {
            "image/png": "[encoded data removed]",
            "text/plain": [
              "plot without title"
            ]
          },
          "metadata": {
            "image/png": {
              "height": 420,
              "width": 420
            }
          },
          "output_type": "display_data"
        }
      ],
      "source": [
        "# Sampling space for appointment success (0 corresponds to no sale, 1 corresponds to a sale)\n",
        "s_appointment = c(0, 1)\n",
        "\n",
        "# Appointment success and failure probabilities\n",
        "p_appointment = matrix(nrow  = 2, ncol = 2, c(0.7, 0.4, 0.3, 0.6), byrow = TRUE)\n",
        "\n",
        "# Sampling space for book type \n",
        "s_book = c(500, 1000)\n",
        "\n",
        "# Book type probabilities\n",
        "p_book = c(0.5, 0.5)\n",
        "\n",
        "nsimulations = 1e4\n",
        "\n",
        "# Simulate one trial (one day) of the sales experiment\n",
        "salesResult = function(){\n",
        "  result = numeric(2)  \n",
        "  # Simulate whether sales happen in first and second appointments\n",
        "  for (j in c(1:2)){\n",
        "      result[j] = sample(s_appointment, size = 1, prob = p_appointment[, j])\n",
        "      }    \n",
        "  # Calculate earnings if sales happen in first and second appointments\n",
        "  return(ifelse(result[1] == 1, sample(s_book, size = 1, prob = p_book), 0) +\n",
        "  ifelse(result[2] == 1, sample(s_book, size = 1, prob = p_book), 0))\n",
        "}\n",
        "\n",
        "simulatedData = replicate(nsimulations, salesResult())\n",
        "\n",
        "# Convert simulatedData into a dataframe\n",
        "dfSales = as.data.frame(table(simulatedData))\n",
        "\n",
        "# Add names to the columns\n",
        "colnames(dfSales) = c('Earning', 'Frequency')\n",
        "\n",
        "# Add a new column with proportion (probability) values \n",
        "dfSales['Probability'] = dfSales['Frequency'] / nsimulations\n",
        "\n",
        "#head(dfSales, 5)\n",
        "\n",
        "p = ggplot(data = dfSales, aes(x = Earning, y = Probability))+\n",
        "geom_col(width = 0.7, fill = 'slateblue')+\n",
        "ggtitle('Probability mass function P_X()')+\n",
        "theme_minimal()\n",
        "p"
      ]
    },
    {
      "cell_type": "markdown",
      "metadata": {
        "id": "ly_fBl9nTu7u"
      },
      "source": [
        "Expected value of the random variable $X$ is defined as the wieghted sum of the possible values $X$ can take with the corresponding probabilities:\n",
        "\n",
        "$E[X] = \\sum_xxP_X(x),$ where $x = 0, 500, 1000, 1500, 2000.$\n",
        "\n",
        "$E[X] = 0\\times P_X(0)+500\\times P_X(500)+1000\\times P_X(1000)+1500\\times P_X(1500)+2000\\times P_X(2000).$\n",
        "\n",
        "$\\begin{align*}E[X] &\\approx 0 \\times\\underbrace{\\frac{\\text{No. of times 0 appeared}}{\\text{nsimulations}}}_{\\text{approximation to }P_X(0)}+500 \\times\\underbrace{\\frac{\\text{No. of times 500 appeared}}{\\text{nsimulations}}}_{\\text{approximation to }P_X(500)}+500 \\times\\underbrace{\\frac{\\text{No. of times 1000 appeared}}{\\text{nsimulations}}}_{\\text{approximation to }P_X(1000)}+1500 \\times\\underbrace{\\frac{\\text{No. of times 1500 appeared}}{\\text{nsimulations}}}_{\\text{approximation to }P_X(1500)}+2000 \\times\\underbrace{\\frac{\\text{No. of times 2000 appeared}}{\\text{nsimulations}}}_{\\text{approximation to }P_X(2000)}.\\end{align*}$\n",
        "\n",
        "So, we see that the expected value of $X$ is approximately the long-term average of the simulated (or realized) values of $X.$"
      ]
    },
    {
      "cell_type": "code",
      "execution_count": null,
      "metadata": {
        "id": "kGT80YihTcoP"
      },
      "outputs": [],
      "source": [
        "# Expected earnings using simulated values\n",
        "mean(simulatedData) # long term average of the realizations of X\n",
        "\n",
        "# Expected earnings using the theoretical definition\n",
        "x = c(0, 500, 1000, 1500, 2000)\n",
        "p = c(0.28, 0.27, 0.315, 0.09, 0.045)\n",
        "sum(x * p)\n",
        "\n",
        "# pmf = table(simulatedData) / nsimulations\n",
        "# pmf\n",
        "# p = as.vector(pmf)\n",
        "# p\n",
        "# x = as.numeric(names(pmf))"
      ]
    },
    {
      "cell_type": "markdown",
      "metadata": {
        "id": "EiGFb0IcYBaY"
      },
      "source": [
        "Variance of the random variable $X,$ denoted as $\\text{var}[X],$ is the expected squared deviation of $X$ from its expected value. In simple terms, variance of $X$ is the expected value of the random variable $(X-E[X])^2.$ Note that the possible values that this random variable can take are $\\left(\\underbrace{0-675}_{\\text{when }X=0}\\right)^2, \\left(\\underbrace{500-675}_{\\text{when }X=500}\\right)^2, \\left(\\underbrace{1000-675}_{\\text{when }X=1000}\\right)^2, \\left(\\underbrace{1500-675}_{\\text{when }X=1500}\\right)^2, \\left(\\underbrace{2000-675}_{\\text{when }X=2000}\\right)^2,$ with corresponding probabilities $P(X=0), P(X=500), P(X=1000), P(X=1500), P(X=2000),$ respectively.\n",
        "\n",
        "$\\begin{align*}\\text{Var}[X] &= E[(X-E[X])^2]\\\\&=\n",
        "\\sum_x (x-E[X])^2\\times P_X(x)\\\\&= (0-675)^2\\times P_X(0)+(500-675)^2\\times P_X(500)+(1000-675)^2\\times P_X(1000)+(1500-675)^2\\times P_X(1500)+(2000-675)^2\\times P_X(2000)\\\\&(0-675)^2\\times 0.28+(500-675)^2\\times 0.27+(1000-675)^2\\times 0.315+(1500-675)^2\\times 0.09+(2000-675)^2\\times 0.045.\\end{align*}$\n",
        "\n",
        "Standard deviation of the random variable $X$\n",
        "\n",
        "$\\begin{align*}\\text{SD}[X] &= \\sqrt{E\\left[(X-E[X])^2\\right]}\\end{align*}$"
      ]
    },
    {
      "cell_type": "code",
      "execution_count": 4,
      "metadata": {
        "id": "RMD7O5VBZlqp"
      },
      "outputs": [
        {
          "data": {
            "text/html": [
              "2.003158966511"
            ],
            "text/latex": [
              "2.003158966511"
            ],
            "text/markdown": [
              "2.003158966511"
            ],
            "text/plain": [
              "[1] 2.003159"
            ]
          },
          "metadata": {},
          "output_type": "display_data"
        },
        {
          "data": {
            "text/html": [
              "1.41532998502505"
            ],
            "text/latex": [
              "1.41532998502505"
            ],
            "text/markdown": [
              "1.41532998502505"
            ],
            "text/plain": [
              "[1] 1.41533"
            ]
          },
          "metadata": {},
          "output_type": "display_data"
        },
        {
          "data": {
            "text/html": [
              "309375"
            ],
            "text/latex": [
              "309375"
            ],
            "text/markdown": [
              "309375"
            ],
            "text/plain": [
              "[1] 309375"
            ]
          },
          "metadata": {},
          "output_type": "display_data"
        },
        {
          "data": {
            "text/html": [
              "556.214886532175"
            ],
            "text/latex": [
              "556.214886532175"
            ],
            "text/markdown": [
              "556.214886532175"
            ],
            "text/plain": [
              "[1] 556.2149"
            ]
          },
          "metadata": {},
          "output_type": "display_data"
        }
      ],
      "source": [
        "# Variance of the earnings using simulated values\n",
        "mean((simulatedData - mean(simulatedData))^2) # long term average of this random variable (X-E[X])^2\n",
        "\n",
        "# Standard deviation of the earnings using simulated values\n",
        "sqrt(mean((simulatedData - mean(simulatedData))^2)) \n",
        "\n",
        "# Variance of the earnings using the thoretical definition\n",
        "x = c(0, 500, 1000, 1500, 2000)\n",
        "p = c(0.28, 0.27, 0.315, 0.09, 0.045)\n",
        "sum((x-sum(x*p))^2 * p)\n",
        "\n",
        "# Standard deviation of the earnings using the theoretical definition\n",
        "sqrt(sum((x-sum(x*p))^2 * p))"
      ]
    },
    {
      "cell_type": "code",
      "execution_count": null,
      "metadata": {
        "id": "GSEssitfs_jp"
      },
      "outputs": [],
      "source": [
        "# A demo of the grepl() function\n",
        "data = c('w1', 'w2', 'b1', 'b2')\n",
        "sum(grepl('w.*',  data))"
      ]
    },
    {
      "cell_type": "code",
      "execution_count": 9,
      "metadata": {
        "id": "QDTJ2UG281Qt"
      },
      "outputs": [
        {
          "data": {
            "text/html": [
              "0.345885"
            ],
            "text/latex": [
              "0.345885"
            ],
            "text/markdown": [
              "0.345885"
            ],
            "text/plain": [
              "[1] 0.345885"
            ]
          },
          "metadata": {},
          "output_type": "display_data"
        },
        {
          "data": {
            "text/html": [
              "0.3456"
            ],
            "text/latex": [
              "0.3456"
            ],
            "text/markdown": [
              "0.3456"
            ],
            "text/plain": [
              "[1] 0.3456"
            ]
          },
          "metadata": {},
          "output_type": "display_data"
        }
      ],
      "source": [
        "# Scenario: a box has 4 white and 6 black balls. We randomly draw\n",
        "# 4 balls with replacement. We are interested in the probability\n",
        "# that 2 of the 4 drawn balls are white.\n",
        "\n",
        "## Sampling space\n",
        "s = c('w1', 'w2', 'w3', 'w4', 'b1', 'b2', 'b3', 'b4', 'b5', 'b6')\n",
        "\n",
        "## Probability for sampling an element from the sampling space\n",
        "p = (1/length(s))* replicate(length(s), 1)\n",
        "\n",
        "## Simulate the random experiment of drawing 4 balls from 10 balls with \n",
        "## replacement\n",
        "nsimulations = 1e6\n",
        "samplesize = 4\n",
        "simulatedData = replicate(nsimulations, sample(s, size = samplesize, replace = TRUE, prob = p))\n",
        "\n",
        "## Check event if 2 of the 4 drawn balls are white\n",
        "checkEvent = function(data){\n",
        "  if (sum(grepl('w.*',  data)) == 2){\n",
        "    return(1)\n",
        "  }\n",
        "  else{\n",
        "    return(0)\n",
        "  }\n",
        "}\n",
        "#simulatedData\n",
        "## Calculate probability that 2 of the 4 drawn balls are white\n",
        "#apply(simulatedData, 2 , checkEvent)\n",
        "mean(apply(simulatedData, 2 , checkEvent))\n",
        "dbinom(2, 4, 4/(4+6))"
      ]
    },
    {
      "cell_type": "code",
      "execution_count": null,
      "metadata": {
        "id": "X0KdcJn3Agsh"
      },
      "outputs": [],
      "source": [
        "dbinom(c(0:4), 4, 4/(4+6))"
      ]
    },
    {
      "cell_type": "code",
      "execution_count": 10,
      "metadata": {
        "id": "xQavDX90TVF8"
      },
      "outputs": [
        {
          "data": {
            "text/html": [
              "0.345263"
            ],
            "text/latex": [
              "0.345263"
            ],
            "text/markdown": [
              "0.345263"
            ],
            "text/plain": [
              "[1] 0.345263"
            ]
          },
          "metadata": {},
          "output_type": "display_data"
        },
        {
          "data": {
            "text/html": [
              "0.3456"
            ],
            "text/latex": [
              "0.3456"
            ],
            "text/markdown": [
              "0.3456"
            ],
            "text/plain": [
              "[1] 0.3456"
            ]
          },
          "metadata": {},
          "output_type": "display_data"
        }
      ],
      "source": [
        "# Scenario: a box has 4 white and 6 black balls. We randomly draw\n",
        "# 4 balls with replacement. We are interested in the probability\n",
        "# that 2 of the 4 drawn balls are white. This can be abstraceted as \n",
        "# a box containing a white and black ball such that we sample with\n",
        "# replacement one ball from the box and repeat it 4 times. Here, the\n",
        "# probability of drawing a white ball is 4/10 and probability of\n",
        "# drawing a black ball is 6/10.\n",
        "\n",
        "## Sampling space\n",
        "s = c('w', 'b')\n",
        "\n",
        "## Probability for sampling an element from the sampling space\n",
        "p = c(4/10, 6/10)\n",
        "\n",
        "## Simulate the random experiment of drawing 4 balls from 10 balls with \n",
        "## replacement\n",
        "nsimulations = 1e6\n",
        "simulatedData = replicate(nsimulations, sample(s, size = 4, replace = TRUE, prob = p))\n",
        "\n",
        "## Check event if 2 of the 4 drawn balls are white\n",
        "checkEvent = function(data){\n",
        "  if (sum(data == 'w') == 2){\n",
        "    return(1)\n",
        "  }\n",
        "  else{\n",
        "    return(0)\n",
        "  }\n",
        "}\n",
        "#simulatedData\n",
        "## Calculate probability that 2 of the 4 drawn balls are white\n",
        "mean(apply(simulatedData, 2, checkEvent))\n",
        "dbinom(2, 4, 4/(4+6))"
      ]
    },
    {
      "cell_type": "code",
      "execution_count": 11,
      "metadata": {
        "id": "Qju0480TBk-A"
      },
      "outputs": [
        {
          "data": {
            "text/html": [
              "0.42871"
            ],
            "text/latex": [
              "0.42871"
            ],
            "text/markdown": [
              "0.42871"
            ],
            "text/plain": [
              "[1] 0.42871"
            ]
          },
          "metadata": {},
          "output_type": "display_data"
        },
        {
          "data": {
            "text/html": [
              "0.428571428571429"
            ],
            "text/latex": [
              "0.428571428571429"
            ],
            "text/markdown": [
              "0.428571428571429"
            ],
            "text/plain": [
              "[1] 0.4285714"
            ]
          },
          "metadata": {},
          "output_type": "display_data"
        }
      ],
      "source": [
        "# Scenario: a box has 4 white and 6 black balls. We randomly draw\n",
        "# 4 balls without replacement. We are interested in the probability\n",
        "# that 2 of the 4 drawn balls are white.\n",
        "\n",
        "## Sampling space\n",
        "s = c('w1', 'w2', 'w3', 'w4', 'b1', 'b2', 'b3', 'b4', 'b5', 'b6')\n",
        "\n",
        "## Probability for sampling an element from the sampling space\n",
        "p = (1/length(s))* replicate(length(s), 1)\n",
        "\n",
        "## Simulate the random experiment of drawing 4 balls from 10 balls without \n",
        "## replacement\n",
        "nsimulations = 1e6\n",
        "simulatedData = replicate(nsimulations,  sample(s, size = 4, replace = FALSE, prob = p))\n",
        "\n",
        "## Check event if 2 of the 4 drawn balls are white\n",
        "checkEvent = function(data){\n",
        "  if (sum(grepl('w.*',  data)) == 2){\n",
        "    return(1)\n",
        "  }\n",
        "  else{\n",
        "    return(0)\n",
        "  }\n",
        "}\n",
        "#simulatedData\n",
        "## Calculate probability that 2 of the 4 drawn balls are white\n",
        "mean(apply(simulatedData, 2 , checkEvent))\n",
        "dhyper(2, 4, 6, 4)\n"
      ]
    },
    {
      "cell_type": "code",
      "execution_count": 12,
      "metadata": {
        "id": "TpsDNDohe-DW"
      },
      "outputs": [
        {
          "data": {
            "text/html": [
              "0.100228"
            ],
            "text/latex": [
              "0.100228"
            ],
            "text/markdown": [
              "0.100228"
            ],
            "text/plain": [
              "[1] 0.100228"
            ]
          },
          "metadata": {},
          "output_type": "display_data"
        },
        {
          "data": {
            "text/html": [
              "0.1003290624"
            ],
            "text/latex": [
              "0.1003290624"
            ],
            "text/markdown": [
              "0.1003290624"
            ],
            "text/plain": [
              "[1] 0.1003291"
            ]
          },
          "metadata": {},
          "output_type": "display_data"
        }
      ],
      "source": [
        "# Scenario: a box has 4 white and 6 black balls. We randomly draw\n",
        "# balls with replacement. We are interested in the probability\n",
        "# that 4th white ball will be drawn in the 10th attempt.\n",
        "\n",
        "## Sampling space\n",
        "s = c('w', 'b')\n",
        "\n",
        "## Probability for sampling an element from the sampling space\n",
        "p = c(4/10, 6/10)\n",
        "\n",
        "## Simulate the random experiment of drawing 4 balls from 10 balls without \n",
        "## replacement\n",
        "nsimulations = 1e6\n",
        "simulatedData = replicate(nsimulations,  sample(s, size = 10, replace = TRUE, prob = p))\n",
        "\n",
        "## Check event if 4th white ball is drawn in the 10th attempt\n",
        "checkEvent = function(data){\n",
        "  if ((sum(data == 'w') == 4) & (data[10] == 'w')){\n",
        "    return(1)\n",
        "  }\n",
        "  else{\n",
        "    return(0)\n",
        "  }\n",
        "}\n",
        "#simulatedData\n",
        "## Calculate probability that the 4th white ball is drawn in the 10th attempt\n",
        "#apply(simulatedData, 2 , checkEvent)\n",
        "mean(apply(simulatedData, 2 , checkEvent))\n",
        "dnbinom(10-4, 4, 4/(4+6))\n"
      ]
    },
    {
      "cell_type": "code",
      "execution_count": null,
      "metadata": {
        "id": "LBq6v8r7a3ad"
      },
      "outputs": [],
      "source": [
        "# (1) Sample size is small compared to population size\n",
        "# (2) Success proportion is not too close to 0 or 1\n",
        "dbinom(3, 4, 0.4)\n",
        "dhyper(3, 4000, 6000, 4)\n",
        "\n",
        "# (1) Sample size is small compared to population size\n",
        "# (2) Success proportion is too close to 0\n",
        "dbinom(3, 4, 0.01)\n",
        "dhyper(3, 1, 100, 4)\n",
        "\n",
        "#dbinom(3, 4, 0.1)\n",
        "#dhyper(3, 10, 90, 4)\n",
        "\n",
        "#dnbinom(10-4, 4, 0.4)"
      ]
    },
    {
      "cell_type": "markdown",
      "metadata": {
        "id": "GxJk6M_DiM8b"
      },
      "source": [
        "**Example:** Type O blood is one of the best to be donated since it can be used for many people. Approximately 42% of people have type O blood. In a given day at a blood bank, about\n",
        "120 people come in to donate. The blood bank is interested in the probability that the number of donors who are type O is equal to 30."
      ]
    },
    {
      "cell_type": "code",
      "execution_count": 13,
      "metadata": {
        "id": "MSKkB3aAnz6r"
      },
      "outputs": [
        {
          "data": {
            "text/html": [
              "4.3196469508981e-05"
            ],
            "text/latex": [
              "4.3196469508981e-05"
            ],
            "text/markdown": [
              "4.3196469508981e-05"
            ],
            "text/plain": [
              "[1] 4.319647e-05"
            ]
          },
          "metadata": {},
          "output_type": "display_data"
        },
        {
          "data": {
            "text/html": [
              "4.32310829523532e-05"
            ],
            "text/latex": [
              "4.32310829523532e-05"
            ],
            "text/markdown": [
              "4.32310829523532e-05"
            ],
            "text/plain": [
              "[1] 4.323108e-05"
            ]
          },
          "metadata": {},
          "output_type": "display_data"
        },
        {
          "data": {
            "image/png": "[encoded data removed]",
            "text/plain": [
              "plot without title"
            ]
          },
          "metadata": {
            "image/png": {
              "height": 420,
              "width": 420
            }
          },
          "output_type": "display_data"
        }
      ],
      "source": [
        "# X ~ HypGeom(nsuccess = 420, nfailure = 580, n = 120)\n",
        "# P(X = 30) = dhyper()?\n",
        "# Assume population size = 1000000\n",
        "n = 120\n",
        "nsuccess = 420000\n",
        "nfailure = 580000\n",
        "dhyper(30, nsuccess, nfailure, n)\n",
        "\n",
        "# X ~ Bin(n = 120, p = 0.42)\n",
        "# P(X = 30) = dbinom()?\n",
        "n = 120\n",
        "p = 0.42\n",
        "dbinom(30, n, p)\n",
        "\n",
        "\n",
        "plot(dbinom(c(0:n), n, p))"
      ]
    },
    {
      "cell_type": "code",
      "execution_count": null,
      "metadata": {
        "id": "HjhEQI7vL7x2"
      },
      "outputs": [],
      "source": [
        "dbinom(30, 120, .42)\n",
        "dhyper(30, 420000, 580000, 120)"
      ]
    },
    {
      "cell_type": "code",
      "execution_count": null,
      "metadata": {
        "id": "S7DuhRsF-SZw"
      },
      "outputs": [],
      "source": [
        "# Sucess corresponds to a person having type-O blood\n",
        "# n = 120, p= 0.42\n",
        "# X = total no. of success = Bin(n = 120, p = 0.42)\n",
        "# We are interested in P(X = 30)\n",
        "n = 120\n",
        "p = 0.42\n",
        "dbinom(30, n, p)\n",
        "\n",
        "## Sampling space\n",
        "s = c('o', 'no')\n",
        "\n",
        "## Probability for sampling an element from the sampling space\n",
        "p = c(0.42, 0.58)\n",
        "\n",
        "## Simulate the random experiment \n",
        "nsimulations = 1e6\n",
        "simulatedData = replicate(nsimulations, sample(s, size = 120, replace = TRUE, prob = p))\n",
        "\n",
        "## Check event if 30 of the 120 people have type-O blood\n",
        "checkEvent = function(data){\n",
        "  if (sum(data == 'o') == 30){\n",
        "    return(1)\n",
        "  }\n",
        "  else{\n",
        "    return(0)\n",
        "  }\n",
        "}\n",
        "#simulatedData\n",
        "## Calculate probability that 30 of the 120 people have type-O blood\n",
        "mean(apply(simulatedData, 2, checkEvent))"
      ]
    },
    {
      "cell_type": "code",
      "execution_count": 19,
      "metadata": {
        "id": "wwq53FymJybu"
      },
      "outputs": [
        {
          "data": {
            "text/html": [
              "3.9865428467359e-05"
            ],
            "text/latex": [
              "3.9865428467359e-05"
            ],
            "text/markdown": [
              "3.9865428467359e-05"
            ],
            "text/plain": [
              "[1] 3.986543e-05"
            ]
          },
          "metadata": {},
          "output_type": "display_data"
        },
        {
          "data": {
            "text/html": [
              "4.32310829523532e-05"
            ],
            "text/latex": [
              "4.32310829523532e-05"
            ],
            "text/markdown": [
              "4.32310829523532e-05"
            ],
            "text/plain": [
              "[1] 4.323108e-05"
            ]
          },
          "metadata": {},
          "output_type": "display_data"
        }
      ],
      "source": [
        "## Clearly, in the blood type scenario, sampling from the\n",
        "## population is without replacement.\n",
        "\n",
        "# success corresponds to a person having type-O blood\n",
        "\n",
        "# sample size n = 120\n",
        "# number of successes nsuccess = 420 (assume that population size is 10000)\n",
        "# number of failures nfailure = 580 (assume that population size is 10000)\n",
        "nsuccess = 4200\n",
        "nfailure = 5800\n",
        "n = 120\n",
        "dhyper(30, nsuccess, nfailure, n)\n",
        "# Compare with binomial (sampling is with replacement)\n",
        "dbinom(30, n, nsuccess/(nsuccess+nfailure))"
      ]
    },
    {
      "cell_type": "markdown",
      "metadata": {
        "id": "A6IQfnosNijs"
      },
      "source": [
        "**Example:** A certain stoplight, when coming from the North, is green approximately 31% of\n",
        "the time. Over the next few days, someone comes to this light 8 times from the\n",
        "North. We are interested in the probability that the person will come across green light 5 times."
      ]
    },
    {
      "cell_type": "code",
      "execution_count": null,
      "metadata": {
        "id": "l0xBOPf6rhgr"
      },
      "outputs": [],
      "source": [
        "n = 8\n",
        "p = 0.31\n",
        "dbinom(5, n, p)"
      ]
    },
    {
      "cell_type": "code",
      "execution_count": null,
      "metadata": {
        "id": "Uuw_ohyAAFx1"
      },
      "outputs": [],
      "source": [
        "# Sucess corresponds to a person coming across green light\n",
        "# n = 8, p= 0.31\n",
        "# X = total no. of success = Bin(n = 8, p = 0.31)\n",
        "# We are interested in P(X = 5)\n",
        "n = 8\n",
        "p = 0.31\n",
        "dbinom(5, n, p)\n",
        "\n",
        "## Sampling space\n",
        "s = c('g', 'ng')\n",
        "\n",
        "## Probability for sampling an element from the sampling space\n",
        "p = c(0.31, 0.69)\n",
        "\n",
        "## Simulate the random experiment \n",
        "nsimulations = 1e6\n",
        "simulatedData = replicate(nsimulations, sample(s, size = 8, replace = TRUE, prob = p))\n",
        "\n",
        "## Check event if 5 out of 8 times the person comes across green light\n",
        "checkEvent = function(data){\n",
        "  if (sum(data == 'g') == 5){\n",
        "    return(1)\n",
        "  }\n",
        "  else{\n",
        "    return(0)\n",
        "  }\n",
        "}\n",
        "#simulatedData\n",
        "## Calculate probability that 5 out of 8 times the person comes across green light\n",
        "mean(apply(simulatedData, 2, checkEvent))"
      ]
    },
    {
      "cell_type": "markdown",
      "metadata": {
        "id": "RV89NoKMr5Mi"
      },
      "source": [
        "**Example:** An oil company has a $20\\%$ chance of striking oil when drilling a well. What is the probability the company will strike oil 3 times in 7 drilling attempts?"
      ]
    },
    {
      "cell_type": "code",
      "execution_count": null,
      "metadata": {
        "id": "Yoxa5p-Ts_U1"
      },
      "outputs": [],
      "source": [
        "# X ~` HyperGeom(nsuccess = 2000, nfailure = 8000 , n = 7)\n",
        "# X ~ Bin(n = 7, p = 0.2)\n",
        "nsuccess = 2000\n",
        "nfailure = 8000\n",
        "n = 7\n",
        "dhyper(3, nsuccess, nfailure, n)\n",
        "\n",
        "n = 7\n",
        "p = 0.2\n",
        "dbinom(3, n, p)"
      ]
    },
    {
      "cell_type": "markdown",
      "metadata": {
        "id": "wLc8POeyB5ER"
      },
      "source": [
        "**Example:** An oil company has a $20\\%$ chance of striking oil when drilling a well. What is the probability the company drills $7$ times to strike oil the 3rd time?"
      ]
    },
    {
      "cell_type": "code",
      "execution_count": null,
      "metadata": {
        "id": "VpLrxbq5e1KF"
      },
      "outputs": [],
      "source": [
        "# We are interested in the random number of trials until the 3rd success\n",
        "# X ~ NegBin(r = 3, p = 0.2)\n",
        "r = 3\n",
        "p = 0.2\n",
        "dnbinom(7-r, r, p)"
      ]
    },
    {
      "cell_type": "markdown",
      "metadata": {
        "id": "RAxeLcPRln7I"
      },
      "source": [
        "**Example:** A person conducting telephone surveys must get 4 more completed surveys before their job is finished. On each randomly dialed number, there is a 90% chance of the participant rejecting the call. What is the probability that the person will finish their job at the 10th call?"
      ]
    },
    {
      "cell_type": "code",
      "execution_count": 21,
      "metadata": {
        "id": "RKoyi8mJfdpN"
      },
      "outputs": [
        {
          "data": {
            "text/html": [
              "0.0044641044"
            ],
            "text/latex": [
              "0.0044641044"
            ],
            "text/markdown": [
              "0.0044641044"
            ],
            "text/plain": [
              "[1] 0.004464104"
            ]
          },
          "metadata": {},
          "output_type": "display_data"
        }
      ],
      "source": [
        "p = 0.1\n",
        "r = 4\n",
        "dnbinom(10-r, r, p)"
      ]
    },
    {
      "cell_type": "markdown",
      "metadata": {
        "id": "3P7WCtp7PAx0"
      },
      "source": [
        "**Example:** A certain stoplight, when coming from the North, is green approximately 31% of\n",
        "the time. On the next day, someone comes to this light 8 times from the\n",
        "North. We are interested in the probability that the person will come across green light at most 5 times.\n",
        "\n",
        "$$X\\sim\\text{Bin}(n=8, p=0.31)$$\n",
        "\n",
        "and we need $$P(X \\leq 5) = P(X=0)+P(X=1)+P(X=2)+P(X=3)+P(X=4)+P(X=5).$$\n",
        "\n",
        "* Probability Mass Function (PMF): $P_X(j) = P(X = j)$. We calculate $P_X(5) = P(X=5)$ using the $\\texttt{dbinom}$ function.\n",
        "\n",
        "* Cumulative Distribution Funcion (CDF): $F_X(j) = P(X \\leq j)$. We calculate $F_X(5) = P(X\\leq5)$ using the $\\texttt{pbinom}$ function."
      ]
    },
    {
      "cell_type": "code",
      "execution_count": null,
      "metadata": {
        "id": "oNqvO5lJ0W8f"
      },
      "outputs": [],
      "source": [
        "# X ~ Bin(n = 8, p = 0.31)\n",
        "dbinom(5, n, p) # PMF P(X = 5)\n",
        "pbinom(5, n, p) # CDF P(X <= 5) = P(X = 0) + P(X = 1) + ... + P(X = 5)"
      ]
    },
    {
      "cell_type": "markdown",
      "metadata": {
        "id": "970smlhNjWO4"
      },
      "source": [
        "**Example:** An assembly line produces products that they put into boxes of 50. The inspector then randomly picks 3 items inside a box to test to see if they are defective. In a box containing 4 defectives, they are interested in the probability that at least one of the three items sampled is defective.\n",
        "\n",
        "We need $$ P(X \\geq 1),$$ where $$X\\sim\\text{Hyper}(n_{success} = 4, n_{failure} = 46, n = 3).$$\n",
        "\n",
        "$$P(X >= 1) = 1 - \\underbrace{P(X <=0)}_{=F_X(0)}$$"
      ]
    },
    {
      "cell_type": "code",
      "execution_count": null,
      "metadata": {
        "id": "Tr7ndf392Ipk"
      },
      "outputs": [],
      "source": [
        "nsuccess = 4\n",
        "nfailure = 46\n",
        "n = 3\n",
        "1-phyper(0, nsuccess, nfailure, n)"
      ]
    },
    {
      "cell_type": "code",
      "execution_count": null,
      "metadata": {
        "id": "-k7ZoImYc4AV"
      },
      "outputs": [],
      "source": [
        "n = 5\n",
        "p = 0.01\n",
        "dbinom(c(0:5), n, p)"
      ]
    },
    {
      "cell_type": "markdown",
      "metadata": {
        "id": "AdjusB7IVR50"
      },
      "source": [
        "**Example** At an airport, it is know that approximately 2 out of 10 passengers have a metallic object. If left undetected at the manual security check at the airport entrance,  such a metallic object will raise an alarm when the passenger walks through an automated screening machine. It is considered a security breach when the alarm gets raised 20 times a day. What is the probability of a security breach on a particular day when the 100th passenger walks through the automated screening machine?"
      ]
    },
    {
      "cell_type": "code",
      "execution_count": null,
      "metadata": {
        "id": "2OOEgbMf5-6m"
      },
      "outputs": [],
      "source": [
        "# X  ~ NegBin(r = 20, p = 0.2)\n",
        "r = 20\n",
        "p = 2/10\n",
        "dnbinom(100-r, r, p)"
      ]
    },
    {
      "cell_type": "markdown",
      "metadata": {
        "id": "8SFBTm-_jBIz"
      },
      "source": [
        "**Example:** \n",
        "\n",
        "![Production problem](https://bl3302files.storage.live.com/y4mQmboNuB8pzzTSeQ43MRiv0qHzGJuNApOK4K2tSP3rzOrM9q-geOoOpVpHtISM3kIq6BjF_Nfw4SxOcrQGYnvciSlcXZxpvV_fiw8xW5jHpQr0i5_fmnbXg300oB4JhhNULb4PB27BVND1kJRpTLK8LRMXyf7KBaaULR9Y9q_Rtz6qvi0bYPFZwcEkvCEHM7d?width=780&height=540&cropmode=none)"
      ]
    },
    {
      "cell_type": "code",
      "execution_count": 15,
      "metadata": {
        "id": "BPl2AzC9ODVm"
      },
      "outputs": [
        {
          "data": {
            "text/html": [
              "<style>\n",
              ".list-inline {list-style: none; margin:0; padding: 0}\n",
              ".list-inline>li {display: inline-block}\n",
              ".list-inline>li:not(:last-child)::after {content: \"\\00b7\"; padding: 0 .5ex}\n",
              "</style>\n",
              "<ol class=list-inline><li>0.993767159399725</li><li>0.935461344895218</li><li>0.568535912913289</li><li>0.106975415033176</li><li>0.0107726854553908</li><li>0.000989020869339355</li></ol>\n"
            ],
            "text/latex": [
              "\\begin{enumerate*}\n",
              "\\item 0.993767159399725\n",
              "\\item 0.935461344895218\n",
              "\\item 0.568535912913289\n",
              "\\item 0.106975415033176\n",
              "\\item 0.0107726854553908\n",
              "\\item 0.000989020869339355\n",
              "\\end{enumerate*}\n"
            ],
            "text/markdown": [
              "1. 0.993767159399725\n",
              "2. 0.935461344895218\n",
              "3. 0.568535912913289\n",
              "4. 0.106975415033176\n",
              "5. 0.0107726854553908\n",
              "6. 0.000989020869339355\n",
              "\n",
              "\n"
            ],
            "text/plain": [
              "[1] 0.9937671594 0.9354613449 0.5685359129 0.1069754150 0.0107726855\n",
              "[6] 0.0009890209"
            ]
          },
          "metadata": {},
          "output_type": "display_data"
        },
        {
          "data": {
            "text/html": [
              "<style>\n",
              ".list-inline {list-style: none; margin:0; padding: 0}\n",
              ".list-inline>li {display: inline-block}\n",
              ".list-inline>li:not(:last-child)::after {content: \"\\00b7\"; padding: 0 .5ex}\n",
              "</style>\n",
              "<ol class=list-inline><li>0.00623284060027491</li><li>0.0645386551047817</li><li>0.431464087086711</li><li>0.893024584966824</li><li>0.989227314544609</li><li>0.999010979130661</li></ol>\n"
            ],
            "text/latex": [
              "\\begin{enumerate*}\n",
              "\\item 0.00623284060027491\n",
              "\\item 0.0645386551047817\n",
              "\\item 0.431464087086711\n",
              "\\item 0.893024584966824\n",
              "\\item 0.989227314544609\n",
              "\\item 0.999010979130661\n",
              "\\end{enumerate*}\n"
            ],
            "text/markdown": [
              "1. 0.00623284060027491\n",
              "2. 0.0645386551047817\n",
              "3. 0.431464087086711\n",
              "4. 0.893024584966824\n",
              "5. 0.989227314544609\n",
              "6. 0.999010979130661\n",
              "\n",
              "\n"
            ],
            "text/plain": [
              "[1] 0.006232841 0.064538655 0.431464087 0.893024585 0.989227315 0.999010979"
            ]
          },
          "metadata": {},
          "output_type": "display_data"
        }
      ],
      "source": [
        "n = 5 # sample size\n",
        "j = c(0:n) # no. of successes (no. of defective items)\n",
        "\n",
        "p_IC = 0.99 # prior probability that the machine is in control for a production batch\n",
        "p_OC = 1-p_IC # prior probability that the machine is out of control for a production batch\n",
        "\n",
        "defectRate_IC = 0.01 # probability of producing a defective item when in control\n",
        "defectRate_OC = 0.1 # probability of producing a defective item when out of control\n",
        "\n",
        "# Posterior (updated) probability that the machine is in control after\n",
        "# observing j defective items in a sample of size 5\n",
        "(p_IC * dbinom(j, n, defectRate_IC))/(p_IC * dbinom(j, n, defectRate_IC) + p_OC * dbinom(j, n, defectRate_OC))\n",
        "\n",
        "# Posterior (updated) probability that the machine is  out of control\n",
        "# observing j defective items in a sample of size 5\n",
        "(p_OC * dbinom(j, n, defectRate_OC))/(p_OC * dbinom(j, n, defectRate_OC) + p_IC * dbinom(j, n, defectRate_IC))"
      ]
    },
    {
      "cell_type": "markdown",
      "metadata": {
        "id": "mOBxEnpGVJ3_"
      },
      "source": [
        "**(15)** It is known that diskettes produced by a certain company will be defective with probability .01, independently of each other. The company sells the diskettes in packages of size 10 and offers a money-back guarantee that at most 1 of the 10 diskettes in the package will be defective. The guarantee is that the customer can return the entire package of diskettes if he or she finds more than one defective diskette in it. If someone buys 3 packages, what is the probability that he or she will return exactly 1 of them?\n",
        "\n",
        "Let $X$ be the number of packages that are returned. \n",
        "\n",
        "$$X \\sim\\text{Bin}(n = 3, p_X =\\ ?),$$\n",
        "\n",
        "and we want $P(X = 1).$\n",
        "\n",
        "The number of defective items in a package:\n",
        "\n",
        "$$Z \\sim\\text{Bin}(n = 10, p_Z = 0.01).$$\n",
        "\n",
        "$$p_X = P(Z > 1) = 1-\\underbrace{P(Z <= 1)}_{F_Z(1)}.$$"
      ]
    },
    {
      "cell_type": "code",
      "execution_count": null,
      "metadata": {
        "id": "zLuTXv67KEPU"
      },
      "outputs": [],
      "source": [
        "# Z ~ Bin(n_Z = 10, p_Z = 0.01)\n",
        "n_Z = 10\n",
        "p_Z = 0.01\n",
        "#p_X = P(Z > 1) = 1- P(Z <= 1)\n",
        "p_X = 1 - pbinom(1, n_Z, p_Z)\n",
        "\n",
        "# X ~ Bin(n_X = 3, p_X = calculate above)\n",
        "# P(X = 1)\n",
        "n_X = 3\n",
        "dbinom(1, n_X, p_X)\n"
      ]
    },
    {
      "cell_type": "markdown",
      "metadata": {
        "id": "l44os9ZNM1Xe"
      },
      "source": [
        "**Example:** Consider a computer cluster (data center) of 100 web servers, where incoming requests are\n",
        "randomly assigned to servers with equal probability. Based on historical averages, each\n",
        "server in the data center receives requests at a rate of 3 per second. Some buggy server code\n",
        "was just deployed to all the servers in the cluster and as a result any server will crash if it\n",
        "receives more than 8 requests in a second. What is the approximate probability that no\n",
        "servers have crashed 1 second after the buggy code is deployed?"
      ]
    },
    {
      "cell_type": "code",
      "execution_count": null,
      "metadata": {
        "id": "mDayaX5qMsGv"
      },
      "outputs": [],
      "source": [
        "lambda = 3\n",
        "nservers = 100\n",
        "ppois(8, lambda)^100\n",
        "sum(dpois(c(0:8), lambda))"
      ]
    },
    {
      "cell_type": "markdown",
      "metadata": {
        "id": "DNkEvWQnN3GY"
      },
      "source": [
        "**Example:** The number of times a person's computer crashes in a month is a Poisson random variable\n",
        "with λ = 5. Suppose that a new operating system patch is released that reduces the Poisson\n",
        "parameter to λ = 3 for 75% of computers, and for the other 25% of computers the patch has\n",
        "no effect on the rate of crashes. If a person installs the patch, and has his/her computer crash\n",
        "2 times in the month thereafter, how likely is it that the patch has had an effect on the user's\n",
        "computer (i.e., it is one of the 75% of computers that the patch reduces crashes on)?\n",
        "\n",
        "We want $$P(\\text{patch works}\\,\\left\\lvert\\,\\text{2 crashes}\\right.)$$\n",
        "\n",
        "Let $X$ be the random number of crashes.\n",
        "\n",
        "$$X\\,\\left\\lvert\\,\\text{patch no works}\\right.\\sim\\text{Poi}(\\lambda = 5),$$\n",
        "\n",
        "$$X\\,\\left\\lvert\\,\\text{patch works}\\right.\\sim\\text{Poi}(\\lambda = 3).$$\n",
        "\n",
        "$$P(\\text{patch works}\\,\\left\\lvert\\,\\text{2 crashes}\\right.) = \\frac{P(\\text{2 crashes}\\,\\left\\lvert\\,\\text{patch works}\\right.)\\times P(\\text{patch works})}{P(\\text{2 crashes}\\,\\left\\lvert\\,\\text{patch works}\\right.)\\times P(\\text{patch works})+P(\\text{2 crashes}\\,\\left\\lvert\\,\\text{patch no works}\\right.)\\times P(\\text{patch no works})}.$$"
      ]
    },
    {
      "cell_type": "code",
      "execution_count": null,
      "metadata": {
        "id": "imdQQkiPN6jD"
      },
      "outputs": [],
      "source": [
        "lambda_patchworks = 3\n",
        "lambda_patchnoworks = 5\n",
        "\n",
        "p_patchworks = 0.75\n",
        "p_patchnoworks = 1-p_patchworks\n",
        "\n",
        "(dpois(2, lambda_patchworks)*p_patchworks)/(dpois(2, lambda_patchworks)*p_patchworks + dpois(2, lambda_patchnoworks)*p_patchnoworks)\n",
        "(dpois(3, lambda_patchworks)*p_patchworks)/(dpois(3, lambda_patchworks)*p_patchworks + dpois(3, lambda_patchnoworks)*p_patchnoworks)"
      ]
    },
    {
      "cell_type": "markdown",
      "metadata": {
        "id": "w-CWDppNUJYS"
      },
      "source": [
        "Calculate the expected value of a binomial random variable:  $$X\\sim\\text{Bin}(n = 12, p = 0.2).$$"
      ]
    },
    {
      "cell_type": "code",
      "execution_count": null,
      "metadata": {
        "id": "ZbFTm99xj0ba"
      },
      "outputs": [],
      "source": [
        "# Expected value in theory\n",
        "n = 12\n",
        "p = 0.2\n",
        "j = c(0:n)\n",
        "#j\n",
        "#dbinom(j, n, p)\n",
        "#dbinom(j, n, p) * j\n",
        "sum(dbinom(j, n, p) * j)"
      ]
    },
    {
      "cell_type": "code",
      "execution_count": null,
      "metadata": {
        "id": "ZrF4-g7CUnfC"
      },
      "outputs": [],
      "source": [
        "# Expected value by simulation\n",
        "nsimulations = 1e6\n",
        "n = 12\n",
        "p = 0.2\n",
        "simulatedData = rbinom(nsimulations, n, p)\n",
        "#simulatedData\n",
        "mean(simulatedData)\n",
        "#plot(dbinom(c(0:n), n , p))"
      ]
    },
    {
      "cell_type": "markdown",
      "metadata": {
        "id": "wLutphnzmjy3"
      },
      "source": [
        "Expected value of a negative binomial random variable:$$X\\sim\\text{NegBin}(r = 4, p = 0.2).$$"
      ]
    },
    {
      "cell_type": "code",
      "execution_count": null,
      "metadata": {
        "id": "iQPFC9QFnIO2"
      },
      "outputs": [],
      "source": [
        "# Expected value in theory\n",
        "r = 4\n",
        "p = 0.2\n",
        "j = c(4:1e6)\n",
        "sum(dnbinom(j-r, r, p) * (j-r))"
      ]
    },
    {
      "cell_type": "code",
      "execution_count": null,
      "metadata": {
        "id": "2DEL2Hs-nmzO"
      },
      "outputs": [],
      "source": [
        "# Expected value by simulation\n",
        "r = 4\n",
        "p = 0.2\n",
        "nsimulations = 1e6\n",
        "simulatedData = rnbinom(nsimulations, r, p)\n",
        "#simulatedData\n",
        "mean(simulatedData)"
      ]
    },
    {
      "cell_type": "code",
      "execution_count": null,
      "metadata": {
        "id": "bVw7GPppXcYM"
      },
      "outputs": [],
      "source": [
        "# Plot frequency histogram\n",
        "n = 12\n",
        "p = 0.2\n",
        "nsimulations = 1e06\n",
        "simulatedData = rbinom(nsimulations, n, p) \n",
        "dfBinom = as.data.frame(simulatedData)\n",
        "colnames(dfBinom) = c('Output')\n",
        "p1 = ggplot(data = dfBinom, aes(x = factor(Output))) +\n",
        "  geom_bar(stat = 'count', width = 0.7, fill = 'steelblue')+\n",
        "  theme(axis.text = element_text(size = 12),\n",
        "  axis.text.x = element_text(size = 14),\n",
        "  axis.text.y = element_text(size = 14),\n",
        "  axis.title =element_text(size = 14, face = \"bold\")) +\n",
        "  labs(x = 'j',\n",
        "       y = 'Count',\n",
        "       title = sprintf('Mean = %f, Median = %f, Variance = %f', mean(simulatedData), median(simulatedData), var(simulatedData)))\n",
        "p1 "
      ]
    },
    {
      "cell_type": "code",
      "execution_count": null,
      "metadata": {
        "id": "hQ3OcSLqf_uF"
      },
      "outputs": [],
      "source": [
        "n = 12\n",
        "p = 0.2\n",
        "j = c(0:n)\n",
        "as.data.frame(cbind(j, dbinom(j, n, p)))"
      ]
    },
    {
      "cell_type": "code",
      "execution_count": null,
      "metadata": {
        "id": "fxhzfYdBYSMS"
      },
      "outputs": [],
      "source": [
        "# Plot probability mass function of a binomial random variable\n",
        "n = 12\n",
        "p = 0.2\n",
        "j = c(0:n)\n",
        "dfBinom = as.data.frame(cbind(j, dbinom(j, n, p)))\n",
        "colnames(dfBinom) = c('j', 'Prob')\n",
        "p2 = ggplot(data = dfBinom, aes(x = j, y = Prob)) +\n",
        "  geom_point(size = 5) +\n",
        "  scale_x_continuous(breaks = seq(0, n, by = 1)) +\n",
        "  theme(axis.text = element_text(size = 12),\n",
        "  axis.text.x = element_text(size = 14),\n",
        "  axis.text.y = element_text(size = 14),\n",
        "  axis.title = element_text(size = 14, face = \"bold\"))\n",
        "p2"
      ]
    },
    {
      "cell_type": "code",
      "execution_count": null,
      "metadata": {
        "id": "Jqy9Jy4x-E6F"
      },
      "outputs": [],
      "source": [
        "# Plot probability mass function of an exponential random variable\n",
        "lambda = 10\n",
        "j = c(0:1e02)\n",
        "dfPois = as.data.frame(cbind(j, dpois(j, lambda)))\n",
        "colnames(dfPois) = c('j', 'Prob')\n",
        "p2 = ggplot(data = dfPois, aes(x = j, y = Prob)) +\n",
        "  geom_point(size = 3) +\n",
        "  scale_x_continuous(breaks = seq(0, 100, by = 5)) +\n",
        "  theme(axis.text = element_text(size = 12),\n",
        "  axis.text.x = element_text(size = 14),\n",
        "  axis.text.y = element_text(size = 14),\n",
        "  axis.title = element_text(size = 14, face = \"bold\"))\n",
        "p2"
      ]
    },
    {
      "cell_type": "markdown",
      "metadata": {
        "id": "rXpiCNi9Hv0d"
      },
      "source": [
        "Plot the PMF of $X\\sim\\text{Bin}(n = 10^5, p = 10^{-4})$ and $X\\sim\\text{Poi}(\\lambda = n\\times p = 10^5\\times 10^{-4} = 10).$"
      ]
    },
    {
      "cell_type": "code",
      "execution_count": null,
      "metadata": {
        "id": "uX2z4-TzCAXN"
      },
      "outputs": [],
      "source": [
        "n = 1e5\n",
        "p = 1e-4\n",
        "lambda = n*p \n",
        "j = c(0:1e2)\n",
        "df = as.data.frame(cbind(j, dbinom(j, n, p), dpois(j, lambda)))\n",
        "colnames(df) = c('j', 'ProbBinom', 'ProbPois')\n",
        "# A new column can also be added like below \n",
        "# df['ProbPois'] = dpois(j, lambda)\n",
        "p3 = ggplot(data = df, aes(x = j, y = ProbBinom)) +\n",
        "  geom_point(size = 2, color = 'blue') +\n",
        "  scale_x_continuous(breaks = seq(0, n, by = 5)) +\n",
        "  theme(axis.text = element_text(size = 12),\n",
        "  axis.text.x = element_text(size = 14),\n",
        "  axis.text.y = element_text(size = 14),\n",
        "  axis.title = element_text(size = 14, face = \"bold\"))\n",
        "p3 = p3 + aes(x = j, y = ProbPois) +\n",
        "  geom_point(size = 2, color = 'red', alpha = 0.5)\n",
        "p3 = p3 + xlab('j') + ylab('Probability') + ggtitle('Plot of X~Bin(n,p) and X~Poi(lambda)')\n",
        "p3"
      ]
    },
    {
      "cell_type": "markdown",
      "metadata": {
        "id": "60JgucmRAGyv"
      },
      "source": [
        "**Problem-2**: The number of times that a person contracts a cold in a given year is a Poisson random variable with parameter $\\lambda=5.$  Suppose that a new wonder drug (based on large quantities of vitamin C) has just been marketed that reduces the Poisson parameter to $\\lambda=2$ for 70 percent of the population. For the remaining population, the drug has no appreciable effect on colds.\n",
        "\n",
        "1. As a member of a pharmaceutical decision making body, you are interested in knowing how likely is it that the drug is beneficial for an individual if he/she tries the drug for a year and has $1$ cold in that time. Calculate this probability. **Hint**: apply Bayes' theorem to $P(\\text{Drug beneficial}\\ |\\ \\text{1 cold}).$\n",
        "2. You will approve the drug for production if 10 people who tried the drug for a year and have 1 cold in that time each, the probability that the drug is beneficial for at least 8 of them is greater than 98%. Will you approve the drug or not? "
      ]
    },
    {
      "cell_type": "code",
      "execution_count": 1,
      "metadata": {
        "id": "gafrKr-yQJiB"
      },
      "outputs": [
        {
          "name": "stdout",
          "output_type": "stream",
          "text": [
            "[1] 0.9493581\n"
          ]
        },
        {
          "data": {
            "text/html": [
              "0.988088784784293"
            ],
            "text/latex": [
              "0.988088784784293"
            ],
            "text/markdown": [
              "0.988088784784293"
            ],
            "text/plain": [
              "[1] 0.9880888"
            ]
          },
          "metadata": {},
          "output_type": "display_data"
        },
        {
          "data": {
            "text/html": [
              "0.988088784784293"
            ],
            "text/latex": [
              "0.988088784784293"
            ],
            "text/markdown": [
              "0.988088784784293"
            ],
            "text/plain": [
              "[1] 0.9880888"
            ]
          },
          "metadata": {},
          "output_type": "display_data"
        }
      ],
      "source": [
        "p_DB = 0.7 # probability that drug is beneficial\n",
        "p_DNB = 1-p_DB # probability that drug is not beneficial\n",
        "lambda_DNB = 5\n",
        "lambda_DB = 2\n",
        "# Probability that drug is beneficial gievn 1 cold\n",
        "p = (dpois(1, lambda_DB) * p_DB) / (dpois(1, lambda_DB) * p_DB + dpois(1, lambda_DNB) * p_DNB) \n",
        "print(p)\n",
        "# Probability to decide if you will approve the drug or not\n",
        "1-pbinom(7, 10, p)\n",
        "pbinom(10, 10, p) - pbinom(7, 10, p) \n",
        "# The drug will be approved"
      ]
    },
    {
      "cell_type": "markdown",
      "metadata": {
        "id": "25HoF9cCYgh-"
      },
      "source": [
        "**Problem-4**: Suppose a random number of $K$ customers shop at a supermarket in a day. Let $X_1,X_2,\\ldots,X_K$ represent the random number of items purchased independently by the $1$st, $2$nd, $\\ldots,$ $K$th customer. The total number of items sold in a day is a random number $Y$ such that: $$ Y = X_1+X_2+\\cdots+X_K.$$ Suppose that $30$ customers visit the supermarket on an average per day. Each individual customer is \n",
        "* 20% likely to be in the age group 20-40 (encoded as 0) who buys on an average 10 items based on a Poisson distribution. \n",
        "* 35% likely to be in the age group 40-60 (encoded as 1) who buys on an average 20 items based on a Poisson distribution.\n",
        "* 45% likely to be in the age group 60 and above (encoded as 2) who buys on an average 5 items based on a Poisson distribution.\n",
        "\n",
        "Calculate the probability that the total number of items sold in a day exceeds 350 using simulation. After that, plot a histogram showing the distribution of the total number of items sold in a day. Explain in one sentence the relationship between the mean and median of the total number of items sold in a day using the shape of the histogram."
      ]
    },
    {
      "cell_type": "code",
      "execution_count": null,
      "metadata": {
        "id": "d9KnMM3Rdjxj"
      },
      "outputs": [],
      "source": [
        "customertype = sample(c(0, 1, 2), size = rpois(1, 30), prob = c(0.2, 0.35, 0.45), replace = TRUE)\n",
        "customertype\n",
        "sum(customertype == 0)\n",
        "rpois(sum(customertype == 0), 10)\n",
        "rpois(sum(customertype == 0), 10) + rpois(sum(customertype == 1), 20) + rpois(sum(customertype == 2), 5)"
      ]
    },
    {
      "cell_type": "code",
      "execution_count": null,
      "metadata": {
        "id": "rHaWqd1VY8Sk"
      },
      "outputs": [],
      "source": [
        "nsimulations = 1e5\n",
        "Y = integer(nsimulations) # create an array full of zeros for the entire simulation\n",
        "K = rpois(nsimulations, 30)\n",
        "\n",
        "for (i in 1:nsimulations){\n",
        "  if (K[i] != 0){\n",
        "    customertype = sample(c(0, 1, 2), size = K[i], prob = c(0.2, 0.35, 0.45), replace = TRUE)\n",
        "    Y[i] = sum(rpois(sum(customertype == 0), 10)) + sum(rpois(sum(customertype == 1), 20)) + sum(rpois(sum(customertype == 2), 5))\n",
        "    }\n",
        "}\n",
        "\n",
        "# Fraction of days where the total number of items sold in a day exceeds 350\n",
        "mean(Y > 350)"
      ]
    },
    {
      "cell_type": "markdown",
      "metadata": {
        "id": "toArGUBE2Gl5"
      },
      "source": [
        "$X\\sim\\text{Poi}(\\lambda = 2):$\n",
        "\n",
        "1. $P_X(j) = P(X = j)$ is the probability mass function (PMF) for $X$ evaluated for the input $j.$ Example, in R, we use $\\texttt{dpois(4, lambda)}.$\n",
        "2. $F_X(j) = P(X \\leq j) = P(X=0)+P(X=1)+\\cdots+P(X=j)$ is the cumulative distribution function (CDF) for $X$ evaluated for the input $j.$ Example, in R, we use $\\texttt{ppois(4, lambda)}.$ \n",
        "3. Suppose we want $P(X\\geq j).$ Example, in R, we use $\\texttt{1-ppois(j-1, lambda)}.$ You could also do $\\texttt{ppois(j, lambda, lower.tail = FALSE)}.$\n",
        "4. Suppose we want to simulate the random variable $X.$ We can do this in R using $\\texttt{rpois(nsimulations, lambda)}$. This generates $\\texttt{nsimulations}$ independent random values of $X$.\n",
        "5. Suppose we want the value $j$ for which $P(X \\leq j) = 0.95.$ Find the value $j$ for which the accumulated probability is 95%. Example, in R, we use $\\texttt{qpois(0.95, lambda)}.$ The answer $j$ is called the 95th percentile or the 0.95th quantile. The 50th percentile is called the median. \n",
        "\n",
        "What is the interpretation of 75th percentile - 25th percentile?"
      ]
    },
    {
      "cell_type": "code",
      "execution_count": 2,
      "metadata": {
        "id": "gqOKs4O5gX6O"
      },
      "outputs": [
        {
          "data": {
            "text/html": [
              "0.0902235221577418"
            ],
            "text/latex": [
              "0.0902235221577418"
            ],
            "text/markdown": [
              "0.0902235221577418"
            ],
            "text/plain": [
              "[1] 0.09022352"
            ]
          },
          "metadata": {},
          "output_type": "display_data"
        },
        {
          "data": {
            "text/html": [
              "0.947346982656289"
            ],
            "text/latex": [
              "0.947346982656289"
            ],
            "text/markdown": [
              "0.947346982656289"
            ],
            "text/plain": [
              "[1] 0.947347"
            ]
          },
          "metadata": {},
          "output_type": "display_data"
        },
        {
          "data": {
            "text/html": [
              "0.0526530173437111"
            ],
            "text/latex": [
              "0.0526530173437111"
            ],
            "text/markdown": [
              "0.0526530173437111"
            ],
            "text/plain": [
              "[1] 0.05265302"
            ]
          },
          "metadata": {},
          "output_type": "display_data"
        },
        {
          "data": {
            "text/html": [
              "<style>\n",
              ".list-inline {list-style: none; margin:0; padding: 0}\n",
              ".list-inline>li {display: inline-block}\n",
              ".list-inline>li:not(:last-child)::after {content: \"\\00b7\"; padding: 0 .5ex}\n",
              "</style>\n",
              "<ol class=list-inline><li>1</li><li>1</li><li>6</li><li>5</li></ol>\n"
            ],
            "text/latex": [
              "\\begin{enumerate*}\n",
              "\\item 1\n",
              "\\item 1\n",
              "\\item 6\n",
              "\\item 5\n",
              "\\end{enumerate*}\n"
            ],
            "text/markdown": [
              "1. 1\n",
              "2. 1\n",
              "3. 6\n",
              "4. 5\n",
              "\n",
              "\n"
            ],
            "text/plain": [
              "[1] 1 1 6 5"
            ]
          },
          "metadata": {},
          "output_type": "display_data"
        },
        {
          "data": {
            "text/html": [
              "5"
            ],
            "text/latex": [
              "5"
            ],
            "text/markdown": [
              "5"
            ],
            "text/plain": [
              "[1] 5"
            ]
          },
          "metadata": {},
          "output_type": "display_data"
        }
      ],
      "source": [
        "# X~Poi(lambda = 2)\n",
        "lambda = 2\n",
        "dpois(4, lambda) # P(X = 4) PMF P_X(4)\n",
        "ppois(4, lambda) # P(X <= 4) CDF F_X(4)\n",
        "ppois(4, lambda, lower.tail = FALSE) # P(X >= 4) not the CDF\n",
        "rpois(4, lambda) # simulating 4 times a Poisson random variable with lambda = 2\n",
        "qpois(.95, lambda) # this calculates the 95th percentile or 0.95th quantile"
      ]
    },
    {
      "cell_type": "code",
      "execution_count": 3,
      "metadata": {
        "id": "FvrAyoAs7Jbj"
      },
      "outputs": [
        {
          "data": {
            "text/plain": [
              "simulatedData\n",
              "     0      1      2      3      4      5      6      7      8      9     10 \n",
              "135803 270214 270450 180343  90453  36120  12011   3556    828    182     32 \n",
              "    11 \n",
              "     8 "
            ]
          },
          "metadata": {},
          "output_type": "display_data"
        },
        {
          "data": {
            "text/plain": [
              "simulatedData\n",
              "       0        1        2        3        4        5        6        7 \n",
              "0.135803 0.270214 0.270450 0.180343 0.090453 0.036120 0.012011 0.003556 \n",
              "       8        9       10       11 \n",
              "0.000828 0.000182 0.000032 0.000008 "
            ]
          },
          "metadata": {},
          "output_type": "display_data"
        },
        {
          "data": {
            "image/png": "[encoded data removed]",
            "text/plain": [
              "plot without title"
            ]
          },
          "metadata": {
            "image/png": {
              "height": 420,
              "width": 420
            }
          },
          "output_type": "display_data"
        }
      ],
      "source": [
        "nsimulations = 1e6\n",
        "lambda = 2\n",
        "simulatedData = rpois(nsimulations, lambda)\n",
        "table(simulatedData)\n",
        "table(simulatedData)/nsimulations\n",
        "plot(table(simulatedData)/nsimulations)"
      ]
    },
    {
      "cell_type": "code",
      "execution_count": null,
      "metadata": {
        "id": "3UzGQ1mfm3iQ"
      },
      "outputs": [],
      "source": [
        "lambda = 30\n",
        "qpois(0.9, lambda) # P(X <= what value) = 0.9\n",
        "# The value 37 is the 90th percentile (0.9th quantile) of the distribution Poi(lambda = 30)\n",
        "ppois(37, lambda) # P(X <= 37)\n",
        "qpois(0.5, lambda) # P(X <= what value) = 0.5, 50th percentile is the median\n",
        "qpois(0.75, lambda) # P(X <= what value) = 0.75, upper quartile \n",
        "qpois(0.25, lambda) # P(X <= what value) = 0.25, lower quartile \n",
        "qpois(0.95, lambda) # P(X <= what value) = 0.95"
      ]
    },
    {
      "cell_type": "markdown",
      "metadata": {
        "id": "bUPQaT78nG5T"
      },
      "source": [
        "Calculate the expected value, variance, and standard deviation using both theoretical definition and simulation of the random variable:\n",
        "\n",
        "1. $X\\sim\\text{Bin}(n = 12, p = 0.2).$\n",
        "2. $X\\sim\\text{Bin}(n = 12, p = 0.8).$\n",
        "3. $X\\sim\\text{Bin}(n = 12, p = 0.5).$\n",
        "4. $X\\sim\\text{Poi}(\\lambda = 1.2).$"
      ]
    },
    {
      "cell_type": "code",
      "execution_count": 5,
      "metadata": {
        "id": "0W1_hydS6tba"
      },
      "outputs": [
        {
          "name": "stdout",
          "output_type": "stream",
          "text": [
            "[1] 2.4\n",
            "[1] 1.92\n",
            "[1] 1.385641\n"
          ]
        }
      ],
      "source": [
        "# X~Bin(n = 12, p = 0.2)\n",
        "# Expected value, variance, and standard deviation of X\n",
        "# using the theoretical definition\n",
        "n = 12\n",
        "p = 0.2\n",
        "x = c(0:n)\n",
        "E_X = sum(x * dbinom(x, n, p)) # E[X] = n*p\n",
        "print(E_X)\n",
        "var_X = sum((x - E_X)^2 * dbinom(x, n, p)) # Var[X] = n*p*(1-p)\n",
        "print(var_X)\n",
        "std_X = sqrt(var_X)\n",
        "print(std_X)"
      ]
    },
    {
      "cell_type": "code",
      "execution_count": null,
      "metadata": {
        "id": "0i3cb4i3nlnf"
      },
      "outputs": [],
      "source": [
        "# Simulate the random variable X~Bin(n=12, p=0.2)\n",
        "n = 12\n",
        "p = 0.2\n",
        "nsimulations = 1e06\n",
        "simulatedData = rbinom(nsimulations, n, p)\n",
        "dfBinom = as.data.frame(table(simulatedData))\n",
        "colnames(dfBinom) = c('Values', 'Frequency')\n",
        "dfBinom['Probability'] = dfBinom['Frequency'] / nsimulations\n",
        "head(dfBinom, 5)\n",
        "p1 = ggplot(data = dfBinom, aes(x = Values, y = Frequency))+\n",
        " geom_col(width = 0.7, fill = 'steelblue')+\n",
        " ggtitle('Probability mass function X~Bin(n=12, p=0.8)')+\n",
        " theme_minimal()\n",
        "p1\n",
        "\n",
        "# Expected value using simulation\n",
        "mean(simulatedData)\n",
        "\n",
        "# Variance using simulation \n",
        "mean((simulatedData - mean(simulatedData))^2)\n",
        "\n",
        "# Standard deviation using simulation \n",
        "sqrt(mean((simulatedData - mean(simulatedData))^2))\n",
        "\n",
        "# Expected value using theoretical definition\n",
        "x = c(0:n)\n",
        "p = dbinom(x, n, p)\n",
        "sum(x*p)\n",
        "\n",
        "# Variance using theoretical definition\n",
        "sum(((x - sum(x*p))^2) * p)\n",
        "\n",
        "# Standard deviation using definition\n",
        "sqrt(sum(((x - sum(x*p))^2) * p))\n"
      ]
    },
    {
      "cell_type": "code",
      "execution_count": null,
      "metadata": {
        "id": "sqLM5tIEuj6u"
      },
      "outputs": [],
      "source": [
        "# Simulate the random variable X~Poi(lambda = 0.5)\n",
        "lambda = 0.5\n",
        "nsimulations = 1e06\n",
        "simulatedData = rpois(nsimulations, lambda)\n",
        "dfPoi = as.data.frame(table(simulatedData))\n",
        "colnames(dfPoi) = c('Values', 'Frequency')\n",
        "dfPoi['Probability'] = dfPoi['Frequency'] / nsimulations\n",
        "#head(dfPoi, 5)\n",
        "p1 = ggplot(data = dfPoi, aes(x = Values, y = Frequency))+\n",
        " geom_col(width = 0.7, fill = 'steelblue')+\n",
        " ggtitle('Probability mass function X~Poi(lambda=0.5)')+\n",
        " theme_minimal()\n",
        "p1\n",
        "\n",
        "# Expected value using simulation\n",
        "mean(simulatedData)\n",
        "\n",
        "# Variance using simulation \n",
        "mean((simulatedData - mean(simulatedData))^2)\n",
        "\n",
        "# Standard deviation using simulation \n",
        "sqrt(mean((simulatedData - mean(simulatedData))^2))\n",
        "\n",
        "# Expected value using theoretical definition\n",
        "x = c(0:1e2)\n",
        "p = dpois(x, lambda)\n",
        "sum(x*p)\n",
        "\n",
        "# Variance using theoretical definition\n",
        "sum(((x - sum(x*p))^2) * p)\n",
        "\n",
        "# Standard deviation using definition\n",
        "sqrt(sum(((x - sum(x*p))^2) * p))\n"
      ]
    }
  ],
  "metadata": {
    "colab": {
      "collapsed_sections": [],
      "name": "DiscreteRandomVariables.ipynb",
      "provenance": []
    },
    "kernelspec": {
      "display_name": "R",
      "language": "R",
      "name": "ir"
    },
    "language_info": {
      "codemirror_mode": "r",
      "file_extension": ".r",
      "mimetype": "text/x-r-source",
      "name": "R",
      "pygments_lexer": "r",
      "version": "4.1.1"
    }
  },
  "nbformat": 4,
  "nbformat_minor": 0
}
