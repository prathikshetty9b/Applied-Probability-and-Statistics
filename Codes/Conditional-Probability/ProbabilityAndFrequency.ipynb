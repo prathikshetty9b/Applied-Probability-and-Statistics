{
  "cells": [
    {
      "cell_type": "code",
      "execution_count": 2,
      "metadata": {
        "id": "dO8c1j8QqPou"
      },
      "outputs": [],
      "source": [
        "library(ggplot2)\n",
        "library(dplyr)"
      ]
    },
    {
      "cell_type": "code",
      "execution_count": 3,
      "metadata": {
        "id": "qJPFKvaSQJ7F"
      },
      "outputs": [
        {
          "name": "stdout",
          "output_type": "stream",
          "text": [
            " [1] \"T\" \"H\" \"T\" \"T\" \"H\" \"H\" \"H\" \"T\" \"H\" \"H\"\n"
          ]
        },
        {
          "data": {
            "text/html": [
              "<style>\n",
              ".list-inline {list-style: none; margin:0; padding: 0}\n",
              ".list-inline>li {display: inline-block}\n",
              ".list-inline>li:not(:last-child)::after {content: \"\\00b7\"; padding: 0 .5ex}\n",
              "</style>\n",
              "<ol class=list-inline><li>FALSE</li><li>TRUE</li><li>FALSE</li><li>FALSE</li><li>TRUE</li><li>TRUE</li><li>TRUE</li><li>FALSE</li><li>TRUE</li><li>TRUE</li></ol>\n"
            ],
            "text/latex": [
              "\\begin{enumerate*}\n",
              "\\item FALSE\n",
              "\\item TRUE\n",
              "\\item FALSE\n",
              "\\item FALSE\n",
              "\\item TRUE\n",
              "\\item TRUE\n",
              "\\item TRUE\n",
              "\\item FALSE\n",
              "\\item TRUE\n",
              "\\item TRUE\n",
              "\\end{enumerate*}\n"
            ],
            "text/markdown": [
              "1. FALSE\n",
              "2. TRUE\n",
              "3. FALSE\n",
              "4. FALSE\n",
              "5. TRUE\n",
              "6. TRUE\n",
              "7. TRUE\n",
              "8. FALSE\n",
              "9. TRUE\n",
              "10. TRUE\n",
              "\n",
              "\n"
            ],
            "text/plain": [
              " [1] FALSE  TRUE FALSE FALSE  TRUE  TRUE  TRUE FALSE  TRUE  TRUE"
            ]
          },
          "metadata": {},
          "output_type": "display_data"
        },
        {
          "data": {
            "text/html": [
              "0.6"
            ],
            "text/latex": [
              "0.6"
            ],
            "text/markdown": [
              "0.6"
            ],
            "text/plain": [
              "[1] 0.6"
            ]
          },
          "metadata": {},
          "output_type": "display_data"
        },
        {
          "data": {
            "text/plain": [
              "simulatedData\n",
              "H T \n",
              "6 4 "
            ]
          },
          "metadata": {},
          "output_type": "display_data"
        }
      ],
      "source": [
        "# Sampling space for a single fair-coin toss\n",
        "s = c('H', 'T')\n",
        "\n",
        "# Corresponding probabilities\n",
        "p = c(0.5, 0.5)\n",
        "\n",
        "nsimulations = 10\n",
        "#sample(s, size = nsimulations, replace = TRUE, prob = p)\n",
        "\n",
        "# Simulate the random experiment of tossing a single fair coin\n",
        "nsimulations = 1e1\n",
        "simulatedData = sample(s, size = nsimulations, replace = TRUE, prob = p)\n",
        "print(simulatedData)\n",
        "simulatedData == 'H'\n",
        "# What fraction of times is a condition satisfied?\n",
        "mean(simulatedData == 'H')\n",
        "table(simulatedData)"
      ]
    },
    {
      "cell_type": "code",
      "execution_count": 4,
      "metadata": {},
      "outputs": [
        {
          "data": {
            "text/html": [
              "0.4997"
            ],
            "text/latex": [
              "0.4997"
            ],
            "text/markdown": [
              "0.4997"
            ],
            "text/plain": [
              "[1] 0.4997"
            ]
          },
          "metadata": {},
          "output_type": "display_data"
        },
        {
          "data": {
            "text/html": [
              "0.5003"
            ],
            "text/latex": [
              "0.5003"
            ],
            "text/markdown": [
              "0.5003"
            ],
            "text/plain": [
              "[1] 0.5003"
            ]
          },
          "metadata": {},
          "output_type": "display_data"
        },
        {
          "data": {
            "text/plain": [
              "simulatedData\n",
              "     H      T \n",
              "500300 499700 "
            ]
          },
          "metadata": {},
          "output_type": "display_data"
        }
      ],
      "source": [
        "s = c('H','T')\n",
        "p = c(0.5,0.5)\n",
        "\n",
        "nsimulations = 1e6\n",
        "simulatedData = sample(s,size = nsimulations,replace = TRUE, prob = p)\n",
        "\n",
        "mean(simulatedData == 'T')\n",
        "mean(simulatedData == 'H')\n",
        "\n",
        "table(simulatedData)"
      ]
    },
    {
      "cell_type": "code",
      "execution_count": 5,
      "metadata": {
        "id": "fo7ybUSTRE9L"
      },
      "outputs": [
        {
          "data": {
            "image/png": "[encoded data removed]",
            "text/plain": [
              "plot without title"
            ]
          },
          "metadata": {
            "image/png": {
              "height": 420,
              "width": 420
            }
          },
          "output_type": "display_data"
        }
      ],
      "source": [
        "# Sampling space for a single fair-coin toss\n",
        "s = c('H', 'T')\n",
        "\n",
        "# Corresponding probabilities\n",
        "p = c(0.5, 0.5)\n",
        "\n",
        "# Simulate the random experiment of tossing a single fair coin\n",
        "nsimulations = 1e6\n",
        "simulatedData = sample(s, size = nsimulations, replace = TRUE, prob = p)\n",
        "\n",
        "# Create dataframe comprising frequency of each possible outcome in the sample space\n",
        "#table(simulatedData)\n",
        "df= as.data.frame(table(simulatedData))\n",
        "colnames(df) = c('Toss', 'Frequency')\n",
        "#print(df)\n",
        "\n",
        "# Frequency plot\n",
        "p = ggplot(data = df, aes(x = Toss, y = Frequency)) +\n",
        "  geom_bar(stat = 'identity', fill=\"slateblue\") +\n",
        "  geom_text(aes(label = Frequency), vjust = -0.3, size = 6)+\n",
        "  theme_minimal()\n",
        "\n",
        "p"
      ]
    },
    {
      "cell_type": "code",
      "execution_count": 6,
      "metadata": {
        "id": "npzLdm5ikINe"
      },
      "outputs": [
        {
          "data": {
            "text/html": [
              "0.250602"
            ],
            "text/latex": [
              "0.250602"
            ],
            "text/markdown": [
              "0.250602"
            ],
            "text/plain": [
              "[1] 0.250602"
            ]
          },
          "metadata": {},
          "output_type": "display_data"
        }
      ],
      "source": [
        "# Sampling space for tossing two fair coins\n",
        "s = c('H', 'T')\n",
        "\n",
        "# Corresponding probabilities\n",
        "p = c(0.5, 0.5)\n",
        "\n",
        "# Simulate the random experiment of tossing two fair coins\n",
        "nsimulations = 1e6\n",
        "simulatedData = replicate(nsimulations, sample(s, size = 2, replace = TRUE, prob = p))\n",
        "\n",
        "# Function to check if a trial results in at least one heads\n",
        "checkEvent = function(data){\n",
        "  for (val in data){\n",
        "    if (val == 'H'){\n",
        "      return(1)\n",
        "    }\n",
        "  }\n",
        "  return(0)\n",
        "}\n",
        "\n",
        "# Function to check if a trial results in distinct tosses\n",
        "checkEvent1 = function(data){\n",
        "  if (length(unique(data)) == 2){\n",
        "    return(1)\n",
        "  }\n",
        "  else{\n",
        "    return(0)\n",
        "  }\n",
        "}\n",
        "\n",
        "# Function to check if a trial results in all heads\n",
        "checkEvent2 = function(data){\n",
        "  if (data[1] == 'H' & data[2] == 'H'){\n",
        "    return(1)\n",
        "  }\n",
        "  else{\n",
        "    return(0)\n",
        "  }\n",
        "}\n",
        "\n",
        "# Function to check if a trial results in all tails\n",
        "checkEvent3 = function(data)\n",
        "{\n",
        "  if(data[1] == 'T' & data[2] == 'T'){\n",
        "    return(1)\n",
        "  }\n",
        "  return(0)\n",
        "}\n",
        "\n",
        "# Function to check if a trial results in atmost one tail\n",
        "checkEvent4 = function(data)\n",
        "{\n",
        "  if(sum(data == 'T') <= 1){\n",
        "    return(1)\n",
        "  }\n",
        "  return(0) \n",
        "}\n",
        "\n",
        "\n",
        "\n",
        "# Apply the checkEvent2() function to each column of simulatedData\n",
        "#simulatedData\n",
        "#apply(simulatedData, 2, checkEvent)\n",
        "mean(apply(simulatedData, 2, checkEvent2))"
      ]
    },
    {
      "cell_type": "code",
      "execution_count": 7,
      "metadata": {
        "id": "nQlEf0Ogq0_Q"
      },
      "outputs": [
        {
          "data": {
            "text/html": [
              "<style>\n",
              ".list-inline {list-style: none; margin:0; padding: 0}\n",
              ".list-inline>li {display: inline-block}\n",
              ".list-inline>li:not(:last-child)::after {content: \"\\00b7\"; padding: 0 .5ex}\n",
              "</style>\n",
              "<ol class=list-inline><li>1</li><li>2</li><li>3</li><li>4</li><li>5</li><li>6</li></ol>\n"
            ],
            "text/latex": [
              "\\begin{enumerate*}\n",
              "\\item 1\n",
              "\\item 2\n",
              "\\item 3\n",
              "\\item 4\n",
              "\\item 5\n",
              "\\item 6\n",
              "\\end{enumerate*}\n"
            ],
            "text/markdown": [
              "1. 1\n",
              "2. 2\n",
              "3. 3\n",
              "4. 4\n",
              "5. 5\n",
              "6. 6\n",
              "\n",
              "\n"
            ],
            "text/plain": [
              "[1] 1 2 3 4 5 6"
            ]
          },
          "metadata": {},
          "output_type": "display_data"
        },
        {
          "data": {
            "text/html": [
              "6"
            ],
            "text/latex": [
              "6"
            ],
            "text/markdown": [
              "6"
            ],
            "text/plain": [
              "[1] 6"
            ]
          },
          "metadata": {},
          "output_type": "display_data"
        },
        {
          "data": {
            "text/html": [
              "<style>\n",
              ".list-inline {list-style: none; margin:0; padding: 0}\n",
              ".list-inline>li {display: inline-block}\n",
              ".list-inline>li:not(:last-child)::after {content: \"\\00b7\"; padding: 0 .5ex}\n",
              "</style>\n",
              "<ol class=list-inline><li>FALSE</li><li>TRUE</li><li>TRUE</li><li>TRUE</li><li>FALSE</li><li>FALSE</li><li>FALSE</li><li>FALSE</li><li>FALSE</li><li>FALSE</li><li>FALSE</li><li>FALSE</li></ol>\n"
            ],
            "text/latex": [
              "\\begin{enumerate*}\n",
              "\\item FALSE\n",
              "\\item TRUE\n",
              "\\item TRUE\n",
              "\\item TRUE\n",
              "\\item FALSE\n",
              "\\item FALSE\n",
              "\\item FALSE\n",
              "\\item FALSE\n",
              "\\item FALSE\n",
              "\\item FALSE\n",
              "\\item FALSE\n",
              "\\item FALSE\n",
              "\\end{enumerate*}\n"
            ],
            "text/markdown": [
              "1. FALSE\n",
              "2. TRUE\n",
              "3. TRUE\n",
              "4. TRUE\n",
              "5. FALSE\n",
              "6. FALSE\n",
              "7. FALSE\n",
              "8. FALSE\n",
              "9. FALSE\n",
              "10. FALSE\n",
              "11. FALSE\n",
              "12. FALSE\n",
              "\n",
              "\n"
            ],
            "text/plain": [
              " [1] FALSE  TRUE  TRUE  TRUE FALSE FALSE FALSE FALSE FALSE FALSE FALSE FALSE"
            ]
          },
          "metadata": {},
          "output_type": "display_data"
        },
        {
          "data": {
            "text/html": [
              "<style>\n",
              ".list-inline {list-style: none; margin:0; padding: 0}\n",
              ".list-inline>li {display: inline-block}\n",
              ".list-inline>li:not(:last-child)::after {content: \"\\00b7\"; padding: 0 .5ex}\n",
              "</style>\n",
              "<ol class=list-inline><li>2</li><li>3</li><li>4</li></ol>\n"
            ],
            "text/latex": [
              "\\begin{enumerate*}\n",
              "\\item 2\n",
              "\\item 3\n",
              "\\item 4\n",
              "\\end{enumerate*}\n"
            ],
            "text/markdown": [
              "1. 2\n",
              "2. 3\n",
              "3. 4\n",
              "\n",
              "\n"
            ],
            "text/plain": [
              "[1] 2 3 4"
            ]
          },
          "metadata": {},
          "output_type": "display_data"
        }
      ],
      "source": [
        "anarray = c(1, 2, 2, 2, 3, 3, 4, 5, 5, 5, 5, 6)\n",
        "unique(anarray)\n",
        "length(unique(anarray))\n",
        "anarray == 2\n",
        "which(anarray == 2)"
      ]
    },
    {
      "cell_type": "code",
      "execution_count": 8,
      "metadata": {},
      "outputs": [
        {
          "name": "stdout",
          "output_type": "stream",
          "text": [
            "[1] \"P(Sum of Rolls is atleast 7) = 0.583402\"\n"
          ]
        },
        {
          "data": {
            "image/png": "[encoded data removed]",
            "text/plain": [
              "plot without title"
            ]
          },
          "metadata": {
            "image/png": {
              "height": 420,
              "width": 420
            }
          },
          "output_type": "display_data"
        }
      ],
      "source": [
        "#sampling space for rolling a single fair die\n",
        "s = c(1,2,3,4,5,6)\n",
        "\n",
        "#corresponding probabilities\n",
        "p = 1/6 * replicate(6,1)\n",
        "\n",
        "#simualate the random experiment of rolling a pair of fair dice\n",
        "nsimulations = 1e6\n",
        "simulatedData = replicate(nsimulations,sample(s,size =2, replace = TRUE, prob = p))\n",
        "\n",
        "#Function to check if  sum of rolls is atleast 7\n",
        "checkEventGe7 = function(data)\n",
        "{\n",
        "    if(sum(data) >= 7){\n",
        "        return(1)\n",
        "    }\n",
        "    return(0)\n",
        "}\n",
        "\n",
        "print(paste0('P(Sum of Rolls is atleast 7) = ',mean(apply(simulatedData,2, checkEventGe7))))\n",
        "\n",
        "#dataframe\n",
        "df = as.data.frame(table(simulatedData))\n",
        "colnames(df) = c('Roll','Frequency')\n",
        "\n",
        "#frequency plot\n",
        "plot = ggplot(data = df, aes(x = Roll, y = Frequency)) +\n",
        "    geom_bar(stat = 'identity', fill=\"deeppink1\") +\n",
        "    geom_text(aes(label = Frequency), vjust = -0.3, size = 6)+\n",
        "    theme_minimal()\n",
        "plot\n",
        "\n"
      ]
    },
    {
      "cell_type": "code",
      "execution_count": 9,
      "metadata": {
        "id": "fyTmcap9zx8Y"
      },
      "outputs": [
        {
          "data": {
            "text/html": [
              "0.033519"
            ],
            "text/latex": [
              "0.033519"
            ],
            "text/markdown": [
              "0.033519"
            ],
            "text/plain": [
              "[1] 0.033519"
            ]
          },
          "metadata": {},
          "output_type": "display_data"
        }
      ],
      "source": [
        "# Sampling space for the faulty-worker problem\n",
        "s = c('w1', 'w2', 'w3', 'w4', 'w5')\n",
        "\n",
        "# Corresponding probabilities\n",
        "p = c(1/5, 1/5, 1/5, 1/5, 1/5)\n",
        "\n",
        "# Simulate the random experiment of 5 machinists breaking 5 machines\n",
        "nsimulations = 1e6\n",
        "simulatedData = replicate(nsimulations, sample(s, size = 5, replace = TRUE, prob = p))\n",
        "\n",
        "# Function to check if a specific worker breaks at least 4 machines\n",
        "checkEvent3 = function(data){\n",
        "unique_workers = unique(data)\n",
        "for (val in unique_workers){\n",
        "  if (length(which(data == val)) >= 4){\n",
        "    return(1)\n",
        "  }\n",
        "}  \n",
        "return(0)\n",
        "}\n",
        "\n",
        "# Apply the checkEvent3 functions to each column of simulatedData\n",
        "#simulatedData\n",
        "#apply(simulatedData, 2, checkEvent3)\n",
        "mean(apply(simulatedData, 2, checkEvent3))"
      ]
    },
    {
      "cell_type": "code",
      "execution_count": 17,
      "metadata": {
        "id": "t0p909qDlydY"
      },
      "outputs": [
        {
          "ename": "ERROR",
          "evalue": "Error in parse(text = x, srcfile = src): <text>:13:1: unexpected 'else'\n12: }\n13: else\n    ^\n",
          "output_type": "error",
          "traceback": [
            "Error in parse(text = x, srcfile = src): <text>:13:1: unexpected 'else'\n12: }\n13: else\n    ^\nTraceback:\n"
          ]
        }
      ],
      "source": [
        "data = c('Su', 'Tu', 'We')\n",
        "#data = c('Fri', 'Sa', 'Su')\n",
        "# data\n",
        "# data == 'Sa'\n",
        "# data == 'Su'\n",
        "# data == 'Sa' | data == 'Su'\n",
        "# all(c(1, 1, 0))\n",
        "# any(c(1, 1, 0))\n",
        "\n",
        "if (('Su' %in% data) | ('Sa' %in% data)){\n",
        "  return(0)\n",
        "}\n",
        "else {\n",
        "   return(1)\n",
        "}\n",
        "\n"
      ]
    },
    {
      "cell_type": "code",
      "execution_count": 18,
      "metadata": {
        "id": "B1s-q2Sna89y"
      },
      "outputs": [
        {
          "data": {
            "text/html": [
              "<style>\n",
              ".list-inline {list-style: none; margin:0; padding: 0}\n",
              ".list-inline>li {display: inline-block}\n",
              ".list-inline>li:not(:last-child)::after {content: \"\\00b7\"; padding: 0 .5ex}\n",
              "</style>\n",
              "<ol class=list-inline><li>0.8</li><li>0.2</li></ol>\n"
            ],
            "text/latex": [
              "\\begin{enumerate*}\n",
              "\\item 0.8\n",
              "\\item 0.2\n",
              "\\end{enumerate*}\n"
            ],
            "text/markdown": [
              "1. 0.8\n",
              "2. 0.2\n",
              "\n",
              "\n"
            ],
            "text/plain": [
              "[1] 0.8 0.2"
            ]
          },
          "metadata": {},
          "output_type": "display_data"
        }
      ],
      "source": [
        "npassengers = 5\n",
        "s1 = c(1, 0) # 1 corresponds to leaving the bus\n",
        "p1 = c(0.2, 0.8)\n",
        "left = sum(sample(s1, size = npassengers, replace = TRUE, prob = p1))\n",
        "p = array(c(replicate(3, c(0.8, 0.2)), replicate(4, c(0.2, 0.8)), replicate(3, c(0.8, 0.2))), dim = c(2, 10))\n",
        "p[, 9]"
      ]
    },
    {
      "cell_type": "code",
      "execution_count": null,
      "metadata": {
        "id": "XjbB7d5S3KJn"
      },
      "outputs": [
        {
          "data": {
            "text/html": [
              "0.05337"
            ],
            "text/latex": [
              "0.05337"
            ],
            "text/markdown": [
              "0.05337"
            ],
            "text/plain": [
              "[1] 0.05337"
            ]
          },
          "metadata": {},
          "output_type": "display_data"
        }
      ],
      "source": [
        "## Bus-ridership analysis\n",
        "\n",
        "# Sampling space for leaving the bus\n",
        "s1 = c(1, 0) # 1 corresponds to leaving the bus\n",
        "p1 = c(0.2, 0.8)\n",
        "p = array(c(replicate(3, c(0.8, 0.2)), replicate(4, c(0.2, 0.8)), replicate(3, c(0.8, 0.2))), dim = c(2, 10))\n",
        "\n",
        "# Sampling space for boarding the bus\n",
        "s2 = c(0, 1, 2)\n",
        "p2 = c(0.5, 0.4, 0.1)\n",
        "\n",
        "# Simulate the number of passengers from stop-1 to stop-10\n",
        "nstops = 10 # number of stops\n",
        "npassengers = 0 # number of passengers in the bus initially\n",
        "\n",
        "# User-defined function for simulating one trial of the bus ride\n",
        "# through all the stops\n",
        "simTrial = function(nstops){\n",
        "# Run through every stop\n",
        "for (j in 1:nstops){\n",
        "  # If we have at least one passenger in the bus\n",
        "  # simulate the leaving process\n",
        "  if (npassengers > 0){\n",
        "    left = sum(sample(s1, size = npassengers, replace = TRUE, prob = p1))\n",
        "    npassengers = npassengers - left\n",
        "  }\n",
        "  # Else if no passengers on the bus, then nobody leaves the bus\n",
        "  else if (npassengers == 0){\n",
        "    left = 0\n",
        "  }\n",
        "  # Simulating the boarding process\n",
        "  boarded = sample(s2, size = 1, replace = FALSE, prob = p2)\n",
        "  npassengers = npassengers + boarded\n",
        "  # Print the status at every stop\n",
        "  #cat(sprintf('No. of passengers after stop-%d is %d (left = %d, boarded = %d)\\n', j, npassengers, left, boarded))\n",
        "}\n",
        "return(npassengers)\n",
        "}\n",
        "\n",
        "nsimulations = 1e5\n",
        "simulatedData = replicate(nsimulations, simTrial(nstops))\n",
        "\n",
        "mean(simulatedData == 0)"
      ]
    },
    {
      "cell_type": "code",
      "execution_count": null,
      "metadata": {
        "id": "n-skjj0gz4mn"
      },
      "outputs": [
        {
          "data": {
            "text/html": [
              "0.34538"
            ],
            "text/latex": [
              "0.34538"
            ],
            "text/markdown": [
              "0.34538"
            ],
            "text/plain": [
              "[1] 0.34538"
            ]
          },
          "metadata": {},
          "output_type": "display_data"
        },
        {
          "data": {
            "text/html": [
              "0.65462"
            ],
            "text/latex": [
              "0.65462"
            ],
            "text/markdown": [
              "0.65462"
            ],
            "text/plain": [
              "[1] 0.65462"
            ]
          },
          "metadata": {},
          "output_type": "display_data"
        }
      ],
      "source": [
        "# Scenario: we have 28 students in our class. There\n",
        "# are 365 different days in a year for a student's birthday.\n",
        "# What is the probability that at least two students\n",
        "# have the same birthday\n",
        "\n",
        "nstudents = 28\n",
        "\n",
        "# Sampling space\n",
        "s = c(1:365)\n",
        "\n",
        "# Corresponding probabilities\n",
        "n = length(s)\n",
        "p = (1/n)*replicate(n, 1)\n",
        "\n",
        "# Simulate the random experiment of assigning birthdays to all students\n",
        "nsimulations = 1e6\n",
        "simulatedData = replicate(nsimulations, sample(s, size = nstudents, replace = TRUE, prob = p))\n",
        "#simulatedData\n",
        "\n",
        "# Function to check if all birthdays are unique\n",
        "checkEvent = function(data){\n",
        "  if (length(unique(data)) == nstudents){\n",
        "    return(1)\n",
        "  }\n",
        "  else{\n",
        "    return(0)\n",
        "  }\n",
        "}\n",
        "\n",
        "# Probability that all birthdays are unique\n",
        "mean(apply(simulatedData, 2, checkEvent))\n",
        "\n",
        "# Probability that at least 2 students share their birthday\n",
        "1 - mean(apply(simulatedData, 2, checkEvent))\n"
      ]
    },
    {
      "cell_type": "markdown",
      "metadata": {
        "id": "GJEDSg_LB7PU"
      },
      "source": [
        "![](https://bl3302files.storage.live.com/y4mLJ61422vc8ZN7yNjFoP6erxQ3vJLXAO8DR8MpnMNowvwiWiJCAvjIaIQIprfd4tH6WF1Cx5-bYKXaCvdT3DAd8n4HopZVWZI9wkFrxsksTON04_fk1sPWwtZN6tEbcpK1KDaAMRqaFjDLj26FhJgXgcATLo7pcl9DLgPJaPNxJOM7laVRMkjAIqCuLklmFYw?width=520&height=200&cropmode=none)"
      ]
    },
    {
      "cell_type": "code",
      "execution_count": 19,
      "metadata": {
        "id": "RPL5L8wyHZXm"
      },
      "outputs": [
        {
          "data": {
            "text/html": [
              "<table class=\"dataframe\">\n",
              "<caption>A matrix: 5 × 2 of type dbl</caption>\n",
              "<tbody>\n",
              "\t<tr><td>0.95</td><td>0.05</td></tr>\n",
              "\t<tr><td>0.95</td><td>0.05</td></tr>\n",
              "\t<tr><td>0.90</td><td>0.10</td></tr>\n",
              "\t<tr><td>0.90</td><td>0.10</td></tr>\n",
              "\t<tr><td>0.80</td><td>0.20</td></tr>\n",
              "</tbody>\n",
              "</table>\n"
            ],
            "text/latex": [
              "A matrix: 5 × 2 of type dbl\n",
              "\\begin{tabular}{ll}\n",
              "\t 0.95 & 0.05\\\\\n",
              "\t 0.95 & 0.05\\\\\n",
              "\t 0.90 & 0.10\\\\\n",
              "\t 0.90 & 0.10\\\\\n",
              "\t 0.80 & 0.20\\\\\n",
              "\\end{tabular}\n"
            ],
            "text/markdown": [
              "\n",
              "A matrix: 5 × 2 of type dbl\n",
              "\n",
              "| 0.95 | 0.05 |\n",
              "| 0.95 | 0.05 |\n",
              "| 0.90 | 0.10 |\n",
              "| 0.90 | 0.10 |\n",
              "| 0.80 | 0.20 |\n",
              "\n"
            ],
            "text/plain": [
              "     [,1] [,2]\n",
              "[1,] 0.95 0.05\n",
              "[2,] 0.95 0.05\n",
              "[3,] 0.90 0.10\n",
              "[4,] 0.90 0.10\n",
              "[5,] 0.80 0.20"
            ]
          },
          "metadata": {},
          "output_type": "display_data"
        },
        {
          "data": {
            "text/html": [
              "0.007021"
            ],
            "text/latex": [
              "0.007021"
            ],
            "text/markdown": [
              "0.007021"
            ],
            "text/plain": [
              "[1] 0.007021"
            ]
          },
          "metadata": {},
          "output_type": "display_data"
        }
      ],
      "source": [
        "# Sampling space\n",
        "s = c(1, 0)\n",
        "\n",
        "# Corresponding probabilities\n",
        "p = matrix(nrow = 5, ncol = 2, c(0.95, 0.95, 0.9, 0.9, 0.8, 0.05, 0.05, 0.1, 0.1, 0.2))\n",
        "p\n",
        "\n",
        "# Simulate the random experiment of the 5 judges making decisions\n",
        "judgeResult = function(){\n",
        "  result = numeric(5)\n",
        "  for (j in c(1:5)){\n",
        "    result[j] = sample(s, size = 1, replace = TRUE, prob = p[j, ])\n",
        "  }\n",
        "  return(result)\n",
        "}\n",
        "\n",
        "nsimulations = 1e6\n",
        "simulatedData = replicate(nsimulations, judgeResult())\n",
        "\n",
        "# Function to check if the majority decision is incorrect\n",
        "# which is the same as the court making an incorrect decision\n",
        "checkEvent = function(data){\n",
        "  return(sum(data) < 3)\n",
        "}\n",
        "\n",
        "# Probability that the court makes an incorrect decision\n",
        "mean(apply(simulatedData, 2, checkEvent))"
      ]
    },
    {
      "cell_type": "code",
      "execution_count": 20,
      "metadata": {
        "id": "bJRueoq8QS85"
      },
      "outputs": [
        {
          "data": {
            "text/html": [
              "<table class=\"dataframe\">\n",
              "<caption>A matrix: 5 × 2 of type dbl</caption>\n",
              "<tbody>\n",
              "\t<tr><td>0.95</td><td>0.05</td></tr>\n",
              "\t<tr><td>0.95</td><td>0.05</td></tr>\n",
              "\t<tr><td>0.90</td><td>0.10</td></tr>\n",
              "\t<tr><td>0.90</td><td>0.10</td></tr>\n",
              "\t<tr><td>0.80</td><td>0.20</td></tr>\n",
              "</tbody>\n",
              "</table>\n"
            ],
            "text/latex": [
              "A matrix: 5 × 2 of type dbl\n",
              "\\begin{tabular}{ll}\n",
              "\t 0.95 & 0.05\\\\\n",
              "\t 0.95 & 0.05\\\\\n",
              "\t 0.90 & 0.10\\\\\n",
              "\t 0.90 & 0.10\\\\\n",
              "\t 0.80 & 0.20\\\\\n",
              "\\end{tabular}\n"
            ],
            "text/markdown": [
              "\n",
              "A matrix: 5 × 2 of type dbl\n",
              "\n",
              "| 0.95 | 0.05 |\n",
              "| 0.95 | 0.05 |\n",
              "| 0.90 | 0.10 |\n",
              "| 0.90 | 0.10 |\n",
              "| 0.80 | 0.20 |\n",
              "\n"
            ],
            "text/plain": [
              "     [,1] [,2]\n",
              "[1,] 0.95 0.05\n",
              "[2,] 0.95 0.05\n",
              "[3,] 0.90 0.10\n",
              "[4,] 0.90 0.10\n",
              "[5,] 0.80 0.20"
            ]
          },
          "metadata": {},
          "output_type": "display_data"
        },
        {
          "data": {
            "text/html": [
              "<style>\n",
              ".list-inline {list-style: none; margin:0; padding: 0}\n",
              ".list-inline>li {display: inline-block}\n",
              ".list-inline>li:not(:last-child)::after {content: \"\\00b7\"; padding: 0 .5ex}\n",
              "</style>\n",
              "<ol class=list-inline><li>0.95</li><li>0.05</li></ol>\n"
            ],
            "text/latex": [
              "\\begin{enumerate*}\n",
              "\\item 0.95\n",
              "\\item 0.05\n",
              "\\end{enumerate*}\n"
            ],
            "text/markdown": [
              "1. 0.95\n",
              "2. 0.05\n",
              "\n",
              "\n"
            ],
            "text/plain": [
              "[1] 0.95 0.05"
            ]
          },
          "metadata": {},
          "output_type": "display_data"
        },
        {
          "data": {
            "text/html": [
              "<style>\n",
              ".list-inline {list-style: none; margin:0; padding: 0}\n",
              ".list-inline>li {display: inline-block}\n",
              ".list-inline>li:not(:last-child)::after {content: \"\\00b7\"; padding: 0 .5ex}\n",
              "</style>\n",
              "<ol class=list-inline><li>0.05</li><li>0.05</li><li>0.1</li><li>0.1</li><li>0.2</li></ol>\n"
            ],
            "text/latex": [
              "\\begin{enumerate*}\n",
              "\\item 0.05\n",
              "\\item 0.05\n",
              "\\item 0.1\n",
              "\\item 0.1\n",
              "\\item 0.2\n",
              "\\end{enumerate*}\n"
            ],
            "text/markdown": [
              "1. 0.05\n",
              "2. 0.05\n",
              "3. 0.1\n",
              "4. 0.1\n",
              "5. 0.2\n",
              "\n",
              "\n"
            ],
            "text/plain": [
              "[1] 0.05 0.05 0.10 0.10 0.20"
            ]
          },
          "metadata": {},
          "output_type": "display_data"
        },
        {
          "data": {
            "text/html": [
              "<style>\n",
              ".list-inline {list-style: none; margin:0; padding: 0}\n",
              ".list-inline>li {display: inline-block}\n",
              ".list-inline>li:not(:last-child)::after {content: \"\\00b7\"; padding: 0 .5ex}\n",
              "</style>\n",
              "<ol class=list-inline><li>1</li><li>0</li><li>1</li><li>0</li><li>0</li></ol>\n"
            ],
            "text/latex": [
              "\\begin{enumerate*}\n",
              "\\item 1\n",
              "\\item 0\n",
              "\\item 1\n",
              "\\item 0\n",
              "\\item 0\n",
              "\\end{enumerate*}\n"
            ],
            "text/markdown": [
              "1. 1\n",
              "2. 0\n",
              "3. 1\n",
              "4. 0\n",
              "5. 0\n",
              "\n",
              "\n"
            ],
            "text/plain": [
              "[1] 1 0 1 0 0"
            ]
          },
          "metadata": {},
          "output_type": "display_data"
        },
        {
          "data": {
            "text/html": [
              "TRUE"
            ],
            "text/latex": [
              "TRUE"
            ],
            "text/markdown": [
              "TRUE"
            ],
            "text/plain": [
              "[1] TRUE"
            ]
          },
          "metadata": {},
          "output_type": "display_data"
        },
        {
          "data": {
            "text/html": [
              "FALSE"
            ],
            "text/latex": [
              "FALSE"
            ],
            "text/markdown": [
              "FALSE"
            ],
            "text/plain": [
              "[1] FALSE"
            ]
          },
          "metadata": {},
          "output_type": "display_data"
        },
        {
          "data": {
            "text/plain": [
              "judgeData\n",
              "0 1 \n",
              "3 2 "
            ]
          },
          "metadata": {},
          "output_type": "display_data"
        },
        {
          "data": {
            "text/html": [
              "<style>\n",
              ".list-inline {list-style: none; margin:0; padding: 0}\n",
              ".list-inline>li {display: inline-block}\n",
              ".list-inline>li:not(:last-child)::after {content: \"\\00b7\"; padding: 0 .5ex}\n",
              "</style>\n",
              "<ol class=list-inline><li>'0'</li><li>'1'</li></ol>\n"
            ],
            "text/latex": [
              "\\begin{enumerate*}\n",
              "\\item '0'\n",
              "\\item '1'\n",
              "\\end{enumerate*}\n"
            ],
            "text/markdown": [
              "1. '0'\n",
              "2. '1'\n",
              "\n",
              "\n"
            ],
            "text/plain": [
              "[1] \"0\" \"1\""
            ]
          },
          "metadata": {},
          "output_type": "display_data"
        },
        {
          "data": {
            "text/html": [
              "<strong>0:</strong> 3"
            ],
            "text/latex": [
              "\\textbf{0:} 3"
            ],
            "text/markdown": [
              "**0:** 3"
            ],
            "text/plain": [
              "0 \n",
              "3 "
            ]
          },
          "metadata": {},
          "output_type": "display_data"
        }
      ],
      "source": [
        "p = matrix(nrow = 5, ncol = 2, c(0.95, 0.95, 0.9, 0.9, 0.8, 0.05, 0.05, 0.1, 0.1, 0.2))\n",
        "p\n",
        "p[2, ]\n",
        "p[, 2]\n",
        "judgeData = c(1, 0, 1, 0, 0)\n",
        "judgeData\n",
        "any(judgeData == 0)\n",
        "all(judgeData == 0)\n",
        "tab = table(judgeData)\n",
        "tab\n",
        "names(tab)\n",
        "tab['0']"
      ]
    },
    {
      "cell_type": "code",
      "execution_count": null,
      "metadata": {
        "id": "czpnhKMUiry-"
      },
      "outputs": [],
      "source": [
        "# Sampling space for rolling a single fair die\n",
        "s = c(1:6)\n",
        "\n",
        "# Corresponding probabilities\n",
        "p = (1/6)*c(1, 1, 1, 1, 1, 1)\n",
        "\n",
        "# Simulate the random experiment of tossing a single fair coin\n",
        "nsimulations = 1e6\n",
        "simulatedData = sample(s, size = nsimulations, replace = TRUE, prob = p)\n",
        "\n",
        "# Create dataframe comprising frequency of each possible outcome in the sample space\n",
        "#table(simulatedData)\n",
        "df= as.data.frame(table(simulatedData))\n",
        "colnames(df) = c('Roll', 'Frequency')\n",
        "#print(df)\n",
        "\n",
        "# Frequency plot\n",
        "p = ggplot(data = df, aes(x = Roll, y = Frequency)) +\n",
        "  geom_bar(stat = 'identity', fill=\"steelblue\") +\n",
        "  geom_text(aes(label = Frequency), vjust = -0.3, size = 6)+\n",
        "  theme_minimal()\n",
        "\n",
        "p\n",
        "\n",
        "mean(simulatedData >= 5)"
      ]
    },
    {
      "cell_type": "code",
      "execution_count": null,
      "metadata": {
        "id": "dz8bU5OQp3rh"
      },
      "outputs": [],
      "source": [
        "# Sampling space for rolling a pair of fair dice\n",
        "s = c(1:6)\n",
        "\n",
        "# Corresponding probabilities\n",
        "p = (1/6)*c(1, 1, 1, 1, 1, 1)\n",
        "\n",
        "# Simulate the random experiment of rolling a pair of fair dice \n",
        "nsimulations = 1e6\n",
        "simulatedData = replicate(nsimulations, sample(s, size = 2, replace = TRUE, prob = p))\n",
        "\n",
        "# Function to check if the sum of the rolls is at least 7\n",
        "checkEvent2 = function(data){\n",
        "  if (sum(data) >= 7){\n",
        "    return(1)\n",
        "  }\n",
        "  else{\n",
        "    return(0)\n",
        "  }\n",
        "}\n",
        "\n",
        "# Probability that the sum of the rolls is at least 7\n",
        "mean(apply(simulatedData, 2, checkEvent2))"
      ]
    },
    {
      "cell_type": "code",
      "execution_count": null,
      "metadata": {
        "id": "Z4W1d_090bkF"
      },
      "outputs": [
        {
          "data": {
            "text/html": [
              "<style>\n",
              ".list-inline {list-style: none; margin:0; padding: 0}\n",
              ".list-inline>li {display: inline-block}\n",
              ".list-inline>li:not(:last-child)::after {content: \"\\00b7\"; padding: 0 .5ex}\n",
              "</style>\n",
              "<ol class=list-inline><li>2</li><li>3</li><li>4</li></ol>\n"
            ],
            "text/latex": [
              "\\begin{enumerate*}\n",
              "\\item 2\n",
              "\\item 3\n",
              "\\item 4\n",
              "\\end{enumerate*}\n"
            ],
            "text/markdown": [
              "1. 2\n",
              "2. 3\n",
              "3. 4\n",
              "\n",
              "\n"
            ],
            "text/plain": [
              "[1] 2 3 4"
            ]
          },
          "metadata": {},
          "output_type": "display_data"
        }
      ],
      "source": [
        "data = c(1, 2, 2, 2, 4, 5)\n",
        "which(data == 2)"
      ]
    },
    {
      "cell_type": "code",
      "execution_count": null,
      "metadata": {
        "id": "knCtE1lg4_t3"
      },
      "outputs": [
        {
          "name": "stdout",
          "output_type": "stream",
          "text": [
            "[1] 0.72043\n"
          ]
        }
      ],
      "source": [
        "# Sampling space for ice-cream selection\n",
        "S = c('vanilla', 'pista', 'strwaberry', 'chocolate', 'blackberry',\n",
        " 'blueberry', 'mango', 'sitaphal', 'chickoo', 'jack fruit')\n",
        "\n",
        "# Corresponding probabilities\n",
        "n = length(S)\n",
        "p = (1/n)*replicate(n, 1)\n",
        "\n",
        "# Samples representing outcomes of the experiment of selecting 3 objects from\n",
        "# the sampling space with replacement - this corresponds to generating outcomes\n",
        "# of the random experiment of selecting 3 flavors from the 10 available\n",
        "#set.seed(1)\n",
        "simulationSize = 1e05\n",
        "#sample(S, size = 3, replace = TRUE, prob = p)\n",
        "simulatedData = replicate(simulationSize, sample(S, size = 3, replace = TRUE, prob = p))\n",
        "#print(simulatedData)\n",
        "#apply(simulatedData, 2, unique)\n",
        "#lengths(apply(simulatedData, 2, unique))\n",
        "#lengths(apply(simulatedData, 2, unique)) == 3\n",
        "#mean(lengths(apply(simulatedData, 2, unique)) == 3)\n",
        "\n",
        "# Approximate probability of getting 3 distinct flavors\n",
        "print(mean(lengths(apply(simulatedData, 2, unique)) == 3))"
      ]
    },
    {
      "cell_type": "code",
      "execution_count": null,
      "metadata": {
        "id": "IAohxl9Iwxmx"
      },
      "outputs": [],
      "source": [
        "(choose(6,3)*choose(6,2)*choose(4,2)*choose(2,2))/(6^6)\n",
        "(choose(6,1)*5^2*choose(6,4))/(6^6)\n",
        "(choose(5,4)*choose(4,1)+choose(5,5))/(5^5)"
      ]
    },
    {
      "cell_type": "code",
      "execution_count": null,
      "metadata": {
        "id": "wjLrc03bCWeZ"
      },
      "outputs": [],
      "source": [
        "# Sampling space for rolling a single fair die\n",
        "S = c(1:6)\n",
        "\n",
        "# Corresponding probabilities\n",
        "p = (1/6)*c(1, 1, 1, 1, 1, 1)\n",
        "\n",
        "# Simulate outcomes of the random experiment of rolling 6 fair dice\n",
        "nsimulations = 1e06\n",
        "simulatedData = replicate(nsimulations, sample(S, size = 6, replace = TRUE, prob = p))\n",
        "\n",
        "# Function to check if 3 numbers appear twice each\n",
        "checkEvent = function(data){\n",
        "    unique_numbers = unique(data) # collecting all the unique values occured\n",
        "    for (val in unique_numbers){\n",
        "      if (sum(val == data) != 2){\n",
        "        return(0)\n",
        "      }\n",
        "    }    \n",
        "    return (1)\n",
        "}\n",
        "approximate_probability = mean(apply(simulatedData, 2, checkEvent))\n",
        "cat(\"Approximate probability of 3 numbers appearing twice each is \", approximate_probability, '\\n')"
      ]
    },
    {
      "cell_type": "code",
      "execution_count": null,
      "metadata": {
        "colab": {
          "base_uri": "https://localhost:8080/",
          "height": 34
        },
        "id": "ozzovD2aDAUS",
        "outputId": "6a3ab5b1-307e-4b78-aff1-7ce24f95ddc1"
      },
      "outputs": [
        {
          "data": {
            "text/html": [
              "0.333547"
            ],
            "text/latex": [
              "0.333547"
            ],
            "text/markdown": [
              "0.333547"
            ],
            "text/plain": [
              "[1] 0.333547"
            ]
          },
          "metadata": {},
          "output_type": "display_data"
        }
      ],
      "source": [
        "# Sampling space for rolling a pair of fair dice\n",
        "s = c(1:6)\n",
        "\n",
        "# Corresponding probabilities\n",
        "p = (1/6)*c(1, 1, 1, 1, 1, 1)\n",
        "\n",
        "# Simulate the random experiment of rolling a pair of fair dice \n",
        "nsimulations = 1e6\n",
        "simulatedData = replicate(nsimulations, sample(s, size = 2, replace = TRUE, prob = p))\n",
        "#simulatedData\n",
        "\n",
        "# Function to check if the sum of the rolls is at least 7 and that the\n",
        "# first roll is even\n",
        "checkEvent2 = function(data){\n",
        "  if ((sum(data) >= 7) && (data[1] %%2 == 0)){\n",
        "    return(1)\n",
        "  }\n",
        "  else{\n",
        "    return(0)\n",
        "  }\n",
        "}\n",
        "#simulatedData\n",
        "#apply(simulatedData, 2, checkEvent2)\n",
        "# Probability that the sum of the rolls is at least 7 and that the the first roll is even\n",
        "mean(apply(simulatedData, 2, checkEvent2))"
      ]
    },
    {
      "cell_type": "code",
      "execution_count": null,
      "metadata": {
        "id": "lRpa52O67oEW"
      },
      "outputs": [],
      "source": [
        "# Sampling space for rolling a pair of fair dice\n",
        "s = c(1:6)\n",
        "\n",
        "# Corresponding probabilities\n",
        "p = (1/6)*c(1, 1, 1, 1, 1, 1)\n",
        "\n",
        "# Simulate the random experiment of rolling a pair of fair dice \n",
        "nsimulations = 1e6\n",
        "simulatedData = replicate(nsimulations, sample(s, size = 2, replace = TRUE, prob = p))\n",
        "#simulatedData\n",
        "# Function to check if the first roll is even\n",
        "checkEvent2 = function(data){\n",
        "  if (data[1] %%2 == 0){\n",
        "    return(1)\n",
        "  }\n",
        "  else{\n",
        "    return(0)\n",
        "  }\n",
        "}\n",
        "\n",
        "# Probability that the the first roll is even\n",
        "#apply(simulatedData, 2, checkEvent2)\n",
        "mean(apply(simulatedData, 2, checkEvent2))"
      ]
    },
    {
      "cell_type": "code",
      "execution_count": null,
      "metadata": {
        "colab": {
          "base_uri": "https://localhost:8080/",
          "height": 34
        },
        "id": "Vl8ZeEOQFCjF",
        "outputId": "89e29107-6be1-4f44-d30a-c944064ca239"
      },
      "outputs": [
        {
          "data": {
            "text/html": [
              "0.666586698014378"
            ],
            "text/latex": [
              "0.666586698014378"
            ],
            "text/markdown": [
              "0.666586698014378"
            ],
            "text/plain": [
              "[1] 0.6665867"
            ]
          },
          "metadata": {},
          "output_type": "display_data"
        }
      ],
      "source": [
        "# Sampling space for rolling a pair of fair dice\n",
        "s = c(1:6)\n",
        "\n",
        "# Corresponding probabilities\n",
        "p = (1/6)*c(1, 1, 1, 1, 1, 1)\n",
        "\n",
        "# Simulate the random experiment of rolling a pair of fair dice \n",
        "nsimulations = 1e6\n",
        "simulatedData = replicate(nsimulations, sample(s, size = 2, replace = TRUE, prob = p))\n",
        "\n",
        "# Function to check if the first roll is even\n",
        "checkEventEven = function(data){\n",
        "  if ((data[1] %% 2) == 0){\n",
        "    return(TRUE)\n",
        "  }\n",
        "  else{\n",
        "    return(FALSE)\n",
        "  }\n",
        "}\n",
        "\n",
        "# Function to check if the sum of the rolls is at least 7\n",
        "checkEventGeq7 = function(data){\n",
        "  if (sum(data) >= 7){\n",
        "    return(1)\n",
        "  }\n",
        "  else{\n",
        "    return(0)\n",
        "  }\n",
        "}\n",
        "\n",
        "# Get columns of simulatedData in which the first roll is even\n",
        "# and then apply the function to check if the sum of the rolls\n",
        "# is at least 7\n",
        "#-------------------------------------------------\n",
        "# Uncomment the following lines and see the output\n",
        "#simulatedData\n",
        "#apply(simulatedData, 2, checkEventEven)\n",
        "#simulatedData[, apply(simulatedData, 2, checkEventEven)]\n",
        "#apply(simulatedData[, apply(simulatedData, 2,  checkEventEven)], 2, checkEventGeq7)\n",
        "#-------------------------------------------------\n",
        "\n",
        "# Probability that the sum of the rolls is seven given that the first roll is even\n",
        "mean(apply(simulatedData[, apply(simulatedData, 2,  checkEventEven)], 2, checkEventGeq7))"
      ]
    }
  ],
  "metadata": {
    "colab": {
      "collapsed_sections": [],
      "name": "ProbabilityAndFrequency.ipynb",
      "provenance": []
    },
    "kernelspec": {
      "display_name": "R",
      "language": "R",
      "name": "ir"
    },
    "language_info": {
      "codemirror_mode": "r",
      "file_extension": ".r",
      "mimetype": "text/x-r-source",
      "name": "R",
      "pygments_lexer": "r",
      "version": "4.1.1"
    }
  },
  "nbformat": 4,
  "nbformat_minor": 0
}
