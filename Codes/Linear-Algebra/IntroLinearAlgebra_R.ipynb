{
  "cells": [
    {
      "cell_type": "markdown",
      "metadata": {
        "id": "m_0IeRbLGWjA"
      },
      "source": [
        "**Install packages**"
      ]
    },
    {
      "cell_type": "code",
      "execution_count": 1,
      "metadata": {
        "id": "aLeB1yyiGTUJ",
        "vscode": {
          "languageId": "r"
        }
      },
      "outputs": [
        {
          "name": "stderr",
          "output_type": "stream",
          "text": [
            "Installing package into 'D:/Documents/R/win-library/4.1'\n",
            "(as 'lib' is unspecified)\n",
            "\n"
          ]
        },
        {
          "name": "stdout",
          "output_type": "stream",
          "text": [
            "package 'UsingR' successfully unpacked and MD5 sums checked\n",
            "\n",
            "The downloaded binary packages are in\n",
            "\tC:\\Users\\killua\\AppData\\Local\\Temp\\RtmpWQIkpU\\downloaded_packages\n"
          ]
        }
      ],
      "source": [
        "install.packages(\"UsingR\")"
      ]
    },
    {
      "cell_type": "markdown",
      "metadata": {
        "id": "9s6xDveCGSjt"
      },
      "source": []
    },
    {
      "cell_type": "markdown",
      "metadata": {
        "id": "cBwU1D1ib2o6"
      },
      "source": [
        "**Load essential libraries**"
      ]
    },
    {
      "cell_type": "code",
      "execution_count": 2,
      "metadata": {
        "id": "4DhQTLweb138",
        "vscode": {
          "languageId": "r"
        }
      },
      "outputs": [
        {
          "name": "stderr",
          "output_type": "stream",
          "text": [
            "\n",
            "Attaching package: 'dplyr'\n",
            "\n",
            "\n",
            "The following objects are masked from 'package:stats':\n",
            "\n",
            "    filter, lag\n",
            "\n",
            "\n",
            "The following objects are masked from 'package:base':\n",
            "\n",
            "    intersect, setdiff, setequal, union\n",
            "\n",
            "\n",
            "Warning message:\n",
            "\"package 'UsingR' was built under R version 4.1.3\"\n",
            "Loading required package: MASS\n",
            "\n",
            "\n",
            "Attaching package: 'MASS'\n",
            "\n",
            "\n",
            "The following object is masked from 'package:dplyr':\n",
            "\n",
            "    select\n",
            "\n",
            "\n",
            "Loading required package: HistData\n",
            "\n",
            "Warning message:\n",
            "\"package 'HistData' was built under R version 4.1.2\"\n",
            "Loading required package: Hmisc\n",
            "\n",
            "Warning message:\n",
            "\"package 'Hmisc' was built under R version 4.1.2\"\n",
            "Loading required package: lattice\n",
            "\n",
            "Loading required package: survival\n",
            "\n",
            "Loading required package: Formula\n",
            "\n",
            "\n",
            "Attaching package: 'Hmisc'\n",
            "\n",
            "\n",
            "The following objects are masked from 'package:dplyr':\n",
            "\n",
            "    src, summarize\n",
            "\n",
            "\n",
            "The following objects are masked from 'package:base':\n",
            "\n",
            "    format.pval, units\n",
            "\n",
            "\n",
            "\n",
            "Attaching package: 'UsingR'\n",
            "\n",
            "\n",
            "The following object is masked from 'package:survival':\n",
            "\n",
            "    cancer\n",
            "\n",
            "\n"
          ]
        }
      ],
      "source": [
        "library(ggplot2) # library for plotting\n",
        "library(dplyr) # library for data wrangling\n",
        "library(UsingR)"
      ]
    },
    {
      "cell_type": "markdown",
      "metadata": {
        "id": "1EEgU6NkbRDV"
      },
      "source": [
        "**Data Matrix**\n",
        "\n",
        "Patient dataset corresponding to 4 patients and 3 features:\n",
        "\n",
        "![Patient dataset](https://bl3302files.storage.live.com/y4mlspYO-L_1kEGpBOCUilkrcj3evQtgjGXDt6v2NgJwtsJf2OZVnwRnUht7CmW_wk8VMlMyGfhDqgRubB3pLHXAOe3r-pQ5wtYUuOqR_gsZzHWCqE2IEbhBjUZob5suLplmONyMsAjr1twDPK7eGODrKyav1dP1aX3lWx1YV0hiLvuTEZ7-GujIypTMkaSV2or?width=256&height=153&cropmode=none)"
      ]
    },
    {
      "cell_type": "code",
      "execution_count": 5,
      "metadata": {
        "id": "zeAhzu_1bNR1",
        "vscode": {
          "languageId": "r"
        }
      },
      "outputs": [
        {
          "name": "stdout",
          "output_type": "stream",
          "text": [
            "  HR  BP Temp\n",
            "1 76 126 38.0\n",
            "2 74 120 38.0\n",
            "3 72 118 37.5\n",
            "4 78 136 37.0\n",
            "---------------------\n",
            "[1] 4 3\n",
            "---------------------\n",
            "     HR  BP Temp\n",
            "[1,] 76 126 38.0\n",
            "[2,] 74 120 38.0\n",
            "[3,] 72 118 37.5\n",
            "[4,] 78 136 37.0\n"
          ]
        }
      ],
      "source": [
        "# Create dataframe with 3 columns\n",
        "HR = c(76, 74, 72, 78)\n",
        "BP = c(126, 120, 118, 136)\n",
        "Temp = c(38, 38, 37.5, 37)\n",
        "pData = data.frame(HR, BP, Temp)\n",
        "print(pData)\n",
        "cat(sprintf('---------------------\\n'))\n",
        "\n",
        "# Convert dataframe to matrix\n",
        "P = as.matrix(pData)\n",
        "print(dim(P))\n",
        "cat(sprintf('---------------------\\n'))\n",
        "print(P)"
      ]
    },
    {
      "cell_type": "markdown",
      "metadata": {
        "id": "3tmYJPn3cIau"
      },
      "source": [
        "**Vectors from the data matrix**\n",
        "\n",
        "![Patient dataset](https://bl3302files.storage.live.com/y4mTMCQdiTnIFj1IALg09CRz7pPWl0g4HpigAPbwyMmF0QNliGAgK3aEsBESo0BNFCy-0-kR6pllskO1DPVt2-76bYsQaACRWhkOebqJ545BbtWcGr1CJG72BZJPrYbQDWNAC0h1EHhpewBlORT_xtahEu-bite73OVi-4CzGeQf6GDw11H6kn72VocdC2bLAsJ?width=256&height=167&cropmode=none)\n",
        "\n",
        "1st feature vector (heart rate) for all patients:\n",
        "$$p_1 = \\begin{bmatrix}76\\\\74\\\\72\\\\78\\end{bmatrix}$$\n",
        "\n",
        "1st patient vector for all features:\n",
        "$$p^{(1)} = \\begin{bmatrix}76\\\\126\\\\38\\end{bmatrix}$$"
      ]
    },
    {
      "cell_type": "code",
      "execution_count": 4,
      "metadata": {
        "id": "C62amevicGwl",
        "vscode": {
          "languageId": "r"
        }
      },
      "outputs": [
        {
          "name": "stdout",
          "output_type": "stream",
          "text": [
            "[1] 76 74 72 78\n",
            "\n",
            "[1] 126 120 118 136\n",
            "\n",
            "  HR   BP Temp \n",
            "  76  126   38 \n",
            "\n",
            "  HR   BP Temp \n",
            "  74  120   38 \n"
          ]
        }
      ],
      "source": [
        "# Vector for 1st feature (HR)\n",
        "p_1 = P[, 1]\n",
        "print(p_1)\n",
        "cat(sprintf('\\n'))\n",
        "\n",
        "# Vector for 2nd feature (BP)\n",
        "p_2 =P[, 2]\n",
        "print(p_2)\n",
        "cat(sprintf('\\n'))\n",
        "\n",
        "# Vector for 1st patient\n",
        "p1 = P[1, ]\n",
        "print(p1)\n",
        "cat(sprintf('\\n'))\n",
        "\n",
        "# Vector for 2nd patient\n",
        "p2 = P[2, ]\n",
        "print(p2)"
      ]
    },
    {
      "cell_type": "code",
      "execution_count": 7,
      "metadata": {
        "id": "MXUaXCVxiBB4",
        "vscode": {
          "languageId": "r"
        }
      },
      "outputs": [
        {
          "name": "stdout",
          "output_type": "stream",
          "text": [
            " num [1:4] 76 74 72 78\n",
            " Named num [1:3] 76 126 38\n",
            " - attr(*, \"names\")= chr [1:3] \"HR\" \"BP\" \"Temp\"\n"
          ]
        },
        {
          "data": {
            "text/plain": [
              "NULL"
            ]
          },
          "metadata": {},
          "output_type": "display_data"
        },
        {
          "data": {
            "text/plain": [
              "NULL"
            ]
          },
          "metadata": {},
          "output_type": "display_data"
        },
        {
          "data": {
            "text/html": [
              "4"
            ],
            "text/latex": [
              "4"
            ],
            "text/markdown": [
              "4"
            ],
            "text/plain": [
              "[1] 4"
            ]
          },
          "metadata": {},
          "output_type": "display_data"
        },
        {
          "data": {
            "text/html": [
              "3"
            ],
            "text/latex": [
              "3"
            ],
            "text/markdown": [
              "3"
            ],
            "text/plain": [
              "[1] 3"
            ]
          },
          "metadata": {},
          "output_type": "display_data"
        }
      ],
      "source": [
        "str(p_1)\n",
        "str(p1)\n",
        "dim(p_1)\n",
        "dim(p1)\n",
        "length(p_1)\n",
        "length(p1)"
      ]
    },
    {
      "cell_type": "markdown",
      "metadata": {
        "id": "ZegKerPAsN3R"
      },
      "source": [
        "**Components of a vector and matrix**\n",
        "\n",
        "The components of a vector $a$ are denoted as $a_1,a_2,\\ldots.$\n",
        "\n",
        "The component in the $i$th row and $j$th column of a matrix is $P$ is represented as $p_{ij}.$\n",
        "\n",
        "2nd patient, 1st feature (heart rate) value is $p^{(2)}_1.$\n",
        "\n",
        "1st feature (heart rate), 2nd patient value is $\\left(p_1\\right)_2.$\n",
        "\n",
        "\n"
      ]
    },
    {
      "cell_type": "code",
      "execution_count": 6,
      "metadata": {
        "id": "JbuPTkD2sYpM",
        "vscode": {
          "languageId": "r"
        }
      },
      "outputs": [
        {
          "name": "stdout",
          "output_type": "stream",
          "text": [
            "HR \n",
            "74 \n",
            "\n",
            "[1] 74\n",
            "\n",
            "HR \n",
            "74 \n"
          ]
        }
      ],
      "source": [
        "# 2nd patient vector\n",
        "p2 = P[2, ]\n",
        "\n",
        "# 1st feature (heart rate) vector\n",
        "p_1 = P[, 1]\n",
        "\n",
        "# 2nd patient, 1st feature (heart rate) value\n",
        "print(p2[1])\n",
        "cat(sprintf('\\n'))\n",
        "\n",
        "# 1st feature (heart rate), 2nd patient value\n",
        "print(p_1[2])\n",
        "cat(sprintf('\\n'))\n",
        "\n",
        "# Directly from the data matrix\n",
        "print(P[2,1])"
      ]
    },
    {
      "cell_type": "markdown",
      "metadata": {
        "id": "Wz5WYBnVFMef"
      },
      "source": [
        "**Two ways of looking at a vector**:\n",
        "\n",
        "$$\\underbrace{\\begin{bmatrix}76\\\\74\\\\72\\\\78\\end{bmatrix}}_{\\text{a 4 component vector (or) a }4\\times1\\text{ matrix}}$$"
      ]
    },
    {
      "cell_type": "code",
      "execution_count": 8,
      "metadata": {
        "id": "CEz5GjzuFs1h",
        "vscode": {
          "languageId": "r"
        }
      },
      "outputs": [
        {
          "name": "stdout",
          "output_type": "stream",
          "text": [
            " num [1:4] 76 74 72 78\n",
            " num [1:4, 1] 76 74 72 78\n"
          ]
        }
      ],
      "source": [
        "# 1st feature (heart rate) values\n",
        "p_1 = P[, 1]\n",
        "str(p_1)\n",
        "str(as.matrix(p_1))"
      ]
    },
    {
      "cell_type": "markdown",
      "metadata": {
        "id": "EWo0NaIje0Da"
      },
      "source": [
        "**Some commonly used vectors and matrices**\n",
        "\n",
        "$$\\underbrace{\\begin{bmatrix}0\\\\0\\\\0\\end{bmatrix}}_{\\pmb{0}:\\,\\text{Zero vector}}\\quad\\underbrace{\\begin{bmatrix}\n",
        "0\\\\0\\\\0\\\\0\\\\0\\end{bmatrix}}_{\\pmb{0}:\\,\\text{Zero vector}}\\quad \\underbrace{\\begin{bmatrix}1\\\\0\\\\0\\end{bmatrix}}_{e_1:\\,\\text{Unit vector}}\\quad \\underbrace{\\begin{bmatrix}0\\\\1\\\\0\\\\0\\end{bmatrix}}_{e_2:\\,\\text{Unit vector}}\\quad \\underbrace{\\begin{bmatrix}1\\\\1\\\\1\\\\\\vdots\\\\1\\\\1\\end{bmatrix}}_{\\pmb{1}:\\,\\text{ones vector}}$$\n",
        "\n",
        "$$\\underbrace{\\begin{bmatrix}0&\\cdots&0\\\\\\vdots&\\ddots&\\vdots\\\\0&\\cdots&0\\end{bmatrix}}_{\\pmb{0}_{m\\times n}:\\,\\text{matrix}}\\quad\\underbrace{\\begin{bmatrix}1 & 0 & \\dots & 0 \\\\0 & 1 & \\dots & 0 \\\\    \\vdots & \\vdots & \\ddots & \\vdots \\\\0 & 0 & \\dots & 1\\end{bmatrix}}_{\\pmb{I}:\\,\\text{Identity matrix}}\\quad\\underbrace{\\begin{bmatrix}\\alpha & 0 & \\dots & 0 \\\\0 & \\alpha & \\dots & 0 \\\\    \\vdots & \\vdots & \\ddots & \\vdots \\\\0 & 0 & \\dots & \\alpha\\end{bmatrix}}_{\\pmb{D}:\\,\\text{Diagonal matrix}}$$"
      ]
    },
    {
      "cell_type": "code",
      "execution_count": 9,
      "metadata": {
        "id": "ufPEXJGHe46t",
        "vscode": {
          "languageId": "r"
        }
      },
      "outputs": [
        {
          "name": "stdout",
          "output_type": "stream",
          "text": [
            "     [,1] [,2] [,3] [,4]\n",
            "[1,]    1    0    0    0\n",
            "[2,]    0    1    0    0\n",
            "[3,]    0    0    1    0\n",
            "[4,]    0    0    0    1\n",
            "\n",
            "[1] 1 0 0 0\n",
            "[1] 0 0 1 0\n",
            "\n",
            "[1] 0 0 0 0\n",
            "\n",
            "[1] 1 1 1 1\n"
          ]
        }
      ],
      "source": [
        "# Diagonal matrix \n",
        "I = diag(4)\n",
        "print(I)\n",
        "cat(sprintf('\\n'))\n",
        "\n",
        "# Unit vector\n",
        "e_1 = I[, 1]\n",
        "print(e_1)\n",
        "e_3 = I[, 3]\n",
        "print(e_3)\n",
        "cat(sprintf('\\n'))\n",
        "\n",
        "# Zero vector\n",
        "z = replicate(4, 0)\n",
        "print(z)\n",
        "cat(sprintf('\\n'))\n",
        "\n",
        "# Ones vector\n",
        "o = replicate(4, 1)\n",
        "print(o)"
      ]
    },
    {
      "cell_type": "markdown",
      "metadata": {
        "id": "IlJe2PguiCkw"
      },
      "source": [
        "**Addition and subtraction of vectors, scalar multiplication (apply operation componentwise)**\n",
        "\n",
        "![Vector addition](https://bl3302files.storage.live.com/y4mMlnDRWzIoNKWynOZFhzhFNDlReoFxf7XwSeFwNWW8f1lu5ssj_SvgMAEN9BWiQ2F-meER7rD2an2n2tfDoWffBHE8aD_WBsL0LAbHxnIpZtZu6hNJAvZ88m746S_ktA9-h-oo108AQjkXQHkYrgJ5AUCpvKB2dipeNG1VfIK_38Q8fsq6OKD43adplgy0H1k?width=200&height=80&cropmode=none)\n",
        "\n",
        "![Vector subtraction](https://bl3302files.storage.live.com/y4mnQkNUONVVKJJ6dCEqV9lEuP360lE0yRumSIgl9LaQH_qBqjgI9wvUd64xJ-UNIjR7wJXZyaXZ_kf1_gAB9sXjMWaMxWhSnX6zcyvVtTrCDeO1MNWzj3A1YqI5YLALK-CGCSMurNV938QLH3C2u1-BE8_addFYSeO7DmCKz5TdWGf7qtC8M9rRN26RMqpk8iu?width=200&height=80&cropmode=none)\n",
        "\n",
        "![Scalar-vector multiplication](https://bl3302files.storage.live.com/y4mYNwLMmuKRl3sNDSo0yyXYs0KFw1LBnQCU6nAgSawanlGNgLq7Bd93DQ0ojamRpGLx_PZvnsSG-6K-3TsdDctw5sm-QxnWUHSTJGalDR4JmUp27_Hf3ESAQukZ1Jk5G16ykO7H3AKmLSQxE4vVIAtMFbCnyxtsQEfpyb_SK5jIjVtjl7yoFcBDzsRDGzo5cZM?width=200&height=80&cropmode=none)"
      ]
    },
    {
      "cell_type": "code",
      "execution_count": 10,
      "metadata": {
        "id": "fiFqTqj8h-qE",
        "vscode": {
          "languageId": "r"
        }
      },
      "outputs": [
        {
          "name": "stdout",
          "output_type": "stream",
          "text": [
            "[1] 1 9 3\n",
            "\n",
            "[1] 0 8\n",
            "\n",
            "[1]  -2 -18 -12\n"
          ]
        }
      ],
      "source": [
        "# Vector addition\n",
        "a = c(0, 7, 3)\n",
        "b = c(1, 2, 0)\n",
        "print(a+b)\n",
        "cat(sprintf('\\n'))\n",
        "\n",
        "# Vector subtraction\n",
        "a = c(1, 9)\n",
        "b = c(1, 1)\n",
        "print(a-b)\n",
        "cat(sprintf('\\n'))\n",
        "\n",
        "# Scalar-vector multiplication\n",
        "a = c(1, 9, 6)\n",
        "alpha = -2\n",
        "print(alpha * a)"
      ]
    },
    {
      "cell_type": "markdown",
      "metadata": {
        "id": "XY9Nb_kWrinN"
      },
      "source": [
        "**Dot Product of Vectors**\n",
        "\n",
        "A scalar resulting from an elementwise multiplication and addition: $$a^{\\color{cyan}T}b = {\\color{red}{a_1b_1}}+{\\color{green}{a_2b_2}}+\\cdots+{\\color{magenta}{a_nb_n}}$$\n",
        "\n",
        "The <font color=\"cyan\">symbol</font> ${\\color{cyan}T}$ is a notation that will be explained soon.\n",
        "\n",
        "![Dot product](https://bl3302files.storage.live.com/y4mMdtIf3y5snN3f1UUvREiqT8_k5jmBTkmmHAcyh73wrou4WczQvmbtUg-W43NEg3wcUsuNBYWnGzDk9r6zvBfUTa1u7-8qMkQoQ_eK5tCU1Y7MBUcARPvaXW_lFqO48SOaOrwvys388KdjnTBMzze_ed2nPrCniHq5Kx-pqEABRNMVs7HU98UuAPSMwur4iQ8?width=400&height=100&cropmode=none)"
      ]
    },
    {
      "cell_type": "code",
      "execution_count": 1,
      "metadata": {
        "id": "oyhBqLqntllv",
        "vscode": {
          "languageId": "r"
        }
      },
      "outputs": [
        {
          "name": "stdout",
          "output_type": "stream",
          "text": [
            "     [,1]\n",
            "[1,]   -7\n",
            "[1] -1  0 -6\n",
            "[1] -7\n"
          ]
        }
      ],
      "source": [
        "a = c(-1, 2, 2)\n",
        "b = c(1, 0, -3)\n",
        "print(a %*% b) \n",
        "print(a*b)\n",
        "print(sum(a*b))"
      ]
    },
    {
      "cell_type": "markdown",
      "metadata": {},
      "source": [
        "### **Dot Products**"
      ]
    },
    {
      "cell_type": "markdown",
      "metadata": {
        "id": "QtZsxIdouZSs"
      },
      "source": [
        "**Some Useful Dot products**\n",
        "\t\t\t\t\t<ul>\n",
        "\t\t\t\t\t\t<li class=\"fragment roll-in\"><p>$e_i^Ta = {\\color{magenta}{0\\times a_1}}+\\cdots+{\\color{cyan}{1\\times a_i}}+\\cdots+{\\color{magenta}{0\\times a_n}} = {\\color{cyan}{a_i}}$</p> dot product with unit vector picks $i$th element</li>\t\n",
        "\t\t\t\t\t\t<li class=\"fragment roll-in\"><p>$\\pmb{1}^Ta = 1\\times a_1+1\\times a_2+\\cdots+1\\times a_n = a_1+a_2+\\cdots+a_n$</p> dot product with ones vector gives the sum of the elements.</li>\t\n",
        "\t\t\t\t\t\t<li class=\"fragment roll-in\"><p>$(\\pmb{1}/n)^Ta = (1/n)\\times a_1+(1/n)\\times a_2+\\cdots+(1/n)\\times a_n$</p><p> $= (a_1+a_2+\\cdots+a_n)/n$</p> dot product with $(1/n)$-scaled ones vector gives the average of the elements of the vector denoted as ${\\color{green}{\\text{avg}(a)}}$.</li>\n",
        "\t\t\t\t\t\t<li class=\"fragment roll-in\"><p>$a^Ta = a_1\\times a_1+a_2\\times a_2+\\cdots+a_n\\times a_n = a_1^2+a_2^2+\\cdots+a_n^2$</p> dot product with itself gives the sum of the squares of the elements."
      ]
    },
    {
      "cell_type": "code",
      "execution_count": 4,
      "metadata": {
        "id": "JiWVUq3SwEm2",
        "vscode": {
          "languageId": "r"
        }
      },
      "outputs": [
        {
          "name": "stdout",
          "output_type": "stream",
          "text": [
            "[1] 76 74 72 78\n",
            "\n",
            "     [,1]\n",
            "[1,]   76\n",
            "\n",
            "     [,1]\n",
            "[1,]   72\n",
            "\n",
            "     [,1]\n",
            "[1,]  300\n",
            "[1] 300\n",
            "\n",
            "     [,1]\n",
            "[1,]   75\n",
            "[1] 75\n"
          ]
        }
      ],
      "source": [
        "# Unit vectors\n",
        "e_1 = c(1, 0, 0, 0)\n",
        "e_3 = c(0, 0, 1, 0)\n",
        "\n",
        "# Ones vector\n",
        "o = replicate(4, 1)\n",
        "\n",
        "# Vector for 1st feature (heart rate)\n",
        "p_1 = P[, 1]\n",
        "print(p_1)\n",
        "cat(sprintf('\\n'))\n",
        "\n",
        "# Get 1st component of vector (heart rate for 1st patient)\n",
        "print(e_1 %*% p_1)\n",
        "cat(sprintf('\\n'))\n",
        "\n",
        "# Get 3rd component of vector (heart rate for 3rd patient)\n",
        "print(e_3 %*% p_1)\n",
        "cat(sprintf('\\n'))\n",
        "\n",
        "# Get sum of 1st feature values (heart rate) for all patients\n",
        "print(o %*% p_1)\n",
        "print(sum(p_1))\n",
        "cat(sprintf('\\n'))\n",
        "\n",
        "# Average of 1st feature values (heart rate)\n",
        "n = length(p_1)\n",
        "print(((1/n)*o) %*% p_1)\n",
        "print(mean(p_1))"
      ]
    },
    {
      "cell_type": "markdown",
      "metadata": {
        "id": "ZGO_uJMo7Gpd"
      },
      "source": [
        "### **Norm of a vector**\n",
        "\n",
        "A scalar representing how <font color=\"cyan\">big a vector</font> is:$$\\lVert a\\rVert =\\sqrt{a_1^2+a_2^2+\\cdots+a_n^2} = \\sqrt{a^\\mathrm{T}a}$$\t\t\t\t\n",
        "${\\color{cyan}{\\lVert\\,\\lVert}}$ represents the norm of a vector\n",
        "\n",
        "![Norm of a vector](https://bl3302files.storage.live.com/y4m8A4FYuLT9fy5RKHMEsnS-vKtnF2AHO9UTNerw_A84S_kM8U2FkhLb1-9O-_hN_aI0WWflvQS0kXTSG_K06nDWj9pzLnFw1S0hSrmKQw_dJdxW5r2k5OlqhqmeFoKKZDdivpoudbm6my5YZHU5RKMWBB39Fu5EEVQ7hfqjRuBhqoYkSmP0fbRLJY-XKsMCJRj?width=256&height=62&cropmode=none)\n",
        "\n",
        "![Geometry of vector](https://bl3302files.storage.live.com/y4mTwTyJtDFs8AJR9CbNJCrCPk3413w4UWANehYJyao_43H2CyM90kdttDdDqiURZjtw57BgL34bmpsrrazm7r-Re31BHxH04LEeXTU85-TLXGjotJGGoqzCH-J_nXhARQdoHQ5J450Rw-fq30GMbCjeDWz9kf12a7cmjU73fr6gfROSrsAgI7GMHlusSxljDFe?width=360&height=100&cropmode=none)"
      ]
    },
    {
      "cell_type": "code",
      "execution_count": 6,
      "metadata": {
        "id": "ixuce9eC9b_B",
        "vscode": {
          "languageId": "r"
        }
      },
      "outputs": [
        {
          "name": "stdout",
          "output_type": "stream",
          "text": [
            "[1] 76 74 72 78\n",
            "[1] 150.0667\n",
            "         [,1]\n",
            "[1,] 150.0667\n",
            "[1] 150.0667\n"
          ]
        }
      ],
      "source": [
        "# Norm of the 1st feature (heart rate) vector\n",
        "p_1 = P[, 1]\n",
        "print(p_1)\n",
        "print(sqrt(sum(p_1*p_1)))\n",
        "print(sqrt(p_1 %*% p_1))\n",
        "print(norm(p_1, type = '2'))"
      ]
    },
    {
      "cell_type": "markdown",
      "metadata": {
        "id": "VKBzN-Wf-Jlw"
      },
      "source": [
        "### **Root Mean Square (RMS) value of a vector**\n",
        "\n",
        "A scalar representing the <font color=\"cyan\">typical absolute value</font> of an element: $$\\text{rms}(a)=\\sqrt{\\frac{a_1^2+a_2^2+\\cdots+a_n^2}{n}} = \\frac{\\lVert a\\rVert}{\\sqrt{n}}$$\n",
        "The <font color = \"cyan\">rms value</font> of the vector $\\begin{bmatrix}1\\\\-1\\\\-1\\\\1\\end{bmatrix}$ is ${\\color{cyan}1}$ whereas the <font color=\"green\">avg($a$)</font> is ${\\color{green}0}$.\t"
      ]
    },
    {
      "cell_type": "code",
      "execution_count": 7,
      "metadata": {
        "id": "Yq31Mj_0-Tkr",
        "vscode": {
          "languageId": "r"
        }
      },
      "outputs": [
        {
          "name": "stdout",
          "output_type": "stream",
          "text": [
            "         [,1]\n",
            "[1,] 75.03333\n",
            "[1] 75\n"
          ]
        }
      ],
      "source": [
        "# RMS value of the 1st feature (heart rate) vector\n",
        "n = length(p_1)\n",
        "print((1/sqrt(n) * sqrt(p_1 %*% p_1)))\n",
        "\n",
        "# Compare with the average of the 1st feature (heart rate) vector\n",
        "print(mean(p_1))"
      ]
    },
    {
      "cell_type": "markdown",
      "metadata": {
        "id": "q9qsTlUD_B1d"
      },
      "source": [
        "### **Deviation from the average** \n",
        "Mean Centring\n",
        "\n",
        "The vector $a-\\text{avg}(a)\\mathbf{1}$ is called the de-meaned version of $a.$\n",
        "\n",
        "![Demeaned vector](https://bl3302files.storage.live.com/y4mRZeCpRTmxCVjlTBh63SSC-9ykIfmf-ZvIaXrp6prd1XpSPT0RhhaQ1j0vFp9lpKPaZtL8S1CSa64Bsw34x2_ncg1dAwBjR5lt6J8qOVqORlZIOw4gtOu0IIRHVbP3Zy4fZDeIzn8mgHFCc5y75W4PDkq0mhs-6VTSULUZQSefLhbTlv04pY_nAjg-rfyQ5jl?width=400&height=200&cropmode=none)"
      ]
    },
    {
      "cell_type": "code",
      "execution_count": 14,
      "metadata": {
        "id": "5Uz3H4EY-s9L",
        "vscode": {
          "languageId": "r"
        }
      },
      "outputs": [
        {
          "name": "stdout",
          "output_type": "stream",
          "text": [
            "[1]  1 -1 -3  3\n"
          ]
        }
      ],
      "source": [
        "print(p_1-mean(p_1))"
      ]
    },
    {
      "cell_type": "markdown",
      "metadata": {
        "id": "EHPawysPB4eP"
      },
      "source": [
        "### **Standard devitation of a vector**\n",
        "\n",
        "A measure of how much the <font color=\"cyan\">elements of a vector typically deviate from their average value</font>\n",
        "$$\\text{std}(x) = \\sqrt{\\frac{\\left[x_1-\\text{avg}(x)\\right]^2+\\cdots+\\left[x_n-\\text{avg}(x)\\right]^2}{n}} = \\frac{1}{\\sqrt{n}}\\sqrt{(x-\\text{avg}(x)\\mathbf{1})^\\mathrm{T}(x-\\text{avg}(x)\\mathbf{1}})$$\n",
        "\n",
        "It can be shown that standard deviation of a vector $x$ is the RMS value of the <font color =\"magenta\">de-meaned</font> vector ${\\color{magenta}{x-\\text{avg}(x)\\pmb{1}}}$ represented as ${\\color{magenta}{\\tilde{x}}}$\n",
        "Standard deviation of a vector is small when its entries are nearly the same\n",
        "For any vector $x$, ${\\color{red}{\\text{rms}(x)^2}} = {\\color{green}{\\text{avg}(x)^2}}+{\\color{yellow}{\\text{std}(x)^2}}$\n",
        "\t"
      ]
    },
    {
      "cell_type": "code",
      "execution_count": 8,
      "metadata": {
        "id": "U8pULrQ5CTLE",
        "vscode": {
          "languageId": "r"
        }
      },
      "outputs": [
        {
          "name": "stdout",
          "output_type": "stream",
          "text": [
            "[1] 75\n",
            "         [,1]\n",
            "[1,] 2.581989\n",
            "[1] 2.581989\n"
          ]
        }
      ],
      "source": [
        "# Standard deviation of the 1st feature (heart rate) vector\n",
        "n = length(p_1)\n",
        "print(mean(p_1))\n",
        "print((1/sqrt(n-1)) * sqrt((p_1-mean(p_1)) %*% (p_1-mean(p_1))))\n",
        "print(sd(p_1))"
      ]
    },
    {
      "cell_type": "markdown",
      "metadata": {
        "id": "gIi0elJhDb7a"
      },
      "source": [
        "### **Standardization of a vector**\t\n",
        "\n",
        "- Standardized version of vector $x$ is a vector $z$ with mean zero and standard deviation 1\n",
        "$$z = \\frac{x-\\text{avg}(x)\\pmb{1}}{\\text{std}(x)}$$\n",
        "\n",
        "- Elements of $z$ are called $z$-scores associated with the elements of the original vector $x$\t\n",
        "For example, if a vector $x$ gives the values of heart rates of $4$ patients admitted to a hospital, the $z$-scores tell us how high or low, compared to the population, that patient’s heart rate value is.\n"
      ]
    },
    {
      "cell_type": "code",
      "execution_count": 55,
      "metadata": {
        "id": "HtADl8ObDu_z",
        "vscode": {
          "languageId": "r"
        }
      },
      "outputs": [
        {
          "name": "stdout",
          "output_type": "stream",
          "text": [
            "[1] 76 74 72 78\n",
            "[1]  0.3872983 -0.3872983 -1.1618950  1.1618950\n"
          ]
        }
      ],
      "source": [
        "# Standardized version of 1st feature (heart rate) vector\n",
        "z = (p_1-mean(p_1)) / sd(p_1)\n",
        "print(p_1)\n",
        "print(z)"
      ]
    },
    {
      "cell_type": "markdown",
      "metadata": {
        "id": "ibBxCW-uG5Ny"
      },
      "source": [
        "### **Component plots of a vector, its de-meaned version, and its standardized version**"
      ]
    },
    {
      "cell_type": "code",
      "execution_count": 9,
      "metadata": {
        "id": "zgB2xM1hHDTx",
        "vscode": {
          "languageId": "r"
        }
      },
      "outputs": [
        {
          "data": {
            "text/html": [
              "<style>\n",
              ".list-inline {list-style: none; margin:0; padding: 0}\n",
              ".list-inline>li {display: inline-block}\n",
              ".list-inline>li:not(:last-child)::after {content: \"\\00b7\"; padding: 0 .5ex}\n",
              "</style>\n",
              "<ol class=list-inline><li>53.563690437004</li><li>62.6317519880831</li><li>106.615429087542</li><li>70.425023380667</li><li>69.0206516394392</li><li>66.4542797440663</li><li>51.461035516113</li><li>66.8405909463763</li><li>99.1722161183134</li><li>100.138908610679</li></ol>\n"
            ],
            "text/latex": [
              "\\begin{enumerate*}\n",
              "\\item 53.563690437004\n",
              "\\item 62.6317519880831\n",
              "\\item 106.615429087542\n",
              "\\item 70.425023380667\n",
              "\\item 69.0206516394392\n",
              "\\item 66.4542797440663\n",
              "\\item 51.461035516113\n",
              "\\item 66.8405909463763\n",
              "\\item 99.1722161183134\n",
              "\\item 100.138908610679\n",
              "\\end{enumerate*}\n"
            ],
            "text/markdown": [
              "1. 53.563690437004\n",
              "2. 62.6317519880831\n",
              "3. 106.615429087542\n",
              "4. 70.425023380667\n",
              "5. 69.0206516394392\n",
              "6. 66.4542797440663\n",
              "7. 51.461035516113\n",
              "8. 66.8405909463763\n",
              "9. 99.1722161183134\n",
              "10. 100.138908610679\n",
              "\n",
              "\n"
            ],
            "text/plain": [
              " [1]  53.56369  62.63175 106.61543  70.42502  69.02065  66.45428  51.46104\n",
              " [8]  66.84059  99.17222 100.13891"
            ]
          },
          "metadata": {},
          "output_type": "display_data"
        },
        {
          "data": {
            "image/png": "[encoded data removed]",
            "text/plain": [
              "plot without title"
            ]
          },
          "metadata": {
            "image/png": {
              "height": 420,
              "width": 420
            }
          },
          "output_type": "display_data"
        }
      ],
      "source": [
        "# Generate a 10-vector representing the heart rates of 10 random patients\n",
        "samplesize = 10\n",
        "h = runif(samplesize, min = 50, max = 110)\n",
        "h\n",
        "\n",
        "# De-meaned heart rate\n",
        "h_demeaned = h-mean(h)\n",
        "\n",
        "# Standardized heart rate\n",
        "h_standardized = h_demeaned / sd(h)\n",
        "\n",
        "# Component plot of heart rate vector\n",
        "df = as.data.frame(cbind(c(1:samplesize), h, h_demeaned, h_standardized))\n",
        "colnames(df) = c('PatientNumber', 'HeartRate', 'HeartRateDemeaned', 'HeartRateStandardized')\n",
        "p1 = ggplot(data = df) +\n",
        "  geom_point(size = 2, color = 'blue', aes(x = PatientNumber, y = HeartRate)) +\n",
        "  geom_hline(yintercept = mean(h), linetype = \"dashed\", color = \"blue\") +\n",
        "  geom_point(size = 2, color = 'green', aes(x = PatientNumber, y = HeartRateDemeaned)) +\n",
        "  geom_hline(yintercept = mean(h_demeaned), linetype = \"dashed\", color = \"green\") +\n",
        "  geom_point(size = 2, color = 'red', aes(x = PatientNumber, y = HeartRateStandardized)) +\n",
        "  geom_hline(yintercept = mean(h_standardized), linetype = \"dashed\", color = \"red\") +\n",
        "  scale_x_continuous(breaks = seq(0, samplesize, by = 1)) +\n",
        "  theme(axis.text = element_text(size = 12),\n",
        "  axis.text.x = element_text(size = 10),\n",
        "  axis.text.y = element_text(size = 10),\n",
        "  axis.title = element_text(size = 10, face = \"bold\")) +\n",
        "  labs(x = 'Patient Number',\n",
        "       y = 'Heart Rate',\n",
        "       title = 'Component Plot of Heart Rate Vector')\n",
        "p1"
      ]
    },
    {
      "cell_type": "code",
      "execution_count": 10,
      "metadata": {
        "id": "qVsSbaaVhjVC",
        "vscode": {
          "languageId": "r"
        }
      },
      "outputs": [
        {
          "data": {
            "image/png": "[encoded data removed]",
            "text/plain": [
              "plot without title"
            ]
          },
          "metadata": {
            "image/png": {
              "height": 420,
              "width": 420
            }
          },
          "output_type": "display_data"
        }
      ],
      "source": [
        "# Highlight samples beyong 1.5 standard deviations from the mean\n",
        "k = 1.5\n",
        "p1 = ggplot(data = df) +\n",
        "  geom_point(size = 2, color = 'red', aes(x = PatientNumber, y = HeartRateStandardized)) +\n",
        "  geom_hline(yintercept = mean(h_standardized), linetype = \"dashed\", color = \"black\") +\n",
        "  geom_hline(yintercept = mean(h_standardized)+k*sd(h_standardized), linetype = \"dashed\", color = \"black\") +\n",
        "  geom_hline(yintercept = mean(h_standardized)-k*sd(h_standardized), linetype = \"dashed\", color = \"black\") +\n",
        "  scale_x_continuous(breaks = seq(0, samplesize, by = 1)) +\n",
        "  theme(axis.text = element_text(size = 12),\n",
        "  axis.text.x = element_text(size = 10),\n",
        "  axis.text.y = element_text(size = 10),\n",
        "  axis.title = element_text(size = 10, face = \"bold\")) +\n",
        "  labs(x = 'Patient Number',\n",
        "       y = 'Standardized Heart Rate',\n",
        "       title = 'Component Plot of Standardized Heart Rate Vector')\n",
        "p1"
      ]
    },
    {
      "cell_type": "markdown",
      "metadata": {
        "id": "8aV56gA_GNlY"
      },
      "source": [
        "### **Correlation between two vectors**\n",
        "\n",
        "It is a measure of linear relationship between two vectors $a$ and $b.$ Let $\\tilde{a}$ and $\\tilde{b}$ represent their de-meaned versions. The correlation coefficient is defined as:\n",
        "\n",
        "$$\\rho = \\frac{\\tilde{a}^\\mathrm{T}\\tilde{b}}{\\lVert \\tilde{a}\\rVert\\lVert \\tilde{b}\\rVert}.$$\n",
        "\n",
        "This is a value between $-1$ and $1.$"
      ]
    },
    {
      "cell_type": "code",
      "execution_count": 14,
      "metadata": {
        "id": "Ogy4hEzoHuis",
        "vscode": {
          "languageId": "r"
        }
      },
      "outputs": [
        {
          "name": "stdout",
          "output_type": "stream",
          "text": [
            "[1] 0.9583148\n",
            "         [,1]\n",
            "[1,] 0.999589\n"
          ]
        },
        {
          "data": {
            "image/png": "[encoded data removed]",
            "text/plain": [
              "plot without title"
            ]
          },
          "metadata": {
            "image/png": {
              "height": 420,
              "width": 420
            }
          },
          "output_type": "display_data"
        }
      ],
      "source": [
        "# Correlation between 1st feature (heart rate) and 2nd feature (BP) vectors\n",
        "p_1 = P[, 1]\n",
        "p_2 = P[, 2]\n",
        "print(cor(p_1, p_2))\n",
        "\n",
        "# Why not use the original heart rate and blood pressure vectors?\n",
        "print((p_1 %*% p_2) / (norm(p_1, type = '2')*norm(p_2, type = '2')))\n",
        "plot(p_1, p_2)"
      ]
    },
    {
      "cell_type": "code",
      "execution_count": 20,
      "metadata": {
        "id": "ZjK1NGV_q1Wa",
        "vscode": {
          "languageId": "r"
        }
      },
      "outputs": [
        {
          "name": "stdout",
          "output_type": "stream",
          "text": [
            "[1] 0.5064416 0.4931142 0.4797868 0.5197690\n",
            "[1]  0.3872983 -0.3872983 -1.1618950  1.1618950\n"
          ]
        }
      ],
      "source": [
        "# Normalization vs. Standardization\n",
        "p_1 = P[, 1]\n",
        "print(p_1 / norm(p_1, type = '2')) # normalized version\n",
        "print((p_1 - mean(p_1))/sd(p_1)) # standardized version"
      ]
    },
    {
      "cell_type": "markdown",
      "metadata": {
        "id": "0KNug5UpN4jd"
      },
      "source": [
        "**A sample data matrix**"
      ]
    },
    {
      "cell_type": "code",
      "execution_count": 21,
      "metadata": {
        "id": "OfDvIpuuK9X5",
        "vscode": {
          "languageId": "r"
        }
      },
      "outputs": [
        {
          "name": "stdout",
          "output_type": "stream",
          "text": [
            "  X1 X2\n",
            "1  5  2\n",
            "2  3  6\n"
          ]
        },
        {
          "data": {
            "image/png": "[encoded data removed]",
            "text/plain": [
              "plot without title"
            ]
          },
          "metadata": {
            "image/png": {
              "height": 420,
              "width": 420
            }
          },
          "output_type": "display_data"
        }
      ],
      "source": [
        "sData = data.frame(\"X1\" = c(5, 3), \"X2\" = c(2, 6))\n",
        "print(sData)\n",
        "plot(sData$X1, sData$X2)"
      ]
    },
    {
      "cell_type": "markdown",
      "metadata": {
        "id": "1QR297TmLT7n"
      },
      "source": [
        "**Geometric representation of vectors**"
      ]
    },
    {
      "cell_type": "code",
      "execution_count": 22,
      "metadata": {
        "id": "VYCQi95MLGBT",
        "vscode": {
          "languageId": "r"
        }
      },
      "outputs": [
        {
          "data": {
            "image/png": "[encoded data removed]",
            "text/plain": [
              "plot without title"
            ]
          },
          "metadata": {
            "image/png": {
              "height": 420,
              "width": 420
            }
          },
          "output_type": "display_data"
        }
      ],
      "source": [
        "p1 = sData %>% ggplot() + \n",
        "  geom_segment(aes(x = 0, y = 0, xend = X1[1], yend = X1[2]), size = 1,\n",
        "   arrow = arrow(length = unit(0.5,\"cm\")), color = 'red') +\n",
        "  geom_segment(aes(x = 0, y = 0, xend = X2[1], yend = X2[2]), size = 1,\n",
        "   arrow = arrow(length = unit(0.5,\"cm\")), color = 'blue') +\n",
        "  geom_text(aes(x = X1[1], y = X1[2]), label = 'x1', hjust = -0.5, vjust = 0, size = 10) +\n",
        "  geom_text(aes(x = X2[1], y= X2[2]), label = 'x2', hjust = -0.5, vjust = 0.5, size = 10) +\n",
        "  labs( x = '', y = '', title = 'Vectors') +\n",
        "  geom_vline(xintercept = 0, linetype = 'dashed') + \n",
        "  geom_hline(yintercept = 0, linetype = 'dashed') +\n",
        "  theme(axis.text.x = element_text(size = 20),\n",
        "   axis.text.y= element_text(size = 20),\n",
        "   axis.line = element_line(colour = \"darkblue\", size = 1, linetype = \"solid\")) +\n",
        "   scale_x_continuous(expand = c(0, 0), limits = c(-11, 11)) +\n",
        "   scale_y_continuous(expand = c(0, 0), limits = c(-11, 11))\n",
        "p1"
      ]
    },
    {
      "cell_type": "code",
      "execution_count": 23,
      "metadata": {
        "id": "qyZtRGV6LYYP",
        "vscode": {
          "languageId": "r"
        }
      },
      "outputs": [
        {
          "name": "stdout",
          "output_type": "stream",
          "text": [
            "  X1 X2 X1Normalized X2Normalized\n",
            "1  5  2    0.8574929    0.3162278\n",
            "2  3  6    0.5144958    0.9486833\n"
          ]
        }
      ],
      "source": [
        "X = as.matrix(sData)\n",
        "# Add new columns with normalized vectors\n",
        "sData$X1Normalized  = X[,1] / norm(X[,1], type = '2')\n",
        "sData$X2Normalized  = X[,2] / norm(X[,2], type = '2')\n",
        "print(sData)"
      ]
    },
    {
      "cell_type": "code",
      "execution_count": 24,
      "metadata": {
        "id": "u8M_UWW1L_pR",
        "vscode": {
          "languageId": "r"
        }
      },
      "outputs": [
        {
          "data": {
            "image/png": "[encoded data removed]",
            "text/plain": [
              "plot without title"
            ]
          },
          "metadata": {
            "image/png": {
              "height": 420,
              "width": 420
            }
          },
          "output_type": "display_data"
        }
      ],
      "source": [
        "p2 = sData %>% ggplot() + \n",
        "  geom_segment(aes(x = 0, y = 0, xend = X1[1], yend = X1[2]), size = 1,\n",
        "   arrow = arrow(length = unit(0.5,\"cm\")), color = 'red') +\n",
        "  geom_segment(aes(x = 0, y = 0, xend = X2[1], yend = X2[2]), size = 1,\n",
        "   arrow = arrow(length = unit(0.5,\"cm\")), color = 'blue') +\n",
        "  geom_segment(aes(x = 0, y = 0, xend = X1Normalized[1], yend = X1Normalized[2]), size = 1,\n",
        "   arrow = arrow(length = unit(0.5,\"cm\")), color = 'red', linetype = 'dashed') + \n",
        "  geom_segment(aes(x = 0, y = 0, xend = X2Normalized[1], yend = X2Normalized[2]), size = 1,\n",
        "   arrow = arrow(length = unit(0.5,\"cm\")), color = 'blue', linetype = 'dashed') + \n",
        "  geom_text(aes(x = X1[1], y = X1[2]), label = 'x1', hjust = -0.5, vjust = 0, size = 10) +\n",
        "  geom_text(aes(x = X2[1], y= X2[2]), label = 'x2', hjust = -0.5, vjust = 0.5, size = 10) +\n",
        "  labs( x = '', y = '', title = 'Vectors') +\n",
        "  geom_vline(xintercept = 0, linetype = 'dashed') + \n",
        "  geom_hline(yintercept = 0, linetype = 'dashed') +\n",
        "  theme(axis.text.x = element_text(size = 20),\n",
        "   axis.text.y= element_text(size = 20),\n",
        "   axis.line = element_line(colour = \"darkblue\", size = 1, linetype = \"solid\")) +\n",
        "   scale_x_continuous(expand = c(0, 0), limits = c(-11, 11)) +\n",
        "   scale_y_continuous(expand = c(0, 0), limits = c(-11, 11))\n",
        "p2"
      ]
    },
    {
      "cell_type": "code",
      "execution_count": 25,
      "metadata": {
        "id": "Fl20PuwRM4KJ",
        "vscode": {
          "languageId": "r"
        }
      },
      "outputs": [
        {
          "data": {
            "text/html": [
              "1"
            ],
            "text/latex": [
              "1"
            ],
            "text/markdown": [
              "1"
            ],
            "text/plain": [
              "[1] 1"
            ]
          },
          "metadata": {},
          "output_type": "display_data"
        },
        {
          "data": {
            "text/html": [
              "1"
            ],
            "text/latex": [
              "1"
            ],
            "text/markdown": [
              "1"
            ],
            "text/plain": [
              "[1] 1"
            ]
          },
          "metadata": {},
          "output_type": "display_data"
        }
      ],
      "source": [
        "# Length (norm) of normalized columns\n",
        "norm(sData$X1Normalized, type = '2')\n",
        "norm(sData$X2Normalized, type = '2')"
      ]
    },
    {
      "cell_type": "code",
      "execution_count": 26,
      "metadata": {
        "id": "f1NXV1L0MLMx",
        "vscode": {
          "languageId": "r"
        }
      },
      "outputs": [
        {
          "name": "stdout",
          "output_type": "stream",
          "text": [
            "  X1 X2 X1Normalized X2Normalized X1Standardized X2Standardized\n",
            "1  5  2    0.8574929    0.3162278      0.7071068     -0.7071068\n",
            "2  3  6    0.5144958    0.9486833     -0.7071068      0.7071068\n"
          ]
        }
      ],
      "source": [
        "# Add new columns with standardized vectors\n",
        "sData$X1Standardized  = (X[,1] - mean(X[,1])) / sd(X[,1])\n",
        "sData$X2Standardized  = (X[,2] - mean(X[,2])) / sd(X[,2])\n",
        "print(sData)"
      ]
    },
    {
      "cell_type": "code",
      "execution_count": 27,
      "metadata": {
        "id": "Rp3dUTzaMTV4",
        "vscode": {
          "languageId": "r"
        }
      },
      "outputs": [
        {
          "data": {
            "text/html": [
              "0"
            ],
            "text/latex": [
              "0"
            ],
            "text/markdown": [
              "0"
            ],
            "text/plain": [
              "[1] 0"
            ]
          },
          "metadata": {},
          "output_type": "display_data"
        },
        {
          "data": {
            "text/html": [
              "1"
            ],
            "text/latex": [
              "1"
            ],
            "text/markdown": [
              "1"
            ],
            "text/plain": [
              "[1] 1"
            ]
          },
          "metadata": {},
          "output_type": "display_data"
        }
      ],
      "source": [
        "# Mean and standard deviation of the standardized columns\n",
        "mean(sData$X1Standardized)\n",
        "sd(sData$X1Standardized)"
      ]
    },
    {
      "cell_type": "code",
      "execution_count": 28,
      "metadata": {
        "id": "MbRZhZCwNIPw",
        "vscode": {
          "languageId": "r"
        }
      },
      "outputs": [
        {
          "data": {
            "image/png": "[encoded data removed]",
            "text/plain": [
              "plot without title"
            ]
          },
          "metadata": {
            "image/png": {
              "height": 420,
              "width": 420
            }
          },
          "output_type": "display_data"
        }
      ],
      "source": [
        "p3 = sData %>% ggplot() + \n",
        "  geom_segment(aes(x = 0, y = 0, xend = X1[1], yend = X1[2]), size = 1,\n",
        "   arrow = arrow(length = unit(0.5,\"cm\")), color = 'red') +\n",
        "  geom_segment(aes(x = 0, y = 0, xend = X2[1], yend = X2[2]), size = 1,\n",
        "   arrow = arrow(length = unit(0.5,\"cm\")), color = 'blue') +\n",
        "  geom_segment(aes(x = 0, y = 0, xend = X1Normalized[1], yend = X1Normalized[2]), size = 1,\n",
        "   arrow = arrow(length = unit(0.5,\"cm\")), color = 'red', linetype = 'dashed') + \n",
        "  geom_segment(aes(x = 0, y = 0, xend = X2Normalized[1], yend = X2Normalized[2]), size = 1,\n",
        "   arrow = arrow(length = unit(0.5,\"cm\")), color = 'blue', linetype = 'dashed') + \n",
        "  geom_segment(aes(x = 0, y = 0, xend = X1Standardized[1], yend = X1Standardized[2]), size = 1,\n",
        "   arrow = arrow(length = unit(0.5,\"cm\")), color = 'red', linetype = 1) + \n",
        "  geom_segment(aes(x = 0, y = 0, xend = X2Standardized[1], yend = X2Standardized[2]), size = 1,\n",
        "   arrow = arrow(length = unit(0.5,\"cm\")), color = 'blue', linetype = 1) +  \n",
        "  geom_text(aes(x = X1[1], y = X1[2]), label = 'x1', hjust = -0.5, vjust = 0, size = 10) +\n",
        "  geom_text(aes(x = X2[1], y= X2[2]), label = 'x2', hjust = -0.5, vjust = 0.5, size = 10) +\n",
        "  labs( x = '', y = '', title = 'Vectors') +\n",
        "  geom_vline(xintercept = 0, linetype = 'dashed') + \n",
        "  geom_hline(yintercept = 0, linetype = 'dashed') +\n",
        "  theme(axis.text.x = element_text(size = 20),\n",
        "   axis.text.y= element_text(size = 20),\n",
        "   axis.line = element_line(colour = \"darkblue\", size = 1, linetype = \"solid\")) +\n",
        "   scale_x_continuous(expand = c(0, 0), limits = c(-11, 11)) +\n",
        "   scale_y_continuous(expand = c(0, 0), limits = c(-11, 11))\n",
        "p3"
      ]
    },
    {
      "cell_type": "code",
      "execution_count": 29,
      "metadata": {
        "id": "Rt5DEq1LNdeF",
        "vscode": {
          "languageId": "r"
        }
      },
      "outputs": [
        {
          "data": {
            "image/png": "[encoded data removed]",
            "text/plain": [
              "plot without title"
            ]
          },
          "metadata": {
            "image/png": {
              "height": 420,
              "width": 420
            }
          },
          "output_type": "display_data"
        }
      ],
      "source": [
        "p5 = sData %>% ggplot() + \n",
        "  geom_segment(aes(x = 0, y = 0, xend = X1[1], yend = X2[1]), size = 1,\n",
        "   arrow = arrow(length = unit(0.5,\"cm\")), color = 'red') +\n",
        "  geom_segment(aes(x = 0, y = 0, xend = X1[2], yend = X2[2]), size = 1,\n",
        "   arrow = arrow(length = unit(0.5,\"cm\")), color = 'blue') +\n",
        "  geom_text(aes(x = X1[1], y = X2[1]), label = 'x^1', hjust = -0.5, vjust = 0, size = 10) +\n",
        "  geom_text(aes(x = X1[2], y= X2[2]), label = 'x^2', hjust = -0.5, vjust = 0.5, size = 10) +\n",
        "  labs( x = '', y = '', title = 'Vectors') +\n",
        "  geom_vline(xintercept = 0, linetype = 'dashed') + \n",
        "  geom_hline(yintercept = 0, linetype = 'dashed') +\n",
        "  theme(axis.text.x = element_text(size = 20),\n",
        "   axis.text.y= element_text(size = 20),\n",
        "   axis.line = element_line(colour = \"darkblue\", size = 1, linetype = \"solid\")) +\n",
        "   scale_x_continuous(expand = c(0, 0), limits = c(-11, 11)) +\n",
        "   scale_y_continuous(expand = c(0, 0), limits = c(-11, 11))\n",
        "p5"
      ]
    },
    {
      "cell_type": "code",
      "execution_count": 30,
      "metadata": {
        "id": "BXLDsvFdNjKi",
        "vscode": {
          "languageId": "r"
        }
      },
      "outputs": [
        {
          "name": "stdout",
          "output_type": "stream",
          "text": [
            "     X1 X2 X1Normalized X2Normalized X1Standardized X2Standardized\n",
            "[1,]  5  2    0.8574929    0.3162278      0.7071068     -0.7071068\n",
            "[2,]  3  6    0.5144958    0.9486833     -0.7071068      0.7071068\n"
          ]
        }
      ],
      "source": [
        "X = as.matrix(sData)\n",
        "print(X)"
      ]
    },
    {
      "cell_type": "markdown",
      "metadata": {
        "id": "F9YfYcf5N_bo"
      },
      "source": [
        "**Projection of vectors and its relationship to dot product**\n",
        "\n",
        "![Vector projection](https://bl3302files.storage.live.com/y4miuCtKP9ptv6lIB8EqEU_u7cbEydy0UsEgHl4ECni2UVONtvKZgf73pIQ4vuA99ZHP8K96W_1i-QuhSIN12IudLaUTF3_jZzFqVfsaRK7QubMS9p5C1ErN6tB8I_UqQZnSY2JSGnu0IvJQrRcd2rX2Hzngfka3tCqJhbAMdElywcis2gRaoiuEGDVqaXpZYYp?width=256&height=209&cropmode=none)"
      ]
    },
    {
      "cell_type": "code",
      "execution_count": 31,
      "metadata": {
        "id": "aIC3FK6xNmiB",
        "vscode": {
          "languageId": "r"
        }
      },
      "outputs": [],
      "source": [
        "# Scalar projection of x^2 onto x^1\n",
        "shadowLength = (X[2,] %*% X[1,])/(norm(X[1,], type = '2'))\n",
        "shadowLength = as.numeric(shadowLength)\n",
        "# Vector projection of x^2 onto x^1\n",
        "unitVector = X[1,] / (norm(X[1,], type = '2'))\n",
        "X2Projected = shadowLength * unitVector"
      ]
    },
    {
      "cell_type": "code",
      "execution_count": 32,
      "metadata": {
        "id": "c_LswOXxOHE1",
        "vscode": {
          "languageId": "r"
        }
      },
      "outputs": [
        {
          "data": {
            "image/png": "[encoded data removed]",
            "text/plain": [
              "plot without title"
            ]
          },
          "metadata": {
            "image/png": {
              "height": 420,
              "width": 420
            }
          },
          "output_type": "display_data"
        }
      ],
      "source": [
        "p6 = sData %>% ggplot() + \n",
        "  geom_segment(aes(x = 0, y = 0, xend = X1[1], yend = X2[1]), size = 1,\n",
        "   arrow = arrow(length = unit(0.5,\"cm\")), color = 'red') +\n",
        "  geom_segment(aes(x = 0, y = 0, xend = X1[2], yend = X2[2]), size = 1,\n",
        "   arrow = arrow(length = unit(0.5,\"cm\")), color = 'blue') +\n",
        "  geom_segment(aes(x = 0, y = 0, xend = X2Projected[1], yend = X2Projected[2]), size = 1,\n",
        "   arrow = arrow(length = unit(0.5,\"cm\")), color = 'black', linetype = 'dashed') + \n",
        "  geom_text(aes(x = X1[1], y = X1[2]), label = 'x^1', hjust = -0.5, vjust = 0, size = 10) +\n",
        "  geom_text(aes(x = X2[1], y= X2[2]), label = 'x^2', hjust = -0.5, vjust = 0.5, size = 10) +\n",
        "  labs( x = '', y = '', title = 'Vectors') +\n",
        "  geom_vline(xintercept = 0, linetype = 'dashed') + \n",
        "  geom_hline(yintercept = 0, linetype = 'dashed') +\n",
        "  theme(axis.text.x = element_text(size = 20),\n",
        "   axis.text.y= element_text(size = 20),\n",
        "   axis.line = element_line(colour = \"darkblue\", size = 1, linetype = \"solid\")) +\n",
        "   scale_x_continuous(expand = c(0, 0), limits = c(-11, 11)) +\n",
        "   scale_y_continuous(expand = c(0, 0), limits = c(-11, 11))\n",
        "p6"
      ]
    },
    {
      "cell_type": "code",
      "execution_count": 33,
      "metadata": {
        "id": "VFypggw9uf26",
        "vscode": {
          "languageId": "r"
        }
      },
      "outputs": [
        {
          "name": "stdout",
          "output_type": "stream",
          "text": [
            "     HR  BP Temp\n",
            "[1,] 76 126 38.0\n",
            "[2,] 74 120 38.0\n",
            "[3,] 72 118 37.5\n",
            "[4,] 78 136 37.0\n",
            "     [,1]\n",
            "[1,]   76\n",
            "     [,1]\n",
            "[1,]   74\n",
            "     [,1]\n",
            "[1,]   72\n",
            "     [,1]\n",
            "[1,]   78\n"
          ]
        },
        {
          "data": {
            "text/html": [
              "2.58198889747161"
            ],
            "text/latex": [
              "2.58198889747161"
            ],
            "text/markdown": [
              "2.58198889747161"
            ],
            "text/plain": [
              "[1] 2.581989"
            ]
          },
          "metadata": {},
          "output_type": "display_data"
        },
        {
          "data": {
            "text/html": [
              "8.08290376865476"
            ],
            "text/latex": [
              "8.08290376865476"
            ],
            "text/markdown": [
              "8.08290376865476"
            ],
            "text/plain": [
              "[1] 8.082904"
            ]
          },
          "metadata": {},
          "output_type": "display_data"
        },
        {
          "data": {
            "text/html": [
              "0.478713553878169"
            ],
            "text/latex": [
              "0.478713553878169"
            ],
            "text/markdown": [
              "0.478713553878169"
            ],
            "text/plain": [
              "[1] 0.4787136"
            ]
          },
          "metadata": {},
          "output_type": "display_data"
        }
      ],
      "source": [
        "print(P)\n",
        "# Project all patients onto the e_1 direction\n",
        "e_1 = c(1, 0, 0)\n",
        "print(e_1 %*% P[1, ] / norm(e_1, type = '2'))\n",
        "print(e_1 %*% P[2, ] / norm(e_1, type = '2'))\n",
        "print(e_1 %*% P[3, ] / norm(e_1, type = '2'))\n",
        "print(e_1 %*% P[4, ] / norm(e_1, type = '2'))\n",
        "\n",
        "# How different (or varying) are the patients w.r.t. the features?\n",
        "sd(P[, 1])\n",
        "sd(P[, 2])\n",
        "sd(P[, 3])"
      ]
    },
    {
      "cell_type": "code",
      "execution_count": 34,
      "metadata": {
        "id": "6IROuoYjM7pq",
        "vscode": {
          "languageId": "r"
        }
      },
      "outputs": [
        {
          "name": "stdout",
          "output_type": "stream",
          "text": [
            "'data.frame':\t50 obs. of  5 variables:\n",
            " $ Oil     : num  16.5 17.7 16.2 16.7 16.3 19.1 18.4 17.5 15.7 16.4 ...\n",
            " $ Density : int  2955 2660 2870 2920 2975 2790 2750 2770 2955 2945 ...\n",
            " $ Crispy  : int  10 14 12 10 11 13 13 10 11 11 ...\n",
            " $ Fracture: int  23 9 17 31 26 16 17 26 23 24 ...\n",
            " $ Hardness: int  97 139 143 95 143 189 114 63 123 132 ...\n"
          ]
        }
      ],
      "source": [
        "## Load data - refer to http://openmv.net/info/food-texture for data description \n",
        "file = 'http://openmv.net/file/food-texture.csv'\n",
        "foodData = read.csv(file, header = TRUE, row.names = 1)\n",
        "## Print structure of data frame\n",
        "str(foodData)"
      ]
    },
    {
      "cell_type": "code",
      "execution_count": 35,
      "metadata": {
        "id": "Osm3V-ix4CvU",
        "vscode": {
          "languageId": "r"
        }
      },
      "outputs": [
        {
          "data": {
            "text/html": [
              "<table class=\"dataframe\">\n",
              "<caption>A data.frame: 5 × 5</caption>\n",
              "<thead>\n",
              "\t<tr><th></th><th scope=col>Oil</th><th scope=col>Density</th><th scope=col>Crispy</th><th scope=col>Fracture</th><th scope=col>Hardness</th></tr>\n",
              "\t<tr><th></th><th scope=col>&lt;dbl&gt;</th><th scope=col>&lt;int&gt;</th><th scope=col>&lt;int&gt;</th><th scope=col>&lt;int&gt;</th><th scope=col>&lt;int&gt;</th></tr>\n",
              "</thead>\n",
              "<tbody>\n",
              "\t<tr><th scope=row>B110</th><td>16.5</td><td>2955</td><td>10</td><td>23</td><td> 97</td></tr>\n",
              "\t<tr><th scope=row>B136</th><td>17.7</td><td>2660</td><td>14</td><td> 9</td><td>139</td></tr>\n",
              "\t<tr><th scope=row>B171</th><td>16.2</td><td>2870</td><td>12</td><td>17</td><td>143</td></tr>\n",
              "\t<tr><th scope=row>B192</th><td>16.7</td><td>2920</td><td>10</td><td>31</td><td> 95</td></tr>\n",
              "\t<tr><th scope=row>B225</th><td>16.3</td><td>2975</td><td>11</td><td>26</td><td>143</td></tr>\n",
              "</tbody>\n",
              "</table>\n"
            ],
            "text/latex": [
              "A data.frame: 5 × 5\n",
              "\\begin{tabular}{r|lllll}\n",
              "  & Oil & Density & Crispy & Fracture & Hardness\\\\\n",
              "  & <dbl> & <int> & <int> & <int> & <int>\\\\\n",
              "\\hline\n",
              "\tB110 & 16.5 & 2955 & 10 & 23 &  97\\\\\n",
              "\tB136 & 17.7 & 2660 & 14 &  9 & 139\\\\\n",
              "\tB171 & 16.2 & 2870 & 12 & 17 & 143\\\\\n",
              "\tB192 & 16.7 & 2920 & 10 & 31 &  95\\\\\n",
              "\tB225 & 16.3 & 2975 & 11 & 26 & 143\\\\\n",
              "\\end{tabular}\n"
            ],
            "text/markdown": [
              "\n",
              "A data.frame: 5 × 5\n",
              "\n",
              "| <!--/--> | Oil &lt;dbl&gt; | Density &lt;int&gt; | Crispy &lt;int&gt; | Fracture &lt;int&gt; | Hardness &lt;int&gt; |\n",
              "|---|---|---|---|---|---|\n",
              "| B110 | 16.5 | 2955 | 10 | 23 |  97 |\n",
              "| B136 | 17.7 | 2660 | 14 |  9 | 139 |\n",
              "| B171 | 16.2 | 2870 | 12 | 17 | 143 |\n",
              "| B192 | 16.7 | 2920 | 10 | 31 |  95 |\n",
              "| B225 | 16.3 | 2975 | 11 | 26 | 143 |\n",
              "\n"
            ],
            "text/plain": [
              "     Oil  Density Crispy Fracture Hardness\n",
              "B110 16.5 2955    10     23        97     \n",
              "B136 17.7 2660    14      9       139     \n",
              "B171 16.2 2870    12     17       143     \n",
              "B192 16.7 2920    10     31        95     \n",
              "B225 16.3 2975    11     26       143     "
            ]
          },
          "metadata": {},
          "output_type": "display_data"
        }
      ],
      "source": [
        "## Print first 5 samples of data frame\n",
        "head(foodData, n = 5)"
      ]
    },
    {
      "cell_type": "code",
      "execution_count": 36,
      "metadata": {
        "id": "jglloopNLWCZ",
        "vscode": {
          "languageId": "r"
        }
      },
      "outputs": [],
      "source": [
        "## Modify data frame\n",
        "# Modify crispy column to reflect high (0) and low (1) crispness\n",
        "foodData = foodData %>% mutate(Crispy = ifelse(Crispy > 11, 'high', 'low'))\n",
        "\n",
        "# Change Crispy column to factor type\n",
        "foodData['Crispy'] = lapply(foodData['Crispy'], factor)"
      ]
    },
    {
      "cell_type": "code",
      "execution_count": 37,
      "metadata": {
        "id": "CdwwmrQ3PydO",
        "vscode": {
          "languageId": "r"
        }
      },
      "outputs": [
        {
          "name": "stdout",
          "output_type": "stream",
          "text": [
            "'data.frame':\t50 obs. of  5 variables:\n",
            " $ Oil     : num  16.5 17.7 16.2 16.7 16.3 19.1 18.4 17.5 15.7 16.4 ...\n",
            " $ Density : int  2955 2660 2870 2920 2975 2790 2750 2770 2955 2945 ...\n",
            " $ Crispy  : Factor w/ 2 levels \"high\",\"low\": 2 1 1 2 2 1 1 2 2 2 ...\n",
            " $ Fracture: int  23 9 17 31 26 16 17 26 23 24 ...\n",
            " $ Hardness: int  97 139 143 95 143 189 114 63 123 132 ...\n"
          ]
        }
      ],
      "source": [
        "## Print structure of modified data frame\n",
        "str(foodData)"
      ]
    },
    {
      "cell_type": "code",
      "execution_count": 38,
      "metadata": {
        "id": "KQkF_NmGN2gS",
        "vscode": {
          "languageId": "r"
        }
      },
      "outputs": [
        {
          "data": {
            "text/html": [
              "<table class=\"dataframe\">\n",
              "<caption>A data.frame: 5 × 5</caption>\n",
              "<thead>\n",
              "\t<tr><th></th><th scope=col>Oil</th><th scope=col>Density</th><th scope=col>Crispy</th><th scope=col>Fracture</th><th scope=col>Hardness</th></tr>\n",
              "\t<tr><th></th><th scope=col>&lt;dbl&gt;</th><th scope=col>&lt;int&gt;</th><th scope=col>&lt;fct&gt;</th><th scope=col>&lt;int&gt;</th><th scope=col>&lt;int&gt;</th></tr>\n",
              "</thead>\n",
              "<tbody>\n",
              "\t<tr><th scope=row>B110</th><td>16.5</td><td>2955</td><td>low </td><td>23</td><td> 97</td></tr>\n",
              "\t<tr><th scope=row>B136</th><td>17.7</td><td>2660</td><td>high</td><td> 9</td><td>139</td></tr>\n",
              "\t<tr><th scope=row>B171</th><td>16.2</td><td>2870</td><td>high</td><td>17</td><td>143</td></tr>\n",
              "\t<tr><th scope=row>B192</th><td>16.7</td><td>2920</td><td>low </td><td>31</td><td> 95</td></tr>\n",
              "\t<tr><th scope=row>B225</th><td>16.3</td><td>2975</td><td>low </td><td>26</td><td>143</td></tr>\n",
              "</tbody>\n",
              "</table>\n"
            ],
            "text/latex": [
              "A data.frame: 5 × 5\n",
              "\\begin{tabular}{r|lllll}\n",
              "  & Oil & Density & Crispy & Fracture & Hardness\\\\\n",
              "  & <dbl> & <int> & <fct> & <int> & <int>\\\\\n",
              "\\hline\n",
              "\tB110 & 16.5 & 2955 & low  & 23 &  97\\\\\n",
              "\tB136 & 17.7 & 2660 & high &  9 & 139\\\\\n",
              "\tB171 & 16.2 & 2870 & high & 17 & 143\\\\\n",
              "\tB192 & 16.7 & 2920 & low  & 31 &  95\\\\\n",
              "\tB225 & 16.3 & 2975 & low  & 26 & 143\\\\\n",
              "\\end{tabular}\n"
            ],
            "text/markdown": [
              "\n",
              "A data.frame: 5 × 5\n",
              "\n",
              "| <!--/--> | Oil &lt;dbl&gt; | Density &lt;int&gt; | Crispy &lt;fct&gt; | Fracture &lt;int&gt; | Hardness &lt;int&gt; |\n",
              "|---|---|---|---|---|---|\n",
              "| B110 | 16.5 | 2955 | low  | 23 |  97 |\n",
              "| B136 | 17.7 | 2660 | high |  9 | 139 |\n",
              "| B171 | 16.2 | 2870 | high | 17 | 143 |\n",
              "| B192 | 16.7 | 2920 | low  | 31 |  95 |\n",
              "| B225 | 16.3 | 2975 | low  | 26 | 143 |\n",
              "\n"
            ],
            "text/plain": [
              "     Oil  Density Crispy Fracture Hardness\n",
              "B110 16.5 2955    low    23        97     \n",
              "B136 17.7 2660    high    9       139     \n",
              "B171 16.2 2870    high   17       143     \n",
              "B192 16.7 2920    low    31        95     \n",
              "B225 16.3 2975    low    26       143     "
            ]
          },
          "metadata": {},
          "output_type": "display_data"
        }
      ],
      "source": [
        "## Print first 5 samples of modified data frame\n",
        "head(foodData, n = 5)"
      ]
    },
    {
      "cell_type": "code",
      "execution_count": 39,
      "metadata": {
        "id": "ClvfDDEa_DD6",
        "vscode": {
          "languageId": "r"
        }
      },
      "outputs": [
        {
          "data": {
            "image/png": "[encoded data removed]",
            "text/plain": [
              "plot without title"
            ]
          },
          "metadata": {
            "image/png": {
              "height": 420,
              "width": 420
            }
          },
          "output_type": "display_data"
        }
      ],
      "source": [
        "## Scatter plot between Density (x-axis) and Hardness (y-axis)\n",
        "p1 = ggplot(data = foodData, aes(x = Density, y = Hardness)) +\n",
        "  geom_point(size = 1) \n",
        "p1"
      ]
    },
    {
      "cell_type": "code",
      "execution_count": 40,
      "metadata": {
        "id": "6h2izAbZlIbK",
        "vscode": {
          "languageId": "r"
        }
      },
      "outputs": [
        {
          "data": {
            "image/png": "[encoded data removed]",
            "text/plain": [
              "plot without title"
            ]
          },
          "metadata": {
            "image/png": {
              "height": 420,
              "width": 420
            }
          },
          "output_type": "display_data"
        }
      ],
      "source": [
        "## Scatter plot between Density (x-axis) and Oil (y-axis)\n",
        "p1 = ggplot(data = foodData, aes(x = Density, y = Oil)) +\n",
        "  geom_point(size = 1) \n",
        "p1"
      ]
    },
    {
      "cell_type": "code",
      "execution_count": 41,
      "metadata": {
        "id": "8uBvDdJpOEMm",
        "vscode": {
          "languageId": "r"
        }
      },
      "outputs": [
        {
          "data": {
            "image/png": "[encoded data removed]",
            "text/plain": [
              "plot without title"
            ]
          },
          "metadata": {
            "image/png": {
              "height": 420,
              "width": 420
            }
          },
          "output_type": "display_data"
        }
      ],
      "source": [
        "## Scatter plot between Density (x-axis) and Oil (y-axis) color coded using Crispy\n",
        "p2 = ggplot(data = foodData, aes(x = Density, y = Oil, color = factor(Crispy))) +\n",
        "  geom_point(size = 1) \n",
        "p2"
      ]
    },
    {
      "cell_type": "code",
      "execution_count": 42,
      "metadata": {
        "id": "sFrC5vagK43t",
        "vscode": {
          "languageId": "r"
        }
      },
      "outputs": [
        {
          "data": {
            "text/html": [
              "-0.750023990403618"
            ],
            "text/latex": [
              "-0.750023990403618"
            ],
            "text/markdown": [
              "-0.750023990403618"
            ],
            "text/plain": [
              "[1] -0.750024"
            ]
          },
          "metadata": {},
          "output_type": "display_data"
        }
      ],
      "source": [
        "## Print sample correlation between Density and Oil\n",
        "cor(foodData$Density, foodData$Oil, method = 'pearson')"
      ]
    },
    {
      "cell_type": "code",
      "execution_count": 43,
      "metadata": {
        "id": "7uccc9oTl2aZ",
        "vscode": {
          "languageId": "r"
        }
      },
      "outputs": [
        {
          "data": {
            "text/html": [
              "0.107937196412299"
            ],
            "text/latex": [
              "0.107937196412299"
            ],
            "text/markdown": [
              "0.107937196412299"
            ],
            "text/plain": [
              "[1] 0.1079372"
            ]
          },
          "metadata": {},
          "output_type": "display_data"
        }
      ],
      "source": [
        "## Print sample correlation between Density and Hardness\n",
        "cor(foodData$Density, foodData$Hardness, method = 'pearson')"
      ]
    },
    {
      "cell_type": "markdown",
      "metadata": {
        "id": "BxGDSnCNHdIF"
      },
      "source": [
        "**Question-4**: Select data frame without Crispy column."
      ]
    },
    {
      "cell_type": "code",
      "execution_count": 44,
      "metadata": {
        "id": "2lIlkwFx6Aew",
        "vscode": {
          "languageId": "r"
        }
      },
      "outputs": [],
      "source": [
        "## Select data frame without Crispy column\n",
        "fData = foodData %>% dplyr::select(-c('Crispy'))"
      ]
    },
    {
      "cell_type": "code",
      "execution_count": 45,
      "metadata": {
        "id": "zEeyhmu4ho4g",
        "vscode": {
          "languageId": "r"
        }
      },
      "outputs": [
        {
          "name": "stdout",
          "output_type": "stream",
          "text": [
            "'data.frame':\t50 obs. of  4 variables:\n",
            " $ Oil     : num  16.5 17.7 16.2 16.7 16.3 19.1 18.4 17.5 15.7 16.4 ...\n",
            " $ Density : int  2955 2660 2870 2920 2975 2790 2750 2770 2955 2945 ...\n",
            " $ Fracture: int  23 9 17 31 26 16 17 26 23 24 ...\n",
            " $ Hardness: int  97 139 143 95 143 189 114 63 123 132 ...\n"
          ]
        }
      ],
      "source": [
        "str(fData)"
      ]
    },
    {
      "cell_type": "code",
      "execution_count": 46,
      "metadata": {
        "id": "rLOGgEaBy5Bv",
        "vscode": {
          "languageId": "r"
        }
      },
      "outputs": [
        {
          "name": "stdout",
          "output_type": "stream",
          "text": [
            "                 Oil    Density   Fracture    Hardness\n",
            "Oil       1.00000000 -0.7500240 -0.5337392 -0.09604521\n",
            "Density  -0.75002399  1.0000000  0.5721324  0.10793720\n",
            "Fracture -0.53373917  0.5721324  1.0000000 -0.37335844\n",
            "Hardness -0.09604521  0.1079372 -0.3733584  1.00000000\n"
          ]
        }
      ],
      "source": [
        "# Sample Correlation matrix corresponding to the continuous features \n",
        "print(cor(fData))"
      ]
    },
    {
      "cell_type": "code",
      "execution_count": 47,
      "metadata": {
        "id": "2EoCZY6JzKIk",
        "vscode": {
          "languageId": "r"
        }
      },
      "outputs": [
        {
          "data": {
            "image/png": "[encoded data removed]",
            "text/plain": [
              "plot without title"
            ]
          },
          "metadata": {
            "image/png": {
              "height": 420,
              "width": 420
            }
          },
          "output_type": "display_data"
        }
      ],
      "source": [
        "plot(fData$Density, fData$Oil)"
      ]
    },
    {
      "cell_type": "code",
      "execution_count": 48,
      "metadata": {
        "id": "a6xwoSQLBfcn",
        "vscode": {
          "languageId": "r"
        }
      },
      "outputs": [
        {
          "name": "stdout",
          "output_type": "stream",
          "text": [
            "                 Oil    Density   Fracture   Hardness\n",
            "Oil         2.534486  -148.6584  -4.644612  -4.759551\n",
            "Density  -148.658367 15500.2449 389.351020 418.297959\n",
            "Fracture   -4.644612   389.3510  29.877959 -63.525306\n",
            "Hardness   -4.759551   418.2980 -63.525306 968.926122\n"
          ]
        }
      ],
      "source": [
        "# Sample Covariance matrix corresponding to the continuous features \n",
        "print(cov(fData))"
      ]
    },
    {
      "cell_type": "code",
      "execution_count": 49,
      "metadata": {
        "id": "VYjhmVJlBlnS",
        "vscode": {
          "languageId": "r"
        }
      },
      "outputs": [
        {
          "name": "stdout",
          "output_type": "stream",
          "text": [
            "                 Oil    Density   Fracture    Hardness\n",
            "Oil       1.00000000 -0.7500240 -0.5337392 -0.09604521\n",
            "Density  -0.75002399  1.0000000  0.5721324  0.10793720\n",
            "Fracture -0.53373917  0.5721324  1.0000000 -0.37335844\n",
            "Hardness -0.09604521  0.1079372 -0.3733584  1.00000000\n"
          ]
        }
      ],
      "source": [
        "# Sample Covariance matrix corresponding to the standardized continuous features \n",
        "print(cov(scale(fData)))"
      ]
    },
    {
      "cell_type": "code",
      "execution_count": 50,
      "metadata": {
        "id": "D-eJm4u_CAx0",
        "vscode": {
          "languageId": "r"
        }
      },
      "outputs": [
        {
          "data": {
            "text/html": [
              "<table class=\"dataframe\">\n",
              "<caption>A matrix: 1 × 1 of type dbl</caption>\n",
              "<tbody>\n",
              "\t<tr><td>-148.6584</td></tr>\n",
              "</tbody>\n",
              "</table>\n"
            ],
            "text/latex": [
              "A matrix: 1 × 1 of type dbl\n",
              "\\begin{tabular}{l}\n",
              "\t -148.6584\\\\\n",
              "\\end{tabular}\n"
            ],
            "text/markdown": [
              "\n",
              "A matrix: 1 × 1 of type dbl\n",
              "\n",
              "| -148.6584 |\n",
              "\n"
            ],
            "text/plain": [
              "     [,1]     \n",
              "[1,] -148.6584"
            ]
          },
          "metadata": {},
          "output_type": "display_data"
        },
        {
          "data": {
            "text/html": [
              "<table class=\"dataframe\">\n",
              "<caption>A matrix: 1 × 1 of type dbl</caption>\n",
              "<tbody>\n",
              "\t<tr><td>-0.750024</td></tr>\n",
              "</tbody>\n",
              "</table>\n"
            ],
            "text/latex": [
              "A matrix: 1 × 1 of type dbl\n",
              "\\begin{tabular}{l}\n",
              "\t -0.750024\\\\\n",
              "\\end{tabular}\n"
            ],
            "text/markdown": [
              "\n",
              "A matrix: 1 × 1 of type dbl\n",
              "\n",
              "| -0.750024 |\n",
              "\n"
            ],
            "text/plain": [
              "     [,1]     \n",
              "[1,] -0.750024"
            ]
          },
          "metadata": {},
          "output_type": "display_data"
        }
      ],
      "source": [
        "# Calculate sample covariance between Density and Oil\n",
        "((fData$Density - mean(fData$Density)) %*% (fData$Oil - mean(fData$Oil))) / (length(fData$Density)-1)  \n",
        "\n",
        "# Calculate sample correlation between Density and Oil\n",
        "(((fData$Density - mean(fData$Density))/sd(fData$Density)) %*% ((fData$Oil - mean(fData$Oil))/sd(fData$Oil))) / (length(fData$Density)-1)  "
      ]
    },
    {
      "cell_type": "code",
      "execution_count": 51,
      "metadata": {
        "id": "G72lzPM8EITq",
        "vscode": {
          "languageId": "r"
        }
      },
      "outputs": [
        {
          "name": "stdout",
          "output_type": "stream",
          "text": [
            "[1] 4 1\n",
            "[1] 4 1\n"
          ]
        },
        {
          "data": {
            "text/html": [
              "<table class=\"dataframe\">\n",
              "<caption>A matrix: 1 × 1 of type dbl</caption>\n",
              "<tbody>\n",
              "\t<tr><td>60</td></tr>\n",
              "</tbody>\n",
              "</table>\n"
            ],
            "text/latex": [
              "A matrix: 1 × 1 of type dbl\n",
              "\\begin{tabular}{l}\n",
              "\t 60\\\\\n",
              "\\end{tabular}\n"
            ],
            "text/markdown": [
              "\n",
              "A matrix: 1 × 1 of type dbl\n",
              "\n",
              "| 60 |\n",
              "\n"
            ],
            "text/plain": [
              "     [,1]\n",
              "[1,] 60  "
            ]
          },
          "metadata": {},
          "output_type": "display_data"
        },
        {
          "data": {
            "text/html": [
              "<table class=\"dataframe\">\n",
              "<caption>A matrix: 1 × 1 of type dbl</caption>\n",
              "<tbody>\n",
              "\t<tr><td>60</td></tr>\n",
              "</tbody>\n",
              "</table>\n"
            ],
            "text/latex": [
              "A matrix: 1 × 1 of type dbl\n",
              "\\begin{tabular}{l}\n",
              "\t 60\\\\\n",
              "\\end{tabular}\n"
            ],
            "text/markdown": [
              "\n",
              "A matrix: 1 × 1 of type dbl\n",
              "\n",
              "| 60 |\n",
              "\n"
            ],
            "text/plain": [
              "     [,1]\n",
              "[1,] 60  "
            ]
          },
          "metadata": {},
          "output_type": "display_data"
        },
        {
          "data": {
            "text/html": [
              "<table class=\"dataframe\">\n",
              "<caption>A matrix: 4 × 4 of type dbl</caption>\n",
              "<tbody>\n",
              "\t<tr><td> 8</td><td> 7</td><td> 6</td><td> 5</td></tr>\n",
              "\t<tr><td>16</td><td>14</td><td>12</td><td>10</td></tr>\n",
              "\t<tr><td>24</td><td>21</td><td>18</td><td>15</td></tr>\n",
              "\t<tr><td>32</td><td>28</td><td>24</td><td>20</td></tr>\n",
              "</tbody>\n",
              "</table>\n"
            ],
            "text/latex": [
              "A matrix: 4 × 4 of type dbl\n",
              "\\begin{tabular}{llll}\n",
              "\t  8 &  7 &  6 &  5\\\\\n",
              "\t 16 & 14 & 12 & 10\\\\\n",
              "\t 24 & 21 & 18 & 15\\\\\n",
              "\t 32 & 28 & 24 & 20\\\\\n",
              "\\end{tabular}\n"
            ],
            "text/markdown": [
              "\n",
              "A matrix: 4 × 4 of type dbl\n",
              "\n",
              "|  8 |  7 |  6 |  5 |\n",
              "| 16 | 14 | 12 | 10 |\n",
              "| 24 | 21 | 18 | 15 |\n",
              "| 32 | 28 | 24 | 20 |\n",
              "\n"
            ],
            "text/plain": [
              "     [,1] [,2] [,3] [,4]\n",
              "[1,]  8    7    6    5  \n",
              "[2,] 16   14   12   10  \n",
              "[3,] 24   21   18   15  \n",
              "[4,] 32   28   24   20  "
            ]
          },
          "metadata": {},
          "output_type": "display_data"
        },
        {
          "ename": "ERROR",
          "evalue": "Error in t(A[, 1]) %*% t(B[, 1]): non-conformable arguments\n",
          "output_type": "error",
          "traceback": [
            "Error in t(A[, 1]) %*% t(B[, 1]): non-conformable arguments\nTraceback:\n"
          ]
        }
      ],
      "source": [
        "# Matrix-vector multiplications\n",
        "A = matrix(seq(1, 4), 4, 1)\n",
        "B = matrix(seq(8, 5, -1), 4, 1)\n",
        "print(dim(A))\n",
        "print(dim(B))\n",
        "A[,1] %*% B[,1] #?\n",
        "t(A[,1]) %*% B[,1] #?\n",
        "A[,1] %*% t(B[,1]) #?\n",
        "t(A[,1]) %*% t(B[,1]) #?"
      ]
    },
    {
      "cell_type": "code",
      "execution_count": 54,
      "metadata": {
        "id": "vo9VRxfP8_dJ",
        "vscode": {
          "languageId": "r"
        }
      },
      "outputs": [
        {
          "ename": "ERROR",
          "evalue": "Error in select(., c(\"Density\", \"Hardness\")): unused argument (c(\"Density\", \"Hardness\"))\n",
          "output_type": "error",
          "traceback": [
            "Error in select(., c(\"Density\", \"Hardness\")): unused argument (c(\"Density\", \"Hardness\"))\nTraceback:\n",
            "1. fData %>% select(c(\"Density\", \"Hardness\"))"
          ]
        }
      ],
      "source": [
        "## Select data frame consisiting of two features: Density & Hardness\n",
        "fDataTwoFeatures = fData %>% select(c('Density', 'Hardness'))"
      ]
    },
    {
      "cell_type": "code",
      "execution_count": 53,
      "metadata": {
        "id": "MMpYBHqWyhAS",
        "vscode": {
          "languageId": "r"
        }
      },
      "outputs": [
        {
          "ename": "ERROR",
          "evalue": "Error in head(fDataTwoFeatures, n = 5): object 'fDataTwoFeatures' not found\n",
          "output_type": "error",
          "traceback": [
            "Error in head(fDataTwoFeatures, n = 5): object 'fDataTwoFeatures' not found\nTraceback:\n",
            "1. head(fDataTwoFeatures, n = 5)"
          ]
        }
      ],
      "source": [
        "head(fDataTwoFeatures, n = 5)"
      ]
    },
    {
      "cell_type": "code",
      "execution_count": null,
      "metadata": {
        "id": "CHoDrrK3qtOr",
        "vscode": {
          "languageId": "r"
        }
      },
      "outputs": [],
      "source": [
        "## Calculate sample correlation matrix of data frame selected above\n",
        "corMatrix = cor(fDataTwoFeatures)\n",
        "print(corMatrix)"
      ]
    },
    {
      "cell_type": "code",
      "execution_count": null,
      "metadata": {
        "id": "LMUWqOoAPoA2",
        "vscode": {
          "languageId": "r"
        }
      },
      "outputs": [],
      "source": [
        "# Calculate eigenvalues & eigenvectors of sample correlation matrix\n",
        "e = eigen(corMatrix)\n",
        "u = e$vectors\n",
        "lambda = e$values \n",
        "print(u)\n",
        "print(lambda)"
      ]
    },
    {
      "cell_type": "code",
      "execution_count": null,
      "metadata": {
        "id": "2tcmM2F8yw9-",
        "vscode": {
          "languageId": "r"
        }
      },
      "outputs": [],
      "source": [
        "## Extract scaled data matrix from data frame\n",
        "X = scale(fDataTwoFeatures)"
      ]
    },
    {
      "cell_type": "code",
      "execution_count": null,
      "metadata": {
        "id": "3rkT7ZASfIVf",
        "vscode": {
          "languageId": "r"
        }
      },
      "outputs": [],
      "source": [
        "## Project samples onto the direction of the first and second eigenvectors\n",
        "\n",
        "# Calculate shadow length of data\n",
        "shadowLength1 = X %*% u[, 1]\n",
        "shadowLength1 = as.numeric(shadowLength1)\n",
        "shadowLength2 = X %*% u[, 2]\n",
        "shadowLength2 = as.numeric(shadowLength2)\n",
        "\n",
        "# Vector projection\n",
        "projectedSamples1 = u[, 1] %*% t(as.matrix(shadowLength1))\n",
        "projectedSamples2 = u[, 2] %*% t(as.matrix(shadowLength2))"
      ]
    },
    {
      "cell_type": "code",
      "execution_count": null,
      "metadata": {
        "id": "buJxlrKE-8z0",
        "vscode": {
          "languageId": "r"
        }
      },
      "outputs": [],
      "source": [
        "## Scale data frame and add Crispy column to data frame\n",
        "fDataTwoFeaturesScaled = as.data.frame(scale(fDataTwoFeatures))\n",
        "fDataTwoFeaturesScaled['Crispy'] = foodData['Crispy']"
      ]
    },
    {
      "cell_type": "code",
      "execution_count": null,
      "metadata": {
        "id": "--CwX2ZgPaZk",
        "vscode": {
          "languageId": "r"
        }
      },
      "outputs": [],
      "source": [
        "## Scatter plot of Density and Hardness, color coded using Crispy and first\n",
        "## two eigenvectors with the projected data on to the first principal direction\n",
        "## also color coded using Crispy\n",
        "u = -u # this is a minor adjustment to flip the sign of the eigenvectors\n",
        "p3 = fDataTwoFeaturesScaled %>% ggplot(aes(x = Density, y = Hardness, color = factor(Crispy))) +\n",
        "  geom_point(size = 1) +\n",
        "  geom_segment(aes(x = 0, y = 0, xend = u[1, 1], yend = u[2, 1]), size = 0.5,\n",
        "   arrow = arrow(length = unit(0.5,\"cm\")), color = 'red') +\n",
        "  geom_segment(aes(x = 0, y = 0, xend = u[1, 2], yend = u[2, 2]), size = 0.5,\n",
        "   arrow = arrow(length = unit(0.5,\"cm\")), color = 'blue') +\n",
        "  geom_point(aes(x = projectedSamples1[1, ], y = projectedSamples1[2, ], color = factor(Crispy)), shape = 4, size = 2.0) \n",
        "p3"
      ]
    },
    {
      "cell_type": "code",
      "execution_count": null,
      "metadata": {
        "id": "LZBnTQqBaLEu",
        "vscode": {
          "languageId": "r"
        }
      },
      "outputs": [],
      "source": [
        "## Scatter plot of Density and Hardness, color coded using Crispy and first\n",
        "## two eigenvectors with the projected data on to the second principal direction\n",
        "## also color coded using Crispy\n",
        "p4 = fDataTwoFeaturesScaled %>% ggplot(aes(x = Density, y = Hardness, color = factor(Crispy))) +\n",
        "  geom_point(size = 1) +\n",
        "  geom_segment(aes(x = 0, y = 0, xend = u[1, 1], yend = u[2, 1]), size = 0.5,\n",
        "   arrow = arrow(length = unit(0.5,\"cm\")), color = 'red') +\n",
        "  geom_segment(aes(x = 0, y = 0, xend = u[1, 2], yend = u[2, 2]), size = 0.5,\n",
        "   arrow = arrow(length = unit(0.5,\"cm\")), color = 'blue') +\n",
        "  geom_point(aes(x = projectedSamples2[1, ], y = projectedSamples2[2, ], color = factor(Crispy)), shape = 4, size = 2.0) \n",
        "p4"
      ]
    },
    {
      "cell_type": "code",
      "execution_count": null,
      "metadata": {
        "id": "XbN26Lt6GGra",
        "vscode": {
          "languageId": "r"
        }
      },
      "outputs": [],
      "source": [
        "# Father-Son dataset\n",
        "mu = colMeans(father.son)\n",
        "mu"
      ]
    },
    {
      "cell_type": "code",
      "execution_count": null,
      "metadata": {
        "id": "g94I-NSVtndE",
        "vscode": {
          "languageId": "r"
        }
      },
      "outputs": [],
      "source": [
        "ggplot(father.son, aes(x=fheight, y=sheight)) +\n",
        " geom_point(size=2, alpha=0.7) + xlab(\"Height of father\") + \n",
        "  ylab(\"Height of son\") + ggtitle(\"Father-son Height Data\") +\n",
        "  stat_ellipse(level=0.68,color=\"green\")+\n",
        "  stat_ellipse(level=0.95,color=\"blue\")"
      ]
    },
    {
      "cell_type": "code",
      "execution_count": null,
      "metadata": {
        "id": "zp_0AvpFus6g",
        "vscode": {
          "languageId": "r"
        }
      },
      "outputs": [],
      "source": [
        "cov(father.son)\n",
        "cor(father.son)"
      ]
    },
    {
      "cell_type": "code",
      "execution_count": null,
      "metadata": {
        "id": "KofQdATIz1US",
        "vscode": {
          "languageId": "r"
        }
      },
      "outputs": [],
      "source": [
        "# Samples 10 and 20\n",
        "x10 = father.son[10, ]\n",
        "x20 = father.son[20, ]\n",
        "x10\n",
        "x20\n",
        "# Euclidean distance between samples 10 and 20\n",
        "norm(x10-x20, type = '2')\n",
        "# Mahalanobis distance between samples 10 and 20\n",
        "#str(father.son)\n",
        "M = mahalanobis.dist(father.son, father.son)\n",
        "str(M)\n",
        "M[10, 20]"
      ]
    }
  ],
  "metadata": {
    "colab": {
      "collapsed_sections": [],
      "name": "AML5201_IntroLinearAlgebra_R.ipynb",
      "provenance": []
    },
    "kernelspec": {
      "display_name": "R",
      "language": "R",
      "name": "ir"
    },
    "language_info": {
      "codemirror_mode": "r",
      "file_extension": ".r",
      "mimetype": "text/x-r-source",
      "name": "R",
      "pygments_lexer": "r",
      "version": "4.1.1"
    }
  },
  "nbformat": 4,
  "nbformat_minor": 0
}
