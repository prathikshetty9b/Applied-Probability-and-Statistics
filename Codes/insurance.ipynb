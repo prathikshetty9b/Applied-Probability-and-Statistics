{
 "cells": [
  {
   "cell_type": "markdown",
   "metadata": {},
   "source": [
    "## **Insurance Problem**\n",
    "\n",
    "Scenario: A salesman has scheduled two appointments to sell insurance. His\n",
    "first appointment will lead to a sale with probability 0.3, and his second will\n",
    "lead independently to a sale with probability 0.6. In the first appointment \n",
    "salesman is equally likely to sell either an Individual Insurance or a family \n",
    "insurance, Second appointment salesman is likely to sell an individual appointment\n",
    "with probability 0.7 and Family insurance with probability 0.3. Individual Insurance \n",
    "costs Rs. 500 and Family insurance costs Rs. 1000. Let X be the random variable representing the total\n",
    "Rupee value of sales. What are the different values that X can take? What are\n",
    "the associated probabilities?"
   ]
  },
  {
   "cell_type": "code",
   "execution_count": 8,
   "metadata": {},
   "outputs": [
    {
     "data": {
      "text/html": [
       "<style>\n",
       ".list-inline {list-style: none; margin:0; padding: 0}\n",
       ".list-inline>li {display: inline-block}\n",
       ".list-inline>li:not(:last-child)::after {content: \"\\00b7\"; padding: 0 .5ex}\n",
       "</style>\n",
       "<ol class=list-inline><li>0</li><li>1</li></ol>\n"
      ],
      "text/latex": [
       "\\begin{enumerate*}\n",
       "\\item 0\n",
       "\\item 1\n",
       "\\end{enumerate*}\n"
      ],
      "text/markdown": [
       "1. 0\n",
       "2. 1\n",
       "\n",
       "\n"
      ],
      "text/plain": [
       "[1] 0 1"
      ]
     },
     "metadata": {},
     "output_type": "display_data"
    },
    {
     "data": {
      "text/html": [
       "1000"
      ],
      "text/latex": [
       "1000"
      ],
      "text/markdown": [
       "1000"
      ],
      "text/plain": [
       "[1] 1000"
      ]
     },
     "metadata": {},
     "output_type": "display_data"
    }
   ],
   "source": [
    "\n",
    "\n",
    "# Sampling space for appointment success (0 corresponds to no sale, 1 corresponds to a sale)\n",
    "s_appointment = c(0, 1)\n",
    "\n",
    "# Appointment success and failure probabilities\n",
    "p_appointment = matrix(nrow  = 2, ncol = 2, c(0.7, 0.4, 0.3, 0.6), byrow = TRUE)\n",
    "\n",
    "# Sampling space for insurance types\n",
    "s_insurance = c('i', 'f')\n",
    "\n",
    "# Insurance type probabilities\n",
    "p_insurance = matrix(nrow = 2, ncol = 2, c(0.5,0.5,0.7,0.3))\n",
    "\n",
    "result = numeric(2)  \n",
    "# Simulate whether sales happen in first and second appointments\n",
    "for (j in c(1:2)){\n",
    "  result[j] = sample(s_appointment, size = 1, prob = p_appointment[, j])\n",
    "}  \n",
    "earnings = 0\n",
    "if (result[1] == 1){\n",
    "  insurancetype = sample(s_insurance, size = 1, prob = p_insurance[1,])\n",
    "  if (insurancetype == 's'){\n",
    "      earnings = earnings + 500\n",
    "  }\n",
    "  else{\n",
    "      earnings = earnings + 1000\n",
    "  }\n",
    "}\n",
    "if (result[2] == 1){\n",
    "  insurancetype = sample(s_insurance, size = 1, prob = p_insurance[2,])\n",
    "  if (insurancetype == 'i'){\n",
    "      earnings = earnings + 500\n",
    "  }\n",
    "  else{\n",
    "      earnings = earnings + 1000\n",
    "  }\n",
    "}\n",
    "result\n",
    "earnings"
   ]
  },
  {
   "cell_type": "code",
   "execution_count": null,
   "metadata": {},
   "outputs": [],
   "source": []
  },
  {
   "cell_type": "code",
   "execution_count": null,
   "metadata": {},
   "outputs": [],
   "source": []
  }
 ],
 "metadata": {
  "interpreter": {
   "hash": "b3ba2566441a7c06988d0923437866b63cedc61552a5af99d1f4fb67d367b25f"
  },
  "kernelspec": {
   "display_name": "R",
   "language": "R",
   "name": "ir"
  },
  "language_info": {
   "codemirror_mode": "r",
   "file_extension": ".r",
   "mimetype": "text/x-r-source",
   "name": "R",
   "pygments_lexer": "r",
   "version": "4.1.1"
  },
  "orig_nbformat": 4
 },
 "nbformat": 4,
 "nbformat_minor": 2
}
