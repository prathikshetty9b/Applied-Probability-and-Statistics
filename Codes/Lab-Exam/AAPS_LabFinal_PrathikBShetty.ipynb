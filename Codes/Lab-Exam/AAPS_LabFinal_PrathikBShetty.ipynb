{
  "cells": [
    {
      "cell_type": "markdown",
      "metadata": {
        "id": "0YWF9eBXUUcl"
      },
      "source": [
        "\n",
        "\n",
        "---\n",
        "\n",
        "\n",
        "**$$\\color{blue}{AML\\ 5201- Advanced\\ Applications\\ of\\ Probability\\ and\\ Statistics - Lab\\ Final}\\ (50\\ Points)$$**\n",
        "\n",
        "---\n",
        "\n",
        " \n",
        "\n",
        "\n",
        "**Upload your**\n",
        "\n",
        "1. completed code clearly showing the output cells (.ipynb file)\n",
        "2. PDF of your completed code (go to file->print->save as PDF choosing Landscape orientation) \n",
        "\n",
        "**with the naming convention example** $$\\color{red}{AAPS\\_LabFinal\\_SudarsanAcharya.ipynb}$$ **by clicking [here](https://learnermanipal-my.sharepoint.com/:f:/g/personal/sudarsan_acharya_manipal_edu/EvURWlIawhJKu9cdhxuCttIBjJQo7RcgBiFDkCyzbT8ZVA)**"
      ]
    },
    {
      "cell_type": "code",
      "execution_count": 1,
      "metadata": {
        "id": "_V7trZz-lWkd",
        "vscode": {
          "languageId": "r"
        }
      },
      "outputs": [
        {
          "name": "stderr",
          "output_type": "stream",
          "text": [
            "\n",
            "Attaching package: 'dplyr'\n",
            "\n",
            "\n",
            "The following objects are masked from 'package:stats':\n",
            "\n",
            "    filter, lag\n",
            "\n",
            "\n",
            "The following objects are masked from 'package:base':\n",
            "\n",
            "    intersect, setdiff, setequal, union\n",
            "\n",
            "\n"
          ]
        }
      ],
      "source": [
        "library(ggplot2)\n",
        "library(dplyr)"
      ]
    },
    {
      "cell_type": "code",
      "execution_count": 2,
      "metadata": {
        "id": "TzCTshmebSB3",
        "vscode": {
          "languageId": "r"
        }
      },
      "outputs": [],
      "source": [
        "## Refer to this website http://archive.ics.uci.edu/ml/datasets/Auto+MPG\n",
        "## for the data set that we will modify a bit in the next cell\n",
        "autompg = read.table(\n",
        "  \"http://archive.ics.uci.edu/ml/machine-learning-databases/auto-mpg/auto-mpg.data\",\n",
        "  quote = \"\\\"\",\n",
        "  comment.char = \"\",\n",
        "  stringsAsFactors = FALSE)"
      ]
    },
    {
      "cell_type": "markdown",
      "metadata": {
        "id": "6ZmA4S419eXW"
      },
      "source": [
        "**Question 1: print the structure of the unedited data set. How many samples and features are there?**"
      ]
    },
    {
      "cell_type": "code",
      "execution_count": 3,
      "metadata": {
        "id": "bzLDhlUOtH6F",
        "vscode": {
          "languageId": "r"
        }
      },
      "outputs": [
        {
          "name": "stdout",
          "output_type": "stream",
          "text": [
            "'data.frame':\t398 obs. of  9 variables:\n",
            " $ V1: num  18 15 18 16 17 15 14 14 14 15 ...\n",
            " $ V2: int  8 8 8 8 8 8 8 8 8 8 ...\n",
            " $ V3: num  307 350 318 304 302 429 454 440 455 390 ...\n",
            " $ V4: chr  \"130.0\" \"165.0\" \"150.0\" \"150.0\" ...\n",
            " $ V5: num  3504 3693 3436 3433 3449 ...\n",
            " $ V6: num  12 11.5 11 12 10.5 10 9 8.5 10 8.5 ...\n",
            " $ V7: int  70 70 70 70 70 70 70 70 70 70 ...\n",
            " $ V8: int  1 1 1 1 1 1 1 1 1 1 ...\n",
            " $ V9: chr  \"chevrolet chevelle malibu\" \"buick skylark 320\" \"plymouth satellite\" \"amc rebel sst\" ...\n"
          ]
        }
      ],
      "source": [
        "str(autompg)"
      ]
    },
    {
      "cell_type": "markdown",
      "metadata": {
        "id": "OotyJyhnzVZ7"
      },
      "source": [
        "**Here we modify data set; just execute this cell and understand what is happening.**"
      ]
    },
    {
      "cell_type": "code",
      "execution_count": 4,
      "metadata": {
        "id": "ffzasjsKbTwd",
        "vscode": {
          "languageId": "r"
        }
      },
      "outputs": [],
      "source": [
        "# Give the dataframe column names\n",
        "colnames(autompg) = c(\"mpg\", \"cyl\", \"disp\", \"hp\", \"wt\", \"acc\", \"year\", \"origin\", \"name\")\n",
        "\n",
        "# Remove samples with missing horsepower (hp) values represented as \"?\"\n",
        "autompg = autompg %>% filter(hp != '?')\n",
        "\n",
        "# Remove samples with name \"plymouth reliant\"\n",
        "autompg = autompg %>% filter(name != 'plymouth reliant')\n",
        "\n",
        "# Give the dataframe row names in the form based on the engine, year and name\n",
        "rownames(autompg) = paste(autompg$cyl, \"cylinder\", autompg$year, autompg$name)\n",
        "\n",
        "# Select all features except \"name\"\n",
        "autompg = autompg %>% select(-name)\n",
        "\n",
        "# Change horsepower from character to numeric\n",
        "autompg$hp = as.numeric(autompg$hp)\n",
        "\n",
        "# Modify origin column to reflect local (1) and international models (0)\n",
        "autompg = autompg %>% mutate(origin = ifelse(!(origin %in% c(2, 3)), 'local', 'international'))\n",
        "\n",
        "# Filter samples with 3 and 5 cylinder cars (which are very rare)\n",
        "autompg = autompg %>% filter(!(cyl %in% c(3, 5)))\n",
        "\n",
        "# Change cyl and origin columns to factor types\n",
        "catcols = c('cyl', 'origin')\n",
        "autompg[catcols] = lapply(autompg[catcols], factor)"
      ]
    },
    {
      "cell_type": "markdown",
      "metadata": {
        "id": "71roMoEq-JVi"
      },
      "source": [
        "**Question 2: print the first 20 rows of the data frame.**"
      ]
    },
    {
      "cell_type": "code",
      "execution_count": 5,
      "metadata": {
        "id": "yn9gcA9LhRsL",
        "vscode": {
          "languageId": "r"
        }
      },
      "outputs": [
        {
          "data": {
            "text/html": [
              "<table class=\"dataframe\">\n",
              "<caption>A data.frame: 20 × 8</caption>\n",
              "<thead>\n",
              "\t<tr><th></th><th scope=col>mpg</th><th scope=col>cyl</th><th scope=col>disp</th><th scope=col>hp</th><th scope=col>wt</th><th scope=col>acc</th><th scope=col>year</th><th scope=col>origin</th></tr>\n",
              "\t<tr><th></th><th scope=col>&lt;dbl&gt;</th><th scope=col>&lt;fct&gt;</th><th scope=col>&lt;dbl&gt;</th><th scope=col>&lt;dbl&gt;</th><th scope=col>&lt;dbl&gt;</th><th scope=col>&lt;dbl&gt;</th><th scope=col>&lt;int&gt;</th><th scope=col>&lt;fct&gt;</th></tr>\n",
              "</thead>\n",
              "<tbody>\n",
              "\t<tr><th scope=row>8 cylinder 70 chevrolet chevelle malibu</th><td>18</td><td>8</td><td>307</td><td>130</td><td>3504</td><td>12.0</td><td>70</td><td>local        </td></tr>\n",
              "\t<tr><th scope=row>8 cylinder 70 buick skylark 320</th><td>15</td><td>8</td><td>350</td><td>165</td><td>3693</td><td>11.5</td><td>70</td><td>local        </td></tr>\n",
              "\t<tr><th scope=row>8 cylinder 70 plymouth satellite</th><td>18</td><td>8</td><td>318</td><td>150</td><td>3436</td><td>11.0</td><td>70</td><td>local        </td></tr>\n",
              "\t<tr><th scope=row>8 cylinder 70 amc rebel sst</th><td>16</td><td>8</td><td>304</td><td>150</td><td>3433</td><td>12.0</td><td>70</td><td>local        </td></tr>\n",
              "\t<tr><th scope=row>8 cylinder 70 ford torino</th><td>17</td><td>8</td><td>302</td><td>140</td><td>3449</td><td>10.5</td><td>70</td><td>local        </td></tr>\n",
              "\t<tr><th scope=row>8 cylinder 70 ford galaxie 500</th><td>15</td><td>8</td><td>429</td><td>198</td><td>4341</td><td>10.0</td><td>70</td><td>local        </td></tr>\n",
              "\t<tr><th scope=row>8 cylinder 70 chevrolet impala</th><td>14</td><td>8</td><td>454</td><td>220</td><td>4354</td><td> 9.0</td><td>70</td><td>local        </td></tr>\n",
              "\t<tr><th scope=row>8 cylinder 70 plymouth fury iii</th><td>14</td><td>8</td><td>440</td><td>215</td><td>4312</td><td> 8.5</td><td>70</td><td>local        </td></tr>\n",
              "\t<tr><th scope=row>8 cylinder 70 pontiac catalina</th><td>14</td><td>8</td><td>455</td><td>225</td><td>4425</td><td>10.0</td><td>70</td><td>local        </td></tr>\n",
              "\t<tr><th scope=row>8 cylinder 70 amc ambassador dpl</th><td>15</td><td>8</td><td>390</td><td>190</td><td>3850</td><td> 8.5</td><td>70</td><td>local        </td></tr>\n",
              "\t<tr><th scope=row>8 cylinder 70 dodge challenger se</th><td>15</td><td>8</td><td>383</td><td>170</td><td>3563</td><td>10.0</td><td>70</td><td>local        </td></tr>\n",
              "\t<tr><th scope=row>8 cylinder 70 plymouth 'cuda 340</th><td>14</td><td>8</td><td>340</td><td>160</td><td>3609</td><td> 8.0</td><td>70</td><td>local        </td></tr>\n",
              "\t<tr><th scope=row>8 cylinder 70 chevrolet monte carlo</th><td>15</td><td>8</td><td>400</td><td>150</td><td>3761</td><td> 9.5</td><td>70</td><td>local        </td></tr>\n",
              "\t<tr><th scope=row>8 cylinder 70 buick estate wagon (sw)</th><td>14</td><td>8</td><td>455</td><td>225</td><td>3086</td><td>10.0</td><td>70</td><td>local        </td></tr>\n",
              "\t<tr><th scope=row>4 cylinder 70 toyota corona mark ii</th><td>24</td><td>4</td><td>113</td><td> 95</td><td>2372</td><td>15.0</td><td>70</td><td>international</td></tr>\n",
              "\t<tr><th scope=row>6 cylinder 70 plymouth duster</th><td>22</td><td>6</td><td>198</td><td> 95</td><td>2833</td><td>15.5</td><td>70</td><td>local        </td></tr>\n",
              "\t<tr><th scope=row>6 cylinder 70 amc hornet</th><td>18</td><td>6</td><td>199</td><td> 97</td><td>2774</td><td>15.5</td><td>70</td><td>local        </td></tr>\n",
              "\t<tr><th scope=row>6 cylinder 70 ford maverick</th><td>21</td><td>6</td><td>200</td><td> 85</td><td>2587</td><td>16.0</td><td>70</td><td>local        </td></tr>\n",
              "\t<tr><th scope=row>4 cylinder 70 datsun pl510</th><td>27</td><td>4</td><td> 97</td><td> 88</td><td>2130</td><td>14.5</td><td>70</td><td>international</td></tr>\n",
              "\t<tr><th scope=row>4 cylinder 70 volkswagen 1131 deluxe sedan</th><td>26</td><td>4</td><td> 97</td><td> 46</td><td>1835</td><td>20.5</td><td>70</td><td>international</td></tr>\n",
              "</tbody>\n",
              "</table>\n"
            ],
            "text/latex": [
              "A data.frame: 20 × 8\n",
              "\\begin{tabular}{r|llllllll}\n",
              "  & mpg & cyl & disp & hp & wt & acc & year & origin\\\\\n",
              "  & <dbl> & <fct> & <dbl> & <dbl> & <dbl> & <dbl> & <int> & <fct>\\\\\n",
              "\\hline\n",
              "\t8 cylinder 70 chevrolet chevelle malibu & 18 & 8 & 307 & 130 & 3504 & 12.0 & 70 & local        \\\\\n",
              "\t8 cylinder 70 buick skylark 320 & 15 & 8 & 350 & 165 & 3693 & 11.5 & 70 & local        \\\\\n",
              "\t8 cylinder 70 plymouth satellite & 18 & 8 & 318 & 150 & 3436 & 11.0 & 70 & local        \\\\\n",
              "\t8 cylinder 70 amc rebel sst & 16 & 8 & 304 & 150 & 3433 & 12.0 & 70 & local        \\\\\n",
              "\t8 cylinder 70 ford torino & 17 & 8 & 302 & 140 & 3449 & 10.5 & 70 & local        \\\\\n",
              "\t8 cylinder 70 ford galaxie 500 & 15 & 8 & 429 & 198 & 4341 & 10.0 & 70 & local        \\\\\n",
              "\t8 cylinder 70 chevrolet impala & 14 & 8 & 454 & 220 & 4354 &  9.0 & 70 & local        \\\\\n",
              "\t8 cylinder 70 plymouth fury iii & 14 & 8 & 440 & 215 & 4312 &  8.5 & 70 & local        \\\\\n",
              "\t8 cylinder 70 pontiac catalina & 14 & 8 & 455 & 225 & 4425 & 10.0 & 70 & local        \\\\\n",
              "\t8 cylinder 70 amc ambassador dpl & 15 & 8 & 390 & 190 & 3850 &  8.5 & 70 & local        \\\\\n",
              "\t8 cylinder 70 dodge challenger se & 15 & 8 & 383 & 170 & 3563 & 10.0 & 70 & local        \\\\\n",
              "\t8 cylinder 70 plymouth 'cuda 340 & 14 & 8 & 340 & 160 & 3609 &  8.0 & 70 & local        \\\\\n",
              "\t8 cylinder 70 chevrolet monte carlo & 15 & 8 & 400 & 150 & 3761 &  9.5 & 70 & local        \\\\\n",
              "\t8 cylinder 70 buick estate wagon (sw) & 14 & 8 & 455 & 225 & 3086 & 10.0 & 70 & local        \\\\\n",
              "\t4 cylinder 70 toyota corona mark ii & 24 & 4 & 113 &  95 & 2372 & 15.0 & 70 & international\\\\\n",
              "\t6 cylinder 70 plymouth duster & 22 & 6 & 198 &  95 & 2833 & 15.5 & 70 & local        \\\\\n",
              "\t6 cylinder 70 amc hornet & 18 & 6 & 199 &  97 & 2774 & 15.5 & 70 & local        \\\\\n",
              "\t6 cylinder 70 ford maverick & 21 & 6 & 200 &  85 & 2587 & 16.0 & 70 & local        \\\\\n",
              "\t4 cylinder 70 datsun pl510 & 27 & 4 &  97 &  88 & 2130 & 14.5 & 70 & international\\\\\n",
              "\t4 cylinder 70 volkswagen 1131 deluxe sedan & 26 & 4 &  97 &  46 & 1835 & 20.5 & 70 & international\\\\\n",
              "\\end{tabular}\n"
            ],
            "text/markdown": [
              "\n",
              "A data.frame: 20 × 8\n",
              "\n",
              "| <!--/--> | mpg &lt;dbl&gt; | cyl &lt;fct&gt; | disp &lt;dbl&gt; | hp &lt;dbl&gt; | wt &lt;dbl&gt; | acc &lt;dbl&gt; | year &lt;int&gt; | origin &lt;fct&gt; |\n",
              "|---|---|---|---|---|---|---|---|---|\n",
              "| 8 cylinder 70 chevrolet chevelle malibu | 18 | 8 | 307 | 130 | 3504 | 12.0 | 70 | local         |\n",
              "| 8 cylinder 70 buick skylark 320 | 15 | 8 | 350 | 165 | 3693 | 11.5 | 70 | local         |\n",
              "| 8 cylinder 70 plymouth satellite | 18 | 8 | 318 | 150 | 3436 | 11.0 | 70 | local         |\n",
              "| 8 cylinder 70 amc rebel sst | 16 | 8 | 304 | 150 | 3433 | 12.0 | 70 | local         |\n",
              "| 8 cylinder 70 ford torino | 17 | 8 | 302 | 140 | 3449 | 10.5 | 70 | local         |\n",
              "| 8 cylinder 70 ford galaxie 500 | 15 | 8 | 429 | 198 | 4341 | 10.0 | 70 | local         |\n",
              "| 8 cylinder 70 chevrolet impala | 14 | 8 | 454 | 220 | 4354 |  9.0 | 70 | local         |\n",
              "| 8 cylinder 70 plymouth fury iii | 14 | 8 | 440 | 215 | 4312 |  8.5 | 70 | local         |\n",
              "| 8 cylinder 70 pontiac catalina | 14 | 8 | 455 | 225 | 4425 | 10.0 | 70 | local         |\n",
              "| 8 cylinder 70 amc ambassador dpl | 15 | 8 | 390 | 190 | 3850 |  8.5 | 70 | local         |\n",
              "| 8 cylinder 70 dodge challenger se | 15 | 8 | 383 | 170 | 3563 | 10.0 | 70 | local         |\n",
              "| 8 cylinder 70 plymouth 'cuda 340 | 14 | 8 | 340 | 160 | 3609 |  8.0 | 70 | local         |\n",
              "| 8 cylinder 70 chevrolet monte carlo | 15 | 8 | 400 | 150 | 3761 |  9.5 | 70 | local         |\n",
              "| 8 cylinder 70 buick estate wagon (sw) | 14 | 8 | 455 | 225 | 3086 | 10.0 | 70 | local         |\n",
              "| 4 cylinder 70 toyota corona mark ii | 24 | 4 | 113 |  95 | 2372 | 15.0 | 70 | international |\n",
              "| 6 cylinder 70 plymouth duster | 22 | 6 | 198 |  95 | 2833 | 15.5 | 70 | local         |\n",
              "| 6 cylinder 70 amc hornet | 18 | 6 | 199 |  97 | 2774 | 15.5 | 70 | local         |\n",
              "| 6 cylinder 70 ford maverick | 21 | 6 | 200 |  85 | 2587 | 16.0 | 70 | local         |\n",
              "| 4 cylinder 70 datsun pl510 | 27 | 4 |  97 |  88 | 2130 | 14.5 | 70 | international |\n",
              "| 4 cylinder 70 volkswagen 1131 deluxe sedan | 26 | 4 |  97 |  46 | 1835 | 20.5 | 70 | international |\n",
              "\n"
            ],
            "text/plain": [
              "                                           mpg cyl disp hp  wt   acc  year\n",
              "8 cylinder 70 chevrolet chevelle malibu    18  8   307  130 3504 12.0 70  \n",
              "8 cylinder 70 buick skylark 320            15  8   350  165 3693 11.5 70  \n",
              "8 cylinder 70 plymouth satellite           18  8   318  150 3436 11.0 70  \n",
              "8 cylinder 70 amc rebel sst                16  8   304  150 3433 12.0 70  \n",
              "8 cylinder 70 ford torino                  17  8   302  140 3449 10.5 70  \n",
              "8 cylinder 70 ford galaxie 500             15  8   429  198 4341 10.0 70  \n",
              "8 cylinder 70 chevrolet impala             14  8   454  220 4354  9.0 70  \n",
              "8 cylinder 70 plymouth fury iii            14  8   440  215 4312  8.5 70  \n",
              "8 cylinder 70 pontiac catalina             14  8   455  225 4425 10.0 70  \n",
              "8 cylinder 70 amc ambassador dpl           15  8   390  190 3850  8.5 70  \n",
              "8 cylinder 70 dodge challenger se          15  8   383  170 3563 10.0 70  \n",
              "8 cylinder 70 plymouth 'cuda 340           14  8   340  160 3609  8.0 70  \n",
              "8 cylinder 70 chevrolet monte carlo        15  8   400  150 3761  9.5 70  \n",
              "8 cylinder 70 buick estate wagon (sw)      14  8   455  225 3086 10.0 70  \n",
              "4 cylinder 70 toyota corona mark ii        24  4   113   95 2372 15.0 70  \n",
              "6 cylinder 70 plymouth duster              22  6   198   95 2833 15.5 70  \n",
              "6 cylinder 70 amc hornet                   18  6   199   97 2774 15.5 70  \n",
              "6 cylinder 70 ford maverick                21  6   200   85 2587 16.0 70  \n",
              "4 cylinder 70 datsun pl510                 27  4    97   88 2130 14.5 70  \n",
              "4 cylinder 70 volkswagen 1131 deluxe sedan 26  4    97   46 1835 20.5 70  \n",
              "                                           origin       \n",
              "8 cylinder 70 chevrolet chevelle malibu    local        \n",
              "8 cylinder 70 buick skylark 320            local        \n",
              "8 cylinder 70 plymouth satellite           local        \n",
              "8 cylinder 70 amc rebel sst                local        \n",
              "8 cylinder 70 ford torino                  local        \n",
              "8 cylinder 70 ford galaxie 500             local        \n",
              "8 cylinder 70 chevrolet impala             local        \n",
              "8 cylinder 70 plymouth fury iii            local        \n",
              "8 cylinder 70 pontiac catalina             local        \n",
              "8 cylinder 70 amc ambassador dpl           local        \n",
              "8 cylinder 70 dodge challenger se          local        \n",
              "8 cylinder 70 plymouth 'cuda 340           local        \n",
              "8 cylinder 70 chevrolet monte carlo        local        \n",
              "8 cylinder 70 buick estate wagon (sw)      local        \n",
              "4 cylinder 70 toyota corona mark ii        international\n",
              "6 cylinder 70 plymouth duster              local        \n",
              "6 cylinder 70 amc hornet                   local        \n",
              "6 cylinder 70 ford maverick                local        \n",
              "4 cylinder 70 datsun pl510                 international\n",
              "4 cylinder 70 volkswagen 1131 deluxe sedan international"
            ]
          },
          "metadata": {},
          "output_type": "display_data"
        }
      ],
      "source": [
        "head(autompg, n = 20)"
      ]
    },
    {
      "cell_type": "markdown",
      "metadata": {
        "id": "MUM5DdWt-ZTp"
      },
      "source": [
        "**Question 3: print the structure of the modified data frame. How many samples and features are there? Which features are categorical?**"
      ]
    },
    {
      "cell_type": "code",
      "execution_count": 7,
      "metadata": {
        "id": "NO9EojDA-YJ9",
        "vscode": {
          "languageId": "r"
        }
      },
      "outputs": [
        {
          "name": "stdout",
          "output_type": "stream",
          "text": [
            "'data.frame':\t383 obs. of  8 variables:\n",
            " $ mpg   : num  18 15 18 16 17 15 14 14 14 15 ...\n",
            " $ cyl   : Factor w/ 3 levels \"4\",\"6\",\"8\": 3 3 3 3 3 3 3 3 3 3 ...\n",
            " $ disp  : num  307 350 318 304 302 429 454 440 455 390 ...\n",
            " $ hp    : num  130 165 150 150 140 198 220 215 225 190 ...\n",
            " $ wt    : num  3504 3693 3436 3433 3449 ...\n",
            " $ acc   : num  12 11.5 11 12 10.5 10 9 8.5 10 8.5 ...\n",
            " $ year  : int  70 70 70 70 70 70 70 70 70 70 ...\n",
            " $ origin: Factor w/ 2 levels \"international\",..: 2 2 2 2 2 2 2 2 2 2 ...\n"
          ]
        }
      ],
      "source": [
        "str(autompg)"
      ]
    },
    {
      "cell_type": "markdown",
      "metadata": {
        "id": "TggJX8Ag_xvB"
      },
      "source": [
        "**Question 4: how many levels does the categorical variable *origin* have? What is the reference level?** "
      ]
    },
    {
      "cell_type": "code",
      "execution_count": 16,
      "metadata": {
        "id": "4vKeUQoSPrhw",
        "vscode": {
          "languageId": "r"
        }
      },
      "outputs": [
        {
          "name": "stdout",
          "output_type": "stream",
          "text": [
            "[1] \"international\" \"local\"        \n"
          ]
        },
        {
          "data": {
            "text/html": [
              "<table class=\"dataframe\">\n",
              "<caption>A matrix: 2 × 1 of type dbl</caption>\n",
              "<thead>\n",
              "\t<tr><th></th><th scope=col>local</th></tr>\n",
              "</thead>\n",
              "<tbody>\n",
              "\t<tr><th scope=row>international</th><td>0</td></tr>\n",
              "\t<tr><th scope=row>local</th><td>1</td></tr>\n",
              "</tbody>\n",
              "</table>\n"
            ],
            "text/latex": [
              "A matrix: 2 × 1 of type dbl\n",
              "\\begin{tabular}{r|l}\n",
              "  & local\\\\\n",
              "\\hline\n",
              "\tinternational & 0\\\\\n",
              "\tlocal & 1\\\\\n",
              "\\end{tabular}\n"
            ],
            "text/markdown": [
              "\n",
              "A matrix: 2 × 1 of type dbl\n",
              "\n",
              "| <!--/--> | local |\n",
              "|---|---|\n",
              "| international | 0 |\n",
              "| local | 1 |\n",
              "\n"
            ],
            "text/plain": [
              "              local\n",
              "international 0    \n",
              "local         1    "
            ]
          },
          "metadata": {},
          "output_type": "display_data"
        }
      ],
      "source": [
        "print(levels(autompg$origin))\n",
        "\n",
        "contrasts(autompg$origin)"
      ]
    },
    {
      "cell_type": "markdown",
      "metadata": {
        "id": "WlJPc07zOiz2"
      },
      "source": [
        "**Question 5: Create a scatter plot of mpg (y-axis) vs. number of cylinders (x-axis).**"
      ]
    },
    {
      "cell_type": "code",
      "execution_count": 10,
      "metadata": {
        "id": "62OsGKiwOoC2",
        "vscode": {
          "languageId": "r"
        }
      },
      "outputs": [
        {
          "data": {
            "image/png": "[encoded data removed]",
            "text/plain": [
              "plot without title"
            ]
          },
          "metadata": {
            "image/png": {
              "height": 420,
              "width": 420
            }
          },
          "output_type": "display_data"
        }
      ],
      "source": [
        "p1 = ggplot(data = autompg, aes(x = mpg, y = cyl)) +\n",
        "  geom_point() \n",
        "p1"
      ]
    },
    {
      "cell_type": "markdown",
      "metadata": {
        "id": "_96VBUIRN8Zc"
      },
      "source": [
        "**Question 6: Create a scatter plot of mpg vs. displacement by color coding the points according to the number of cylinders.**"
      ]
    },
    {
      "cell_type": "code",
      "execution_count": 11,
      "metadata": {
        "id": "hum9uSGCNz8-",
        "vscode": {
          "languageId": "r"
        }
      },
      "outputs": [
        {
          "data": {
            "image/png": "[encoded data removed]",
            "text/plain": [
              "plot without title"
            ]
          },
          "metadata": {
            "image/png": {
              "height": 420,
              "width": 420
            }
          },
          "output_type": "display_data"
        }
      ],
      "source": [
        "p2 = ggplot(autompg, aes(x = mpg, y = disp, color = factor(cyl))) +\n",
        "  geom_point()\n",
        "p2"
      ]
    },
    {
      "cell_type": "markdown",
      "metadata": {
        "id": "jayfl_9XxV2L"
      },
      "source": [
        "**Question 7: Create a scatter plot of mpg vs. displacement by color coding the points according to the origin (local or international).**"
      ]
    },
    {
      "cell_type": "code",
      "execution_count": 12,
      "metadata": {
        "id": "Mqbhi_qbxVAk",
        "vscode": {
          "languageId": "r"
        }
      },
      "outputs": [
        {
          "data": {
            "image/png": "[encoded data removed]",
            "text/plain": [
              "plot without title"
            ]
          },
          "metadata": {
            "image/png": {
              "height": 420,
              "width": 420
            }
          },
          "output_type": "display_data"
        }
      ],
      "source": [
        "p3 = ggplot(autompg, aes(x = mpg, y = disp, color = factor(origin))) +\n",
        "  geom_point()\n",
        "p3"
      ]
    },
    {
      "cell_type": "markdown",
      "metadata": {
        "id": "dutKqWm2uqNk"
      },
      "source": [
        "**Question 8: fit a linear model for approximating *mpg* as a function of *displacement* and *origin*. Print the model's summary.**"
      ]
    },
    {
      "cell_type": "code",
      "execution_count": 13,
      "metadata": {
        "id": "PPPu7Mq2PyFs",
        "vscode": {
          "languageId": "r"
        }
      },
      "outputs": [
        {
          "data": {
            "text/plain": [
              "\n",
              "Call:\n",
              "lm(formula = mpg ~ disp + origin, data = autompg)\n",
              "\n",
              "Residuals:\n",
              "    Min      1Q  Median      3Q     Max \n",
              "-10.559  -2.904  -0.576   2.434  18.814 \n",
              "\n",
              "Coefficients:\n",
              "             Estimate Std. Error t value Pr(>|t|)    \n",
              "(Intercept) 35.486645   0.489885  72.439   <2e-16 ***\n",
              "disp        -0.057251   0.002907 -19.696   <2e-16 ***\n",
              "originlocal -1.300402   0.632372  -2.056   0.0404 *  \n",
              "---\n",
              "Signif. codes:  0 '***' 0.001 '**' 0.01 '*' 0.05 '.' 0.1 ' ' 1\n",
              "\n",
              "Residual standard error: 4.506 on 380 degrees of freedom\n",
              "Multiple R-squared:  0.6721,\tAdjusted R-squared:  0.6704 \n",
              "F-statistic: 389.5 on 2 and 380 DF,  p-value: < 2.2e-16\n"
            ]
          },
          "metadata": {},
          "output_type": "display_data"
        }
      ],
      "source": [
        "model = lm(data = autompg, mpg ~ disp + origin)\n",
        "summary(model)"
      ]
    },
    {
      "cell_type": "markdown",
      "metadata": {
        "id": "reuytKP1wcdO"
      },
      "source": [
        "**Question 9: Extract the slope and intercept for estimating the mpg of local and international categories. It would be helpful to start with the regression equation $\\hat{y}^{(i)} = \\hat{\\beta}_0 + \\hat{\\beta}_1x_1^{(i)} + \\hat{\\beta}_2x_2^{(i)}$ and then write two separate equations for local\n",
        " and international categories.**"
      ]
    },
    {
      "cell_type": "code",
      "execution_count": 19,
      "metadata": {
        "vscode": {
          "languageId": "r"
        }
      },
      "outputs": [
        {
          "data": {
            "text/html": [
              "<strong>originlocal:</strong> -1.3004023680343"
            ],
            "text/latex": [
              "\\textbf{originlocal:} -1.3004023680343"
            ],
            "text/markdown": [
              "**originlocal:** -1.3004023680343"
            ],
            "text/plain": [
              "originlocal \n",
              "  -1.300402 "
            ]
          },
          "metadata": {},
          "output_type": "display_data"
        }
      ],
      "source": [
        "coef(model)[3]"
      ]
    },
    {
      "cell_type": "code",
      "execution_count": null,
      "metadata": {
        "id": "kzd8vRkdwbZe",
        "vscode": {
          "languageId": "r"
        }
      },
      "outputs": [],
      "source": [
        "intercept_international = coef(model)[1] # you can also use the $ way of extracting coefficients\n",
        "intercept_local =  coef(model)[1] + coef(model)[3]\n",
        "\n",
        "slope_international = coef(model)[2]\n",
        "slope_local = coef(model)[2]\n",
        "\n",
        "yInternational = intercept_international + slope_international * autompg$disp\n",
        "yLocal = intercept_local + slope_local * autompg$disp"
      ]
    },
    {
      "cell_type": "markdown",
      "metadata": {
        "id": "paxwmm0u54Ux"
      },
      "source": [
        "**Question 10: to the scatter plot you created for mpg. vs displacement color coded using origin, add two separete regression lines for local and domestic cars.**"
      ]
    },
    {
      "cell_type": "code",
      "execution_count": null,
      "metadata": {
        "id": "18GiMkWn2A_1",
        "vscode": {
          "languageId": "r"
        }
      },
      "outputs": [],
      "source": [
        "p3 %+% geom_?(intercept = ?, slope = ?, color = 'red', size = 1, linetype = 1) +\n",
        "   ?"
      ]
    },
    {
      "cell_type": "markdown",
      "metadata": {
        "id": "-fzIh0vi44Fh"
      },
      "source": [
        "**Question 11: Fit a linear model for mpg as a function of displacement and origin including an interaction effect between the predictors. Print the summary of the model.**"
      ]
    },
    {
      "cell_type": "code",
      "execution_count": null,
      "metadata": {
        "id": "K3jRrcKR4wUi",
        "vscode": {
          "languageId": "r"
        }
      },
      "outputs": [],
      "source": []
    },
    {
      "cell_type": "markdown",
      "metadata": {
        "id": "bnnxKsKX5Vf_"
      },
      "source": [
        "**Question 12: Extract the slope and intercept for estimating the mpg of local and international categories. It would be helpful to start with the regression equation $\\hat{y}^{(i)} = \\hat{\\beta}_0 + \\hat{\\beta}_1x_1^{(i)} + \\hat{\\beta}_2x_2^{(i)} + \\hat{\\beta}_3x_3^{(i)}$ and then write two separate equations for local and international categories. In this equation, $x_3^{(i)}$ is the interaction effect variable.**"
      ]
    },
    {
      "cell_type": "code",
      "execution_count": null,
      "metadata": {
        "id": "IVd1FvyD5UoZ",
        "vscode": {
          "languageId": "r"
        }
      },
      "outputs": [],
      "source": []
    },
    {
      "cell_type": "markdown",
      "metadata": {
        "id": "LRSpqRDr6EXM"
      },
      "source": [
        "**Question 13: Create a scatter plot of mpg vs. displacement by color coding the points according to the origin (domestic or international), and add separate regression lines for international and local cars.**"
      ]
    },
    {
      "cell_type": "code",
      "execution_count": null,
      "metadata": {
        "id": "K8kPO4pn6J3W",
        "vscode": {
          "languageId": "r"
        }
      },
      "outputs": [],
      "source": [
        "p4 = ggplot(data = autompg, aes(?, ?, color = ?)) +\n",
        "  geom_? +\n",
        "  ? +\n",
        "  ?\n",
        "p4"
      ]
    },
    {
      "cell_type": "markdown",
      "metadata": {
        "id": "-NEYvkfL_Jw0"
      },
      "source": [
        "**Question 14: Fit a linear model for mpg as a function of *displacement* and *hp*. Print the model's summary.**"
      ]
    },
    {
      "cell_type": "code",
      "execution_count": null,
      "metadata": {
        "id": "gjN7e3JM_JS5",
        "vscode": {
          "languageId": "r"
        }
      },
      "outputs": [],
      "source": []
    },
    {
      "cell_type": "markdown",
      "metadata": {
        "id": "DszpGE_tXsIP"
      },
      "source": [
        "**Question 15: predict the mpg of a car with displacement = 375 and hp = 175.**"
      ]
    },
    {
      "cell_type": "code",
      "execution_count": null,
      "metadata": {
        "id": "LKtNmArEX-lr",
        "vscode": {
          "languageId": "r"
        }
      },
      "outputs": [],
      "source": [
        "newautompg = data.frame(? = c(375), hp = c(?))\n",
        "?(?, ?)"
      ]
    },
    {
      "cell_type": "markdown",
      "metadata": {
        "id": "jvlybrHZYPkA"
      },
      "source": [
        "**Question 16: Fit a linear model for *mpg* as a function of *displacement* and *hp* including an interaction term between the predictors. Print the model's summary.**"
      ]
    },
    {
      "cell_type": "code",
      "execution_count": null,
      "metadata": {
        "id": "i7a8XzDf_efw",
        "vscode": {
          "languageId": "r"
        }
      },
      "outputs": [],
      "source": []
    },
    {
      "cell_type": "markdown",
      "metadata": {
        "id": "-s58kFIIYX90"
      },
      "source": [
        "**Question 17**: using the interaction model, predict the mpg of a car with displacement = 375 and hp = 175."
      ]
    },
    {
      "cell_type": "code",
      "execution_count": null,
      "metadata": {
        "id": "PBje0ykzYXdL",
        "vscode": {
          "languageId": "r"
        }
      },
      "outputs": [],
      "source": []
    },
    {
      "cell_type": "markdown",
      "metadata": {
        "id": "0JtwQ4r-ZG6Y"
      },
      "source": [
        "**Queestion 18**: Using both non-interaction and interaction models, predict the mpg of a car with displacement = 400, hp = 250."
      ]
    },
    {
      "cell_type": "code",
      "execution_count": null,
      "metadata": {
        "id": "oskUbQS4Y_r2",
        "vscode": {
          "languageId": "r"
        }
      },
      "outputs": [],
      "source": [
        "newautompg = ?\n",
        "predict(?, ?)\n",
        "predict(?, ?)"
      ]
    }
  ],
  "metadata": {
    "colab": {
      "collapsed_sections": [],
      "name": "AML5201_FinalExamLab_Incomplete1_R.ipynb",
      "provenance": []
    },
    "kernelspec": {
      "display_name": "R",
      "language": "R",
      "name": "ir"
    },
    "language_info": {
      "codemirror_mode": "r",
      "file_extension": ".r",
      "mimetype": "text/x-r-source",
      "name": "R",
      "pygments_lexer": "r",
      "version": "4.1.1"
    }
  },
  "nbformat": 4,
  "nbformat_minor": 0
}
