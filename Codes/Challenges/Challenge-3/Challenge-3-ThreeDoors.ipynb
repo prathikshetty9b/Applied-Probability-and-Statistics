{
 "cells": [
  {
   "cell_type": "markdown",
   "metadata": {},
   "source": [
    "# **Three Doors**"
   ]
  },
  {
   "cell_type": "markdown",
   "metadata": {},
   "source": [
    "## **Problem Statement**"
   ]
  },
  {
   "cell_type": "markdown",
   "metadata": {},
   "source": [
    "\n",
    "A game show has the following setup: there are 3 doors, say A, B, and, C. Behind one random door is a prize, and behind the other two doors, there is nothing. The game participant is asked to select a door first. After that, the game host opens one among the other two doors  (that the participant has not selected) behind which is empty. Now the participant is offered the choice to switch (between the door that has been selected and the one that the host has not opened). If you are the participant, would you switch or not? "
   ]
  },
  {
   "cell_type": "code",
   "execution_count": 24,
   "metadata": {},
   "outputs": [
    {
     "data": {
      "text/html": [
       "0.333822"
      ],
      "text/latex": [
       "0.333822"
      ],
      "text/markdown": [
       "0.333822"
      ],
      "text/plain": [
       "[1] 0.333822"
      ]
     },
     "metadata": {},
     "output_type": "display_data"
    },
    {
     "data": {
      "text/html": [
       "0.666178"
      ],
      "text/latex": [
       "0.666178"
      ],
      "text/markdown": [
       "0.666178"
      ],
      "text/plain": [
       "[1] 0.666178"
      ]
     },
     "metadata": {},
     "output_type": "display_data"
    }
   ],
   "source": [
    "# Sampling space \n",
    "s = c('A','B','C');\n",
    "\n",
    "# Corresponding Probabilities\n",
    "p = (1/3) *c(1,1,1)\n",
    "\n",
    "\n",
    "#pickDoor = sample(s ,size = 1, replace = FALSE, prob = p )\n",
    "#pickDoor\n",
    "\n",
    "\n",
    "#priceDoor = sample(s, size = 1, replace = FALSE, prob = p)\n",
    "#priceDoor\n",
    "\n",
    "#First Row indicates Participants Choice , Second Row indicates Winning Door\n",
    "nsimulations = 1e6\n",
    "simulatedData = replicate(nsimulations,sample(s, size = 2 , replace = TRUE, prob = p)) \n",
    "\n",
    "#We already know that host will choose a door without prize\n",
    "\n",
    "#Liklihood of him winning if he sticks to his decision \n",
    "checkEventWin1 = function(data) {\n",
    "    if(data[1] == data[2])\n",
    "    {\n",
    "        return(1) \n",
    "    }\n",
    "    return(0) \n",
    "\n",
    "}\n",
    "\n",
    "mean(apply(simulatedData,2,checkEventWin1))\n",
    "\n",
    "#Liklihood of him winning if he switches doors \n",
    "checkEventWin2 = function(data) {\n",
    "    if(data[1] != data[2])\n",
    "    {\n",
    "        return(1) #switch if participant didn't choose the winning door \n",
    "    }\n",
    "    return(0) #don't switch if participant chose the winning door\n",
    "}\n",
    "\n",
    "mean(apply(simulatedData,2,checkEventWin2))"
   ]
  },
  {
   "cell_type": "code",
   "execution_count": 21,
   "metadata": {},
   "outputs": [
    {
     "data": {
      "text/html": [
       "0.666835080628184"
      ],
      "text/latex": [
       "0.666835080628184"
      ],
      "text/markdown": [
       "0.666835080628184"
      ],
      "text/plain": [
       "[1] 0.6668351"
      ]
     },
     "metadata": {},
     "output_type": "display_data"
    }
   ],
   "source": [
    "# Sampling space  for host putting a prize\n",
    "s1 = c('A','B','C');\n",
    "p1 = (1/3)*replicate(length(s1),1) \n",
    "\n",
    "# Sampling space  for participant choosing a door\n",
    "s2 = c('A','B','C');\n",
    "p2 = (1/3)*replicate(length(s2),1)\n",
    "\n",
    "#Sampling space for switching the door\n",
    "s4 = c(1,0)\n",
    "p4 = c(0.5,0.5)\n",
    "\n",
    "#Function to generate single trial\n",
    "outcome = function()\n",
    "{\n",
    "    outcome = replicate(4,0)\n",
    "    #Prize Selection\n",
    "    outcome[1] = sample(s1,size = 1, replace = TRUE, prob = p1)\n",
    "    #User selects a door\n",
    "    outcome[2] = sample(s2, size = 1, replace = TRUE, prob = p2)\n",
    "\n",
    "    #host opens an empty door\n",
    "    if(outcome[1] == outcome[2])\n",
    "    {\n",
    "        s3 = setdiff(s1,c(outcome[1]))\n",
    "        p3 = c(0.5,0.5)\n",
    "        outcome[3] = sample(s3, size = 1, replace = TRUE, prob = p3)\n",
    "    }\n",
    "    else {\n",
    "       s3 = setdiff(s1,c(outcome[1],outcome[2]))\n",
    "       p3 = c(1)\n",
    "       outcome[3] = sample(s3, size = 1, replace = TRUE, prob = p3)\n",
    "\n",
    "    }\n",
    "    \n",
    "    #User choice after host reveals an empty door \n",
    "    outcome[4] = sample(s4, size = 1, replace = TRUE, prob = p4)\n",
    "\n",
    "    return(outcome)\n",
    "}\n",
    "\n",
    "#Simulate\n",
    "nsimulations = 1e6\n",
    "simulatedData = replicate(nsimulations,outcome())\n",
    "#simulatedData\n",
    "\n",
    "#checkEventSwitch = function(data) {\n",
    "#    if(data[4] == 1)\n",
    "#    {\n",
    "#       return(TRUE)\n",
    "#    }\n",
    "#    return(FALSE)\n",
    "#}\n",
    "\n",
    "\n",
    "checkEventWin = function(data){\n",
    "    if(data[1] != data[2])\n",
    "    {\n",
    "        return(1)\n",
    "    }\n",
    "    return(0)\n",
    "}\n",
    "#filteredSimulatedData = simulatedData[,apply(simulatedData,2,checkEventSwitch)]\n",
    "filteredSimulatedData = simulatedData[,simulatedData[4,] == 1]\n",
    "mean(apply(filteredSimulatedData,2,checkEventWin))"
   ]
  }
 ],
 "metadata": {
  "kernelspec": {
   "display_name": "R",
   "language": "R",
   "name": "ir"
  },
  "language_info": {
   "codemirror_mode": "r",
   "file_extension": ".r",
   "mimetype": "text/x-r-source",
   "name": "R",
   "pygments_lexer": "r",
   "version": "4.1.1"
  },
  "orig_nbformat": 4
 },
 "nbformat": 4,
 "nbformat_minor": 2
}
