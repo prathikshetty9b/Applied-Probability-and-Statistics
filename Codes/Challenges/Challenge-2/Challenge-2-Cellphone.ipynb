{
 "cells": [
  {
   "cell_type": "markdown",
   "metadata": {},
   "source": [
    "# **Cellphone Problem**"
   ]
  },
  {
   "cell_type": "markdown",
   "metadata": {},
   "source": [
    "## **Problem Statement**\n",
    "![cellphone-problem](Cellphone-Problem.jpeg)"
   ]
  },
  {
   "cell_type": "code",
   "execution_count": 11,
   "metadata": {},
   "outputs": [
    {
     "name": "stdout",
     "output_type": "stream",
     "text": [
      "     [,1] [,2] [,3] [,4]\n",
      "[1,] 0.05 0.10 0.05 0.05\n",
      "[2,] 0.05 0.10 0.05 0.05\n",
      "[3,] 0.05 0.05 0.10 0.05\n",
      "[4,] 0.05 0.05 0.10 0.05\n",
      "     [,1] [,2] [,3] [,4]\n",
      "[1,] 0.75 0.95 0.75 0.05\n",
      "[2,] 0.05 0.75 0.95 0.75\n",
      "[3,] 0.01 0.05 0.75 0.95\n",
      "[4,] 0.01 0.01 0.05 0.75\n",
      "             [,1]         [,2]        [,3]        [,4]\n",
      "[1,] 0.0744047619 0.1884920635 0.074404762 0.004960317\n",
      "[2,] 0.0049603175 0.1488095238 0.094246032 0.074404762\n",
      "[3,] 0.0009920635 0.0049603175 0.148809524 0.094246032\n",
      "[4,] 0.0009920635 0.0009920635 0.009920635 0.074404762\n"
     ]
    }
   ],
   "source": [
    "\n",
    "#Prior Belief -> person is at some location\n",
    "probPrior <- matrix(c(0.05,0.10,0.05,0.05,0.05,0.10,0.05,0.05,0.05,0.05,0.10,0.05,0.05,0.05,0.10,0.05), nrow = 4, ncol = 4, byrow = TRUE)\n",
    "print(probPrior)\n",
    "\n",
    "#Probability that you observe two bars of signal given your are in a specific loacation\n",
    "\n",
    "prob2Bar <- matrix(c(0.75,0.95,0.75,0.05,0.05,0.75,0.95,0.75,0.01,0.05,0.75,0.95,0.01,0.01,0.05,0.75), nrow = 4, ncol = 4, byrow = TRUE)\n",
    "\n",
    "print(prob2Bar)\n",
    "\n",
    "#Person is at some loaction given that he observes 2 bars of signal\n",
    "\n",
    "#Applying Bayes theorem and law of total probability\n",
    "result <- (prob2Bar * probPrior)/sum(prob2Bar*probPrior)\n",
    "\n",
    "print(result)\n",
    "\n"
   ]
  },
  {
   "cell_type": "code",
   "execution_count": null,
   "metadata": {},
   "outputs": [],
   "source": [
    "\n"
   ]
  }
 ],
 "metadata": {
  "kernelspec": {
   "display_name": "R",
   "language": "R",
   "name": "ir"
  },
  "language_info": {
   "codemirror_mode": "r",
   "file_extension": ".r",
   "mimetype": "text/x-r-source",
   "name": "R",
   "pygments_lexer": "r",
   "version": "4.1.1"
  },
  "orig_nbformat": 4
 },
 "nbformat": 4,
 "nbformat_minor": 2
}
