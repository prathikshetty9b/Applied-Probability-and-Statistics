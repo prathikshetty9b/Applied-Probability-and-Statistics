{
 "cells": [
  {
   "cell_type": "code",
   "execution_count": 55,
   "metadata": {
    "vscode": {
     "languageId": "r"
    }
   },
   "outputs": [
    {
     "name": "stderr",
     "output_type": "stream",
     "text": [
      "Installing package into 'D:/Documents/R/win-library/4.1'\n",
      "(as 'lib' is unspecified)\n",
      "\n"
     ]
    },
    {
     "name": "stdout",
     "output_type": "stream",
     "text": [
      "package 'ggdark' successfully unpacked and MD5 sums checked\n",
      "\n",
      "The downloaded binary packages are in\n",
      "\tC:\\Users\\killua\\AppData\\Local\\Temp\\Rtmpo7OnhW\\downloaded_packages\n"
     ]
    }
   ],
   "source": [
    "#install.packages(\"ggdark\")"
   ]
  },
  {
   "cell_type": "code",
   "execution_count": 1,
   "metadata": {
    "vscode": {
     "languageId": "r"
    }
   },
   "outputs": [
    {
     "name": "stderr",
     "output_type": "stream",
     "text": [
      "\n",
      "Attaching package: 'dplyr'\n",
      "\n",
      "\n",
      "The following objects are masked from 'package:stats':\n",
      "\n",
      "    filter, lag\n",
      "\n",
      "\n",
      "The following objects are masked from 'package:base':\n",
      "\n",
      "    intersect, setdiff, setequal, union\n",
      "\n",
      "\n",
      "Warning message:\n",
      "\"package 'ggdark' was built under R version 4.1.3\"\n",
      "Warning message:\n",
      "\"package 'ggExtra' was built under R version 4.1.3\"\n"
     ]
    }
   ],
   "source": [
    "library(ggplot2) # powerful visualization library\n",
    "library(dplyr) # powerful data wrangling library\n",
    "library(ggdark)\n",
    "library(ggExtra)"
   ]
  },
  {
   "cell_type": "code",
   "execution_count": 2,
   "metadata": {
    "vscode": {
     "languageId": "r"
    }
   },
   "outputs": [
    {
     "data": {
      "text/html": [
       "<table class=\"dataframe\">\n",
       "<caption>A data.frame: 5 × 11</caption>\n",
       "<thead>\n",
       "\t<tr><th></th><th scope=col>mpg</th><th scope=col>cyl</th><th scope=col>disp</th><th scope=col>hp</th><th scope=col>drat</th><th scope=col>wt</th><th scope=col>qsec</th><th scope=col>vs</th><th scope=col>am</th><th scope=col>gear</th><th scope=col>carb</th></tr>\n",
       "\t<tr><th></th><th scope=col>&lt;dbl&gt;</th><th scope=col>&lt;int&gt;</th><th scope=col>&lt;dbl&gt;</th><th scope=col>&lt;int&gt;</th><th scope=col>&lt;dbl&gt;</th><th scope=col>&lt;dbl&gt;</th><th scope=col>&lt;dbl&gt;</th><th scope=col>&lt;int&gt;</th><th scope=col>&lt;int&gt;</th><th scope=col>&lt;int&gt;</th><th scope=col>&lt;int&gt;</th></tr>\n",
       "</thead>\n",
       "<tbody>\n",
       "\t<tr><th scope=row>Mazda RX4</th><td>21.0</td><td>6</td><td>160</td><td>110</td><td>3.90</td><td>2.620</td><td>16.46</td><td>0</td><td>1</td><td>4</td><td>4</td></tr>\n",
       "\t<tr><th scope=row>Mazda RX4 Wag</th><td>21.0</td><td>6</td><td>160</td><td>110</td><td>3.90</td><td>2.875</td><td>17.02</td><td>0</td><td>1</td><td>4</td><td>4</td></tr>\n",
       "\t<tr><th scope=row>Datsun 710</th><td>22.8</td><td>4</td><td>108</td><td> 93</td><td>3.85</td><td>2.320</td><td>18.61</td><td>1</td><td>1</td><td>4</td><td>1</td></tr>\n",
       "\t<tr><th scope=row>Hornet 4 Drive</th><td>21.4</td><td>6</td><td>258</td><td>110</td><td>3.08</td><td>3.215</td><td>19.44</td><td>1</td><td>0</td><td>3</td><td>1</td></tr>\n",
       "\t<tr><th scope=row>Hornet Sportabout</th><td>18.7</td><td>8</td><td>360</td><td>175</td><td>3.15</td><td>3.440</td><td>17.02</td><td>0</td><td>0</td><td>3</td><td>2</td></tr>\n",
       "</tbody>\n",
       "</table>\n"
      ],
      "text/latex": [
       "A data.frame: 5 × 11\n",
       "\\begin{tabular}{r|lllllllllll}\n",
       "  & mpg & cyl & disp & hp & drat & wt & qsec & vs & am & gear & carb\\\\\n",
       "  & <dbl> & <int> & <dbl> & <int> & <dbl> & <dbl> & <dbl> & <int> & <int> & <int> & <int>\\\\\n",
       "\\hline\n",
       "\tMazda RX4 & 21.0 & 6 & 160 & 110 & 3.90 & 2.620 & 16.46 & 0 & 1 & 4 & 4\\\\\n",
       "\tMazda RX4 Wag & 21.0 & 6 & 160 & 110 & 3.90 & 2.875 & 17.02 & 0 & 1 & 4 & 4\\\\\n",
       "\tDatsun 710 & 22.8 & 4 & 108 &  93 & 3.85 & 2.320 & 18.61 & 1 & 1 & 4 & 1\\\\\n",
       "\tHornet 4 Drive & 21.4 & 6 & 258 & 110 & 3.08 & 3.215 & 19.44 & 1 & 0 & 3 & 1\\\\\n",
       "\tHornet Sportabout & 18.7 & 8 & 360 & 175 & 3.15 & 3.440 & 17.02 & 0 & 0 & 3 & 2\\\\\n",
       "\\end{tabular}\n"
      ],
      "text/markdown": [
       "\n",
       "A data.frame: 5 × 11\n",
       "\n",
       "| <!--/--> | mpg &lt;dbl&gt; | cyl &lt;int&gt; | disp &lt;dbl&gt; | hp &lt;int&gt; | drat &lt;dbl&gt; | wt &lt;dbl&gt; | qsec &lt;dbl&gt; | vs &lt;int&gt; | am &lt;int&gt; | gear &lt;int&gt; | carb &lt;int&gt; |\n",
       "|---|---|---|---|---|---|---|---|---|---|---|---|\n",
       "| Mazda RX4 | 21.0 | 6 | 160 | 110 | 3.90 | 2.620 | 16.46 | 0 | 1 | 4 | 4 |\n",
       "| Mazda RX4 Wag | 21.0 | 6 | 160 | 110 | 3.90 | 2.875 | 17.02 | 0 | 1 | 4 | 4 |\n",
       "| Datsun 710 | 22.8 | 4 | 108 |  93 | 3.85 | 2.320 | 18.61 | 1 | 1 | 4 | 1 |\n",
       "| Hornet 4 Drive | 21.4 | 6 | 258 | 110 | 3.08 | 3.215 | 19.44 | 1 | 0 | 3 | 1 |\n",
       "| Hornet Sportabout | 18.7 | 8 | 360 | 175 | 3.15 | 3.440 | 17.02 | 0 | 0 | 3 | 2 |\n",
       "\n"
      ],
      "text/plain": [
       "                  mpg  cyl disp hp  drat wt    qsec  vs am gear carb\n",
       "Mazda RX4         21.0 6   160  110 3.90 2.620 16.46 0  1  4    4   \n",
       "Mazda RX4 Wag     21.0 6   160  110 3.90 2.875 17.02 0  1  4    4   \n",
       "Datsun 710        22.8 4   108   93 3.85 2.320 18.61 1  1  4    1   \n",
       "Hornet 4 Drive    21.4 6   258  110 3.08 3.215 19.44 1  0  3    1   \n",
       "Hornet Sportabout 18.7 8   360  175 3.15 3.440 17.02 0  0  3    2   "
      ]
     },
     "metadata": {},
     "output_type": "display_data"
    }
   ],
   "source": [
    "file = 'mtcars.csv'\n",
    "carData = read.csv(file, header = TRUE, row.names = 1, stringsAsFactors = FALSE)\n",
    "head(carData, 5)"
   ]
  },
  {
   "cell_type": "code",
   "execution_count": 8,
   "metadata": {
    "vscode": {
     "languageId": "r"
    }
   },
   "outputs": [],
   "source": [
    "modelA = lm(data = carData, mpg ~ hp)\n",
    "modelB = lm(data = carData, mpg ~ hp + cyl)\n",
    "modelC = lm(data = carData, mpg ~ hp + cyl + disp)\n",
    "modelD = lm(data = carData, mpg ~ hp + cyl + disp + drat)\n",
    "modelE = lm(data = carData, mpg ~ hp + cyl + disp + drat + wt)\n",
    "modelF = lm(data = carData, mpg ~ hp + cyl + disp + drat + wt + qsec)\n",
    "modelG = lm(data = carData, mpg ~ hp + cyl + disp + drat + wt + qsec + vs)\n",
    "modelH = lm(data = carData, mpg ~ hp + cyl + disp + drat + wt + qsec + vs + am)\n",
    "modelI = lm(data = carData, mpg ~ hp + cyl + disp + drat + wt + qsec + vs + am + gear)\n",
    "modelJ = lm(data = carData, mpg ~ hp + cyl + disp + drat + wt + qsec + vs + am + gear + carb)\n",
    "\n",
    "\n",
    "r1 =summary(modelA)$r.squared\n",
    "r2 =summary(modelB)$r.squared\n",
    "r3 =summary(modelC)$r.squared\n",
    "r4 =summary(modelD)$r.squared\n",
    "r5 =summary(modelE)$r.squared\n",
    "r6 =summary(modelF)$r.squared\n",
    "r7 =summary(modelG)$r.squared\n",
    "r8 =summary(modelH)$r.squared\n",
    "r9 =summary(modelI)$r.squared\n",
    "r10 =summary(modelJ)$r.squared\n",
    "\n",
    "ar1 =summary(modelA)$adj.r.squared\n",
    "ar2 =summary(modelB)$adj.r.squared\n",
    "ar3 =summary(modelC)$adj.r.squared\n",
    "ar4 =summary(modelD)$adj.r.squared\n",
    "ar5 =summary(modelE)$adj.r.squared\n",
    "ar6 =summary(modelF)$adj.r.squared\n",
    "ar7 =summary(modelG)$adj.r.squared\n",
    "ar8 =summary(modelH)$adj.r.squared\n",
    "ar9 =summary(modelI)$adj.r.squared\n",
    "ar10 =summary(modelJ)$adj.r.squared"
   ]
  },
  {
   "cell_type": "code",
   "execution_count": 7,
   "metadata": {
    "vscode": {
     "languageId": "r"
    }
   },
   "outputs": [
    {
     "data": {
      "text/plain": [
       "\n",
       "Call:\n",
       "lm(formula = mpg ~ hp, data = carData)\n",
       "\n",
       "Residuals:\n",
       "    Min      1Q  Median      3Q     Max \n",
       "-5.7121 -2.1122 -0.8854  1.5819  8.2360 \n",
       "\n",
       "Coefficients:\n",
       "            Estimate Std. Error t value Pr(>|t|)    \n",
       "(Intercept) 30.09886    1.63392  18.421  < 2e-16 ***\n",
       "hp          -0.06823    0.01012  -6.742 1.79e-07 ***\n",
       "---\n",
       "Signif. codes:  0 '***' 0.001 '**' 0.01 '*' 0.05 '.' 0.1 ' ' 1\n",
       "\n",
       "Residual standard error: 3.863 on 30 degrees of freedom\n",
       "Multiple R-squared:  0.6024,\tAdjusted R-squared:  0.5892 \n",
       "F-statistic: 45.46 on 1 and 30 DF,  p-value: 1.788e-07\n"
      ]
     },
     "metadata": {},
     "output_type": "display_data"
    }
   ],
   "source": [
    "summary(modelA)"
   ]
  },
  {
   "cell_type": "code",
   "execution_count": 9,
   "metadata": {
    "vscode": {
     "languageId": "r"
    }
   },
   "outputs": [
    {
     "data": {
      "text/html": [
       "<table class=\"dataframe\">\n",
       "<caption>A data.frame: 10 × 3</caption>\n",
       "<thead>\n",
       "\t<tr><th scope=col>numberOfFeatures</th><th scope=col>r2Score</th><th scope=col>adjR2Score</th></tr>\n",
       "\t<tr><th scope=col>&lt;int&gt;</th><th scope=col>&lt;dbl&gt;</th><th scope=col>&lt;dbl&gt;</th></tr>\n",
       "</thead>\n",
       "<tbody>\n",
       "\t<tr><td> 1</td><td>0.6024373</td><td>0.5891853</td></tr>\n",
       "\t<tr><td> 2</td><td>0.7407084</td><td>0.7228263</td></tr>\n",
       "\t<tr><td> 3</td><td>0.7678877</td><td>0.7430186</td></tr>\n",
       "\t<tr><td> 4</td><td>0.7825119</td><td>0.7502914</td></tr>\n",
       "\t<tr><td> 5</td><td>0.8513152</td><td>0.8227219</td></tr>\n",
       "\t<tr><td> 6</td><td>0.8548224</td><td>0.8199798</td></tr>\n",
       "\t<tr><td> 7</td><td>0.8549377</td><td>0.8126278</td></tr>\n",
       "\t<tr><td> 8</td><td>0.8677917</td><td>0.8218062</td></tr>\n",
       "\t<tr><td> 9</td><td>0.8686546</td><td>0.8149224</td></tr>\n",
       "\t<tr><td>10</td><td>0.8690158</td><td>0.8066423</td></tr>\n",
       "</tbody>\n",
       "</table>\n"
      ],
      "text/latex": [
       "A data.frame: 10 × 3\n",
       "\\begin{tabular}{lll}\n",
       " numberOfFeatures & r2Score & adjR2Score\\\\\n",
       " <int> & <dbl> & <dbl>\\\\\n",
       "\\hline\n",
       "\t  1 & 0.6024373 & 0.5891853\\\\\n",
       "\t  2 & 0.7407084 & 0.7228263\\\\\n",
       "\t  3 & 0.7678877 & 0.7430186\\\\\n",
       "\t  4 & 0.7825119 & 0.7502914\\\\\n",
       "\t  5 & 0.8513152 & 0.8227219\\\\\n",
       "\t  6 & 0.8548224 & 0.8199798\\\\\n",
       "\t  7 & 0.8549377 & 0.8126278\\\\\n",
       "\t  8 & 0.8677917 & 0.8218062\\\\\n",
       "\t  9 & 0.8686546 & 0.8149224\\\\\n",
       "\t 10 & 0.8690158 & 0.8066423\\\\\n",
       "\\end{tabular}\n"
      ],
      "text/markdown": [
       "\n",
       "A data.frame: 10 × 3\n",
       "\n",
       "| numberOfFeatures &lt;int&gt; | r2Score &lt;dbl&gt; | adjR2Score &lt;dbl&gt; |\n",
       "|---|---|---|\n",
       "|  1 | 0.6024373 | 0.5891853 |\n",
       "|  2 | 0.7407084 | 0.7228263 |\n",
       "|  3 | 0.7678877 | 0.7430186 |\n",
       "|  4 | 0.7825119 | 0.7502914 |\n",
       "|  5 | 0.8513152 | 0.8227219 |\n",
       "|  6 | 0.8548224 | 0.8199798 |\n",
       "|  7 | 0.8549377 | 0.8126278 |\n",
       "|  8 | 0.8677917 | 0.8218062 |\n",
       "|  9 | 0.8686546 | 0.8149224 |\n",
       "| 10 | 0.8690158 | 0.8066423 |\n",
       "\n"
      ],
      "text/plain": [
       "   numberOfFeatures r2Score   adjR2Score\n",
       "1   1               0.6024373 0.5891853 \n",
       "2   2               0.7407084 0.7228263 \n",
       "3   3               0.7678877 0.7430186 \n",
       "4   4               0.7825119 0.7502914 \n",
       "5   5               0.8513152 0.8227219 \n",
       "6   6               0.8548224 0.8199798 \n",
       "7   7               0.8549377 0.8126278 \n",
       "8   8               0.8677917 0.8218062 \n",
       "9   9               0.8686546 0.8149224 \n",
       "10 10               0.8690158 0.8066423 "
      ]
     },
     "metadata": {},
     "output_type": "display_data"
    }
   ],
   "source": [
    "r2Score = c(r1,r2,r3,r4,r5,r6,r7,r8,r9,r10)\n",
    "adjR2Score = c(ar1,ar2,ar3,ar4,ar5,ar6,ar7,ar8,ar9,ar10)\n",
    "numberOfFeatures = seq.int(1,10)\n",
    "\n",
    "df = data.frame(numberOfFeatures,r2Score,adjR2Score)\n",
    "df"
   ]
  },
  {
   "cell_type": "code",
   "execution_count": 12,
   "metadata": {
    "vscode": {
     "languageId": "r"
    }
   },
   "outputs": [
    {
     "data": {
      "image/png": "[encoded data removed]",
      "text/plain": [
       "plot without title"
      ]
     },
     "metadata": {
      "image/png": {
       "height": 420,
       "width": 420
      }
     },
     "output_type": "display_data"
    }
   ],
   "source": [
    "ggplot(data = df, aes(x = numberOfFeatures, y = r2Score)) +  \n",
    "geom_line(size = 1,color = \"red\", alpha = 0.7)+\n",
    "geom_point(size = 4,color = \"purple\") + \n",
    "xlab(\"Number of Features\") +\n",
    "ylab(\"R2 Score\") +\n",
    "scale_x_continuous(breaks = numberOfFeatures)+\n",
    "scale_y_continuous(limits = c(0.6, 0.9)) +\n",
    "dark_theme_grey() +\n",
    "removeGridY()"
   ]
  },
  {
   "cell_type": "code",
   "execution_count": 11,
   "metadata": {
    "vscode": {
     "languageId": "r"
    }
   },
   "outputs": [
    {
     "data": {
      "image/png": "[encoded data removed]",
      "text/plain": [
       "plot without title"
      ]
     },
     "metadata": {
      "image/png": {
       "height": 420,
       "width": 420
      }
     },
     "output_type": "display_data"
    }
   ],
   "source": [
    "ggplot(data = df, aes(x = numberOfFeatures, y = adjR2Score)) +  \n",
    "geom_line(size = 1,color = \"red\", alpha = 0.7)+\n",
    "geom_point(size = 4,color = \"purple\") + \n",
    "xlab(\"Number of Features\") +\n",
    "ylab(\"R2 Score\") +\n",
    "scale_x_continuous(breaks = numberOfFeatures)+\n",
    "scale_y_continuous(limits = c(0.5, 0.9)) +\n",
    "dark_theme_grey() +\n",
    "removeGridY()"
   ]
  },
  {
   "cell_type": "code",
   "execution_count": null,
   "metadata": {
    "vscode": {
     "languageId": "r"
    }
   },
   "outputs": [],
   "source": []
  }
 ],
 "metadata": {
  "kernelspec": {
   "display_name": "R",
   "language": "R",
   "name": "ir"
  },
  "language_info": {
   "codemirror_mode": "r",
   "file_extension": ".r",
   "mimetype": "text/x-r-source",
   "name": "R",
   "pygments_lexer": "r",
   "version": "4.1.1"
  },
  "orig_nbformat": 4
 },
 "nbformat": 4,
 "nbformat_minor": 2
}
