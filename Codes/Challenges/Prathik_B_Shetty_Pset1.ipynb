{
  "cells": [
    {
      "cell_type": "markdown",
      "metadata": {},
      "source": [
        "### **Submitted By**\n",
        "- Prathik B Shetty\n",
        "\n",
        "PS: Nibhashree helped me figure out few of the codes."
      ]
    },
    {
      "cell_type": "markdown",
      "metadata": {
        "id": "m_0IeRbLGWjA"
      },
      "source": [
        "### **Install packages , Load required libraries and load data**"
      ]
    },
    {
      "cell_type": "markdown",
      "metadata": {},
      "source": [
        "**Load packages**"
      ]
    },
    {
      "cell_type": "code",
      "execution_count": 1,
      "metadata": {
        "id": "aLeB1yyiGTUJ",
        "vscode": {
          "languageId": "r"
        }
      },
      "outputs": [
        {
          "name": "stderr",
          "output_type": "stream",
          "text": [
            "Installing package into 'D:/Documents/R/win-library/4.1'\n",
            "(as 'lib' is unspecified)\n",
            "\n"
          ]
        },
        {
          "name": "stdout",
          "output_type": "stream",
          "text": [
            "package 'ggExtra' successfully unpacked and MD5 sums checked\n",
            "\n",
            "The downloaded binary packages are in\n",
            "\tC:\\Users\\killua\\AppData\\Local\\Temp\\RtmpUjkeEv\\downloaded_packages\n"
          ]
        },
        {
          "name": "stderr",
          "output_type": "stream",
          "text": [
            "Installing package into 'D:/Documents/R/win-library/4.1'\n",
            "(as 'lib' is unspecified)\n",
            "\n"
          ]
        },
        {
          "name": "stdout",
          "output_type": "stream",
          "text": [
            "package 'mvtnorm' successfully unpacked and MD5 sums checked\n",
            "\n",
            "The downloaded binary packages are in\n",
            "\tC:\\Users\\killua\\AppData\\Local\\Temp\\RtmpUjkeEv\\downloaded_packages\n"
          ]
        }
      ],
      "source": [
        "# Package for ggplot2 enhancements\n",
        "install.packages(\"ggExtra\")\n",
        "\n",
        "# Package for multivariate normal distribution\n",
        "install.packages('mvtnorm')"
      ]
    },
    {
      "cell_type": "markdown",
      "metadata": {
        "id": "cBwU1D1ib2o6"
      },
      "source": [
        "**Load essential libraries**"
      ]
    },
    {
      "cell_type": "code",
      "execution_count": 2,
      "metadata": {
        "id": "4DhQTLweb138",
        "vscode": {
          "languageId": "r"
        }
      },
      "outputs": [
        {
          "name": "stderr",
          "output_type": "stream",
          "text": [
            "\n",
            "Attaching package: 'dplyr'\n",
            "\n",
            "\n",
            "The following objects are masked from 'package:stats':\n",
            "\n",
            "    filter, lag\n",
            "\n",
            "\n",
            "The following objects are masked from 'package:base':\n",
            "\n",
            "    intersect, setdiff, setequal, union\n",
            "\n",
            "\n",
            "Warning message:\n",
            "\"package 'ggExtra' was built under R version 4.1.3\"\n"
          ]
        }
      ],
      "source": [
        "library(ggplot2) # library for plotting\n",
        "library(dplyr) # library for data wrangling\n",
        "library(ggExtra) # library for enhanced ggplot2 plots\n",
        "library(mvtnorm) # library for multivariate normal distribution\n",
        "library(tidyr) # library to reorganize data"
      ]
    },
    {
      "cell_type": "markdown",
      "metadata": {},
      "source": [
        "**Load Data**"
      ]
    },
    {
      "cell_type": "code",
      "execution_count": 3,
      "metadata": {
        "id": "3NfALqh66Jy0",
        "vscode": {
          "languageId": "r"
        }
      },
      "outputs": [
        {
          "name": "stdout",
          "output_type": "stream",
          "text": [
            "List of 3\n",
            " $ X   : num [1:1000, 1:11] 6.65 -5.63 9.72 -4.64 -12.84 ...\n",
            " $ Xval: num [1:100, 1:11] 18.27 -3.19 -5.26 12.95 3.76 ...\n",
            " $ yval: num [1:100, 1] 1 0 0 1 0 0 0 0 0 0 ...\n",
            " - attr(*, \"header\")=List of 3\n",
            "  ..$ description: chr \"MATLAB 5.0 MAT-file, Platform: GLNXA64, Created on: Thu Dec  1 23:12:48 2011                                                \"\n",
            "  ..$ version    : chr \"5\"\n",
            "  ..$ endian     : chr \"little\"\n"
          ]
        }
      ],
      "source": [
        "# Load RData file data2.RData\n",
        "load(url('https://tinyurl.com/527nxn23'))\n",
        "str(data2)"
      ]
    },
    {
      "cell_type": "markdown",
      "metadata": {},
      "source": [
        "### **Training Data and Validation Data**"
      ]
    },
    {
      "cell_type": "code",
      "execution_count": 4,
      "metadata": {
        "id": "a7KbwXXcK9lQ",
        "vscode": {
          "languageId": "r"
        }
      },
      "outputs": [
        {
          "data": {
            "text/html": [
              "<table class=\"dataframe\">\n",
              "<caption>A matrix: 5 × 11 of type dbl</caption>\n",
              "<tbody>\n",
              "\t<tr><td>  6.653114</td><td> 13.689702</td><td>17.552845</td><td>-11.933497</td><td> -5.756409</td><td>15.435921</td><td>-12.1367520</td><td> 8.2241226</td><td> -4.8840241</td><td> 5.3493353</td><td>17.351372352</td></tr>\n",
              "\t<tr><td> -5.630542</td><td>-18.937667</td><td>18.644624</td><td> -6.155825</td><td>-25.988864</td><td>15.409553</td><td>-16.5955163</td><td> 9.4546537</td><td> -2.8771734</td><td>-6.0094204</td><td>19.210636116</td></tr>\n",
              "\t<tr><td>  9.721525</td><td> -9.982489</td><td>15.571434</td><td>-32.224266</td><td> -5.595799</td><td>24.321383</td><td>  0.8327735</td><td>10.7945546</td><td>  0.7275748</td><td>10.3929750</td><td> 7.085994903</td></tr>\n",
              "\t<tr><td> -4.635766</td><td>-10.716040</td><td>20.356571</td><td> -9.002097</td><td> -4.920569</td><td>-4.261957</td><td> -1.3058288</td><td> 0.9499803</td><td> -8.6341066</td><td> 0.1984454</td><td> 0.006771413</td></tr>\n",
              "\t<tr><td>-12.841044</td><td>-20.388313</td><td> 9.491936</td><td> -7.038500</td><td> -9.921087</td><td>-3.716105</td><td> -9.3847304</td><td>-2.3255336</td><td>-13.5185624</td><td>11.0070290</td><td>14.003210283</td></tr>\n",
              "</tbody>\n",
              "</table>\n"
            ],
            "text/latex": [
              "A matrix: 5 × 11 of type dbl\n",
              "\\begin{tabular}{lllllllllll}\n",
              "\t   6.653114 &  13.689702 & 17.552845 & -11.933497 &  -5.756409 & 15.435921 & -12.1367520 &  8.2241226 &  -4.8840241 &  5.3493353 & 17.351372352\\\\\n",
              "\t  -5.630542 & -18.937667 & 18.644624 &  -6.155825 & -25.988864 & 15.409553 & -16.5955163 &  9.4546537 &  -2.8771734 & -6.0094204 & 19.210636116\\\\\n",
              "\t   9.721525 &  -9.982489 & 15.571434 & -32.224266 &  -5.595799 & 24.321383 &   0.8327735 & 10.7945546 &   0.7275748 & 10.3929750 &  7.085994903\\\\\n",
              "\t  -4.635766 & -10.716040 & 20.356571 &  -9.002097 &  -4.920569 & -4.261957 &  -1.3058288 &  0.9499803 &  -8.6341066 &  0.1984454 &  0.006771413\\\\\n",
              "\t -12.841044 & -20.388313 &  9.491936 &  -7.038500 &  -9.921087 & -3.716105 &  -9.3847304 & -2.3255336 & -13.5185624 & 11.0070290 & 14.003210283\\\\\n",
              "\\end{tabular}\n"
            ],
            "text/markdown": [
              "\n",
              "A matrix: 5 × 11 of type dbl\n",
              "\n",
              "|   6.653114 |  13.689702 | 17.552845 | -11.933497 |  -5.756409 | 15.435921 | -12.1367520 |  8.2241226 |  -4.8840241 |  5.3493353 | 17.351372352 |\n",
              "|  -5.630542 | -18.937667 | 18.644624 |  -6.155825 | -25.988864 | 15.409553 | -16.5955163 |  9.4546537 |  -2.8771734 | -6.0094204 | 19.210636116 |\n",
              "|   9.721525 |  -9.982489 | 15.571434 | -32.224266 |  -5.595799 | 24.321383 |   0.8327735 | 10.7945546 |   0.7275748 | 10.3929750 |  7.085994903 |\n",
              "|  -4.635766 | -10.716040 | 20.356571 |  -9.002097 |  -4.920569 | -4.261957 |  -1.3058288 |  0.9499803 |  -8.6341066 |  0.1984454 |  0.006771413 |\n",
              "| -12.841044 | -20.388313 |  9.491936 |  -7.038500 |  -9.921087 | -3.716105 |  -9.3847304 | -2.3255336 | -13.5185624 | 11.0070290 | 14.003210283 |\n",
              "\n"
            ],
            "text/plain": [
              "     [,1]       [,2]       [,3]      [,4]       [,5]       [,6]     \n",
              "[1,]   6.653114  13.689702 17.552845 -11.933497  -5.756409 15.435921\n",
              "[2,]  -5.630542 -18.937667 18.644624  -6.155825 -25.988864 15.409553\n",
              "[3,]   9.721525  -9.982489 15.571434 -32.224266  -5.595799 24.321383\n",
              "[4,]  -4.635766 -10.716040 20.356571  -9.002097  -4.920569 -4.261957\n",
              "[5,] -12.841044 -20.388313  9.491936  -7.038500  -9.921087 -3.716105\n",
              "     [,7]        [,8]       [,9]        [,10]      [,11]       \n",
              "[1,] -12.1367520  8.2241226  -4.8840241  5.3493353 17.351372352\n",
              "[2,] -16.5955163  9.4546537  -2.8771734 -6.0094204 19.210636116\n",
              "[3,]   0.8327735 10.7945546   0.7275748 10.3929750  7.085994903\n",
              "[4,]  -1.3058288  0.9499803  -8.6341066  0.1984454  0.006771413\n",
              "[5,]  -9.3847304 -2.3255336 -13.5185624 11.0070290 14.003210283"
            ]
          },
          "metadata": {},
          "output_type": "display_data"
        }
      ],
      "source": [
        "# Training data\n",
        "X_train = data2$X # training data as matrix (all samples here are non-anomalous)\n",
        "df_train = as.data.frame(X_train) # training data frame\n",
        "head(X_train, n = 5)"
      ]
    },
    {
      "cell_type": "code",
      "execution_count": 5,
      "metadata": {
        "id": "PHS_Ch7WLYE_",
        "vscode": {
          "languageId": "r"
        }
      },
      "outputs": [
        {
          "data": {
            "text/html": [
              "<table class=\"dataframe\">\n",
              "<caption>A matrix: 5 × 1 of type dbl</caption>\n",
              "<tbody>\n",
              "\t<tr><td>1</td></tr>\n",
              "\t<tr><td>0</td></tr>\n",
              "\t<tr><td>0</td></tr>\n",
              "\t<tr><td>1</td></tr>\n",
              "\t<tr><td>0</td></tr>\n",
              "</tbody>\n",
              "</table>\n"
            ],
            "text/latex": [
              "A matrix: 5 × 1 of type dbl\n",
              "\\begin{tabular}{l}\n",
              "\t 1\\\\\n",
              "\t 0\\\\\n",
              "\t 0\\\\\n",
              "\t 1\\\\\n",
              "\t 0\\\\\n",
              "\\end{tabular}\n"
            ],
            "text/markdown": [
              "\n",
              "A matrix: 5 × 1 of type dbl\n",
              "\n",
              "| 1 |\n",
              "| 0 |\n",
              "| 0 |\n",
              "| 1 |\n",
              "| 0 |\n",
              "\n"
            ],
            "text/plain": [
              "     [,1]\n",
              "[1,] 1   \n",
              "[2,] 0   \n",
              "[3,] 0   \n",
              "[4,] 1   \n",
              "[5,] 0   "
            ]
          },
          "metadata": {},
          "output_type": "display_data"
        }
      ],
      "source": [
        "# Validation data\n",
        "X_validate = data2$Xval # validation data as matrix\n",
        "y_validate = data2$yval # validation data labels\n",
        "df_validate = as.data.frame(X_validate) # validation data frame\n",
        "head(y_validate, n = 5) # 1 represents an outlier sample, 0 represents a regular sample"
      ]
    },
    {
      "cell_type": "markdown",
      "metadata": {},
      "source": [
        "- Below cell gives us fraction of servers that are outliers in the validation set.\n",
        "- Here 10% of the servers in the validation set are outliers.\n",
        "- Out of 1000 servers there would be approximately 100 servers who are outliers."
      ]
    },
    {
      "cell_type": "code",
      "execution_count": 6,
      "metadata": {
        "id": "8_3Xh3TUL_gQ",
        "vscode": {
          "languageId": "r"
        }
      },
      "outputs": [
        {
          "data": {
            "text/html": [
              "0.1"
            ],
            "text/latex": [
              "0.1"
            ],
            "text/markdown": [
              "0.1"
            ],
            "text/plain": [
              "[1] 0.1"
            ]
          },
          "metadata": {},
          "output_type": "display_data"
        }
      ],
      "source": [
        "# Fraction of servers that are outliers in the validation set\n",
        "mean(y_validate == 1)  # supervised algorithms have to address such class imbalance"
      ]
    },
    {
      "cell_type": "markdown",
      "metadata": {},
      "source": [
        "- Convert the dataframe to long dataframe.\n",
        "- "
      ]
    },
    {
      "cell_type": "code",
      "execution_count": 7,
      "metadata": {
        "id": "Zw3ZnpYB8fCG",
        "vscode": {
          "languageId": "r"
        }
      },
      "outputs": [
        {
          "data": {
            "text/html": [
              "<table class=\"dataframe\">\n",
              "<caption>A data.frame: 5 × 2</caption>\n",
              "<thead>\n",
              "\t<tr><th></th><th scope=col>Variable</th><th scope=col>Value</th></tr>\n",
              "\t<tr><th></th><th scope=col>&lt;chr&gt;</th><th scope=col>&lt;dbl&gt;</th></tr>\n",
              "</thead>\n",
              "<tbody>\n",
              "\t<tr><th scope=row>1</th><td>V1</td><td>  6.653114</td></tr>\n",
              "\t<tr><th scope=row>2</th><td>V1</td><td> -5.630542</td></tr>\n",
              "\t<tr><th scope=row>3</th><td>V1</td><td>  9.721525</td></tr>\n",
              "\t<tr><th scope=row>4</th><td>V1</td><td> -4.635766</td></tr>\n",
              "\t<tr><th scope=row>5</th><td>V1</td><td>-12.841044</td></tr>\n",
              "</tbody>\n",
              "</table>\n"
            ],
            "text/latex": [
              "A data.frame: 5 × 2\n",
              "\\begin{tabular}{r|ll}\n",
              "  & Variable & Value\\\\\n",
              "  & <chr> & <dbl>\\\\\n",
              "\\hline\n",
              "\t1 & V1 &   6.653114\\\\\n",
              "\t2 & V1 &  -5.630542\\\\\n",
              "\t3 & V1 &   9.721525\\\\\n",
              "\t4 & V1 &  -4.635766\\\\\n",
              "\t5 & V1 & -12.841044\\\\\n",
              "\\end{tabular}\n"
            ],
            "text/markdown": [
              "\n",
              "A data.frame: 5 × 2\n",
              "\n",
              "| <!--/--> | Variable &lt;chr&gt; | Value &lt;dbl&gt; |\n",
              "|---|---|---|\n",
              "| 1 | V1 |   6.653114 |\n",
              "| 2 | V1 |  -5.630542 |\n",
              "| 3 | V1 |   9.721525 |\n",
              "| 4 | V1 |  -4.635766 |\n",
              "| 5 | V1 | -12.841044 |\n",
              "\n"
            ],
            "text/plain": [
              "  Variable Value     \n",
              "1 V1         6.653114\n",
              "2 V1        -5.630542\n",
              "3 V1         9.721525\n",
              "4 V1        -4.635766\n",
              "5 V1       -12.841044"
            ]
          },
          "metadata": {},
          "output_type": "display_data"
        }
      ],
      "source": [
        "# Wide to long dataframe containing training data\n",
        "df_gather_train = gather(as.data.frame(X_train))\n",
        "colnames(df_gather_train) = c('Variable', 'Value')\n",
        "head(df_gather_train, n = 5)"
      ]
    },
    {
      "cell_type": "code",
      "execution_count": 8,
      "metadata": {
        "id": "tNVOUaLvMpMA",
        "vscode": {
          "languageId": "r"
        }
      },
      "outputs": [
        {
          "data": {
            "text/html": [
              "<table class=\"dataframe\">\n",
              "<caption>A data.frame: 5 × 2</caption>\n",
              "<thead>\n",
              "\t<tr><th></th><th scope=col>Variable</th><th scope=col>Value</th></tr>\n",
              "\t<tr><th></th><th scope=col>&lt;chr&gt;</th><th scope=col>&lt;dbl&gt;</th></tr>\n",
              "</thead>\n",
              "<tbody>\n",
              "\t<tr><th scope=row>1</th><td>V1</td><td>18.271283</td></tr>\n",
              "\t<tr><th scope=row>2</th><td>V1</td><td>-3.193070</td></tr>\n",
              "\t<tr><th scope=row>3</th><td>V1</td><td>-5.256678</td></tr>\n",
              "\t<tr><th scope=row>4</th><td>V1</td><td>12.953176</td></tr>\n",
              "\t<tr><th scope=row>5</th><td>V1</td><td> 3.763819</td></tr>\n",
              "</tbody>\n",
              "</table>\n"
            ],
            "text/latex": [
              "A data.frame: 5 × 2\n",
              "\\begin{tabular}{r|ll}\n",
              "  & Variable & Value\\\\\n",
              "  & <chr> & <dbl>\\\\\n",
              "\\hline\n",
              "\t1 & V1 & 18.271283\\\\\n",
              "\t2 & V1 & -3.193070\\\\\n",
              "\t3 & V1 & -5.256678\\\\\n",
              "\t4 & V1 & 12.953176\\\\\n",
              "\t5 & V1 &  3.763819\\\\\n",
              "\\end{tabular}\n"
            ],
            "text/markdown": [
              "\n",
              "A data.frame: 5 × 2\n",
              "\n",
              "| <!--/--> | Variable &lt;chr&gt; | Value &lt;dbl&gt; |\n",
              "|---|---|---|\n",
              "| 1 | V1 | 18.271283 |\n",
              "| 2 | V1 | -3.193070 |\n",
              "| 3 | V1 | -5.256678 |\n",
              "| 4 | V1 | 12.953176 |\n",
              "| 5 | V1 |  3.763819 |\n",
              "\n"
            ],
            "text/plain": [
              "  Variable Value    \n",
              "1 V1       18.271283\n",
              "2 V1       -3.193070\n",
              "3 V1       -5.256678\n",
              "4 V1       12.953176\n",
              "5 V1        3.763819"
            ]
          },
          "metadata": {},
          "output_type": "display_data"
        }
      ],
      "source": [
        "# Wide to long dataframe containing validation data\n",
        "df_gather_validate = gather(as.data.frame(X_validate))\n",
        "colnames(df_gather_validate) = c('Variable', 'Value')\n",
        "head(df_gather_validate, n = 5)"
      ]
    },
    {
      "cell_type": "markdown",
      "metadata": {},
      "source": [
        "###  **Distribution of Variables in Training and Validation Data**"
      ]
    },
    {
      "cell_type": "code",
      "execution_count": 11,
      "metadata": {
        "id": "qA7ylAiPNEFR",
        "vscode": {
          "languageId": "r"
        }
      },
      "outputs": [
        {
          "data": {
            "image/png": "[encoded data removed]",
            "text/plain": [
              "plot without title"
            ]
          },
          "metadata": {
            "image/png": {
              "height": 420,
              "width": 420
            }
          },
          "output_type": "display_data"
        }
      ],
      "source": [
        "# Separate density plots for each variable (or features) in the training data\n",
        "df_gather_train %>% ggplot(aes(x = Value, fill = Variable, color = Variable)) +\n",
        "geom_density(alpha = 0.3)+ggtitle('Distibution of variables from training data')\n",
        "\n",
        "# Separate density plots for each variable (or features) in the training data\n",
        "df_gather_train %>% ggplot(aes(x = Value, fill = Variable, color = Variable)) +\n",
        "geom_density(alpha = 0.3)+ggtitle('Distibution of variables from training data')\n",
        "\n",
        "\n"
      ]
    },
    {
      "cell_type": "markdown",
      "metadata": {},
      "source": [
        "**Which variable appears the least normally disributed?**\n",
        "- Hard to make out since all the plots are overlapping.\n",
        "- V11 appears the least normally distributed"
      ]
    },
    {
      "cell_type": "code",
      "execution_count": 12,
      "metadata": {
        "id": "67NCmd8L9AkD",
        "vscode": {
          "languageId": "r"
        }
      },
      "outputs": [
        {
          "data": {
            "image/png": "[encoded data removed]",
            "text/plain": [
              "plot without title"
            ]
          },
          "metadata": {
            "image/png": {
              "height": 420,
              "width": 420
            }
          },
          "output_type": "display_data"
        }
      ],
      "source": [
        "# Separate density plots for each variable (or features) in the validation data\n",
        "df_gather_validate %>% ggplot(aes(x = Value, fill = Variable, color = Variable)) +\n",
        "geom_density(alpha = 0.3)+ggtitle('Distibution of variables from validation data')\n",
        "\n",
        "# Which variable appears the least normally disributed?"
      ]
    },
    {
      "cell_type": "markdown",
      "metadata": {},
      "source": [
        "**Which variable appears the least normally disributed?**\n",
        "- V6 or V5 appears the least normally distributed"
      ]
    },
    {
      "cell_type": "code",
      "execution_count": 14,
      "metadata": {
        "id": "i6hhUDJCNazV",
        "vscode": {
          "languageId": "r"
        }
      },
      "outputs": [
        {
          "data": {
            "image/png": "[encoded data removed]",
            "text/plain": [
              "plot without title"
            ]
          },
          "metadata": {
            "image/png": {
              "height": 420,
              "width": 420
            }
          },
          "output_type": "display_data"
        }
      ],
      "source": [
        "# Make a scatter plot with the marginal densities for any pair of variables\n",
        "# in the training data\n",
        "\n",
        "p1 = ggplot(data = df_train, aes(x = V1, y = V2)) + \n",
        "geom_point(size = 2, alpha = 0.7) + xlab(\"Variable-1\") + \n",
        "   ylab(\"Variable-2\") + ggtitle(\"Scatter Plot\") +\n",
        "   coord_fixed(ratio = 1) +\n",
        "   stat_ellipse(level = 0.68, color = 'red')+\n",
        "   stat_ellipse(level = 0.95, color = 'green')+\n",
        "   stat_ellipse(level = 0.997, color = 'blue')\n",
        "\n",
        "# Add marginal histogram plot to the scatter plot \n",
        "delta =1\n",
        "ggMarginal(p1, type = 'histogram', color = 'black', binwidth = delta)\n",
        "\n",
        "# Add marginal density plot to the scatter plot\n",
        "ggMarginal(p1, type = 'density', color = 'cyan')"
      ]
    },
    {
      "cell_type": "code",
      "execution_count": 15,
      "metadata": {
        "id": "Qt_rO5iac7Sv",
        "vscode": {
          "languageId": "r"
        }
      },
      "outputs": [
        {
          "ename": "ERROR",
          "evalue": "Error in solve.default(cov(as.data.frame(cbind(X_train, 2 * X_train[, : system is computationally singular: reciprocal condition number = 1.32631e-17\n",
          "output_type": "error",
          "traceback": [
            "Error in solve.default(cov(as.data.frame(cbind(X_train, 2 * X_train[, : system is computationally singular: reciprocal condition number = 1.32631e-17\nTraceback:\n",
            "1. solve(cov(as.data.frame(cbind(X_train, 2 * X_train[, 11]))))",
            "2. solve.default(cov(as.data.frame(cbind(X_train, 2 * X_train[, \n .     11]))))"
          ]
        }
      ],
      "source": [
        "solve(cov(as.data.frame(cbind(X_train, 2*X_train[, 11]))))"
      ]
    },
    {
      "cell_type": "markdown",
      "metadata": {},
      "source": [
        "### **Building the Model**\n",
        "- Model built using sample mean and sample covariance matrix.\n",
        "- Convariance matrix is non invertible if the variables are linearly dependent.  "
      ]
    },
    {
      "cell_type": "code",
      "execution_count": 16,
      "metadata": {
        "id": "HiiqXXP-NruT",
        "vscode": {
          "languageId": "r"
        }
      },
      "outputs": [
        {
          "data": {
            "text/html": [
              "<style>\n",
              ".list-inline {list-style: none; margin:0; padding: 0}\n",
              ".list-inline>li {display: inline-block}\n",
              ".list-inline>li:not(:last-child)::after {content: \"\\00b7\"; padding: 0 .5ex}\n",
              "</style>\n",
              "<ol class=list-inline><li>4.93940034073788</li><li>-9.63726819392616</li><li>13.8147074884702</li><li>-10.4644887973333</li><li>-7.95622922394592</li><li>10.1995037233811</li><li>-6.01940754508661</li><li>7.96982895714062</li><li>-6.25318190076346</li><li>2.32451289494675</li><li>8.47372252365401</li></ol>\n"
            ],
            "text/latex": [
              "\\begin{enumerate*}\n",
              "\\item 4.93940034073788\n",
              "\\item -9.63726819392616\n",
              "\\item 13.8147074884702\n",
              "\\item -10.4644887973333\n",
              "\\item -7.95622922394592\n",
              "\\item 10.1995037233811\n",
              "\\item -6.01940754508661\n",
              "\\item 7.96982895714062\n",
              "\\item -6.25318190076346\n",
              "\\item 2.32451289494675\n",
              "\\item 8.47372252365401\n",
              "\\end{enumerate*}\n"
            ],
            "text/markdown": [
              "1. 4.93940034073788\n",
              "2. -9.63726819392616\n",
              "3. 13.8147074884702\n",
              "4. -10.4644887973333\n",
              "5. -7.95622922394592\n",
              "6. 10.1995037233811\n",
              "7. -6.01940754508661\n",
              "8. 7.96982895714062\n",
              "9. -6.25318190076346\n",
              "10. 2.32451289494675\n",
              "11. 8.47372252365401\n",
              "\n",
              "\n"
            ],
            "text/plain": [
              " [1]   4.939400  -9.637268  13.814707 -10.464489  -7.956229  10.199504\n",
              " [7]  -6.019408   7.969829  -6.253182   2.324513   8.473723"
            ]
          },
          "metadata": {},
          "output_type": "display_data"
        },
        {
          "data": {
            "text/html": [
              "<table class=\"dataframe\">\n",
              "<caption>A data.frame: 6 × 12</caption>\n",
              "<thead>\n",
              "\t<tr><th></th><th scope=col>V1</th><th scope=col>V2</th><th scope=col>V3</th><th scope=col>V4</th><th scope=col>V5</th><th scope=col>V6</th><th scope=col>V7</th><th scope=col>V8</th><th scope=col>V9</th><th scope=col>V10</th><th scope=col>V11</th><th scope=col>MD</th></tr>\n",
              "\t<tr><th></th><th scope=col>&lt;dbl&gt;</th><th scope=col>&lt;dbl&gt;</th><th scope=col>&lt;dbl&gt;</th><th scope=col>&lt;dbl&gt;</th><th scope=col>&lt;dbl&gt;</th><th scope=col>&lt;dbl&gt;</th><th scope=col>&lt;dbl&gt;</th><th scope=col>&lt;dbl&gt;</th><th scope=col>&lt;dbl&gt;</th><th scope=col>&lt;dbl&gt;</th><th scope=col>&lt;dbl&gt;</th><th scope=col>&lt;dbl&gt;</th></tr>\n",
              "</thead>\n",
              "<tbody>\n",
              "\t<tr><th scope=row>1</th><td>18.271283</td><td>-12.359268</td><td> 5.000970</td><td>  1.611472</td><td> 1.088592</td><td>29.314410</td><td> -8.313531</td><td>36.4383382</td><td> -9.4766787</td><td>-25.9281827</td><td> 7.108628</td><td>5.673373</td></tr>\n",
              "\t<tr><th scope=row>2</th><td>-3.193070</td><td>-19.705821</td><td> 6.528556</td><td>-21.570858</td><td> 3.050556</td><td>23.477503</td><td> -1.133420</td><td>12.6884094</td><td>-10.9683011</td><td> -1.1986661</td><td> 1.908441</td><td>3.517914</td></tr>\n",
              "\t<tr><th scope=row>3</th><td>-5.256678</td><td>-12.918720</td><td>25.435141</td><td> -7.231568</td><td> 3.647838</td><td>12.366550</td><td> -6.512076</td><td> 8.7509021</td><td> -0.7687545</td><td> -3.2610945</td><td>13.729474</td><td>2.911051</td></tr>\n",
              "\t<tr><th scope=row>4</th><td>12.953176</td><td>-10.350333</td><td>19.857858</td><td>-24.424608</td><td> 3.266105</td><td>30.445294</td><td>-11.125842</td><td>12.8156288</td><td>  9.3513545</td><td> -6.1136236</td><td>17.627375</td><td>4.592003</td></tr>\n",
              "\t<tr><th scope=row>5</th><td> 3.763819</td><td> -5.728187</td><td>11.400169</td><td>-17.555297</td><td>-6.246576</td><td>16.155969</td><td> -9.724758</td><td>16.9966156</td><td> -5.1686543</td><td>  0.1879945</td><td>11.401234</td><td>1.613877</td></tr>\n",
              "\t<tr><th scope=row>6</th><td>-8.701132</td><td> -5.139959</td><td>21.404200</td><td>-18.084270</td><td>-9.109825</td><td> 6.903168</td><td> -3.486003</td><td> 0.2738549</td><td> -7.5489155</td><td>  9.0570309</td><td> 2.890973</td><td>2.807131</td></tr>\n",
              "</tbody>\n",
              "</table>\n"
            ],
            "text/latex": [
              "A data.frame: 6 × 12\n",
              "\\begin{tabular}{r|llllllllllll}\n",
              "  & V1 & V2 & V3 & V4 & V5 & V6 & V7 & V8 & V9 & V10 & V11 & MD\\\\\n",
              "  & <dbl> & <dbl> & <dbl> & <dbl> & <dbl> & <dbl> & <dbl> & <dbl> & <dbl> & <dbl> & <dbl> & <dbl>\\\\\n",
              "\\hline\n",
              "\t1 & 18.271283 & -12.359268 &  5.000970 &   1.611472 &  1.088592 & 29.314410 &  -8.313531 & 36.4383382 &  -9.4766787 & -25.9281827 &  7.108628 & 5.673373\\\\\n",
              "\t2 & -3.193070 & -19.705821 &  6.528556 & -21.570858 &  3.050556 & 23.477503 &  -1.133420 & 12.6884094 & -10.9683011 &  -1.1986661 &  1.908441 & 3.517914\\\\\n",
              "\t3 & -5.256678 & -12.918720 & 25.435141 &  -7.231568 &  3.647838 & 12.366550 &  -6.512076 &  8.7509021 &  -0.7687545 &  -3.2610945 & 13.729474 & 2.911051\\\\\n",
              "\t4 & 12.953176 & -10.350333 & 19.857858 & -24.424608 &  3.266105 & 30.445294 & -11.125842 & 12.8156288 &   9.3513545 &  -6.1136236 & 17.627375 & 4.592003\\\\\n",
              "\t5 &  3.763819 &  -5.728187 & 11.400169 & -17.555297 & -6.246576 & 16.155969 &  -9.724758 & 16.9966156 &  -5.1686543 &   0.1879945 & 11.401234 & 1.613877\\\\\n",
              "\t6 & -8.701132 &  -5.139959 & 21.404200 & -18.084270 & -9.109825 &  6.903168 &  -3.486003 &  0.2738549 &  -7.5489155 &   9.0570309 &  2.890973 & 2.807131\\\\\n",
              "\\end{tabular}\n"
            ],
            "text/markdown": [
              "\n",
              "A data.frame: 6 × 12\n",
              "\n",
              "| <!--/--> | V1 &lt;dbl&gt; | V2 &lt;dbl&gt; | V3 &lt;dbl&gt; | V4 &lt;dbl&gt; | V5 &lt;dbl&gt; | V6 &lt;dbl&gt; | V7 &lt;dbl&gt; | V8 &lt;dbl&gt; | V9 &lt;dbl&gt; | V10 &lt;dbl&gt; | V11 &lt;dbl&gt; | MD &lt;dbl&gt; |\n",
              "|---|---|---|---|---|---|---|---|---|---|---|---|---|\n",
              "| 1 | 18.271283 | -12.359268 |  5.000970 |   1.611472 |  1.088592 | 29.314410 |  -8.313531 | 36.4383382 |  -9.4766787 | -25.9281827 |  7.108628 | 5.673373 |\n",
              "| 2 | -3.193070 | -19.705821 |  6.528556 | -21.570858 |  3.050556 | 23.477503 |  -1.133420 | 12.6884094 | -10.9683011 |  -1.1986661 |  1.908441 | 3.517914 |\n",
              "| 3 | -5.256678 | -12.918720 | 25.435141 |  -7.231568 |  3.647838 | 12.366550 |  -6.512076 |  8.7509021 |  -0.7687545 |  -3.2610945 | 13.729474 | 2.911051 |\n",
              "| 4 | 12.953176 | -10.350333 | 19.857858 | -24.424608 |  3.266105 | 30.445294 | -11.125842 | 12.8156288 |   9.3513545 |  -6.1136236 | 17.627375 | 4.592003 |\n",
              "| 5 |  3.763819 |  -5.728187 | 11.400169 | -17.555297 | -6.246576 | 16.155969 |  -9.724758 | 16.9966156 |  -5.1686543 |   0.1879945 | 11.401234 | 1.613877 |\n",
              "| 6 | -8.701132 |  -5.139959 | 21.404200 | -18.084270 | -9.109825 |  6.903168 |  -3.486003 |  0.2738549 |  -7.5489155 |   9.0570309 |  2.890973 | 2.807131 |\n",
              "\n"
            ],
            "text/plain": [
              "  V1        V2         V3        V4         V5        V6        V7        \n",
              "1 18.271283 -12.359268  5.000970   1.611472  1.088592 29.314410  -8.313531\n",
              "2 -3.193070 -19.705821  6.528556 -21.570858  3.050556 23.477503  -1.133420\n",
              "3 -5.256678 -12.918720 25.435141  -7.231568  3.647838 12.366550  -6.512076\n",
              "4 12.953176 -10.350333 19.857858 -24.424608  3.266105 30.445294 -11.125842\n",
              "5  3.763819  -5.728187 11.400169 -17.555297 -6.246576 16.155969  -9.724758\n",
              "6 -8.701132  -5.139959 21.404200 -18.084270 -9.109825  6.903168  -3.486003\n",
              "  V8         V9          V10         V11       MD      \n",
              "1 36.4383382  -9.4766787 -25.9281827  7.108628 5.673373\n",
              "2 12.6884094 -10.9683011  -1.1986661  1.908441 3.517914\n",
              "3  8.7509021  -0.7687545  -3.2610945 13.729474 2.911051\n",
              "4 12.8156288   9.3513545  -6.1136236 17.627375 4.592003\n",
              "5 16.9966156  -5.1686543   0.1879945 11.401234 1.613877\n",
              "6  0.2738549  -7.5489155   9.0570309  2.890973 2.807131"
            ]
          },
          "metadata": {},
          "output_type": "display_data"
        }
      ],
      "source": [
        "## Build model using training data \n",
        "mu_train = colMeans(X_train) # sample column mean using training data\n",
        "mu_train\n",
        "S_train = cov(as.data.frame(X_train)) # sample covariance matrix using training data\n",
        "S_train_inverse = solve(S_train)  # inverse of sample covariance matrix from training data\n",
        "\n",
        "# # Mahalanobis distance of training samples\n",
        "M_distance_train = apply(X_train, 1, function(x){sqrt(t(x-mu_train) %*% S_train_inverse %*% (x-mu_train))})\n",
        "\n",
        "# # Mahalanobis distance of validation samples using model built using training data\n",
        "M_distance_validate = apply(X_validate, 1, function(x){sqrt(t(x-mu_train) %*% S_train_inverse %*% (x-mu_train))})\n",
        "\n",
        "# # Add Mahalanobis distance as new column of training and validation data frame\n",
        "df_train$MD = M_distance_train\n",
        "df_validate$MD = M_distance_validate\n",
        "\n",
        "head(df_validate)"
      ]
    },
    {
      "cell_type": "markdown",
      "metadata": {},
      "source": [
        "### **Evaluating the Model**\n",
        "- Model is evaluated with the help of confusion matrix\n",
        "- **True Positive (TP):** Model correctly predicts the positive class.\n",
        "- **False Positive (FP):** Model incorrectly predicts the positive class.\n",
        "- **True Negative (TN):** Model correctly predicts the negative class.\n",
        "- **False Negative (FN):** Model incorrectly predicts the negative class.\n",
        "\n",
        "#### **Accuracy**\n",
        "- Accuracy = (TP + TN)/(TP+TN+FP+FN)\n",
        "- Not a good metric when the data is biased.\n",
        "\n",
        "#### **Precision**\n",
        "- Precision = TP/(TP + FP)\n",
        "- Out of all the positive predictions how many were actually correct.\n",
        "\n",
        "#### **Recall**\n",
        "- Recall = TP / (TP + FN)\n",
        "- How many actual positives were identified correctly."
      ]
    },
    {
      "cell_type": "code",
      "execution_count": 17,
      "metadata": {
        "id": "h94T0U7mOCYX",
        "vscode": {
          "languageId": "r"
        }
      },
      "outputs": [
        {
          "name": "stdout",
          "output_type": "stream",
          "text": [
            "For probability cutoff = 0.960000, \n",
            "Precision = 0.777778,\n",
            "Recall = 0.700000,\n",
            "F1 score = 0.736842,\n",
            "Fraction of outliers in training data = 0.674000\n"
          ]
        }
      ],
      "source": [
        "## Determine cutoff probability such that we get the best performance on the validation set\n",
        "## Best performance corresponds to, for example, the best F1 score (close to 1)\n",
        "\n",
        "# Add a new column to training and validation data frame for outliers\n",
        "k = ncol(X_train) # dimensions or the number of features(11)\n",
        "j = 1 # vary this to change cutoff probability\n",
        "cutoff_probability = 0.96 #1-(10^(-j))  #threshold for ROC curve\n",
        "MD_cutoff = qchisq(cutoff_probability, k) # threshold for Mahalanobis distance\n",
        "df_train$Outliers = ((df_train)^2 >= MD_cutoff)\n",
        "df_validate$Outliers = ((df_validate$MD)^2 >= MD_cutoff)\n",
        "\n",
        "# True positives\n",
        "tp = sum((df_validate$Outliers == 'TRUE') & (y_validate == 1))\n",
        "# False positives\n",
        "fp = sum((df_validate$Outliers == 'TRUE') & (y_validate == 0))\n",
        "# False negatives\n",
        "fn = sum((df_validate$Outliers == 'FALSE') & (y_validate == 1))\n",
        "# Precision\n",
        "precision = tp / (tp + fp)\n",
        "# Recall\n",
        "recall = tp / (tp + fn)\n",
        "# F1 score\n",
        "F1 = (2 * precision * recall) / (precision + recall)\n",
        "#cat(sprintf('Threshold = %f\\n', threshold))\n",
        "cat(sprintf('For probability cutoff = %f, \\nPrecision = %f,\\nRecall = %f,\\nF1 score = %f,\\nFraction of outliers in training data = %f\\n', cutoff_probability, precision, recall, F1,mean(df_train$Outliers == 'TRUE')))"
      ]
    },
    {
      "cell_type": "code",
      "execution_count": 20,
      "metadata": {
        "vscode": {
          "languageId": "r"
        }
      },
      "outputs": [
        {
          "name": "stdout",
          "output_type": "stream",
          "text": [
            "tp fp prec = 10.000000 90.000000 0.100000\n",
            "tp fp prec = 10.000000 87.000000 0.103093\n",
            "tp fp prec = 10.000000 80.000000 0.111111\n",
            "tp fp prec = 10.000000 74.000000 0.119048\n",
            "tp fp prec = 10.000000 69.000000 0.126582\n",
            "tp fp prec = 10.000000 62.000000 0.138889\n",
            "tp fp prec = 10.000000 55.000000 0.153846\n",
            "tp fp prec = 10.000000 49.000000 0.169492\n",
            "tp fp prec = 10.000000 44.000000 0.185185\n",
            "tp fp prec = 10.000000 42.000000 0.192308\n",
            "tp fp prec = 10.000000 38.000000 0.208333\n",
            "tp fp prec = 10.000000 35.000000 0.222222\n",
            "tp fp prec = 9.000000 32.000000 0.219512\n",
            "tp fp prec = 9.000000 27.000000 0.250000\n",
            "tp fp prec = 9.000000 23.000000 0.281250\n",
            "tp fp prec = 9.000000 17.000000 0.346154\n",
            "tp fp prec = 8.000000 15.000000 0.347826\n",
            "tp fp prec = 8.000000 14.000000 0.363636\n",
            "tp fp prec = 8.000000 10.000000 0.444444\n",
            "tp fp prec = 7.000000 3.000000 0.700000\n"
          ]
        },
        {
          "data": {
            "image/png": "[encoded data removed]",
            "text/plain": [
              "plot without title"
            ]
          },
          "metadata": {
            "image/png": {
              "height": 420,
              "width": 420
            }
          },
          "output_type": "display_data"
        }
      ],
      "source": [
        "cutoff_probability = seq(0, 0.99, by = 0.05)\n",
        "sens = c()\n",
        "fpr = c()\n",
        "precision = c()\n",
        "recall = c()\n",
        "fs = c()\n",
        "\n",
        "for (x in cutoff_probability) {\n",
        "  k = ncol(X_train)\n",
        "\n",
        "  MD_cutoff = qchisq(x, k) # threshold for Mahalanobis distance\n",
        "  df_train$Outliers = ((df_train)^2 >= MD_cutoff)\n",
        "  df_validate$Outliers = ((df_validate$MD)^2 >= MD_cutoff)\n",
        "\n",
        "  # True positives\n",
        "  tp = sum((df_validate$Outliers == 'TRUE') & (y_validate == 1))\n",
        "  # False positives\n",
        "  fp = sum((df_validate$Outliers == 'TRUE') & (y_validate == 0))\n",
        "  # False negatives\n",
        "  fn = sum((df_validate$Outliers == 'FALSE') & (y_validate == 1))\n",
        "  # True Negative\n",
        "  tn = sum((df_validate$Outliers == 'FALSE') & (y_validate == 0))\n",
        "  #cat(sprintf('thresh = %f\\n', x))\n",
        "  Sensitivty = tp/ (tp+fn)\n",
        "  #cat(sprintf('Sensitivty = %f\\n', Sensitivty))\n",
        "  FPR = fp/ (tn+fp)\n",
        "  # cat(sprintf('FPR = %f\\n', FPR))\n",
        "  Precision = tp / (tp + fp)\n",
        "  Precision\n",
        "  Recall = tp / (tp + fn)\n",
        "  F1_score = (2*Precision*Recall)/(Precision + Recall)\n",
        "  fs <- c(fs, F1_score)\n",
        "  cat(sprintf('tp fp prec = %f %f %f\\n', tp, fp, Precision))\n",
        "  sens <- c(sens, Sensitivty)\n",
        "  fpr <- c(fpr, FPR)\n",
        "  precision <- c(precision, Precision)\n",
        "  recall <- c(recall, Recall)\n",
        "}\n",
        "\n",
        "\n",
        "plot(fpr,sens,type=\"l\",col=\"red\")"
      ]
    },
    {
      "cell_type": "markdown",
      "metadata": {},
      "source": [
        "(1) You have created a model that will identify existing customers who will potentially agree to buy a credit card from your bank. Your sales team uses your model to identify potential customers and calls them as it is not possible to call all the customers individually.\n",
        "\n",
        "(2) You have created a model that will predict if a person will have Sternal Osteomyelitis which is a very rare disease (which I had at some point in my life!). Your medical team will test that model on the ground soon.\n",
        "\n",
        "In each scenario, which would be more important: precision or recall? "
      ]
    },
    {
      "cell_type": "markdown",
      "metadata": {},
      "source": [
        "- Scenario 1 :  We don't want to misclassify potential buyer as someone who wouldn't buy credit card. So in this scenario model with high recall is preferred.\n",
        "- Low precision would imply that we would be spending our resources on people who aren't interested in buying the credit card.\n",
        "- Low recall would mean that we are losing potential customers because of misclassification."
      ]
    },
    {
      "cell_type": "markdown",
      "metadata": {},
      "source": [
        "- Scenario 2 : In this scenario we want a model with high recall so that it does not misclassify person with rare disease.\n",
        "- Many number of people who have rare disease may be classified as not sick if model has low recall.\n",
        "- Low precision would mean that only small fraction of people for whom the test result is positive will actually have the disease."
      ]
    },
    {
      "cell_type": "code",
      "execution_count": null,
      "metadata": {
        "vscode": {
          "languageId": "r"
        }
      },
      "outputs": [],
      "source": []
    }
  ],
  "metadata": {
    "colab": {
      "collapsed_sections": [],
      "name": "AML5201_MultivariateOutlierDetection_R.ipynb",
      "provenance": []
    },
    "kernelspec": {
      "display_name": "R",
      "language": "R",
      "name": "ir"
    },
    "language_info": {
      "codemirror_mode": "r",
      "file_extension": ".r",
      "mimetype": "text/x-r-source",
      "name": "R",
      "pygments_lexer": "r",
      "version": "4.1.1"
    }
  },
  "nbformat": 4,
  "nbformat_minor": 0
}
