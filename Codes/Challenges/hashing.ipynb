{
 "cells": [
  {
   "cell_type": "markdown",
   "metadata": {},
   "source": [
    "## **Hashing Problem**"
   ]
  },
  {
   "cell_type": "code",
   "execution_count": 1,
   "metadata": {},
   "outputs": [
    {
     "data": {
      "text/html": [
       "0.214999"
      ],
      "text/latex": [
       "0.214999"
      ],
      "text/markdown": [
       "0.214999"
      ],
      "text/plain": [
       "[1] 0.214999"
      ]
     },
     "metadata": {},
     "output_type": "display_data"
    }
   ],
   "source": [
    "#number of strings and buckets\n",
    "nstrings = 6\n",
    "nbuckets = 5\n",
    "\n",
    "#String array\n",
    "strings = 1:nstrings\n",
    "#probability of hashing a string to a specific bin\n",
    "s <- c(1,2, 3, 4, 5)\n",
    "p <- c(0.1, 0.25, 0.3, 0.25, 0.1)\n",
    "\n",
    "\n",
    "#hash strings to bucket\n",
    "hashStrings <- function() {\n",
    "    #Create a nstrings x nbuckets 0 matrix\n",
    "    bucket_matrix = matrix(0,nbuckets,nstrings)\n",
    "    for(string  in 1:nstrings){\n",
    "    bucket = sample(s,size=1,replace=TRUE)\n",
    "    bucket_matrix[bucket,string] = 1\n",
    "    }\n",
    "    return(rowSums(bucket_matrix))\n",
    "\n",
    "}\n",
    "\n",
    "nsimulations = 1e6\n",
    "simulatedData = replicate(nsimulations,hashStrings())\n",
    "#simulatedData\n",
    "checkEventBucket = function(data) {\n",
    "    for(i in 1:4 ){\n",
    "        if(data[i] == 0)\n",
    "        {\n",
    "            return(0)\n",
    "        }\n",
    "    }\n",
    "    return(1)\n",
    "}\n",
    "\n",
    "mean(apply(simulatedData,2,checkEventBucket))\n",
    "\n"
   ]
  },
  {
   "cell_type": "code",
   "execution_count": 2,
   "metadata": {},
   "outputs": [
    {
     "data": {
      "text/html": [
       "0.217164"
      ],
      "text/latex": [
       "0.217164"
      ],
      "text/markdown": [
       "0.217164"
      ],
      "text/plain": [
       "[1] 0.217164"
      ]
     },
     "metadata": {},
     "output_type": "display_data"
    }
   ],
   "source": [
    "#number of strings and buckets\n",
    "nstrings = 6\n",
    "nbuckets = 5\n",
    "\n",
    "#probability of hashing a string to a specific bin\n",
    "s = c(1,2,3,4,5)\n",
    "p = c(0.1,0.25,0.3,0.25,0.1)\n",
    "\n",
    "nsimulations = 1e6\n",
    "\n",
    "simulatedData = replicate(nsimulations,sample(s,size=6,replace = TRUE, prob = p))\n",
    "\n",
    "checkEvent = function(data) {\n",
    "    for(i in 1:4){\n",
    "        if(i %in% data)\n",
    "        {\n",
    "            next\n",
    "        }\n",
    "        else {\n",
    "           return(0)\n",
    "        }\n",
    "    }\n",
    "    return(1)\n",
    "}\n",
    "\n",
    "mean(apply(simulatedData,2,checkEvent))"
   ]
  },
  {
   "cell_type": "code",
   "execution_count": null,
   "metadata": {},
   "outputs": [],
   "source": []
  }
 ],
 "metadata": {
  "kernelspec": {
   "display_name": "R",
   "language": "R",
   "name": "ir"
  },
  "language_info": {
   "codemirror_mode": "r",
   "file_extension": ".r",
   "mimetype": "text/x-r-source",
   "name": "R",
   "pygments_lexer": "r",
   "version": "4.1.1"
  },
  "orig_nbformat": 4
 },
 "nbformat": 4,
 "nbformat_minor": 2
}
