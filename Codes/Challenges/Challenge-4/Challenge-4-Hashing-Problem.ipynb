{
 "cells": [
  {
   "cell_type": "code",
   "execution_count": 7,
   "metadata": {},
   "outputs": [
    {
     "data": {
      "text/html": [
       "<style>\n",
       ".list-inline {list-style: none; margin:0; padding: 0}\n",
       ".list-inline>li {display: inline-block}\n",
       ".list-inline>li:not(:last-child)::after {content: \"\\00b7\"; padding: 0 .5ex}\n",
       "</style>\n",
       "<ol class=list-inline><li>0.166666666666667</li><li>0.166666666666667</li><li>0.166666666666667</li><li>0.166666666666667</li><li>0.166666666666667</li><li>0.166666666666667</li></ol>\n"
      ],
      "text/latex": [
       "\\begin{enumerate*}\n",
       "\\item 0.166666666666667\n",
       "\\item 0.166666666666667\n",
       "\\item 0.166666666666667\n",
       "\\item 0.166666666666667\n",
       "\\item 0.166666666666667\n",
       "\\item 0.166666666666667\n",
       "\\end{enumerate*}\n"
      ],
      "text/markdown": [
       "1. 0.166666666666667\n",
       "2. 0.166666666666667\n",
       "3. 0.166666666666667\n",
       "4. 0.166666666666667\n",
       "5. 0.166666666666667\n",
       "6. 0.166666666666667\n",
       "\n",
       "\n"
      ],
      "text/plain": [
       "[1] 0.1666667 0.1666667 0.1666667 0.1666667 0.1666667 0.1666667"
      ]
     },
     "metadata": {},
     "output_type": "display_data"
    },
    {
     "ename": "ERROR",
     "evalue": "Error in name(x) = c(\"hello\"): could not find function \"name<-\"\n",
     "output_type": "error",
     "traceback": [
      "Error in name(x) = c(\"hello\"): could not find function \"name<-\"\nTraceback:\n"
     ]
    }
   ],
   "source": [
    "#Strings\n",
    "nstrings = 6\n",
    "\n",
    "#buckets\n",
    "nbuckets = 5\n",
    "\n",
    "#sampling space for n strings\n",
    "s = c(1:nstrings)\n",
    "p = 1/nstrings * replicate(nstrings,1)\n",
    "p\n",
    "simulatedData  = sample(s,size = nbuckets, replace = FALSE, prob = p)\n",
    "\n",
    "getBucket = function(data)\n",
    "{\n",
    "\n",
    "}\n",
    "\n",
    "x = list(1:10)\n",
    "name(x) = c(\"hello\")"
   ]
  },
  {
   "cell_type": "code",
   "execution_count": null,
   "metadata": {},
   "outputs": [],
   "source": []
  }
 ],
 "metadata": {
  "kernelspec": {
   "display_name": "R",
   "language": "R",
   "name": "ir"
  },
  "language_info": {
   "codemirror_mode": "r",
   "file_extension": ".r",
   "mimetype": "text/x-r-source",
   "name": "R",
   "pygments_lexer": "r",
   "version": "4.1.1"
  },
  "orig_nbformat": 4
 },
 "nbformat": 4,
 "nbformat_minor": 2
}
