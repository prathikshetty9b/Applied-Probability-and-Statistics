{
  "nbformat": 4,
  "nbformat_minor": 0,
  "metadata": {
    "kernelspec": {
      "display_name": "R",
      "language": "R",
      "name": "ir"
    },
    "language_info": {
      "codemirror_mode": "r",
      "file_extension": ".r",
      "mimetype": "text/x-r-source",
      "name": "R",
      "pygments_lexer": "r",
      "version": "3.3.1"
    },
    "colab": {
      "name": "AML5201_LabInternalExam_R.ipynb",
      "provenance": [],
      "collapsed_sections": []
    }
  },
  "cells": [
    {
      "cell_type": "markdown",
      "source": [
        "**AML 5201 - Applied Probability and Statistics**\n",
        "\n",
        "**Lab Internal Exam (40 points)**\n",
        "\n",
        "**Friday, May 27, 2022, 2:30-4:00 PM**\n",
        "\n",
        "\n",
        "---\n",
        "\n",
        "\n",
        "\n",
        "Upload the following using the naming convention example \"SudarsanAcharya_AIML_123456\":\n",
        "\n",
        "1.   The .ipynb file clearly showing the output cells;\n",
        "2.   A PDF of the .ipynb file.\n",
        "\n",
        "Click [here](https://tinyurl.com/yc84t5vj/) for upload link."
      ],
      "metadata": {
        "id": "QN8EcNAyG8fa"
      }
    },
    {
      "cell_type": "code",
      "metadata": {
        "id": "nTmGOkPXZjUv"
      },
      "source": [
        "# Install and load packages\n",
        "library(ggplot2)\n",
        "library(dplyr)\n",
        "install.packages('HSAUR')\n",
        "library(HSAUR)"
      ],
      "execution_count": null,
      "outputs": []
    },
    {
      "cell_type": "code",
      "source": [
        "# Load the heptathlon dataset\n",
        "data(heptathlon)\n",
        "str(heptathlon)"
      ],
      "metadata": {
        "id": "mOQvB1t6Hp_x"
      },
      "execution_count": null,
      "outputs": []
    },
    {
      "cell_type": "code",
      "source": [
        "# Introduce a new column called sprint highlighting slow and fast sprinters\n",
        "heptathlon = heptathlon %>% mutate(sprint = ifelse(run200m <= 25 & run800m <= 129, 'fast', 'slow'))\n",
        "\n",
        "# Change sprint column to factor type\n",
        "heptathlon['sprint'] = lapply(heptathlon['sprint'], factor)"
      ],
      "metadata": {
        "id": "_KkksHnpKdQD"
      },
      "execution_count": null,
      "outputs": []
    },
    {
      "cell_type": "code",
      "source": [
        "# Print the first few rows of the dataframe\n",
        "head(heptathlon)"
      ],
      "metadata": {
        "id": "mKleqaDbLK_G"
      },
      "execution_count": null,
      "outputs": []
    },
    {
      "cell_type": "markdown",
      "source": [
        "**Question-1**: Make a scatter plot between *run200m* (x-axis) and *longjump* (y-axis). What do you observe from this plot?"
      ],
      "metadata": {
        "id": "X0JnrB1UJcjl"
      }
    },
    {
      "cell_type": "code",
      "source": [
        "p1 = ggplot(data = ?, aes(? = ?, y = ?)) +\n",
        "  geom_?() \n",
        "p1"
      ],
      "metadata": {
        "id": "rjdqXy86JSSM"
      },
      "execution_count": null,
      "outputs": []
    },
    {
      "cell_type": "markdown",
      "source": [
        "**Question-2**: Make a scatter plot between *run200m* (x-axis) and *longjump* (y-axis) with the data points color-coded using *sprint*. What do you observe from this plot?"
      ],
      "metadata": {
        "id": "GaQ8rXKQKJ_O"
      }
    },
    {
      "cell_type": "code",
      "source": [
        "p2 = ? \n",
        "p2"
      ],
      "metadata": {
        "id": "AGF9jdnjLbnu"
      },
      "execution_count": null,
      "outputs": []
    },
    {
      "cell_type": "markdown",
      "source": [
        "**Question-3**: Calculate Pearson's correlation between *run200m* and *longjump*. What do you observe?"
      ],
      "metadata": {
        "id": "5JKmt399M7bN"
      }
    },
    {
      "cell_type": "code",
      "source": [
        "cor(heptathlon$?, ?$longjump, method = 'pearson')"
      ],
      "metadata": {
        "id": "wlSz_6lINFD4"
      },
      "execution_count": null,
      "outputs": []
    },
    {
      "cell_type": "markdown",
      "source": [
        "**Question-4**: Select data frame without *sprint* and *score* columns."
      ],
      "metadata": {
        "id": "1MAM0idRNXie"
      }
    },
    {
      "cell_type": "code",
      "source": [
        "hData = heptathlon %>% ?(-c(?))"
      ],
      "metadata": {
        "id": "ZJXS0TzrNc9h"
      },
      "execution_count": null,
      "outputs": []
    },
    {
      "cell_type": "markdown",
      "source": [
        "**Question 5**: From the output of the cell below, answer the following questions:\n",
        "\n",
        "1. Which principal component assigns the greatest weight (in magnitude) to *run200m*? \n",
        "2. Which principal component assigns the greatest weight (in magnitude) to *longjump*? \n",
        "3. *True/false*: the 2nd principal component score for a sample assigns a maximum weight to *javelin*.\n",
        "4. The 1st principal component assigns the least weight (in magnitude) to which feature?"
      ],
      "metadata": {
        "id": "d2x4IksuN86o"
      }
    },
    {
      "cell_type": "code",
      "source": [
        "# Calculate eigenvalues & eigenvectors of sample covariance matrix\n",
        "e = eigen(cov(hData)) \n",
        "\n",
        "# Eigenvectors of the sample covariance matrix\n",
        "u =e$vectors\n",
        "\n",
        "# Eigenvalues of the sample covariance matrix\n",
        "lambda = e$values\n",
        "\n",
        "# Extract data matrix from data frame\n",
        "X = as.matrix(hData)\n",
        "\n",
        "# Print first sample\n",
        "print(X[1, ]) \n",
        "\n",
        "# Print the first 3 eigenvectors or principal directions\n",
        "print(u[, 1:3]) "
      ],
      "metadata": {
        "id": "WMIxdyl_OQ1b"
      },
      "execution_count": null,
      "outputs": []
    },
    {
      "cell_type": "markdown",
      "source": [
        "**Question-6**: Explain the output of the cell below?"
      ],
      "metadata": {
        "id": "HRiUYbSiPiQq"
      }
    },
    {
      "cell_type": "code",
      "source": [
        "print(X %*% u[, 1])"
      ],
      "metadata": {
        "id": "v216Px9jPqZ2"
      },
      "execution_count": null,
      "outputs": []
    },
    {
      "cell_type": "markdown",
      "source": [
        "**Question-7**: Explain the output of the cell below?"
      ],
      "metadata": {
        "id": "NSzTWi0NQNGM"
      }
    },
    {
      "cell_type": "code",
      "source": [
        "print(var(X %*% u[, 1])) "
      ],
      "metadata": {
        "id": "vUEfeajtQPhf"
      },
      "execution_count": null,
      "outputs": []
    },
    {
      "cell_type": "markdown",
      "source": [
        "**Question-8**: How many minimum principal components are needed to explain more than 90% of the variance in the data? In one line, explain how you could use the corresponding principal component scores (projected values) to get a final score for each athlete so that they can be ranked."
      ],
      "metadata": {
        "id": "eFJrGA4nQsME"
      }
    },
    {
      "cell_type": "code",
      "source": [
        "?"
      ],
      "metadata": {
        "id": "eTb9yhcuQv_i"
      },
      "execution_count": null,
      "outputs": []
    },
    {
      "cell_type": "markdown",
      "source": [
        "**Question 9**: how many levels does the categorical variable *sprint* have? What is the reference level? "
      ],
      "metadata": {
        "id": "KjevgCitSqkt"
      }
    },
    {
      "cell_type": "code",
      "source": [
        "?(?$?)"
      ],
      "metadata": {
        "id": "osbFtC2ZTBGd"
      },
      "execution_count": null,
      "outputs": []
    },
    {
      "cell_type": "markdown",
      "source": [
        "**Question 10**: fit a linear model for approximating *score* as a function of *shot* and *sprint*. Print the model's summary. How accurate is the model?"
      ],
      "metadata": {
        "id": "8TfmUgYmTTop"
      }
    },
    {
      "cell_type": "code",
      "source": [
        "model = lm(data = ?, ? ~ ?)\n",
        "summary(model)"
      ],
      "metadata": {
        "id": "TXNGUyWjTrN9"
      },
      "execution_count": null,
      "outputs": []
    },
    {
      "cell_type": "markdown",
      "source": [
        "**Question 11**: fit a linear model for approximating *score* as a function of *shot*, *javelin*, and *sprint*. Print the model's summary and answer the following questions:\n",
        "\n",
        "1. Did the addition of the new predictor *javelin* imporve the model accuracy? \n",
        "2. *True/false* (explain in one line): the model suggests that there is a possible linear relationship between an athlete's score and javelin performance.\n",
        "3. For a 1 metre increase in shot put throw and with the same javelin and sprint performance, we can say with 95% confidence that the athlete's score will increase/decrease by an amount in the interval [?, ?]."
      ],
      "metadata": {
        "id": "aK_TiMibWhi_"
      }
    },
    {
      "cell_type": "code",
      "source": [
        "?"
      ],
      "metadata": {
        "id": "fiFG9GL-WKj3"
      },
      "execution_count": null,
      "outputs": []
    },
    {
      "cell_type": "markdown",
      "source": [
        "**Question 12**: fit a linear model for approximating *score* as a function of *highjump*, and *sprint*. Print the model's summary and answer the following questions:\n",
        "1. How accurate is this model?\n",
        "2. Considering a p-value of 10% as cutoff, are there any insignificant features?"
      ],
      "metadata": {
        "id": "zhGiXlKiaRSv"
      }
    },
    {
      "cell_type": "code",
      "source": [
        "?"
      ],
      "metadata": {
        "id": "VE246Jl-aXmp"
      },
      "execution_count": null,
      "outputs": []
    },
    {
      "cell_type": "markdown",
      "source": [
        "**Question 13**: Using the model built above, extract the slope and intercept for estimating the *score* of *slow* and *fast* athletes. It would be helpful to start with the regression equation $\\hat{y}^{(i)} = \\hat{\\beta}_0 + \\hat{\\beta}_1x_1^{(i)} + \\hat{\\beta}_2x_2^{(i)},$ and then write two separate equations for *slow* and *fast* athletes."
      ],
      "metadata": {
        "id": "RVWY6flOX1Ds"
      }
    },
    {
      "cell_type": "code",
      "source": [
        "intercept_slow = coef(model)[?]\n",
        "intercept_fast = ? + ?\n",
        "\n",
        "slope_slow = ?\n",
        "slope_fast = ?"
      ],
      "metadata": {
        "id": "6UHiJ-yQYVxV"
      },
      "execution_count": null,
      "outputs": []
    },
    {
      "cell_type": "markdown",
      "source": [
        "**Question 14**: fit a linear model for approximating *score* as a function of *shot*, *highjump*, and *sprint*. Print the model's summary and answer the following questions:\n",
        "1. How accurate is this model?\n",
        "2. Considering a p-value of 10% as cutoff, are there any insignificant features?"
      ],
      "metadata": {
        "id": "vBDzPiBwbSzP"
      }
    },
    {
      "cell_type": "code",
      "source": [
        "?"
      ],
      "metadata": {
        "id": "SWGFulSKYlXZ"
      },
      "execution_count": null,
      "outputs": []
    },
    {
      "cell_type": "markdown",
      "source": [
        "**Question 15**: Complete the code below to build a linear model for approximating *score* as a function of *shot*, *highjump*, and *sprint* using the training data. Predict the model performance by applying it to the test data."
      ],
      "metadata": {
        "id": "ssAikIJMdLyu"
      }
    },
    {
      "cell_type": "code",
      "source": [
        "# Split the data into 80% train and 20% test parts\n",
        "set.seed(0)\n",
        "train_ind = sample(seq_len(nrow(hData)), size = floor(0.8 * nrow(hData)))\n",
        "\n",
        "hDataTrain = heptathlon[train_ind, ]\n",
        "hDataTest = heptathlon[-train_ind, ]\n",
        "\n",
        "# Build linear regression model\n",
        "model = lm(data = ?, ? ~ ?)\n",
        "\n",
        "# Predict on the test data\n",
        "?(model, ?)\n",
        "\n",
        "# Print the true scores for the test data\n",
        "print(?)"
      ],
      "metadata": {
        "id": "y0919mOJdPNN"
      },
      "execution_count": null,
      "outputs": []
    }
  ]
}