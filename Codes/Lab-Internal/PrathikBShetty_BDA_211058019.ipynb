{
  "cells": [
    {
      "cell_type": "markdown",
      "metadata": {
        "id": "QN8EcNAyG8fa"
      },
      "source": [
        "**AML 5201 - Applied Probability and Statistics**\n",
        "\n",
        "**Lab Internal Exam (40 points)**\n",
        "\n",
        "**Friday, May 27, 2022, 2:30-4:00 PM**\n",
        "\n",
        "\n",
        "---\n",
        "\n",
        "\n",
        "\n",
        "Upload the following using the naming convention example \"SudarsanAcharya_AIML_123456\":\n",
        "\n",
        "1.   The .ipynb file clearly showing the output cells;\n",
        "2.   A PDF of the .ipynb file.\n",
        "\n",
        "Click [here](https://tinyurl.com/yc84t5vj/) for upload link."
      ]
    },
    {
      "cell_type": "code",
      "execution_count": 1,
      "metadata": {
        "id": "nTmGOkPXZjUv",
        "vscode": {
          "languageId": "r"
        }
      },
      "outputs": [
        {
          "name": "stderr",
          "output_type": "stream",
          "text": [
            "\n",
            "Attaching package: 'dplyr'\n",
            "\n",
            "\n",
            "The following objects are masked from 'package:stats':\n",
            "\n",
            "    filter, lag\n",
            "\n",
            "\n",
            "The following objects are masked from 'package:base':\n",
            "\n",
            "    intersect, setdiff, setequal, union\n",
            "\n",
            "\n",
            "Installing package into 'D:/Documents/R/win-library/4.1'\n",
            "(as 'lib' is unspecified)\n",
            "\n"
          ]
        },
        {
          "name": "stdout",
          "output_type": "stream",
          "text": [
            "package 'HSAUR' successfully unpacked and MD5 sums checked\n",
            "\n",
            "The downloaded binary packages are in\n",
            "\tC:\\Users\\killua\\AppData\\Local\\Temp\\RtmpKomq8s\\downloaded_packages\n"
          ]
        },
        {
          "name": "stderr",
          "output_type": "stream",
          "text": [
            "Warning message:\n",
            "\"package 'HSAUR' was built under R version 4.1.3\"\n",
            "Loading required package: tools\n",
            "\n"
          ]
        }
      ],
      "source": [
        "# Install and load packages\n",
        "library(ggplot2)\n",
        "library(dplyr)\n",
        "install.packages('HSAUR')\n",
        "library(HSAUR)"
      ]
    },
    {
      "cell_type": "code",
      "execution_count": 2,
      "metadata": {
        "id": "mOQvB1t6Hp_x",
        "vscode": {
          "languageId": "r"
        }
      },
      "outputs": [
        {
          "name": "stdout",
          "output_type": "stream",
          "text": [
            "'data.frame':\t25 obs. of  8 variables:\n",
            " $ hurdles : num  12.7 12.8 13.2 13.6 13.5 ...\n",
            " $ highjump: num  1.86 1.8 1.83 1.8 1.74 1.83 1.8 1.8 1.83 1.77 ...\n",
            " $ shot    : num  15.8 16.2 14.2 15.2 14.8 ...\n",
            " $ run200m : num  22.6 23.6 23.1 23.9 23.9 ...\n",
            " $ longjump: num  7.27 6.71 6.68 6.25 6.32 6.33 6.37 6.47 6.11 6.28 ...\n",
            " $ javelin : num  45.7 42.6 44.5 42.8 47.5 ...\n",
            " $ run800m : num  129 126 124 132 128 ...\n",
            " $ score   : int  7291 6897 6858 6540 6540 6411 6351 6297 6252 6252 ...\n"
          ]
        }
      ],
      "source": [
        "# Load the heptathlon dataset\n",
        "data(heptathlon)\n",
        "str(heptathlon)"
      ]
    },
    {
      "cell_type": "code",
      "execution_count": 13,
      "metadata": {
        "id": "_KkksHnpKdQD",
        "vscode": {
          "languageId": "r"
        }
      },
      "outputs": [],
      "source": [
        "# Introduce a new column called sprint highlighting slow and fast sprinters\n",
        "heptathlon = heptathlon %>% mutate(sprint = ifelse(run200m <= 25 & run800m <= 129, 'fast', 'slow'))\n",
        "\n",
        "# Change sprint column to factor type\n",
        "heptathlon['sprint'] = lapply(heptathlon['sprint'], factor)"
      ]
    },
    {
      "cell_type": "code",
      "execution_count": 4,
      "metadata": {
        "id": "mKleqaDbLK_G",
        "vscode": {
          "languageId": "r"
        }
      },
      "outputs": [
        {
          "data": {
            "text/html": [
              "<table class=\"dataframe\">\n",
              "<caption>A data.frame: 6 × 9</caption>\n",
              "<thead>\n",
              "\t<tr><th></th><th scope=col>hurdles</th><th scope=col>highjump</th><th scope=col>shot</th><th scope=col>run200m</th><th scope=col>longjump</th><th scope=col>javelin</th><th scope=col>run800m</th><th scope=col>score</th><th scope=col>sprint</th></tr>\n",
              "\t<tr><th></th><th scope=col>&lt;dbl&gt;</th><th scope=col>&lt;dbl&gt;</th><th scope=col>&lt;dbl&gt;</th><th scope=col>&lt;dbl&gt;</th><th scope=col>&lt;dbl&gt;</th><th scope=col>&lt;dbl&gt;</th><th scope=col>&lt;dbl&gt;</th><th scope=col>&lt;int&gt;</th><th scope=col>&lt;fct&gt;</th></tr>\n",
              "</thead>\n",
              "<tbody>\n",
              "\t<tr><th scope=row>Joyner-Kersee (USA)</th><td>12.69</td><td>1.86</td><td>15.80</td><td>22.56</td><td>7.27</td><td>45.66</td><td>128.51</td><td>7291</td><td>fast</td></tr>\n",
              "\t<tr><th scope=row>John (GDR)</th><td>12.85</td><td>1.80</td><td>16.23</td><td>23.65</td><td>6.71</td><td>42.56</td><td>126.12</td><td>6897</td><td>fast</td></tr>\n",
              "\t<tr><th scope=row>Behmer (GDR)</th><td>13.20</td><td>1.83</td><td>14.20</td><td>23.10</td><td>6.68</td><td>44.54</td><td>124.20</td><td>6858</td><td>fast</td></tr>\n",
              "\t<tr><th scope=row>Sablovskaite (URS)</th><td>13.61</td><td>1.80</td><td>15.23</td><td>23.92</td><td>6.25</td><td>42.78</td><td>132.24</td><td>6540</td><td>slow</td></tr>\n",
              "\t<tr><th scope=row>Choubenkova (URS)</th><td>13.51</td><td>1.74</td><td>14.76</td><td>23.93</td><td>6.32</td><td>47.46</td><td>127.90</td><td>6540</td><td>fast</td></tr>\n",
              "\t<tr><th scope=row>Schulz (GDR)</th><td>13.75</td><td>1.83</td><td>13.50</td><td>24.65</td><td>6.33</td><td>42.82</td><td>125.79</td><td>6411</td><td>fast</td></tr>\n",
              "</tbody>\n",
              "</table>\n"
            ],
            "text/latex": [
              "A data.frame: 6 × 9\n",
              "\\begin{tabular}{r|lllllllll}\n",
              "  & hurdles & highjump & shot & run200m & longjump & javelin & run800m & score & sprint\\\\\n",
              "  & <dbl> & <dbl> & <dbl> & <dbl> & <dbl> & <dbl> & <dbl> & <int> & <fct>\\\\\n",
              "\\hline\n",
              "\tJoyner-Kersee (USA) & 12.69 & 1.86 & 15.80 & 22.56 & 7.27 & 45.66 & 128.51 & 7291 & fast\\\\\n",
              "\tJohn (GDR) & 12.85 & 1.80 & 16.23 & 23.65 & 6.71 & 42.56 & 126.12 & 6897 & fast\\\\\n",
              "\tBehmer (GDR) & 13.20 & 1.83 & 14.20 & 23.10 & 6.68 & 44.54 & 124.20 & 6858 & fast\\\\\n",
              "\tSablovskaite (URS) & 13.61 & 1.80 & 15.23 & 23.92 & 6.25 & 42.78 & 132.24 & 6540 & slow\\\\\n",
              "\tChoubenkova (URS) & 13.51 & 1.74 & 14.76 & 23.93 & 6.32 & 47.46 & 127.90 & 6540 & fast\\\\\n",
              "\tSchulz (GDR) & 13.75 & 1.83 & 13.50 & 24.65 & 6.33 & 42.82 & 125.79 & 6411 & fast\\\\\n",
              "\\end{tabular}\n"
            ],
            "text/markdown": [
              "\n",
              "A data.frame: 6 × 9\n",
              "\n",
              "| <!--/--> | hurdles &lt;dbl&gt; | highjump &lt;dbl&gt; | shot &lt;dbl&gt; | run200m &lt;dbl&gt; | longjump &lt;dbl&gt; | javelin &lt;dbl&gt; | run800m &lt;dbl&gt; | score &lt;int&gt; | sprint &lt;fct&gt; |\n",
              "|---|---|---|---|---|---|---|---|---|---|\n",
              "| Joyner-Kersee (USA) | 12.69 | 1.86 | 15.80 | 22.56 | 7.27 | 45.66 | 128.51 | 7291 | fast |\n",
              "| John (GDR) | 12.85 | 1.80 | 16.23 | 23.65 | 6.71 | 42.56 | 126.12 | 6897 | fast |\n",
              "| Behmer (GDR) | 13.20 | 1.83 | 14.20 | 23.10 | 6.68 | 44.54 | 124.20 | 6858 | fast |\n",
              "| Sablovskaite (URS) | 13.61 | 1.80 | 15.23 | 23.92 | 6.25 | 42.78 | 132.24 | 6540 | slow |\n",
              "| Choubenkova (URS) | 13.51 | 1.74 | 14.76 | 23.93 | 6.32 | 47.46 | 127.90 | 6540 | fast |\n",
              "| Schulz (GDR) | 13.75 | 1.83 | 13.50 | 24.65 | 6.33 | 42.82 | 125.79 | 6411 | fast |\n",
              "\n"
            ],
            "text/plain": [
              "                    hurdles highjump shot  run200m longjump javelin run800m\n",
              "Joyner-Kersee (USA) 12.69   1.86     15.80 22.56   7.27     45.66   128.51 \n",
              "John (GDR)          12.85   1.80     16.23 23.65   6.71     42.56   126.12 \n",
              "Behmer (GDR)        13.20   1.83     14.20 23.10   6.68     44.54   124.20 \n",
              "Sablovskaite (URS)  13.61   1.80     15.23 23.92   6.25     42.78   132.24 \n",
              "Choubenkova (URS)   13.51   1.74     14.76 23.93   6.32     47.46   127.90 \n",
              "Schulz (GDR)        13.75   1.83     13.50 24.65   6.33     42.82   125.79 \n",
              "                    score sprint\n",
              "Joyner-Kersee (USA) 7291  fast  \n",
              "John (GDR)          6897  fast  \n",
              "Behmer (GDR)        6858  fast  \n",
              "Sablovskaite (URS)  6540  slow  \n",
              "Choubenkova (URS)   6540  fast  \n",
              "Schulz (GDR)        6411  fast  "
            ]
          },
          "metadata": {},
          "output_type": "display_data"
        }
      ],
      "source": [
        "# Print the first few rows of the dataframe\n",
        "head(heptathlon)"
      ]
    },
    {
      "cell_type": "markdown",
      "metadata": {
        "id": "X0JnrB1UJcjl"
      },
      "source": [
        "**Question-1**: Make a scatter plot between *run200m* (x-axis) and *longjump* (y-axis). What do you observe from this plot?\n",
        "\n",
        "**Answer :** - We can see a negative linear relation between run200m and longjump, as run200m increases longjump tends to decrease."
      ]
    },
    {
      "cell_type": "code",
      "execution_count": 6,
      "metadata": {
        "id": "rjdqXy86JSSM",
        "vscode": {
          "languageId": "r"
        }
      },
      "outputs": [
        {
          "data": {
            "image/png": "[encoded data removed]",
            "text/plain": [
              "plot without title"
            ]
          },
          "metadata": {
            "image/png": {
              "height": 420,
              "width": 420
            }
          },
          "output_type": "display_data"
        }
      ],
      "source": [
        "p1 = ggplot(data = heptathlon, aes(x = run200m, y = longjump)) +\n",
        "  geom_point(size = 4) \n",
        "p1"
      ]
    },
    {
      "cell_type": "markdown",
      "metadata": {
        "id": "GaQ8rXKQKJ_O"
      },
      "source": [
        "**Question-2**: Make a scatter plot between *run200m* (x-axis) and *longjump* (y-axis) with the data points color-coded using *sprint*. What do you observe from this plot?\n",
        "\n",
        "**Answer :** We can observe that runners who sprint fast in 200m race tend to be good at longjump when compared to runners who sprint slow."
      ]
    },
    {
      "cell_type": "code",
      "execution_count": 8,
      "metadata": {
        "id": "AGF9jdnjLbnu",
        "vscode": {
          "languageId": "r"
        }
      },
      "outputs": [
        {
          "data": {
            "image/png": "[encoded data removed]",
            "text/plain": [
              "plot without title"
            ]
          },
          "metadata": {
            "image/png": {
              "height": 420,
              "width": 420
            }
          },
          "output_type": "display_data"
        }
      ],
      "source": [
        "p2 = ggplot(data = heptathlon, aes(x = run200m, y = longjump, color = sprint)) +\n",
        "  geom_point(size = 3) \n",
        "p2"
      ]
    },
    {
      "cell_type": "markdown",
      "metadata": {
        "id": "5JKmt399M7bN"
      },
      "source": [
        "**Question-3**: Calculate Pearson's correlation between *run200m* and *longjump*. What do you observe?\n",
        "\n",
        "**Answer :** There is 81.17% for negative linear correlation between run200m and longjump."
      ]
    },
    {
      "cell_type": "code",
      "execution_count": 9,
      "metadata": {
        "id": "wlSz_6lINFD4",
        "vscode": {
          "languageId": "r"
        }
      },
      "outputs": [
        {
          "data": {
            "text/html": [
              "-0.817205299701264"
            ],
            "text/latex": [
              "-0.817205299701264"
            ],
            "text/markdown": [
              "-0.817205299701264"
            ],
            "text/plain": [
              "[1] -0.8172053"
            ]
          },
          "metadata": {},
          "output_type": "display_data"
        }
      ],
      "source": [
        "cor(heptathlon$run200m, heptathlon$longjump, method = 'pearson')"
      ]
    },
    {
      "cell_type": "markdown",
      "metadata": {
        "id": "1MAM0idRNXie"
      },
      "source": [
        "**Question-4**: Select data frame without *sprint* and *score* columns."
      ]
    },
    {
      "cell_type": "code",
      "execution_count": 10,
      "metadata": {
        "id": "ZJXS0TzrNc9h",
        "vscode": {
          "languageId": "r"
        }
      },
      "outputs": [
        {
          "data": {
            "text/html": [
              "<table class=\"dataframe\">\n",
              "<caption>A data.frame: 6 × 7</caption>\n",
              "<thead>\n",
              "\t<tr><th></th><th scope=col>hurdles</th><th scope=col>highjump</th><th scope=col>shot</th><th scope=col>run200m</th><th scope=col>longjump</th><th scope=col>javelin</th><th scope=col>run800m</th></tr>\n",
              "\t<tr><th></th><th scope=col>&lt;dbl&gt;</th><th scope=col>&lt;dbl&gt;</th><th scope=col>&lt;dbl&gt;</th><th scope=col>&lt;dbl&gt;</th><th scope=col>&lt;dbl&gt;</th><th scope=col>&lt;dbl&gt;</th><th scope=col>&lt;dbl&gt;</th></tr>\n",
              "</thead>\n",
              "<tbody>\n",
              "\t<tr><th scope=row>Joyner-Kersee (USA)</th><td>12.69</td><td>1.86</td><td>15.80</td><td>22.56</td><td>7.27</td><td>45.66</td><td>128.51</td></tr>\n",
              "\t<tr><th scope=row>John (GDR)</th><td>12.85</td><td>1.80</td><td>16.23</td><td>23.65</td><td>6.71</td><td>42.56</td><td>126.12</td></tr>\n",
              "\t<tr><th scope=row>Behmer (GDR)</th><td>13.20</td><td>1.83</td><td>14.20</td><td>23.10</td><td>6.68</td><td>44.54</td><td>124.20</td></tr>\n",
              "\t<tr><th scope=row>Sablovskaite (URS)</th><td>13.61</td><td>1.80</td><td>15.23</td><td>23.92</td><td>6.25</td><td>42.78</td><td>132.24</td></tr>\n",
              "\t<tr><th scope=row>Choubenkova (URS)</th><td>13.51</td><td>1.74</td><td>14.76</td><td>23.93</td><td>6.32</td><td>47.46</td><td>127.90</td></tr>\n",
              "\t<tr><th scope=row>Schulz (GDR)</th><td>13.75</td><td>1.83</td><td>13.50</td><td>24.65</td><td>6.33</td><td>42.82</td><td>125.79</td></tr>\n",
              "</tbody>\n",
              "</table>\n"
            ],
            "text/latex": [
              "A data.frame: 6 × 7\n",
              "\\begin{tabular}{r|lllllll}\n",
              "  & hurdles & highjump & shot & run200m & longjump & javelin & run800m\\\\\n",
              "  & <dbl> & <dbl> & <dbl> & <dbl> & <dbl> & <dbl> & <dbl>\\\\\n",
              "\\hline\n",
              "\tJoyner-Kersee (USA) & 12.69 & 1.86 & 15.80 & 22.56 & 7.27 & 45.66 & 128.51\\\\\n",
              "\tJohn (GDR) & 12.85 & 1.80 & 16.23 & 23.65 & 6.71 & 42.56 & 126.12\\\\\n",
              "\tBehmer (GDR) & 13.20 & 1.83 & 14.20 & 23.10 & 6.68 & 44.54 & 124.20\\\\\n",
              "\tSablovskaite (URS) & 13.61 & 1.80 & 15.23 & 23.92 & 6.25 & 42.78 & 132.24\\\\\n",
              "\tChoubenkova (URS) & 13.51 & 1.74 & 14.76 & 23.93 & 6.32 & 47.46 & 127.90\\\\\n",
              "\tSchulz (GDR) & 13.75 & 1.83 & 13.50 & 24.65 & 6.33 & 42.82 & 125.79\\\\\n",
              "\\end{tabular}\n"
            ],
            "text/markdown": [
              "\n",
              "A data.frame: 6 × 7\n",
              "\n",
              "| <!--/--> | hurdles &lt;dbl&gt; | highjump &lt;dbl&gt; | shot &lt;dbl&gt; | run200m &lt;dbl&gt; | longjump &lt;dbl&gt; | javelin &lt;dbl&gt; | run800m &lt;dbl&gt; |\n",
              "|---|---|---|---|---|---|---|---|\n",
              "| Joyner-Kersee (USA) | 12.69 | 1.86 | 15.80 | 22.56 | 7.27 | 45.66 | 128.51 |\n",
              "| John (GDR) | 12.85 | 1.80 | 16.23 | 23.65 | 6.71 | 42.56 | 126.12 |\n",
              "| Behmer (GDR) | 13.20 | 1.83 | 14.20 | 23.10 | 6.68 | 44.54 | 124.20 |\n",
              "| Sablovskaite (URS) | 13.61 | 1.80 | 15.23 | 23.92 | 6.25 | 42.78 | 132.24 |\n",
              "| Choubenkova (URS) | 13.51 | 1.74 | 14.76 | 23.93 | 6.32 | 47.46 | 127.90 |\n",
              "| Schulz (GDR) | 13.75 | 1.83 | 13.50 | 24.65 | 6.33 | 42.82 | 125.79 |\n",
              "\n"
            ],
            "text/plain": [
              "                    hurdles highjump shot  run200m longjump javelin run800m\n",
              "Joyner-Kersee (USA) 12.69   1.86     15.80 22.56   7.27     45.66   128.51 \n",
              "John (GDR)          12.85   1.80     16.23 23.65   6.71     42.56   126.12 \n",
              "Behmer (GDR)        13.20   1.83     14.20 23.10   6.68     44.54   124.20 \n",
              "Sablovskaite (URS)  13.61   1.80     15.23 23.92   6.25     42.78   132.24 \n",
              "Choubenkova (URS)   13.51   1.74     14.76 23.93   6.32     47.46   127.90 \n",
              "Schulz (GDR)        13.75   1.83     13.50 24.65   6.33     42.82   125.79 "
            ]
          },
          "metadata": {},
          "output_type": "display_data"
        }
      ],
      "source": [
        "hData = heptathlon %>% select(-c(sprint,score))\n",
        "head(hData)"
      ]
    },
    {
      "cell_type": "markdown",
      "metadata": {
        "id": "d2x4IksuN86o"
      },
      "source": [
        "**Question 5**: From the output of the cell below, answer the following questions:\n",
        "\n",
        "1. Which principal component assigns the greatest weight (in magnitude) to *run200m*? \n",
        "2. Which principal component assigns the greatest weight (in magnitude) to *longjump*? \n",
        "3. *True/false*: the 2nd principal component score for a sample assigns a maximum weight to *javelin*.\n",
        "4. The 1st principal component assigns the least weight (in magnitude) to which feature?\n",
        "\n",
        "**Answers :**\n",
        "\n",
        "1. PC3 assigns the greatest weight to run200m. (Weight in magnitude 0.31)\n",
        "2. PC3 assigns the greatest weight to longjump. (weight in magnitude 0.18)\n",
        "3. True\n",
        "4. PC1 assigns least weight to highjump.(weight in magnitude 0.0055)"
      ]
    },
    {
      "cell_type": "code",
      "execution_count": 11,
      "metadata": {
        "id": "WMIxdyl_OQ1b",
        "vscode": {
          "languageId": "r"
        }
      },
      "outputs": [
        {
          "name": "stdout",
          "output_type": "stream",
          "text": [
            " hurdles highjump     shot  run200m longjump  javelin  run800m \n",
            "   12.69     1.86    15.80    22.56     7.27    45.66   128.51 \n",
            "             [,1]          [,2]        [,3]\n",
            "[1,]  0.069508692  0.0094891417  0.22180829\n",
            "[2,] -0.005569781 -0.0005647147 -0.01451405\n",
            "[3,] -0.077906090 -0.1359282330 -0.88374045\n",
            "[4,]  0.072967545  0.1012004268  0.31005700\n",
            "[5,] -0.040369299 -0.0148845034 -0.18494319\n",
            "[6,]  0.006685584 -0.9852954510  0.16021268\n",
            "[7,]  0.990994208 -0.0127652701 -0.11655815\n"
          ]
        }
      ],
      "source": [
        "# Calculate eigenvalues & eigenvectors of sample covariance matrix\n",
        "e = eigen(cov(hData)) \n",
        "\n",
        "# Eigenvectors of the sample covariance matrix\n",
        "u =e$vectors\n",
        "\n",
        "# Eigenvalues of the sample covariance matrix\n",
        "lambda = e$values\n",
        "\n",
        "# Extract data matrix from data frame\n",
        "X = as.matrix(hData)\n",
        "\n",
        "# Print first sample\n",
        "print(X[1, ]) \n",
        "\n",
        "# Print the first 3 eigenvectors or principal directions\n",
        "print(u[, 1:3]) "
      ]
    },
    {
      "cell_type": "markdown",
      "metadata": {
        "id": "HRiUYbSiPiQq"
      },
      "source": [
        "**Question-6**: Explain the output of the cell below?\n",
        "\n",
        "**Answer :** Samples projected onto first eigen vector."
      ]
    },
    {
      "cell_type": "code",
      "execution_count": 14,
      "metadata": {
        "id": "v216Px9jPqZ2",
        "vscode": {
          "languageId": "r"
        }
      },
      "outputs": [
        {
          "name": "stdout",
          "output_type": "stream",
          "text": [
            "                        [,1]\n",
            "Joyner-Kersee (USA) 128.6514\n",
            "John (GDR)          126.3423\n",
            "Behmer (GDR)        124.5962\n",
            "Sablovskaite (URS)  132.5776\n",
            "Choubenkova (URS)   128.3359\n",
            "Schulz (GDR)        126.3804\n",
            "Fleming (AUS)       132.9964\n",
            "Greiner (USA)       134.0565\n",
            "Lajbnerova (CZE)    136.4989\n",
            "Bouraga (URS)       135.1834\n",
            "Wijnsma (HOL)       132.0612\n",
            "Dimitrova (BUL)     132.9867\n",
            "Scheider (SWI)      135.6531\n",
            "Braun (FRG)         143.3104\n",
            "Ruotsalainen (FIN)  137.6684\n",
            "Yuping (CHN)        147.0239\n",
            "Hagger (GB)         139.0075\n",
            "Brown (USA)         146.9512\n",
            "Mulliner (GB)       138.6044\n",
            "Hautenauve (BEL)    134.6055\n",
            "Kytola (FIN)        134.1319\n",
            "Geremias (BRA)      144.5973\n",
            "Hui-Ing (TAI)       138.1891\n",
            "Jeong-Mi (KOR)      140.0555\n",
            "Launa (PNG)         164.1953\n"
          ]
        }
      ],
      "source": [
        "print(X %*% u[, 1])"
      ]
    },
    {
      "cell_type": "markdown",
      "metadata": {
        "id": "NSzTWi0NQNGM"
      },
      "source": [
        "**Question-7**: Explain the output of the cell below?\n",
        "\n",
        "**Answer :** : Variance of the projected sample in the direction of first eigen vector "
      ]
    },
    {
      "cell_type": "code",
      "execution_count": 28,
      "metadata": {
        "id": "vUEfeajtQPhf",
        "vscode": {
          "languageId": "r"
        }
      },
      "outputs": [
        {
          "name": "stdout",
          "output_type": "stream",
          "text": [
            "         [,1]\n",
            "[1,] 69.96725\n"
          ]
        }
      ],
      "source": [
        "print(var(X %*% u[, 1])) "
      ]
    },
    {
      "cell_type": "markdown",
      "metadata": {
        "id": "eFJrGA4nQsME"
      },
      "source": [
        "**Question-8**: How many minimum principal components are needed to explain more than 90% of the variance in the data? In one line, explain how you could use the corresponding principal component scores (projected values) to get a final score for each athlete so that they can be ranked.\n",
        "\n",
        "**Answer :** \n",
        "\n",
        "- Two Principle components PC1 and PC2 are needed to explain more than 90% of the variance in the data, PC1 and PC2 explain approximately 97% of the variance in the data.\n",
        "- Using Principal Component Values"
      ]
    },
    {
      "cell_type": "code",
      "execution_count": 15,
      "metadata": {
        "id": "eTb9yhcuQv_i",
        "vscode": {
          "languageId": "r"
        }
      },
      "outputs": [
        {
          "data": {
            "text/html": [
              "<style>\n",
              ".list-inline {list-style: none; margin:0; padding: 0}\n",
              ".list-inline>li {display: inline-block}\n",
              ".list-inline>li:not(:last-child)::after {content: \"\\00b7\"; padding: 0 .5ex}\n",
              "</style>\n",
              "<ol class=list-inline><li>82.0699617144921</li><li>97.1956174217472</li><li>99.4479178028358</li><li>99.8503190237631</li><li>99.9733142396671</li><li>99.9987032320879</li><li>100</li></ol>\n"
            ],
            "text/latex": [
              "\\begin{enumerate*}\n",
              "\\item 82.0699617144921\n",
              "\\item 97.1956174217472\n",
              "\\item 99.4479178028358\n",
              "\\item 99.8503190237631\n",
              "\\item 99.9733142396671\n",
              "\\item 99.9987032320879\n",
              "\\item 100\n",
              "\\end{enumerate*}\n"
            ],
            "text/markdown": [
              "1. 82.0699617144921\n",
              "2. 97.1956174217472\n",
              "3. 99.4479178028358\n",
              "4. 99.8503190237631\n",
              "5. 99.9733142396671\n",
              "6. 99.9987032320879\n",
              "7. 100\n",
              "\n",
              "\n"
            ],
            "text/plain": [
              "[1]  82.06996  97.19562  99.44792  99.85032  99.97331  99.99870 100.00000"
            ]
          },
          "metadata": {},
          "output_type": "display_data"
        }
      ],
      "source": [
        "varPercent = (lambda/sum(lambda))*100\n",
        "cumsum(varPercent)"
      ]
    },
    {
      "cell_type": "markdown",
      "metadata": {
        "id": "KjevgCitSqkt"
      },
      "source": [
        "**Question 9**: how many levels does the categorical variable *sprint* have? What is the reference level? \n",
        "\n",
        "**Answer :**\n",
        "\n",
        "- Sprint has two levels fast and slow.\n",
        "- In this case fast is the reference level."
      ]
    },
    {
      "cell_type": "code",
      "execution_count": 16,
      "metadata": {
        "id": "osbFtC2ZTBGd",
        "vscode": {
          "languageId": "r"
        }
      },
      "outputs": [
        {
          "data": {
            "text/html": [
              "<table class=\"dataframe\">\n",
              "<caption>A matrix: 2 × 1 of type dbl</caption>\n",
              "<thead>\n",
              "\t<tr><th></th><th scope=col>slow</th></tr>\n",
              "</thead>\n",
              "<tbody>\n",
              "\t<tr><th scope=row>fast</th><td>0</td></tr>\n",
              "\t<tr><th scope=row>slow</th><td>1</td></tr>\n",
              "</tbody>\n",
              "</table>\n"
            ],
            "text/latex": [
              "A matrix: 2 × 1 of type dbl\n",
              "\\begin{tabular}{r|l}\n",
              "  & slow\\\\\n",
              "\\hline\n",
              "\tfast & 0\\\\\n",
              "\tslow & 1\\\\\n",
              "\\end{tabular}\n"
            ],
            "text/markdown": [
              "\n",
              "A matrix: 2 × 1 of type dbl\n",
              "\n",
              "| <!--/--> | slow |\n",
              "|---|---|\n",
              "| fast | 0 |\n",
              "| slow | 1 |\n",
              "\n"
            ],
            "text/plain": [
              "     slow\n",
              "fast 0   \n",
              "slow 1   "
            ]
          },
          "metadata": {},
          "output_type": "display_data"
        }
      ],
      "source": [
        "contrasts(heptathlon$sprint)"
      ]
    },
    {
      "cell_type": "markdown",
      "metadata": {
        "id": "8TfmUgYmTTop"
      },
      "source": [
        "**Question 10**: fit a linear model for approximating *score* as a function of *shot* and *sprint*. Print the model's summary. How accurate is the model?\n",
        "\n",
        "**Answer :**\n",
        "- Just by looking at the R2 score we could say model captures 67% of linear relationship.\n",
        "- But for  beta 1(sprintslow) p-value is greater than 10%, which make this feature insignificant."
      ]
    },
    {
      "cell_type": "code",
      "execution_count": 17,
      "metadata": {
        "id": "TXNGUyWjTrN9",
        "vscode": {
          "languageId": "r"
        }
      },
      "outputs": [
        {
          "data": {
            "text/plain": [
              "\n",
              "Call:\n",
              "lm(formula = score ~ shot + sprint, data = heptathlon)\n",
              "\n",
              "Residuals:\n",
              "     Min       1Q   Median       3Q      Max \n",
              "-1124.58  -164.40    35.93   207.34   496.35 \n",
              "\n",
              "Coefficients:\n",
              "            Estimate Std. Error t value Pr(>|t|)    \n",
              "(Intercept)   3080.0      883.0   3.488 0.002084 ** \n",
              "shot           249.7       58.4   4.275 0.000308 ***\n",
              "sprintslow    -330.4      213.4  -1.548 0.135842    \n",
              "---\n",
              "Signif. codes:  0 '***' 0.001 '**' 0.01 '*' 0.05 '.' 0.1 ' ' 1\n",
              "\n",
              "Residual standard error: 338.5 on 22 degrees of freedom\n",
              "Multiple R-squared:  0.6749,\tAdjusted R-squared:  0.6454 \n",
              "F-statistic: 22.84 on 2 and 22 DF,  p-value: 4.282e-06\n"
            ]
          },
          "metadata": {},
          "output_type": "display_data"
        }
      ],
      "source": [
        "model = lm(data = heptathlon, score ~ shot + sprint)\n",
        "summary(model)"
      ]
    },
    {
      "cell_type": "markdown",
      "metadata": {
        "id": "aK_TiMibWhi_"
      },
      "source": [
        "**Question 11**: fit a linear model for approximating *score* as a function of *shot*, *javelin*, and *sprint*. Print the model's summary and answer the following questions:\n",
        "\n",
        "1. Did the addition of the new predictor *javelin* imporve the model accuracy? \n",
        "2. *True/false* (explain in one line): the model suggests that there is a possible linear relationship between an athlete's score and javelin performance.\n",
        "3. For a 1 metre increase in shot put throw and with the same javelin and sprint performance, we can say with 95% confidence that the athlete's score will increase/decrease by an amount in the interval [?, ?].\n",
        "   \n",
        "**Answer :**\n",
        "\n",
        "1. No, it improved the model accuracy from 0.6749 to 0.676 which is not significant.\n",
        "2. False, Since p-value is 0.79 the null hypothesis  stands. There is no linear relatonship between javelin and score.\n",
        "3. [2 * stdError, - 2 * stdError] ->[2 * 59.669, -2 * 59.669] ->[2*59.669, -2*59.669]"
      ]
    },
    {
      "cell_type": "code",
      "execution_count": 18,
      "metadata": {
        "id": "fiFG9GL-WKj3",
        "vscode": {
          "languageId": "r"
        }
      },
      "outputs": [
        {
          "data": {
            "text/plain": [
              "\n",
              "Call:\n",
              "lm(formula = score ~ shot + javelin + sprint, data = heptathlon)\n",
              "\n",
              "Residuals:\n",
              "     Min       1Q   Median       3Q      Max \n",
              "-1090.63  -173.25    12.63   203.29   537.00 \n",
              "\n",
              "Coefficients:\n",
              "            Estimate Std. Error t value Pr(>|t|)    \n",
              "(Intercept) 3349.127   1347.536   2.485  0.02144 *  \n",
              "shot         249.548     59.669   4.182  0.00042 ***\n",
              "javelin       -5.996     22.297  -0.269  0.79061    \n",
              "sprintslow  -354.060    235.151  -1.506  0.14705    \n",
              "---\n",
              "Signif. codes:  0 '***' 0.001 '**' 0.01 '*' 0.05 '.' 0.1 ' ' 1\n",
              "\n",
              "Residual standard error: 345.9 on 21 degrees of freedom\n",
              "Multiple R-squared:  0.676,\tAdjusted R-squared:  0.6298 \n",
              "F-statistic: 14.61 on 3 and 21 DF,  p-value: 2.301e-05\n"
            ]
          },
          "metadata": {},
          "output_type": "display_data"
        }
      ],
      "source": [
        "model = lm(data = heptathlon, score ~ shot + javelin +sprint)\n",
        "summary(model)"
      ]
    },
    {
      "cell_type": "markdown",
      "metadata": {
        "id": "zhGiXlKiaRSv"
      },
      "source": [
        "**Question 12**: fit a linear model for approximating *score* as a function of *highjump*, and *sprint*. Print the model's summary and answer the following questions:\n",
        "1. How accurate is this model?\n",
        "2. Considering a p-value of 10% as cutoff, are there any insignificant features?\n",
        "\n",
        "**Answer :** \n",
        "- This is a pretty good model with an r2Score of 83.41%. This model captures 83.41% of linear relationship.\n",
        "- There are none."
      ]
    },
    {
      "cell_type": "code",
      "execution_count": 24,
      "metadata": {
        "id": "VE246Jl-aXmp",
        "vscode": {
          "languageId": "r"
        }
      },
      "outputs": [
        {
          "data": {
            "text/plain": [
              "\n",
              "Call:\n",
              "lm(formula = score ~ highjump + sprint, data = heptathlon)\n",
              "\n",
              "Residuals:\n",
              "    Min      1Q  Median      3Q     Max \n",
              "-476.12 -162.88  -29.12  146.92  502.33 \n",
              "\n",
              "Coefficients:\n",
              "            Estimate Std. Error t value Pr(>|t|)    \n",
              "(Intercept)  -2030.8     1175.5  -1.728   0.0981 .  \n",
              "highjump      4873.2      646.0   7.544 1.54e-07 ***\n",
              "sprintslow    -703.3      123.3  -5.702 9.81e-06 ***\n",
              "---\n",
              "Signif. codes:  0 '***' 0.001 '**' 0.01 '*' 0.05 '.' 0.1 ' ' 1\n",
              "\n",
              "Residual standard error: 241.9 on 22 degrees of freedom\n",
              "Multiple R-squared:  0.8341,\tAdjusted R-squared:  0.819 \n",
              "F-statistic: 55.29 on 2 and 22 DF,  p-value: 2.625e-09\n"
            ]
          },
          "metadata": {},
          "output_type": "display_data"
        }
      ],
      "source": [
        "model = lm(data = heptathlon, score ~ highjump +sprint)\n",
        "summary(model)"
      ]
    },
    {
      "cell_type": "markdown",
      "metadata": {
        "id": "RVWY6flOX1Ds"
      },
      "source": [
        "**Question 13**: Using the model built above, extract the slope and intercept for estimating the *score* of *slow* and *fast* athletes. It would be helpful to start with the regression equation $\\hat{y}^{(i)} = \\hat{\\beta}_0 + \\hat{\\beta}_1x_1^{(i)} + \\hat{\\beta}_2x_2^{(i)},$ and then write two separate equations for *slow* and *fast* athletes."
      ]
    },
    {
      "cell_type": "code",
      "execution_count": 27,
      "metadata": {
        "vscode": {
          "languageId": "r"
        }
      },
      "outputs": [
        {
          "data": {
            "text/html": [
              "<style>\n",
              ".dl-inline {width: auto; margin:0; padding: 0}\n",
              ".dl-inline>dt, .dl-inline>dd {float: none; width: auto; display: inline-block}\n",
              ".dl-inline>dt::after {content: \":\\0020\"; padding-right: .5ex}\n",
              ".dl-inline>dt:not(:first-of-type) {padding-left: .5ex}\n",
              "</style><dl class=dl-inline><dt>(Intercept)</dt><dd>-2030.827929374</dd><dt>highjump</dt><dd>4873.19422150883</dd><dt>sprintslow</dt><dd>-703.255216693418</dd></dl>\n"
            ],
            "text/latex": [
              "\\begin{description*}\n",
              "\\item[(Intercept)] -2030.827929374\n",
              "\\item[highjump] 4873.19422150883\n",
              "\\item[sprintslow] -703.255216693418\n",
              "\\end{description*}\n"
            ],
            "text/markdown": [
              "(Intercept)\n",
              ":   -2030.827929374highjump\n",
              ":   4873.19422150883sprintslow\n",
              ":   -703.255216693418\n",
              "\n"
            ],
            "text/plain": [
              "(Intercept)    highjump  sprintslow \n",
              " -2030.8279   4873.1942   -703.2552 "
            ]
          },
          "metadata": {},
          "output_type": "display_data"
        },
        {
          "data": {
            "text/html": [
              "<strong>sprintslow:</strong> -703.255216693418"
            ],
            "text/latex": [
              "\\textbf{sprintslow:} -703.255216693418"
            ],
            "text/markdown": [
              "**sprintslow:** -703.255216693418"
            ],
            "text/plain": [
              "sprintslow \n",
              " -703.2552 "
            ]
          },
          "metadata": {},
          "output_type": "display_data"
        },
        {
          "data": {
            "text/html": [
              "<strong>(Intercept):</strong> -2030.827929374"
            ],
            "text/latex": [
              "\\textbf{(Intercept):} -2030.827929374"
            ],
            "text/markdown": [
              "**(Intercept):** -2030.827929374"
            ],
            "text/plain": [
              "(Intercept) \n",
              "  -2030.828 "
            ]
          },
          "metadata": {},
          "output_type": "display_data"
        }
      ],
      "source": [
        "coef(model)\n",
        "coef(model)[3]\n",
        "coef(model)[1]"
      ]
    },
    {
      "cell_type": "code",
      "execution_count": null,
      "metadata": {
        "id": "6UHiJ-yQYVxV",
        "vscode": {
          "languageId": "r"
        }
      },
      "outputs": [],
      "source": [
        "intercept_slow = coef(model)[1]\n",
        "#intercept_fast = ? + ? reference variable isn't considered. \n",
        "\n",
        "slope_slow = coef(model)[3]\n",
        "slope_highjump = coef(model)[2]\n",
        "# slope_fast reference variable is not considered in a regression model\n",
        "\n",
        "y = intercept_slow + (highjump * slope_highjump) + (slopeslow * slope_slow)"
      ]
    },
    {
      "cell_type": "markdown",
      "metadata": {
        "id": "vBDzPiBwbSzP"
      },
      "source": [
        "**Question 14**: fit a linear model for approximating *score* as a function of *shot*, *highjump*, and *sprint*. Print the model's summary and answer the following questions:\n",
        "1. How accurate is this model?\n",
        "2. Considering a p-value of 10% as cutoff, are there any insignificant features?\n",
        "\n",
        "**Anwers :** \n",
        "\n",
        "1. This is by far the most accurate model with an r2Score of 90.89% and this has no insignificant features.\n",
        "2. There are none."
      ]
    },
    {
      "cell_type": "code",
      "execution_count": 21,
      "metadata": {
        "id": "SWGFulSKYlXZ",
        "vscode": {
          "languageId": "r"
        }
      },
      "outputs": [
        {
          "data": {
            "text/plain": [
              "\n",
              "Call:\n",
              "lm(formula = score ~ shot + highjump + sprint, data = heptathlon)\n",
              "\n",
              "Residuals:\n",
              "    Min      1Q  Median      3Q     Max \n",
              "-386.03 -103.72  -37.17  126.92  363.95 \n",
              "\n",
              "Coefficients:\n",
              "            Estimate Std. Error t value Pr(>|t|)    \n",
              "(Intercept) -2508.72     898.90  -2.791  0.01095 *  \n",
              "shot          144.30      34.74   4.153  0.00045 ***\n",
              "highjump     3950.55     537.93   7.344 3.16e-07 ***\n",
              "sprintslow   -416.72     116.22  -3.586  0.00174 ** \n",
              "---\n",
              "Signif. codes:  0 '***' 0.001 '**' 0.01 '*' 0.05 '.' 0.1 ' ' 1\n",
              "\n",
              "Residual standard error: 183.4 on 21 degrees of freedom\n",
              "Multiple R-squared:  0.9089,\tAdjusted R-squared:  0.8959 \n",
              "F-statistic: 69.84 on 3 and 21 DF,  p-value: 4.306e-11\n"
            ]
          },
          "metadata": {},
          "output_type": "display_data"
        }
      ],
      "source": [
        "model = lm(data = heptathlon, score ~ shot + highjump +sprint)\n",
        "summary(model)"
      ]
    },
    {
      "cell_type": "markdown",
      "metadata": {
        "id": "ssAikIJMdLyu"
      },
      "source": [
        "**Question 15**: Complete the code below to build a linear model for approximating *score* as a function of *shot*, *highjump*, and *sprint* using the training data. Predict the model performance by applying it to the test data."
      ]
    },
    {
      "cell_type": "code",
      "execution_count": 49,
      "metadata": {
        "id": "y0919mOJdPNN",
        "vscode": {
          "languageId": "r"
        }
      },
      "outputs": [
        {
          "name": "stdout",
          "output_type": "stream",
          "text": [
            "[1] \"Mean Squared Error\"\n"
          ]
        },
        {
          "data": {
            "text/html": [
              "8112.40559718284"
            ],
            "text/latex": [
              "8112.40559718284"
            ],
            "text/markdown": [
              "8112.40559718284"
            ],
            "text/plain": [
              "[1] 8112.406"
            ]
          },
          "metadata": {},
          "output_type": "display_data"
        },
        {
          "name": "stdout",
          "output_type": "stream",
          "text": [
            "[1] \"Mean Absolute Error\"\n"
          ]
        },
        {
          "data": {
            "text/html": [
              "84.8189796440352"
            ],
            "text/latex": [
              "84.8189796440352"
            ],
            "text/markdown": [
              "84.8189796440352"
            ],
            "text/plain": [
              "[1] 84.81898"
            ]
          },
          "metadata": {},
          "output_type": "display_data"
        },
        {
          "name": "stdout",
          "output_type": "stream",
          "text": [
            "[1] \"Root Mean Square Error\"\n"
          ]
        },
        {
          "data": {
            "text/html": [
              "90.0688936158474"
            ],
            "text/latex": [
              "90.0688936158474"
            ],
            "text/markdown": [
              "90.0688936158474"
            ],
            "text/plain": [
              "[1] 90.06889"
            ]
          },
          "metadata": {},
          "output_type": "display_data"
        }
      ],
      "source": [
        "# Split the data into 80% train and 20% test parts\n",
        "set.seed(0)\n",
        "train_ind = sample(seq_len(nrow(hData)), size = floor(0.8 * nrow(hData)))\n",
        "\n",
        "hDataTrain = heptathlon[train_ind, ]\n",
        "hDataTest = heptathlon[-train_ind, ]\n",
        "\n",
        "# Build linear regression model\n",
        "model = lm(data = hDataTrain, score ~ shot + highjump + sprint)\n",
        "\n",
        "# Predict on the test data\n",
        "prediction = predict(model, hDataTest)\n",
        "\n",
        "print(prediction)\n",
        "\n",
        "# Print the true scores for the test data\n",
        "print('Mean Squared Error')\n",
        "mean((prediction-hDataTest$score)^2)\n",
        "\n",
        "print('Mean Absolute Error')\n",
        "mean(abs(prediction-hDataTest$score))\n",
        "\n",
        "print('Root Mean Square Error')\n",
        "mean(sqrt(mean((prediction-hDataTest$score)^2)))"
      ]
    },
    {
      "cell_type": "code",
      "execution_count": null,
      "metadata": {
        "vscode": {
          "languageId": "r"
        }
      },
      "outputs": [],
      "source": []
    }
  ],
  "metadata": {
    "colab": {
      "collapsed_sections": [],
      "name": "AML5201_LabInternalExam_R.ipynb",
      "provenance": []
    },
    "kernelspec": {
      "display_name": "R",
      "language": "R",
      "name": "ir"
    },
    "language_info": {
      "codemirror_mode": "r",
      "file_extension": ".r",
      "mimetype": "text/x-r-source",
      "name": "R",
      "pygments_lexer": "r",
      "version": "4.1.1"
    }
  },
  "nbformat": 4,
  "nbformat_minor": 0
}
