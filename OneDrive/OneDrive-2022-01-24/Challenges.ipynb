{
 "cells": [
  {
   "cell_type": "markdown",
   "metadata": {},
   "source": [
    "Challenge problem: we saw the ice-cream problem today in class; that is, how likely is it to get an ice cream with all 3 scoops of different flavour from available 10 flavours.\n",
    "\n",
    "Now, use that as a template and calculate using simulation how likely it is for at least two students in a class of 30 to share their birthday (month and year only)."
   ]
  },
  {
   "cell_type": "code",
   "execution_count": 53,
   "metadata": {},
   "outputs": [
    {
     "name": "stdout",
     "output_type": "stream",
     "text": [
      " [1]  3  1  9 11 12  4 12  3  2 10  6  9 12  8  2  2  8  6  9 10  1 12  2  1  7\n",
      "[26] 12  3  9  7  7\n"
     ]
    },
    {
     "data": {
      "text/html": [
       "11"
      ],
      "text/latex": [
       "11"
      ],
      "text/markdown": [
       "11"
      ],
      "text/plain": [
       "[1] 11"
      ]
     },
     "metadata": {},
     "output_type": "display_data"
    },
    {
     "data": {
      "text/html": [
       "1"
      ],
      "text/latex": [
       "1"
      ],
      "text/markdown": [
       "1"
      ],
      "text/plain": [
       "[1] 1"
      ]
     },
     "metadata": {},
     "output_type": "display_data"
    }
   ],
   "source": [
    "# Sample space for selecting two students who share same birthday(month) \n",
    "S = c(1:12)\n",
    "\n",
    "# Corresponding probabilities\n",
    "p = (1/12)*replicate(12, 1)\n",
    "\n",
    "#number of students\n",
    "students = 3\n",
    "#Birthdays of 30 Students\n",
    "birthdays = replicate(nsamples, sample(S, size = 1, replace = TRUE, prob = p))\n",
    "\n",
    "#Likelihood of students sharing their birthday(month)\n",
    "#mean(simulatedData[1, ] == simulatedData[2, ])\n",
    "print(birthdays)\n",
    "length(unique(birthdays))\n",
    "mean(length(unique(birthdays)) != students)\n",
    "\n",
    "\n"
   ]
  },
  {
   "cell_type": "code",
   "execution_count": null,
   "metadata": {},
   "outputs": [],
   "source": []
  }
 ],
 "metadata": {
  "interpreter": {
   "hash": "cdcdd9caa4b52f627d359f5b4f59a1542c65ca84e249c9fe81bf228d5aa25fd9"
  },
  "kernelspec": {
   "display_name": "R",
   "language": "R",
   "name": "ir"
  },
  "language_info": {
   "codemirror_mode": "r",
   "file_extension": ".r",
   "mimetype": "text/x-r-source",
   "name": "R",
   "pygments_lexer": "r",
   "version": "4.1.1"
  },
  "orig_nbformat": 4
 },
 "nbformat": 4,
 "nbformat_minor": 2
}
