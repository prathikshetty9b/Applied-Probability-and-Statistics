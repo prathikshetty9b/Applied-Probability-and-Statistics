{
  "nbformat": 4,
  "nbformat_minor": 0,
  "metadata": {
    "kernelspec": {
      "display_name": "R",
      "language": "R",
      "name": "ir"
    },
    "language_info": {
      "codemirror_mode": "r",
      "file_extension": ".r",
      "mimetype": "text/x-r-source",
      "name": "R",
      "pygments_lexer": "r",
      "version": "3.3.1"
    },
    "colab": {
      "name": "StatsWorkshop.ipynb",
      "provenance": [],
      "collapsed_sections": []
    }
  },
  "cells": [
    {
      "cell_type": "code",
      "source": [
        "# Package for side-by-side ggplot plots\n",
        "install.packages('patchwork')          "
      ],
      "metadata": {
        "id": "_Ew4cNOdfsTh"
      },
      "execution_count": null,
      "outputs": []
    },
    {
      "cell_type": "code",
      "metadata": {
        "id": "dO8c1j8QqPou"
      },
      "source": [
        "library(ggplot2)\n",
        "library(dplyr)\n",
        "library(patchwork)   "
      ],
      "execution_count": null,
      "outputs": []
    },
    {
      "cell_type": "markdown",
      "source": [
        "Load population height data"
      ],
      "metadata": {
        "id": "KRr81zzCVrWy"
      }
    },
    {
      "cell_type": "code",
      "source": [
        "dfHeights = read.csv('PopulationHeightData.csv', header = TRUE)\n",
        "head(dfHeights, 5)"
      ],
      "metadata": {
        "id": "xI1hLJCcV3Q8"
      },
      "execution_count": null,
      "outputs": []
    },
    {
      "cell_type": "markdown",
      "source": [
        "Plot a hisotogram of the population height data. Note that in practice we will not have access to the entire population data."
      ],
      "metadata": {
        "id": "XTDUTPrUXrc0"
      }
    },
    {
      "cell_type": "code",
      "source": [
        "mu = mean(dfHeights$Height)\n",
        "sigma = sd(dfHeights$Height)\n",
        "delta = 1\n",
        "\n",
        "# Plot the frequency histogram \n",
        "p1 = ggplot(data = dfHeights) +\n",
        "  geom_histogram(aes(x = Height, y = ..count..),\n",
        "  breaks = seq(mu-4*sigma, mu+4*sigma, by = delta),\n",
        "  colour = 'black', fill = 'steelblue', alpha = 0.4) +\n",
        "  labs(x = 'Height (cm)', y = 'Frequency') \n",
        "\n",
        "# Plot the relative frequency histogram\n",
        "p2 = ggplot(data = dfHeights) +\n",
        "  geom_histogram(aes(x = Height, y = ..count../sum(..count..)),\n",
        "  breaks = seq(mu-4*sigma, mu+4*sigma, by = delta),\n",
        "  colour = 'black', fill = 'steelblue', alpha = 0.4) +\n",
        "  labs(x = 'Height (cm)', y = 'Relative Frequency')\n",
        "\n",
        "# Plot the density histogram\n",
        "p3 = ggplot(data = dfHeights) +\n",
        "  geom_histogram(aes(x = Height, y = ..density..),\n",
        "  breaks = seq(mu-4*sigma, mu+4*sigma, by = delta),\n",
        "  colour = 'black', fill = 'steelblue', alpha = 0.4) +\n",
        "  labs(x = 'Height (cm)', y = 'Density')\n",
        "\n",
        "\n",
        "# Plot the histograms side-by-side\n",
        "p1 + p2 + p3 + plot_layout(ncol = 2)"
      ],
      "metadata": {
        "id": "_pl2eimyXo6h"
      },
      "execution_count": null,
      "outputs": []
    },
    {
      "cell_type": "markdown",
      "source": [
        "Add vertical lines to the density histogram showing the position of the population mean, one standard deviation above the population mean, and one standard deviation below the population mean."
      ],
      "metadata": {
        "id": "IDCgKUftufUx"
      }
    },
    {
      "cell_type": "code",
      "source": [
        "p3 + geom_vline(aes(xintercept = mu, color = \"red\", linetype = \"dashed\", size = 1))+\n",
        " geom_vline(aes(xintercept = mu+1*sigma),\n",
        "  color = \"green\", linetype = \"dashed\", size = 1)+\n",
        " geom_vline(aes(xintercept =mu-1*sigma),\n",
        "  color = \"green\", linetype = \"dashed\", size = 1)"
      ],
      "metadata": {
        "id": "W7qOUqDCuoBj"
      },
      "execution_count": null,
      "outputs": []
    },
    {
      "cell_type": "code",
      "source": [
        "# 68-95-99.7 rule for the population using simulation\n",
        "mu\n",
        "sigma\n",
        "\n",
        "# P(mu-1*sigma <= X <= mu+1*sigma)\n",
        "mean(dfHeights$Height >= mu-1*sigma & dfHeights$Height <= mu+1*sigma)\n",
        "\n",
        "# P(mu-2*sigma <= X <= mu+2*sigma)\n",
        "mean(dfHeights$Height >= mu-2*sigma & dfHeights$Height <= mu+2*sigma)\n",
        "\n",
        "# P(mu-3*sigma <= X <= mu+3*sigma)\n",
        "mean(dfHeights$Height >= mu-3*sigma & dfHeights$Height <= mu+3*sigma)"
      ],
      "metadata": {
        "id": "sgHfN25j4AGN"
      },
      "execution_count": null,
      "outputs": []
    },
    {
      "cell_type": "markdown",
      "source": [
        "* Suppose we had no idea about the population mean and standard deviation of the individual's heights. \n",
        "* We can draw a random sample of individuals from the population and use their heights' average as an approximation of the population's height average (population mean).\n",
        "* The average of those random 10 individual's heights is represented as $\\bar{X}_{10}$ which can be calculated as: $$\\bar{X}_{10} = \\frac{X_{\\color{pink}1}+X_{\\color{pink}2}+X_{\\color{pink}3}+\\cdots+X_{\\color{pink}1\\color{pink}0}}{10}.$$\n",
        "* The notation $X_{\\color{pink}j}$ represents the height of the $\\color{pink}j$th random individual. \n",
        "* Note that $X_{\\color{pink}1}, X_{\\color{pink}2},\\ldots, X_{\\color{pink}1\\color{pink}0}$ are all random variables themselves, as the ${\\color{pink}1}$st, ${\\color{pink}2}$nd etc., individuals are random.\n",
        "* In view of the point above, $\\bar{X}_{10}$ is also a random variable. It is called the *sample mean*.\n",
        "* We can repeat the process of drawing 10 random individuals and average their heights to get several simulated values (or realizations) of the random variable *sample mean* which are all approximations of the population mean (population height average).\n",
        "* This can also be seen as simulating the random variable $\\bar{X}_{10}$ several (say, $\\texttt{nsimulations}$) times.\n",
        "* Let's simulate $\\bar{X}_{10}$ $\\texttt{nsimulations}$ times, and we will refer to the random number of individuals drawn in each simulation as the $\\texttt{samplesize}.$ \n",
        "\n",
        "Calculate the mean and standard deviation of the sample mean  $\\bar{X}_{10}$ and plot its histogram for $\\texttt{samplesize}=10$ and $\\texttt{nsimulations}=10, 100, 1000, 10000.$ "
      ],
      "metadata": {
        "id": "V6-cmGS4fmdK"
      }
    },
    {
      "cell_type": "code",
      "source": [
        "# This is a test cell to understand the process\n",
        "# of simulating the random variable \"sample mean\"\n",
        "samplesize = 10\n",
        "nsimulations = 5\n",
        "sampleData = replicate(nsimulations, sample(dfHeights$Height, size = samplesize, prob = 1/length(dfHeights$Height)*c(1:length(dfHeights$Height)), replace = FALSE))\n",
        "sampleData\n",
        "sampleMean = apply(sampleData, 2, mean)\n",
        "sampleMean\n",
        "mean(sampleMean)"
      ],
      "metadata": {
        "id": "1AXTqdQF9rRa"
      },
      "execution_count": null,
      "outputs": []
    },
    {
      "cell_type": "code",
      "source": [
        "samplesize = 2\n",
        "nsimulations = 1000\n",
        "\n",
        "sampleData = replicate(nsimulations, sample(dfHeights$Height, size = samplesize, prob = 1/length(dfHeights$Height)*c(1:length(dfHeights$Height)), replace = FALSE))\n",
        "#print(sampleData)\n",
        "\n",
        "# Simulating the sample mean (sample mean is a random variable)\n",
        "sampleMean = apply(sampleData, 2, mean)\n",
        "#sampleMean\n",
        "\n",
        "# Mean of the simulated sample mean values\n",
        "meanSampleMean = mean(sampleMean)\n",
        "meanSampleMean\n",
        "\n",
        "# Standard deviation of the simulated values of sample mean\n",
        "sdSampleMean = sd(sampleMean)\n",
        "sdSampleMean\n",
        "\n",
        "# Histogram\n",
        "delta = 0.05\n",
        "dfSampleMean = as.data.frame(sampleMean)\n",
        "colnames(dfSampleMean) = c('SampleMean')\n",
        "p4 = ggplot(data = dfSampleMean) +\n",
        "  geom_histogram(aes(x = SampleMean, y = ..count../sum(..count..)),\n",
        "  breaks = seq(meanSampleMean-4*sdSampleMean, meanSampleMean+4*sdSampleMean, by = delta),\n",
        "  colour = 'black', fill = 'steelblue', alpha = 0.4) +\n",
        "  labs(x = 'Height (cm)', y = 'Relative Frequency')\n",
        "p4  "
      ],
      "metadata": {
        "id": "WWJjgbuxlg3a"
      },
      "execution_count": null,
      "outputs": []
    },
    {
      "cell_type": "markdown",
      "source": [
        "Plot the hisotogram for the random variable *sample mean* using $\\texttt{samplesize}=10, 100, 1000, 10000$ and $\\texttt{nsimulations}=1000.$"
      ],
      "metadata": {
        "id": "zYRSoPKuVfm7"
      }
    },
    {
      "cell_type": "code",
      "source": [
        ""
      ],
      "metadata": {
        "id": "xmh3HLh3xvZh"
      },
      "execution_count": null,
      "outputs": []
    },
    {
      "cell_type": "markdown",
      "source": [
        "Suppose $X$ is a random variable with expected value $E[X]$ and standard deviation $\\text{SD}[X].$ Note that $X$ need *not necessarily* be a normal random variable. We can form a new random variable as follows: $$Z = \\frac{X-E[X]}{\\text{SD}[X]}.$$ The random variable $Z$ can be seen as constructed from the original random variable $X$ by subtracting the expected value of $X$ (mean of $X$) and dividing by the standard deviation of $X.$ This process is called *standardizing* the random variable $X.$ The expected value of $Z$ is 0 and its standard deviation is 1. \n",
        "\n",
        "In the example below, we choose $X\\sim\\text{N}(\\mu = 170\\,\\text{cm},\\,\\sigma=8\\,\\text{cm})$ representing the random height of an individual in a population. The expected value $E[X] = \\mu = 170$ and $\\text{SD}[X] = \\sigma =8 .$ \n",
        "\n",
        "$X\\sim\\text{Unif}(a = 0, b = 30).$ The expected value $E[X] = \\frac{b+a}{2}$ and $\\text{SD}[X] = \\sqrt{\\frac{(b-a)^2}{12}}.$ "
      ],
      "metadata": {
        "id": "cW2TIzApx1G5"
      }
    },
    {
      "cell_type": "code",
      "metadata": {
        "id": "ORXeDZ1QL8Zx",
        "colab": {
          "base_uri": "https://localhost:8080/",
          "height": 471
        },
        "outputId": "c5fefcb0-1872-4ed2-9b2b-05d3b3a29d00"
      },
      "source": [
        "mu = 170\n",
        "sigma = 8\n",
        "delta = 0.05\n",
        "nsimulations = 1e5\n",
        "simulatedData = rnorm(nsimulations, mean = mu, sd = sigma)\n",
        "\n",
        "# Standardize simulated data\n",
        "Z = (simulatedData - mu) / sigma\n",
        "dfStd = as.data.frame(Z)\n",
        "colnames(dfStd) = c('zScores')\n",
        "p5 = ggplot(data = dfStd) +\n",
        "  geom_histogram(aes(x = zScores, y = ..density..),\n",
        "  breaks = seq(-3, 3, by = delta),\n",
        "  colour = \"black\", fill = \"steelblue\") +\n",
        "  stat_function(fun = dnorm, args = list(mean = 0, sd = 1)) +\n",
        "  labs(x = 'Standardized Height (No Units)', y = 'Density') +\n",
        "  theme(axis.text = element_text(size = 12),\n",
        "  axis.text.x = element_text(size = 14),\n",
        "  axis.text.y = element_text(size = 14),\n",
        "  axis.title =element_text(size = 14, face = \"bold\"))\n",
        "p5  \n",
        "mean(Z)\n",
        "sd(Z)"
      ],
      "execution_count": 19,
      "outputs": [
        {
          "output_type": "display_data",
          "data": {
            "text/plain": [
              "[1] 0.001378243"
            ],
            "text/latex": "0.0013782434733603",
            "text/markdown": "0.0013782434733603",
            "text/html": [
              "0.0013782434733603"
            ]
          },
          "metadata": {}
        },
        {
          "output_type": "display_data",
          "data": {
            "text/plain": [
              "[1] 0.9975166"
            ],
            "text/latex": "0.997516641909662",
            "text/markdown": "0.997516641909662",
            "text/html": [
              "0.997516641909662"
            ]
          },
          "metadata": {}
        },
        {
          "output_type": "display_data",
          "data": {
            "image/png": "[encoded data removed]",
            "text/plain": [
              "plot without title"
            ]
          },
          "metadata": {
            "image/png": {
              "width": 420,
              "height": 420
            }
          }
        }
      ]
    },
    {
      "cell_type": "markdown",
      "source": [
        "What is the probability that a random individual's height is in between 160 cm and 180 cm?"
      ],
      "metadata": {
        "id": "dVVIKEIkuDLX"
      }
    },
    {
      "cell_type": "code",
      "metadata": {
        "id": "uv21r_AZP_YX",
        "colab": {
          "base_uri": "https://localhost:8080/",
          "height": 51
        },
        "outputId": "c1482255-2722-4aba-eb15-ad4d7a14ddf6"
      },
      "source": [
        "mu = 170\n",
        "sigma = 8\n",
        "pnorm(180, mean = mu, sd = sigma) - pnorm(160, mean = mu, sd = sigma)\n",
        "pnorm((180-mu)/sigma, mean = 0, sd = 1) - pnorm((160-mu)/sigma, mean = 0, sd = 1) "
      ],
      "execution_count": 20,
      "outputs": [
        {
          "output_type": "display_data",
          "data": {
            "text/plain": [
              "[1] 0.7887005"
            ],
            "text/latex": "0.78870045266629",
            "text/markdown": "0.78870045266629",
            "text/html": [
              "0.78870045266629"
            ]
          },
          "metadata": {}
        },
        {
          "output_type": "display_data",
          "data": {
            "text/plain": [
              "[1] 0.7887005"
            ],
            "text/latex": "0.78870045266629",
            "text/markdown": "0.78870045266629",
            "text/html": [
              "0.78870045266629"
            ]
          },
          "metadata": {}
        }
      ]
    },
    {
      "cell_type": "code",
      "source": [
        "# X~N(mu = 170, sigma = 8)\n",
        "mu = 170\n",
        "sigma = 8\n",
        "qnorm(0.9, mu, sigma) #P(X <= ?) = 0.9\n",
        "qnorm(0.5, mu, sigma) #P(X <= ?) = 0.5, median\n",
        "qnorm(0.75, mu, sigma) #P(X <= ?) = 0.75, upper quartile\n",
        "qnorm(0.25, mu, sigma) #P(X <= ?) = 0.25, lower quartile\n",
        "qnorm(0.75, mu, sigma) - qnorm(0.25, mu, sigma) # IQR"
      ],
      "metadata": {
        "colab": {
          "base_uri": "https://localhost:8080/",
          "height": 103
        },
        "id": "4D9hlpbc93Mp",
        "outputId": "4c588e8b-affe-4e67-a2ff-db5e215db561"
      },
      "execution_count": 25,
      "outputs": [
        {
          "output_type": "display_data",
          "data": {
            "text/plain": [
              "[1] 180.2524"
            ],
            "text/latex": "180.252412524357",
            "text/markdown": "180.252412524357",
            "text/html": [
              "180.252412524357"
            ]
          },
          "metadata": {}
        },
        {
          "output_type": "display_data",
          "data": {
            "text/plain": [
              "[1] 170"
            ],
            "text/latex": "170",
            "text/markdown": "170",
            "text/html": [
              "170"
            ]
          },
          "metadata": {}
        },
        {
          "output_type": "display_data",
          "data": {
            "text/plain": [
              "[1] 175.3959"
            ],
            "text/latex": "175.395918001569",
            "text/markdown": "175.395918001569",
            "text/html": [
              "175.395918001569"
            ]
          },
          "metadata": {}
        },
        {
          "output_type": "display_data",
          "data": {
            "text/plain": [
              "[1] 164.6041"
            ],
            "text/latex": "164.604081998431",
            "text/markdown": "164.604081998431",
            "text/html": [
              "164.604081998431"
            ]
          },
          "metadata": {}
        },
        {
          "output_type": "display_data",
          "data": {
            "text/plain": [
              "[1] 10.79184"
            ],
            "text/latex": "10.7918360031373",
            "text/markdown": "10.7918360031373",
            "text/html": [
              "10.7918360031373"
            ]
          },
          "metadata": {}
        }
      ]
    },
    {
      "cell_type": "code",
      "metadata": {
        "id": "adWU0TDvQ4nM",
        "colab": {
          "base_uri": "https://localhost:8080/",
          "height": 489
        },
        "outputId": "1abdc7d5-c12f-4a00-eccc-580474f31e0b"
      },
      "source": [
        "mu = 170\n",
        "sigma = 8\n",
        "qnorm(0.9, mu, sigma) # The answer is 180 cm, which is called the 90th percentile \n",
        "# or the 0.9th quantile\n",
        "qnorm(0.5, mu, sigma) # The answer is called the 50th percentile or the 0.5th quantile\n",
        "# The above is the median\n",
        "\n",
        "x = seq(mu-4*sigma, mu+4*sigma, by = (8*sigma)/1000)\n",
        "y = dnorm(x = x, mean = mu, sd = sigma)\n",
        "\n",
        "df = data.frame(x, y)\n",
        "p = ggplot(df) +\n",
        "  geom_line(aes(x, y)) +\n",
        "  geom_ribbon(data = df %>% filter(x <= 180.25),  aes(x = x,\n",
        "                  ymin = 0, ymax = y), fill = \"blue\") +\n",
        "  labs(x = 'x', y = 'f(x)', title = 'Probability Density Function of a Normal RV') +\n",
        "  theme(axis.text = element_text(size = 12),\n",
        "  axis.text.x = element_text(size = 14),\n",
        "  axis.text.y = element_text(size = 14),\n",
        "  axis.title =element_text(size = 14, face = \"bold\"))\n",
        "p  \n",
        "pnorm(180, mu, sigma)"
      ],
      "execution_count": 26,
      "outputs": [
        {
          "output_type": "display_data",
          "data": {
            "text/plain": [
              "[1] 180.2524"
            ],
            "text/latex": "180.252412524357",
            "text/markdown": "180.252412524357",
            "text/html": [
              "180.252412524357"
            ]
          },
          "metadata": {}
        },
        {
          "output_type": "display_data",
          "data": {
            "text/plain": [
              "[1] 170"
            ],
            "text/latex": "170",
            "text/markdown": "170",
            "text/html": [
              "170"
            ]
          },
          "metadata": {}
        },
        {
          "output_type": "display_data",
          "data": {
            "text/plain": [
              "[1] 0.8943502"
            ],
            "text/latex": "0.894350226333145",
            "text/markdown": "0.894350226333145",
            "text/html": [
              "0.894350226333145"
            ]
          },
          "metadata": {}
        },
        {
          "output_type": "display_data",
          "data": {
            "image/png": "[encoded data removed]",
            "text/plain": [
              "plot without title"
            ]
          },
          "metadata": {
            "image/png": {
              "width": 420,
              "height": 420
            }
          }
        }
      ]
    },
    {
      "cell_type": "code",
      "source": [
        "# 95% confidence \n",
        "alpha = 1 - 0.95 # degree of doubt\n",
        "# The (1-alpha/2)th quantile for the standard normal distribution\n",
        "qnorm(1-alpha/2, mean = 0, sd = 1)\n",
        "print('----')\n",
        "# P(Z <= the (1-alpha/2)th quantile)\n",
        "pnorm(qnorm(1-alpha/2, mean = 0, sd = 1), mean = 0, sd = 1)\n",
        "1-alpha/2\n",
        "print('----')\n",
        "# P(Z >= the (1-alpha/2)th quantile)\n",
        "pnorm(qnorm(1-alpha/2, mean = 0, sd = 1), mean = 0, sd = 1, lower.tail = FALSE)\n",
        "alpha/2\n",
        "print('----')\n",
        "# P(Z <= the negative of the (1-alpha/2)th quantile)\n",
        "pnorm(-qnorm(1-alpha/2, mean = 0, sd = 1), mean = 0, sd = 1)\n",
        "alpha/2\n",
        "print('----')\n",
        "# P(the negative of the (1-alpha/2)th quantile <= Z <= the (1-alpha/2)th quantile)\n",
        "pnorm(qnorm(1-alpha/2, mean = 0, sd = 1), mean = 0, sd = 1)-pnorm(-qnorm(1-alpha/2, mean = 0, sd = 1), mean = 0, sd = 1)\n",
        "1-alpha"
      ],
      "metadata": {
        "colab": {
          "base_uri": "https://localhost:8080/",
          "height": 242
        },
        "id": "IkadhAV7BfYV",
        "outputId": "2012f3da-4815-4959-e954-cc3945635acd"
      },
      "execution_count": 37,
      "outputs": [
        {
          "output_type": "display_data",
          "data": {
            "text/plain": [
              "[1] 1.959964"
            ],
            "text/latex": "1.95996398454005",
            "text/markdown": "1.95996398454005",
            "text/html": [
              "1.95996398454005"
            ]
          },
          "metadata": {}
        },
        {
          "output_type": "stream",
          "name": "stdout",
          "text": [
            "[1] \"----\"\n"
          ]
        },
        {
          "output_type": "display_data",
          "data": {
            "text/plain": [
              "[1] 0.975"
            ],
            "text/latex": "0.975",
            "text/markdown": "0.975",
            "text/html": [
              "0.975"
            ]
          },
          "metadata": {}
        },
        {
          "output_type": "display_data",
          "data": {
            "text/plain": [
              "[1] 0.975"
            ],
            "text/latex": "0.975",
            "text/markdown": "0.975",
            "text/html": [
              "0.975"
            ]
          },
          "metadata": {}
        },
        {
          "output_type": "stream",
          "name": "stdout",
          "text": [
            "[1] \"----\"\n"
          ]
        },
        {
          "output_type": "display_data",
          "data": {
            "text/plain": [
              "[1] 0.025"
            ],
            "text/latex": "0.025",
            "text/markdown": "0.025",
            "text/html": [
              "0.025"
            ]
          },
          "metadata": {}
        },
        {
          "output_type": "display_data",
          "data": {
            "text/plain": [
              "[1] 0.025"
            ],
            "text/latex": "0.025",
            "text/markdown": "0.025",
            "text/html": [
              "0.025"
            ]
          },
          "metadata": {}
        },
        {
          "output_type": "stream",
          "name": "stdout",
          "text": [
            "[1] \"----\"\n"
          ]
        },
        {
          "output_type": "display_data",
          "data": {
            "text/plain": [
              "[1] 0.025"
            ],
            "text/latex": "0.025",
            "text/markdown": "0.025",
            "text/html": [
              "0.025"
            ]
          },
          "metadata": {}
        },
        {
          "output_type": "display_data",
          "data": {
            "text/plain": [
              "[1] 0.025"
            ],
            "text/latex": "0.025",
            "text/markdown": "0.025",
            "text/html": [
              "0.025"
            ]
          },
          "metadata": {}
        },
        {
          "output_type": "stream",
          "name": "stdout",
          "text": [
            "[1] \"----\"\n"
          ]
        },
        {
          "output_type": "display_data",
          "data": {
            "text/plain": [
              "[1] 0.95"
            ],
            "text/latex": "0.95",
            "text/markdown": "0.95",
            "text/html": [
              "0.95"
            ]
          },
          "metadata": {}
        },
        {
          "output_type": "display_data",
          "data": {
            "text/plain": [
              "[1] 0.95"
            ],
            "text/latex": "0.95",
            "text/markdown": "0.95",
            "text/html": [
              "0.95"
            ]
          },
          "metadata": {}
        }
      ]
    },
    {
      "cell_type": "markdown",
      "metadata": {
        "id": "v65_e5xnEBPB"
      },
      "source": [
        "Confidence interval calculation"
      ]
    },
    {
      "cell_type": "code",
      "metadata": {
        "id": "d_pB7AWpEAhd",
        "colab": {
          "base_uri": "https://localhost:8080/",
          "height": 51
        },
        "outputId": "9b235f5d-f498-4147-c9d0-a373e9d5f294"
      },
      "source": [
        "mu = 170\n",
        "sigma = 8\n",
        "\n",
        "CIpercentage = 99 # Confidence level\n",
        "alpha = 1-CIpercentage/100 # Diffidence level\n",
        "\n",
        "#set.seed(1)\n",
        "\n",
        "# Number of simulations\n",
        "nsimulations =  1e5\n",
        "\n",
        "# Sample size\n",
        "samplesize = 100\n",
        "\n",
        "# Simulate data\n",
        "simulatedData = replicate(nsimulations, rnorm(samplesize, mean = mu, sd = sigma))\n",
        "#simulatedData\n",
        "\n",
        "# Function to calculate confidence interval\n",
        "computeCI = function(data){\n",
        "  lower_bound = mean(data) - qnorm(1-alpha/2)*sd(data)/sqrt(length(data))\n",
        "  upper_bound = mean(data) + qnorm(1-alpha/2)*sd(data)/sqrt(length(data))\n",
        "  return(c(lower_bound, upper_bound))\n",
        "  }\n",
        "\n",
        "confidence_intervals = apply(simulatedData, 2, computeCI) \n",
        "print(confidence_intervals[, 1])\n",
        "\n",
        "# Percentage of intervals that contain the true value of the parameter mu = 170\n",
        "checkCI = function(bound){\n",
        "   return(between(mu, bound[1], bound[2]))\n",
        " }\n",
        "mean(apply(confidence_intervals, 2, checkCI))*100 "
      ],
      "execution_count": 66,
      "outputs": [
        {
          "output_type": "stream",
          "name": "stdout",
          "text": [
            "[1] 168.0471 172.0762\n"
          ]
        },
        {
          "output_type": "display_data",
          "data": {
            "text/plain": [
              "[1] 98.883"
            ],
            "text/latex": "98.883",
            "text/markdown": "98.883",
            "text/html": [
              "98.883"
            ]
          },
          "metadata": {}
        }
      ]
    }
  ]
}