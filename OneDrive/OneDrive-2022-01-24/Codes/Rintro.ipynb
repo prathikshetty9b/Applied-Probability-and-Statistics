{
  "nbformat": 4,
  "nbformat_minor": 0,
  "metadata": {
    "kernelspec": {
      "display_name": "R",
      "language": "R",
      "name": "ir"
    },
    "language_info": {
      "codemirror_mode": "r",
      "file_extension": ".r",
      "mimetype": "text/x-r-source",
      "name": "R",
      "pygments_lexer": "r",
      "version": "3.3.1"
    },
    "colab": {
      "name": "Rintro.ipynb",
      "provenance": [],
      "collapsed_sections": []
    }
  },
  "cells": [
    {
      "cell_type": "code",
      "metadata": {
        "id": "3oAyjp4suAKa"
      },
      "source": [
        "## Load packages\n",
        "library(ggplot2) # powerful visualization library\n",
        "library(dplyr) # powerful data wrangling library"
      ],
      "execution_count": null,
      "outputs": []
    },
    {
      "cell_type": "code",
      "metadata": {
        "id": "fo7ybUSTRE9L"
      },
      "source": [
        "## Basic datatypes in R\n",
        "# List\n",
        "alist = list(1, 'Name', c('a','b', 'c')) # the third element of the list is an array\n",
        "# Array\n",
        "anarray = c(1, 2, 3, 4) # an array with 4 elements\n",
        "# Matrix\n",
        "amatrix = matrix(anarray, nrow = 2, ncol = 2)"
      ],
      "execution_count": null,
      "outputs": []
    },
    {
      "cell_type": "code",
      "metadata": {
        "id": "v-I9Ej5siOaV"
      },
      "source": [
        "print(alist)"
      ],
      "execution_count": null,
      "outputs": []
    },
    {
      "cell_type": "code",
      "metadata": {
        "id": "FabNgFmWxvPa"
      },
      "source": [
        "anewlist = list(1, 'Name', list('a','b', 'c'))\n",
        "print(anewlist)\n",
        "print(str(anewlist))"
      ],
      "execution_count": null,
      "outputs": []
    },
    {
      "cell_type": "code",
      "metadata": {
        "id": "WBQiAlfqzNtz"
      },
      "source": [
        "# Modify slot of a list\n",
        "anewlist = list(1, 'Name', c('a','b', 'c'))\n",
        "anewlist[1] = 10\n",
        "print(anewlist)"
      ],
      "execution_count": null,
      "outputs": []
    },
    {
      "cell_type": "code",
      "metadata": {
        "id": "vKq_2HsMzg0d"
      },
      "source": [
        "# Modify slot of a list\n",
        "anewlist = list(1, 'Name', c('a','b', 'c'))\n",
        "anewlist[[1]] = 10\n",
        "print(anewlist)"
      ],
      "execution_count": null,
      "outputs": []
    },
    {
      "cell_type": "code",
      "metadata": {
        "id": "mVejc9DRz8fZ"
      },
      "source": [
        "# Modify slot of a list\n",
        "anewlist = list(1, 'Name', c('a','b', 'c'))\n",
        "anewlist[3] = 10\n",
        "print(anewlist)"
      ],
      "execution_count": null,
      "outputs": []
    },
    {
      "cell_type": "code",
      "metadata": {
        "id": "o3Xu1uX20DxF"
      },
      "source": [
        "# Modify slot of a list\n",
        "anewlist = list(1, 'Name', c('a','b', 'c'))\n",
        "anewlist[[3]] = 10\n",
        "print(anewlist)"
      ],
      "execution_count": null,
      "outputs": []
    },
    {
      "cell_type": "code",
      "metadata": {
        "id": "opY1lkdxiVKs"
      },
      "source": [
        "print(anarray)"
      ],
      "execution_count": null,
      "outputs": []
    },
    {
      "cell_type": "code",
      "metadata": {
        "id": "2n4c6FgbyTJO"
      },
      "source": [
        "str(anarray)"
      ],
      "execution_count": null,
      "outputs": []
    },
    {
      "cell_type": "code",
      "metadata": {
        "id": "yCK3MbOLyi3a"
      },
      "source": [
        "anarray[1]"
      ],
      "execution_count": null,
      "outputs": []
    },
    {
      "cell_type": "code",
      "metadata": {
        "id": "4_vvEfx0jOxc"
      },
      "source": [
        "print(amatrix)"
      ],
      "execution_count": null,
      "outputs": []
    },
    {
      "cell_type": "code",
      "metadata": {
        "id": "mYiP-L6F2Th3"
      },
      "source": [
        "## Accessing elements of a 1D-array\n",
        "anarray[1]\n",
        "\n",
        "## Accessing elements of a 2D-array\n",
        "amatrix[1, 1]"
      ],
      "execution_count": null,
      "outputs": []
    },
    {
      "cell_type": "code",
      "metadata": {
        "id": "SPJcteGejvwo"
      },
      "source": [
        "# Length and dimension\n",
        "length(alist)\n",
        "length(anarray)\n",
        "dim(amatrix)"
      ],
      "execution_count": null,
      "outputs": []
    },
    {
      "cell_type": "code",
      "metadata": {
        "id": "jF_hLYulj_3w"
      },
      "source": [
        "# Structure of an object\n",
        "str(alist)\n",
        "str(anarray)\n",
        "str(amatrix)"
      ],
      "execution_count": null,
      "outputs": []
    },
    {
      "cell_type": "code",
      "metadata": {
        "id": "t-jpXozLvXZg"
      },
      "source": [
        "# Accessing elements of a list (indexing starts from 1 in R)\n",
        "alist[2]\n",
        "alist[[2]]\n",
        "str(alist[2])\n",
        "str(alist[[2]])"
      ],
      "execution_count": null,
      "outputs": []
    },
    {
      "cell_type": "code",
      "metadata": {
        "id": "iPVpvRFolSG2"
      },
      "source": [
        "# Accessing elements of a list (indexing starts from 1 in R)\n",
        "alist[3] # 3rd element of the list\n",
        "alist[[3]] # 3rd element of the list"
      ],
      "execution_count": null,
      "outputs": []
    },
    {
      "cell_type": "code",
      "metadata": {
        "id": "xuYsM7a3l7L6"
      },
      "source": [
        "str(alist[3]) # structure of 3rd element of the list accessed using []"
      ],
      "execution_count": null,
      "outputs": []
    },
    {
      "cell_type": "code",
      "metadata": {
        "id": "ZU9RWw6PmMGX"
      },
      "source": [
        "str(alist[[3]]) # structure of 3rd element of the list accessed using [[]]"
      ],
      "execution_count": null,
      "outputs": []
    },
    {
      "cell_type": "code",
      "metadata": {
        "id": "DeqbaX_jxJP-"
      },
      "source": [
        "alist[3][1]"
      ],
      "execution_count": null,
      "outputs": []
    },
    {
      "cell_type": "code",
      "metadata": {
        "id": "wpd4u5n0w9ne"
      },
      "source": [
        "alist[[3]][1]"
      ],
      "execution_count": null,
      "outputs": []
    },
    {
      "cell_type": "code",
      "metadata": {
        "id": "eQjPzYEJg39s"
      },
      "source": [
        "# Slot is an attribute/property of an object\n",
        "# price, numberDoors, typeEngine and mileage are slots of the class \"Car\".\n",
        "setClass('Car', representation = representation(\n",
        "   price = 'numeric',\n",
        "   numberDoors = 'numeric',\n",
        "   typeEngine = 'character',\n",
        "   mileage = 'numeric'\n",
        "))\n",
        "aCar = new('Car' , price = 20000, numberDoors = 4, typeEngine = 'V6', mileage = 143)\n",
        "aCar"
      ],
      "execution_count": null,
      "outputs": []
    },
    {
      "cell_type": "code",
      "metadata": {
        "id": "1Daf7MRD1Qt-"
      },
      "source": [
        "str(aCar)"
      ],
      "execution_count": null,
      "outputs": []
    },
    {
      "cell_type": "code",
      "metadata": {
        "id": "2hWWtNrJhFX4"
      },
      "source": [
        "# Slots can be accessed using the @ symbol \n",
        "aCar@price "
      ],
      "execution_count": null,
      "outputs": []
    },
    {
      "cell_type": "code",
      "metadata": {
        "id": "lH5EWxhyhb_V"
      },
      "source": [
        "# Slots can also be accessed using the in-built 'slot' function\n",
        "slot(aCar,'price')"
      ],
      "execution_count": null,
      "outputs": []
    },
    {
      "cell_type": "code",
      "metadata": {
        "id": "P6scC8eghq0X"
      },
      "source": [
        "# Get the names of the slots\n",
        "slotNames(aCar)"
      ],
      "execution_count": null,
      "outputs": []
    },
    {
      "cell_type": "code",
      "metadata": {
        "id": "FsWwA0Jfh8B4"
      },
      "source": [
        "# So how are classes implemented in R?\n",
        "?Classes_Details"
      ],
      "execution_count": null,
      "outputs": []
    },
    {
      "cell_type": "code",
      "metadata": {
        "id": "cS9Tu9lenEwO"
      },
      "source": [
        "# Create a dataframe\n",
        "Name = c('A', 'B', 'C')\n",
        "Age = c(21, 22, 20)\n",
        "Height = c(165, 170, 164)\n",
        "sData = data.frame(Name, Age, Height)\n",
        "rownames(sData) = c('Ajith', 'Vishnu', 'John')"
      ],
      "execution_count": null,
      "outputs": []
    },
    {
      "cell_type": "code",
      "metadata": {
        "id": "v_RkshKRnrgQ"
      },
      "source": [
        "head(sData)"
      ],
      "execution_count": null,
      "outputs": []
    },
    {
      "cell_type": "code",
      "metadata": {
        "id": "A-qm6L5HoEuL"
      },
      "source": [
        "str(sData)"
      ],
      "execution_count": null,
      "outputs": []
    },
    {
      "cell_type": "code",
      "metadata": {
        "id": "TsaMZLM1oatj"
      },
      "source": [
        "# Accessing elements of a data frame using $\n",
        "sData$Age"
      ],
      "execution_count": null,
      "outputs": []
    },
    {
      "cell_type": "code",
      "metadata": {
        "id": "bg7Bk_z_pVQ8"
      },
      "source": [
        "# Accessing elements of a data frame using [[]]\n",
        "sData[['Age']]"
      ],
      "execution_count": null,
      "outputs": []
    },
    {
      "cell_type": "code",
      "metadata": {
        "id": "GOkAtRa75lOE"
      },
      "source": [
        "# Accessing elements of a data frame using []\n",
        "sData['Age']"
      ],
      "execution_count": null,
      "outputs": []
    },
    {
      "cell_type": "code",
      "metadata": {
        "id": "HhBgQMcB7gp4"
      },
      "source": [
        "## Extract the age of Ajith\n",
        "sData['Age']['Ajith', 'Age']\n",
        "sData['Age']['Ajith', 1]\n",
        "sData['Age'][1, 1]\n",
        "sData$Age[1]\n",
        "sData[['Age']][1]"
      ],
      "execution_count": null,
      "outputs": []
    },
    {
      "cell_type": "code",
      "metadata": {
        "id": "I1XPDTk0quSQ"
      },
      "source": [
        "str(sData$Age)\n",
        "str(sData[['Age']])\n",
        "str(sData['Age'])"
      ],
      "execution_count": null,
      "outputs": []
    },
    {
      "cell_type": "code",
      "metadata": {
        "id": "iV1okuM39SAl"
      },
      "source": [
        "mean(sData$Age)\n",
        "mean(sData[['Age']])\n",
        "mean(sData['Age']) # This results in an incorrect output"
      ],
      "execution_count": null,
      "outputs": []
    },
    {
      "cell_type": "code",
      "metadata": {
        "id": "jLmPrdfy9223"
      },
      "source": [
        "# Accessing multiple columns\n",
        "sData['Age', 'Height']"
      ],
      "execution_count": null,
      "outputs": []
    },
    {
      "cell_type": "code",
      "metadata": {
        "id": "OmaUs5MtsiNd"
      },
      "source": [
        "# Accessing multiple columns\n",
        "sData[c('Age', 'Height')]"
      ],
      "execution_count": null,
      "outputs": []
    },
    {
      "cell_type": "code",
      "metadata": {
        "id": "jSacHdmd-jZu"
      },
      "source": [
        "# Accessing multiple columns\n",
        "sData[[c('Age', 'Height')]]"
      ],
      "execution_count": null,
      "outputs": []
    },
    {
      "cell_type": "code",
      "metadata": {
        "id": "9ndl_UVj_Bmt"
      },
      "source": [
        "S = as.matrix(sData[c('Age', 'Height')])\n",
        "print(S)\n",
        "str(S)"
      ],
      "execution_count": null,
      "outputs": []
    },
    {
      "cell_type": "code",
      "metadata": {
        "id": "xuL8MOeZA1oo"
      },
      "source": [
        "str(as.integer(sData[['Age']])) # change in-place?"
      ],
      "execution_count": null,
      "outputs": []
    },
    {
      "cell_type": "code",
      "metadata": {
        "id": "uPseobEZ_2EP"
      },
      "source": [
        "S[, 1]\n",
        "mean(S[, 1])"
      ],
      "execution_count": null,
      "outputs": []
    },
    {
      "cell_type": "code",
      "metadata": {
        "id": "XpTC9KaBrYsU"
      },
      "source": [
        "file = 'http://openmv.net/file/food-texture.csv'\n",
        "foodData = read.csv(file, header = TRUE, row.names = 1)"
      ],
      "execution_count": null,
      "outputs": []
    },
    {
      "cell_type": "code",
      "metadata": {
        "id": "lyNxROhIsGiQ"
      },
      "source": [
        "head(foodData)"
      ],
      "execution_count": null,
      "outputs": []
    },
    {
      "cell_type": "code",
      "metadata": {
        "id": "nZsJZ_wKtZgv"
      },
      "source": [
        "# Dimension of food data frame\n",
        "dim(foodData)"
      ],
      "execution_count": null,
      "outputs": []
    },
    {
      "cell_type": "code",
      "metadata": {
        "id": "vxzrWWWytiE7"
      },
      "source": [
        "# Structure of food data frame\n",
        "str(foodData)"
      ],
      "execution_count": null,
      "outputs": []
    },
    {
      "cell_type": "code",
      "metadata": {
        "id": "XE0cTgletrvl"
      },
      "source": [
        "# Make a scatter plot betwen Density (x-axis) and Oil (y-axis)\n",
        "p = ggplot(data = foodData, aes(x = Density, y = Oil)) + geom_point(size = 1)\n",
        "p"
      ],
      "execution_count": null,
      "outputs": []
    },
    {
      "cell_type": "code",
      "metadata": {
        "id": "62e5lo_uGVTl"
      },
      "source": [
        "str(foodData$Crispy)"
      ],
      "execution_count": null,
      "outputs": []
    },
    {
      "cell_type": "code",
      "metadata": {
        "id": "8N3fmrG_GvfB"
      },
      "source": [
        "unique(foodData$Crispy)"
      ],
      "execution_count": null,
      "outputs": []
    },
    {
      "cell_type": "code",
      "metadata": {
        "id": "YvRtYWeLSveG"
      },
      "source": [
        "# The factor() function\n",
        "factor(foodData$Crispy) # create levels out of categorical data"
      ],
      "execution_count": null,
      "outputs": []
    },
    {
      "cell_type": "code",
      "metadata": {
        "id": "mqSvAuHRPFn8"
      },
      "source": [
        "# Make a scatter plot betwen Density (x-axis) and Oil (y-axis)\n",
        "p1 = ggplot(data = foodData, aes(x = Density, y = Oil, color = factor(Crispy))) + geom_point(size = 1)\n",
        "p1"
      ],
      "execution_count": null,
      "outputs": []
    },
    {
      "cell_type": "code",
      "metadata": {
        "id": "VnCA_ZpyRT0Y"
      },
      "source": [
        "cor(foodData$Density, foodData$Oil, method = 'pearson')"
      ],
      "execution_count": null,
      "outputs": []
    },
    {
      "cell_type": "code",
      "metadata": {
        "id": "slci48Thwhjk"
      },
      "source": [
        "# Make a scatter plot betwen Hardness (x-axis) and Oil (y-axis)\n",
        "p2 = ggplot(data = foodData, aes(x = Hardness, y = Oil, color = factor(Crispy))) + geom_point(size = 2)\n",
        "p2"
      ],
      "execution_count": null,
      "outputs": []
    },
    {
      "cell_type": "code",
      "metadata": {
        "id": "ix6eqknNSV8B"
      },
      "source": [
        "cor(foodData$Hardness, foodData$Oil, method = 'pearson')"
      ],
      "execution_count": null,
      "outputs": []
    },
    {
      "cell_type": "code",
      "metadata": {
        "id": "u5N7eQKqph81"
      },
      "source": [
        "head(foodData, 3)\n",
        "dim(foodData)"
      ],
      "execution_count": null,
      "outputs": []
    },
    {
      "cell_type": "code",
      "metadata": {
        "id": "7COIJBM9qA7A"
      },
      "source": [
        "colnames(foodData)"
      ],
      "execution_count": null,
      "outputs": []
    },
    {
      "cell_type": "code",
      "metadata": {
        "id": "yo7nTKo8qcEl"
      },
      "source": [
        "# Functions that can applied to columns of a data frame\n",
        "mean(foodData$Density)"
      ],
      "execution_count": null,
      "outputs": []
    },
    {
      "cell_type": "code",
      "metadata": {
        "id": "wLX3Iec8UEla"
      },
      "source": [
        "# Functions that can applied to columns of a data frame\n",
        "apply(foodData, 2, mean)"
      ],
      "execution_count": null,
      "outputs": []
    },
    {
      "cell_type": "code",
      "metadata": {
        "id": "BpeGf_5zraUZ"
      },
      "source": [
        "# Functions that can applied to columns of a data frame\n",
        "apply(foodData[c('Oil', 'Density')], 2, mean)"
      ],
      "execution_count": null,
      "outputs": []
    },
    {
      "cell_type": "code",
      "metadata": {
        "id": "UH6V3YxSrvGW"
      },
      "source": [
        "str(apply(foodData, 2, mean))"
      ],
      "execution_count": null,
      "outputs": []
    },
    {
      "cell_type": "code",
      "metadata": {
        "id": "7Kbhx0lvVJZB"
      },
      "source": [
        "# Functions that can applied to columns of a data frame\n",
        "lapply(foodData, mean)\n",
        "str(lapply(foodData, mean))"
      ],
      "execution_count": null,
      "outputs": []
    },
    {
      "cell_type": "code",
      "metadata": {
        "id": "ddosDPXFV0cc"
      },
      "source": [
        "# Exercise using apply() and lapply()\n",
        "(apply(foodData, 2, mean))['Oil']\n",
        "(apply(foodData, 2, mean))[1]\n",
        "(lapply(foodData, mean))[1]\n",
        "(lapply(foodData, mean))[[1]]\n",
        "(lapply(foodData, mean))['Oil']\n",
        "(lapply(foodData, mean))[['Oil']]"
      ],
      "execution_count": null,
      "outputs": []
    },
    {
      "cell_type": "code",
      "metadata": {
        "id": "jvrVDxyTXE1f"
      },
      "source": [
        "# Building a data matrix from a data frame\n",
        "X = as.matrix(foodData)\n",
        "dim(X)\n",
        "str(X)"
      ],
      "execution_count": null,
      "outputs": []
    },
    {
      "cell_type": "code",
      "metadata": {
        "id": "jfLMEOLYXa9s"
      },
      "source": [
        "str(foodData) # compare with str(X) above"
      ],
      "execution_count": null,
      "outputs": []
    },
    {
      "cell_type": "code",
      "metadata": {
        "id": "Wl48dYxxuYPJ"
      },
      "source": [
        "X"
      ],
      "execution_count": null,
      "outputs": []
    },
    {
      "cell_type": "code",
      "metadata": {
        "id": "xNmDIi01X0Cu"
      },
      "source": [
        "# Accessing elements of matrix\n",
        "X[, 1] # elements in the first column of matrix X\n",
        "X[1, ] # elements in the first row of matrix X"
      ],
      "execution_count": null,
      "outputs": []
    },
    {
      "cell_type": "code",
      "metadata": {
        "id": "n60LEajXYhj2"
      },
      "source": [
        "str(X[, 1])\n",
        "str(X[1, ])"
      ],
      "execution_count": null,
      "outputs": []
    },
    {
      "cell_type": "code",
      "metadata": {
        "id": "9ACNoSXjxABn"
      },
      "source": [
        "## Convert the 'Crispy' column into a factor (categorical) column\n",
        "apply(foodData['Crispy'], 2, as.factor)"
      ],
      "execution_count": null,
      "outputs": []
    },
    {
      "cell_type": "code",
      "metadata": {
        "id": "sshxBDk8wvKK"
      },
      "source": [
        "## Convert the 'Crispy' column into a factor (categorical) column\n",
        "#foodData$Crispy = as.factor(foodData$Crispy)"
      ],
      "execution_count": null,
      "outputs": []
    },
    {
      "cell_type": "code",
      "metadata": {
        "id": "LNZzjoIIxN9h"
      },
      "source": [
        "#str(foodData)"
      ],
      "execution_count": null,
      "outputs": []
    },
    {
      "cell_type": "code",
      "metadata": {
        "id": "VDspOnoJxu78"
      },
      "source": [
        "## Re-assign 'Crispy' column to numeric\n",
        "#foodData$Crispy = as.integer(foodData$Crispy)"
      ],
      "execution_count": null,
      "outputs": []
    },
    {
      "cell_type": "code",
      "metadata": {
        "id": "XsDXmg_TZ0wQ"
      },
      "source": [
        "# Make a histogram of crispy values (categorical)\n",
        "p3 = ggplot(data = foodData, aes(x = Crispy)) + geom_histogram(color = 'black', fill = 'blue')\n",
        "p3"
      ],
      "execution_count": null,
      "outputs": []
    },
    {
      "cell_type": "code",
      "metadata": {
        "id": "zQ16oZGgbTBV"
      },
      "source": [
        "# Make a histogram of oil values (continuous)\n",
        "p3 = ggplot(data = foodData, aes(x = Oil)) + geom_histogram(color = 'black', fill = 'blue')\n",
        "p3"
      ],
      "execution_count": null,
      "outputs": []
    },
    {
      "cell_type": "code",
      "metadata": {
        "id": "z0kWzY-pcE2O"
      },
      "source": [
        "# We are going to modify data frame\n",
        "# Rename Oil column to OilPercentage\n",
        "#foodData = foodData %>% rename(OilPercentage = Oil)\n",
        "\n",
        "# Get sample values for which Crispy > 13 (filtering samples)\n",
        "#foodData %>% filter(Crispy > 13) \n",
        "\n",
        "# Get sample values for which Crispy > 13 and Oil < 18 (filtering samples)\n",
        "#foodData %>% filter(Crispy > 13 & Oil < 18) \n",
        "\n",
        "# Get all samples values for only Density and Crispy columns (selecting columns)\n",
        "#foodData %>% select(c('Density', 'Crispy'))\n",
        "\n",
        "# Get all samples values excluding Density and Crispy columns (selecting columns)\n",
        "foodData %>% select(-c('Density', 'Crispy'))"
      ],
      "execution_count": null,
      "outputs": []
    },
    {
      "cell_type": "code",
      "metadata": {
        "id": "K1JMRF0nd88R"
      },
      "source": [
        "# Exercise: get sample values for which crispy is between 10 and 13 (inclusive)\n",
        "# and display Oil, Crispy, and Hardness for those samples \n",
        "foodData %>% filter(Crispy >= 10 & Crispy <= 13) %>% select(c('Oil', 'Crispy', 'Hardness'))"
      ],
      "execution_count": null,
      "outputs": []
    },
    {
      "cell_type": "code",
      "metadata": {
        "id": "unyN-OlQfs8k"
      },
      "source": [
        "# Select all features except Hardness\n",
        "#foodData %>% select(-Hardness)\n",
        "\n",
        "# Select all features except Fracture and Hardness\n",
        "foodData %>% select(-c(Hardness, Fracture))"
      ],
      "execution_count": null,
      "outputs": []
    },
    {
      "cell_type": "code",
      "metadata": {
        "id": "B8bdtWas3d0N"
      },
      "source": [
        "# Filter samples with Crispy 7, 8, 9, 14 and 15 \n",
        "foodData %>% filter(Crispy %in% c(7, 8, 9, 14, 15))"
      ],
      "execution_count": null,
      "outputs": []
    },
    {
      "cell_type": "code",
      "metadata": {
        "id": "csCgpVa9gjpc"
      },
      "source": [
        "# Remove samples with Crispy 7, 8, 9, 14 and 15 \n",
        "foodData %>% filter(!(Crispy %in% c(7, 8, 9, 14, 15)))"
      ],
      "execution_count": null,
      "outputs": []
    },
    {
      "cell_type": "code",
      "metadata": {
        "id": "xO0bEL985I99"
      },
      "source": [
        "if (foodData$Crispy <= 10) {\n",
        "  print('low')\n",
        "}\n",
        "else if(foodData$Crispy > 10 & foodData$Crispy <=13) {\n",
        "  print('medium')\n",
        "}\n",
        "else {\n",
        "  print('high')\n",
        "}"
      ],
      "execution_count": null,
      "outputs": []
    },
    {
      "cell_type": "code",
      "metadata": {
        "id": "Lwy69p2yhWCt"
      },
      "source": [
        "# We want to modify Crispy to 'low' (7 < = Crispy <= 11) or 'high' (12 <= Crispy <= 15)\n",
        "foodData %>% mutate(Crispy = ifelse(Crispy >= 7 & Crispy <= 11, 'low', 'high'))"
      ],
      "execution_count": null,
      "outputs": []
    },
    {
      "cell_type": "code",
      "metadata": {
        "id": "lCvNr20j8m_C"
      },
      "source": [
        " simulatedData = sample(c('H', 'T'), size = 10, replace = TRUE, prob = c(0.5, 0.5))\n",
        " #print(simulatedData)\n",
        " print(mean(simulatedData == 'T'))"
      ],
      "execution_count": null,
      "outputs": []
    },
    {
      "cell_type": "code",
      "metadata": {
        "id": "jCJKjw2hCU-w"
      },
      "source": [
        "simulatedData\n",
        "table(simulatedData)\n",
        "as.data.frame(table(simulatedData))"
      ],
      "execution_count": null,
      "outputs": []
    },
    {
      "cell_type": "code",
      "metadata": {
        "id": "-5xHXr8MBIZF"
      },
      "source": [
        "c(1:6)"
      ],
      "execution_count": null,
      "outputs": []
    },
    {
      "cell_type": "code",
      "metadata": {
        "id": "pktZFtIwAvcK"
      },
      "source": [
        " simulatedData = sample(c(1:6), size = 1e06, replace = TRUE, prob = c(1/6, 1/6, 1/6, 1/6, 1/6, 1/6))\n",
        " #print(simulatedData)\n",
        " print(mean(simulatedData == 1))"
      ],
      "execution_count": null,
      "outputs": []
    },
    {
      "cell_type": "code",
      "metadata": {
        "id": "e7zsecz3fqiy"
      },
      "source": [
        "# Sampling- (as well as sample-) space for a single fair-coin toss\n",
        "S = c('H', 'T')\n",
        "\n",
        "# Corresponding probabilities\n",
        "p = c(0.5, 0.5)\n",
        "\n",
        "# Samples representing outcomes of the experiment of selecting 1 object from\n",
        "# the sampling space with replacement - this corresponds to genrating outcomes\n",
        "# of the random experiment of tossing a single fair coin\n",
        "#set.seed(1)\n",
        "nsamples = 1e04\n",
        "simulatedData = sample(S, size = nsamples, replace = TRUE, prob = p)\n",
        "\n",
        "# Create dataframe comprising frequency of each possible outcome in the sample space\n",
        "df= as.data.frame(table(simulatedData))\n",
        "colnames(df) = c('Toss', 'Frequency')\n",
        "print(df)\n",
        "\n",
        "# Frequency plot\n",
        "p = ggplot(data = df, aes(x = Toss, y = Frequency)) +\n",
        "  geom_bar(stat = 'identity', fill = \"steelblue\") +\n",
        "  geom_text(aes(label = Frequency), vjust = -0.3, size = 5) +\n",
        "  theme_minimal()\n",
        "\n",
        "p"
      ],
      "execution_count": null,
      "outputs": []
    },
    {
      "cell_type": "code",
      "metadata": {
        "id": "4fq1NNJiFQqo"
      },
      "source": [
        "# Sampling- (as well as sample-) space for rolling a single fair die\n",
        "S = c(1:6)\n",
        "\n",
        "# Corresponding probabilities\n",
        "p = (1/6)*c(1, 1, 1, 1, 1, 1)\n",
        "\n",
        "simulatedData = replicate(10, sample(S, size = 2, replace = TRUE, prob = p))\n",
        "print(simulatedData)\n",
        "\n",
        "simulatedData[1, ] + simulatedData[2, ] \n",
        "\n",
        "(simulatedData[1, ] + simulatedData[2, ]) == 7\n",
        "\n",
        "mean((simulatedData[1, ] + simulatedData[2, ]) == 7)"
      ],
      "execution_count": null,
      "outputs": []
    },
    {
      "cell_type": "code",
      "metadata": {
        "id": "ZPKpdZ3zgAEV"
      },
      "source": [
        "# Sampling- (as well as sample-) space for rolling a single fair die\n",
        "S = c(1:6)\n",
        "\n",
        "# Corresponding probabilities\n",
        "p = (1/6)*c(1, 1, 1, 1, 1, 1)\n",
        "\n",
        "# Samples representing outcomes of the experiment of selecting 2 objects from\n",
        "# the sampling space with replacement - this corresponds to generating outcomes\n",
        "# of the random experiment of rolling two fair dice\n",
        "nsamples = 1e04\n",
        "simulatedData = replicate(nsamples, sample(S, size = 2, replace = TRUE, prob = p))\n",
        "#print(simulatedData)\n",
        "\n",
        "# Fraction of outcomes where the sum of the rolls is equal to 7\n",
        "mean(simulatedData[1, ] + simulatedData[2, ] == 7)\n",
        "\n",
        "# Fraction of outcomes where the sum of the rolls is equal to 7\n",
        "mean(simulatedData[1, ] + simulatedData[2, ] >= 7)"
      ],
      "execution_count": null,
      "outputs": []
    },
    {
      "cell_type": "code",
      "metadata": {
        "id": "kxgEwLEEgfEN"
      },
      "source": [
        "# Sampling space for rolling a single fair die\n",
        "S = c(1:6)\n",
        "\n",
        "# Corresponding probabilities\n",
        "p = (1/6)*c(1, 1, 1, 1, 1, 1)\n",
        "\n",
        "# Samples representing outcomes of the experiment of selecting 6 objects from\n",
        "# the sampling space with replacement - this corresponds to generating outcomes\n",
        "# of the random experiment of rolling a fair die 6 times\n",
        "samplesize = 1e06\n",
        "simulatedData = replicate(samplesize, sample(S, size = 6, replace = TRUE, prob = p))\n",
        "\n",
        "checkEvent = function(data){\n",
        "    unique_numbers = unique(data) # collecting all the unique values occured\n",
        "    for (val in unique_numbers){\n",
        "      if (sum(val == data) != 2){\n",
        "        return(0)\n",
        "      }\n",
        "    }    \n",
        "    return (1)\n",
        "}\n",
        "\n",
        "approximate_probability = sum(apply(simulatedData, 2, checkEvent)) / samplesize\n",
        "cat(\"Approximate probability of 3 numbers appearing twice each is \", approximate_probability, '\\n')"
      ],
      "execution_count": null,
      "outputs": []
    }
  ]
}