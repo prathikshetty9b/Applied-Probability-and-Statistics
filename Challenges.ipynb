{
 "cells": [
  {
   "cell_type": "markdown",
   "metadata": {},
   "source": [
    "Challenge problem: we saw the ice-cream problem today in class; that is, how likely is it to get an ice cream with all 3 scoops of different flavour from available 10 flavours.\n",
    "\n",
    "Now, use that as a template and calculate using simulation how likely it is for at least two students in a class of 30 to share their birthday (month and year only)."
   ]
  },
  {
   "cell_type": "code",
   "execution_count": 26,
   "metadata": {},
   "outputs": [
    {
     "data": {
      "text/html": [
       "<style>\n",
       ".list-inline {list-style: none; margin:0; padding: 0}\n",
       ".list-inline>li {display: inline-block}\n",
       ".list-inline>li:not(:last-child)::after {content: \"\\00b7\"; padding: 0 .5ex}\n",
       "</style>\n",
       "<ol class=list-inline><li>4</li><li>12</li><li>6</li><li>2</li><li>6</li><li>4</li><li>5</li><li>3</li><li>10</li><li>8</li><li>6</li><li>5</li><li>6</li><li>2</li><li>12</li><li>6</li><li>11</li><li>11</li><li>1</li><li>7</li><li>9</li><li>9</li><li>10</li><li>6</li><li>7</li><li>9</li><li>12</li><li>12</li><li>11</li><li>12</li></ol>\n"
      ],
      "text/latex": [
       "\\begin{enumerate*}\n",
       "\\item 4\n",
       "\\item 12\n",
       "\\item 6\n",
       "\\item 2\n",
       "\\item 6\n",
       "\\item 4\n",
       "\\item 5\n",
       "\\item 3\n",
       "\\item 10\n",
       "\\item 8\n",
       "\\item 6\n",
       "\\item 5\n",
       "\\item 6\n",
       "\\item 2\n",
       "\\item 12\n",
       "\\item 6\n",
       "\\item 11\n",
       "\\item 11\n",
       "\\item 1\n",
       "\\item 7\n",
       "\\item 9\n",
       "\\item 9\n",
       "\\item 10\n",
       "\\item 6\n",
       "\\item 7\n",
       "\\item 9\n",
       "\\item 12\n",
       "\\item 12\n",
       "\\item 11\n",
       "\\item 12\n",
       "\\end{enumerate*}\n"
      ],
      "text/markdown": [
       "1. 4\n",
       "2. 12\n",
       "3. 6\n",
       "4. 2\n",
       "5. 6\n",
       "6. 4\n",
       "7. 5\n",
       "8. 3\n",
       "9. 10\n",
       "10. 8\n",
       "11. 6\n",
       "12. 5\n",
       "13. 6\n",
       "14. 2\n",
       "15. 12\n",
       "16. 6\n",
       "17. 11\n",
       "18. 11\n",
       "19. 1\n",
       "20. 7\n",
       "21. 9\n",
       "22. 9\n",
       "23. 10\n",
       "24. 6\n",
       "25. 7\n",
       "26. 9\n",
       "27. 12\n",
       "28. 12\n",
       "29. 11\n",
       "30. 12\n",
       "\n",
       "\n"
      ],
      "text/plain": [
       " [1]  4 12  6  2  6  4  5  3 10  8  6  5  6  2 12  6 11 11  1  7  9  9 10  6  7\n",
       "[26]  9 12 12 11 12"
      ]
     },
     "metadata": {},
     "output_type": "display_data"
    }
   ],
   "source": [
    "# Sample space for selecting two students who share same birthday(month) \n",
    "S = c(1:12)\n",
    "\n",
    "# Corresponding probabilities\n",
    "p = (1/12)*replicate(12, 1)\n",
    "\n",
    "#number of students\n",
    "students = 30\n",
    "#Birthdays of 30 Students\n",
    "birthdays = replicate(nsamples, sample(S, size = 1, replace = TRUE, prob = p))\n",
    "\n",
    "#Likelihood of students sharing their birthday(month)\n",
    "#mean(simulatedData[1, ] == simulatedData[2, ])\n",
    "simulatedData\n"
   ]
  },
  {
   "cell_type": "code",
   "execution_count": null,
   "metadata": {},
   "outputs": [],
   "source": []
  }
 ],
 "metadata": {
  "interpreter": {
   "hash": "cdcdd9caa4b52f627d359f5b4f59a1542c65ca84e249c9fe81bf228d5aa25fd9"
  },
  "kernelspec": {
   "display_name": "R",
   "language": "R",
   "name": "ir"
  },
  "language_info": {
   "codemirror_mode": "r",
   "file_extension": ".r",
   "mimetype": "text/x-r-source",
   "name": "R",
   "pygments_lexer": "r",
   "version": "4.1.1"
  },
  "orig_nbformat": 4
 },
 "nbformat": 4,
 "nbformat_minor": 2
}
