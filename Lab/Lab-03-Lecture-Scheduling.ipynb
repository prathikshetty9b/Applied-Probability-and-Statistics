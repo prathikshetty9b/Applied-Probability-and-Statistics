{
 "cells": [
  {
   "cell_type": "markdown",
   "metadata": {},
   "source": [
    "# **Lecture Scheduling Problem**\n",
    "## **Problem Statement : Schedule lectures such that all three lectures are on weekdays**\n",
    "**Note** : Sampling Space -> {Monday,Tuesday,Wednesday,Thursday,Friday,Saturday,Sunday}"
   ]
  },
  {
   "cell_type": "markdown",
   "metadata": {},
   "source": [
    "## **Theoritical Solution**"
   ]
  },
  {
   "cell_type": "code",
   "execution_count": 34,
   "metadata": {},
   "outputs": [
    {
     "data": {
      "text/html": [
       "0.285714285714286"
      ],
      "text/latex": [
       "0.285714285714286"
      ],
      "text/markdown": [
       "0.285714285714286"
      ],
      "text/plain": [
       "[1] 0.2857143"
      ]
     },
     "metadata": {},
     "output_type": "display_data"
    }
   ],
   "source": [
    "\n",
    "choose(5,3)/choose(7,3)"
   ]
  },
  {
   "cell_type": "markdown",
   "metadata": {},
   "source": [
    "## **Simulation Using For Loop**"
   ]
  },
  {
   "cell_type": "code",
   "execution_count": 36,
   "metadata": {},
   "outputs": [
    {
     "data": {
      "text/html": [
       "0.28677"
      ],
      "text/latex": [
       "0.28677"
      ],
      "text/markdown": [
       "0.28677"
      ],
      "text/plain": [
       "[1] 0.28677"
      ]
     },
     "metadata": {},
     "output_type": "display_data"
    }
   ],
   "source": [
    "# Sampling Space\n",
    "S = c('Mo','Tu','We','Th','Fr','Sa','Su')\n",
    " \n",
    "# Corresponding probabilities\n",
    "p = 1/7 *replicate(7,1)\n",
    " \n",
    "#Simulate\n",
    "nsimulations = 1e6\n",
    "simulatedData = replicate(nsimulations,sample(S, size = 3, replace = FALSE, prob = p))\n",
    " \n",
    "# Calculate the probbility of getting at least one heads\n",
    "checkEvent = function(data){\n",
    "    for (val in data){\n",
    "        if(val == 'Sa' | val == 'Su')\n",
    "        {\n",
    "            return(0)\n",
    "        }\n",
    "    }\n",
    "    return(1);\n",
    "}\n",
    " \n",
    "#Apply checkEvent() to every column of simulatedData \n",
    "mean(apply(simulatedData,2,checkEvent))"
   ]
  },
  {
   "cell_type": "markdown",
   "metadata": {},
   "source": [
    "## **Simulation Using  %in%**"
   ]
  },
  {
   "cell_type": "code",
   "execution_count": 41,
   "metadata": {},
   "outputs": [
    {
     "data": {
      "text/html": [
       "0.285497"
      ],
      "text/latex": [
       "0.285497"
      ],
      "text/markdown": [
       "0.285497"
      ],
      "text/plain": [
       "[1] 0.285497"
      ]
     },
     "metadata": {},
     "output_type": "display_data"
    }
   ],
   "source": [
    "# Sampling Space\n",
    "S = c('Mo','Tu','We','Th','Fr','Sa','Su')\n",
    " \n",
    "# Corresponding probabilities\n",
    "p = 1/7 *replicate(7,1)\n",
    " \n",
    "#Simulate\n",
    "nsimulations = 1e6\n",
    "simulatedData = replicate(nsimulations,sample(S, size = 3, replace = FALSE, prob = p))\n",
    " \n",
    "# Calculate the probbility of getting at least one heads\n",
    "checkEvent = function(data){\n",
    "        if('Sa' %in% data | 'Su' %in% data)\n",
    "        {\n",
    "            return(0)\n",
    "        }\n",
    "    return(1)\n",
    "}\n",
    " \n",
    "#Apply checkEvent() to every column of simulatedData \n",
    "mean(apply(simulatedData,2,checkEvent))"
   ]
  },
  {
   "cell_type": "markdown",
   "metadata": {},
   "source": [
    "## **Simulation Using  any function**"
   ]
  },
  {
   "cell_type": "code",
   "execution_count": 42,
   "metadata": {},
   "outputs": [
    {
     "data": {
      "text/html": [
       "0.286236"
      ],
      "text/latex": [
       "0.286236"
      ],
      "text/markdown": [
       "0.286236"
      ],
      "text/plain": [
       "[1] 0.286236"
      ]
     },
     "metadata": {},
     "output_type": "display_data"
    }
   ],
   "source": [
    "# Sampling Space\n",
    "S = c('Mo','Tu','We','Th','Fr','Sa','Su')\n",
    " \n",
    "# Corresponding probabilities\n",
    "p = 1/7 *replicate(7,1)\n",
    " \n",
    "#Simulate\n",
    "nsimulations = 1e6\n",
    "simulatedData = replicate(nsimulations,sample(S, size = 3, replace = FALSE, prob = p))\n",
    " \n",
    "# Calculate the probbility of getting at least one heads\n",
    "checkEvent = function(data){\n",
    "        if(any(data == 'Sa') | any(data == 'Su'))\n",
    "        {\n",
    "            return(0)\n",
    "        }\n",
    "    return(1)\n",
    "}\n",
    " \n",
    "#Apply checkEvent() to every column of simulatedData \n",
    "mean(apply(simulatedData,2,checkEvent))"
   ]
  },
  {
   "cell_type": "markdown",
   "metadata": {},
   "source": [
    "## **Simulation Using  all function**"
   ]
  },
  {
   "cell_type": "code",
   "execution_count": 44,
   "metadata": {},
   "outputs": [
    {
     "data": {
      "text/html": [
       "0.28503"
      ],
      "text/latex": [
       "0.28503"
      ],
      "text/markdown": [
       "0.28503"
      ],
      "text/plain": [
       "[1] 0.28503"
      ]
     },
     "metadata": {},
     "output_type": "display_data"
    }
   ],
   "source": [
    "# Sampling Space\n",
    "S = c('Mo','Tu','We','Th','Fr','Sa','Su')\n",
    " \n",
    "# Corresponding probabilities\n",
    "p = 1/7 *replicate(7,1)\n",
    " \n",
    "#Simulate\n",
    "nsimulations = 1e6\n",
    "simulatedData = replicate(nsimulations,sample(S, size = 3, replace = FALSE, prob = p))\n",
    " \n",
    "# Calculate the probbility of getting at least one heads\n",
    "checkEvent = function(data){\n",
    "        if(all(data != 'Sa') & all(data != 'Su'))\n",
    "        {\n",
    "            return(1)\n",
    "        }\n",
    "    return(0)\n",
    "}\n",
    " \n",
    "#Apply checkEvent() to every column of simulatedData \n",
    "mean(apply(simulatedData,2,checkEvent))"
   ]
  }
 ],
 "metadata": {
  "kernelspec": {
   "display_name": "R",
   "language": "R",
   "name": "ir"
  },
  "language_info": {
   "codemirror_mode": "r",
   "file_extension": ".r",
   "mimetype": "text/x-r-source",
   "name": "R",
   "pygments_lexer": "r",
   "version": "4.1.1"
  },
  "orig_nbformat": 4
 },
 "nbformat": 4,
 "nbformat_minor": 2
}
