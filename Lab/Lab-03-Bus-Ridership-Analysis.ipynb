{
 "cells": [
  {
   "cell_type": "markdown",
   "metadata": {},
   "source": [
    "# **Bus Ridership Analysis**"
   ]
  },
  {
   "cell_type": "markdown",
   "metadata": {},
   "source": [
    "## **Model**"
   ]
  },
  {
   "cell_type": "markdown",
   "metadata": {},
   "source": [
    "## **Events**"
   ]
  },
  {
   "cell_type": "markdown",
   "metadata": {},
   "source": [
    "## **Simulation**\n",
    "Note : Use Sampling space only when the variables are clear."
   ]
  },
  {
   "cell_type": "code",
   "execution_count": 25,
   "metadata": {},
   "outputs": [
    {
     "name": "stdout",
     "output_type": "stream",
     "text": [
      "Number of Passengers 0\n",
      "Number of Passengers 0\n",
      "Number of Passengers 0\n",
      "Number of Passengers 0\n",
      "Number of Passengers 0\n",
      "Number of Passengers 1\n",
      "Number of Passengers 0\n",
      "Number of Passengers 1\n",
      "Number of Passengers 2\n",
      "Number of Passengers 1\n"
     ]
    }
   ],
   "source": [
    "# Bus Ridership Analysis\n",
    "\n",
    "#Sampling Space\n",
    "\n",
    "#Sampling Space for Passengers boarding the bus\n",
    "s1 = c(0,1,2)\n",
    "#Corresponding Probability\n",
    "p1 = c(0.5,0.4,0.1)\n",
    "\n",
    "#Sampling Space for Passenger leaving the bus\n",
    "s2 = c(1,0) #1 Corresponds to passenger leaving the bus\n",
    "p2 = c(0.2,0.8)\n",
    "\n",
    "#Simulate number of passengers from stop-1 through stop-10\n",
    "nstops = 10 #number of stops\n",
    "npassengers = 0\n",
    "for(j in 1:nstops){\n",
    "    #Passengera potentially leaving the bus\n",
    "    if(npassengers > 0){\n",
    "        for(k in npassengers){\n",
    "            d = sample(s2, size = 1, replace = FALSE, prob =p2)\n",
    "            if (d == 1){\n",
    "                npassengers = npassengers - 1;\n",
    "            }\n",
    "        }\n",
    "    }\n",
    "    #Passengers potentially boarding the bus\n",
    "    npassengers = npassengers + sample(s1, size = 1, replace = FALSE, prob = p1)\n",
    "\n",
    "    #Print on console\n",
    "    cat(sprintf(\"Number of Passengers %d\\n\", npassengers))\n",
    "}\n"
   ]
  },
  {
   "cell_type": "code",
   "execution_count": 26,
   "metadata": {},
   "outputs": [
    {
     "name": "stdout",
     "output_type": "stream",
     "text": [
      "Number of Passengers in stop 1 is 1, 0 left 1 boarded\n",
      "Number of Passengers in stop 2 is 3, 0 left 2 boarded\n",
      "Number of Passengers in stop 3 is 4, 0 left 1 boarded\n",
      "Number of Passengers in stop 4 is 4, 1 left 1 boarded\n",
      "Number of Passengers in stop 5 is 2, 3 left 1 boarded\n",
      "Number of Passengers in stop 6 is 2, 1 left 1 boarded\n",
      "Number of Passengers in stop 7 is 3, 0 left 1 boarded\n",
      "Number of Passengers in stop 8 is 2, 1 left 0 boarded\n",
      "Number of Passengers in stop 9 is 3, 0 left 1 boarded\n",
      "Number of Passengers in stop 10 is 5, 0 left 2 boarded\n"
     ]
    }
   ],
   "source": [
    "# Bus Ridership Analysis\n",
    "\n",
    "#Sampling Space\n",
    "\n",
    "#Sampling Space for Passengers boarding the bus\n",
    "s1 = c(0,1,2)\n",
    "#Corresponding Probability\n",
    "p1 = c(0.5,0.4,0.1)\n",
    "\n",
    "#Sampling Space for Passenger leaving the bus\n",
    "s2 = c(1,0) #1 Corresponds to passenger leaving the bus\n",
    "p2 = c(0.2,0.8)\n",
    "\n",
    "#Simulate number of passengers from stop-1 through stop-10\n",
    "nstops = 10 #number of stops\n",
    "npassengers = 0\n",
    "boarded = 0 \n",
    "\n",
    "for(j in 1:nstops){\n",
    "    #Passengera potentially leaving the bus\n",
    "    if(npassengers > 0){\n",
    "       left = sum(sample(s2 , size = npassengers, replace = TRUE, prob = p2))\n",
    "       npassengers = npassengers - left\n",
    "    }\n",
    "\n",
    "    # If no passengers in bus nobody leaves the bus\n",
    "    if(npassengers = 0)\n",
    "    {\n",
    "        left = 0;\n",
    "    }\n",
    "    \n",
    "\n",
    "    #Passengers potentially boarding the bus\n",
    "    boarded = sample(s1, size = 1, replace = FALSE, prob = p1)\n",
    "    npassengers = npassengers + boarded\n",
    "    cat(sprintf(\"Number of Passengers in stop %d is %d, %d left %d boarded\\n\",j,npassengers,left,boarded))\n",
    "}\n",
    "\n"
   ]
  },
  {
   "cell_type": "code",
   "execution_count": 31,
   "metadata": {},
   "outputs": [
    {
     "data": {
      "text/html": [
       "<style>\n",
       ".list-inline {list-style: none; margin:0; padding: 0}\n",
       ".list-inline>li {display: inline-block}\n",
       ".list-inline>li:not(:last-child)::after {content: \"\\00b7\"; padding: 0 .5ex}\n",
       "</style>\n",
       "<ol class=list-inline><li>5</li><li>6</li><li>4</li></ol>\n"
      ],
      "text/latex": [
       "\\begin{enumerate*}\n",
       "\\item 5\n",
       "\\item 6\n",
       "\\item 4\n",
       "\\end{enumerate*}\n"
      ],
      "text/markdown": [
       "1. 5\n",
       "2. 6\n",
       "3. 4\n",
       "\n",
       "\n"
      ],
      "text/plain": [
       "[1] 5 6 4"
      ]
     },
     "metadata": {},
     "output_type": "display_data"
    }
   ],
   "source": [
    "#User Defined function to simulate one trial of the simulation\n",
    "\n",
    "\n",
    "#Sampling Space\n",
    "\n",
    "#Sampling Space for Passengers boarding the bus\n",
    "s1 = c(0,1,2)\n",
    "#Corresponding Probability\n",
    "p1 = c(0.5,0.4,0.1)\n",
    "\n",
    "#Sampling Space for Passenger leaving the bus\n",
    "s2 = c(1,0) #1 Corresponds to passenger leaving the bus\n",
    "p2 = c(0.2,0.8)\n",
    "\n",
    "#Simulate number of passengers from stop-1 through stop-10\n",
    "nstops = 10 #number of stops\n",
    "npassengers = 0\n",
    "boarded = 0 \n",
    "\n",
    "simTrial = function(nstops) {\n",
    "    for(j in 1:nstops){\n",
    "        #Passengera potentially leaving the bus\n",
    "        if(npassengers > 0){\n",
    "        left = sum(sample(s2 , size = npassengers, replace = TRUE, prob = p2))\n",
    "        npassengers = npassengers - left\n",
    "        }\n",
    "\n",
    "        # If no passengers in bus nobody leaves the bus\n",
    "        if(npassengers == 0)\n",
    "        {\n",
    "            left = 0;\n",
    "        }\n",
    "        \n",
    "\n",
    "        #Passengers potentially boarding the bus\n",
    "        boarded = sample(s1, size = 1, replace = FALSE, prob = p1)\n",
    "        npassengers = npassengers + boarded\n",
    "        #cat(sprintf(\"Number of Passengers in stop %d is %d, %d left %d boarded\\n\",j,npassengers,left,boarded))\n",
    "    }\n",
    "    return(npassengers)\n",
    "}\n",
    "\n",
    "nsimulations = 3\n",
    "replicate(nsimulations, simTrial(nstops))\n",
    "    "
   ]
  },
  {
   "cell_type": "code",
   "execution_count": null,
   "metadata": {},
   "outputs": [],
   "source": []
  }
 ],
 "metadata": {
  "kernelspec": {
   "display_name": "R",
   "language": "R",
   "name": "ir"
  },
  "language_info": {
   "codemirror_mode": "r",
   "file_extension": ".r",
   "mimetype": "text/x-r-source",
   "name": "R",
   "pygments_lexer": "r",
   "version": "4.1.1"
  },
  "orig_nbformat": 4
 },
 "nbformat": 4,
 "nbformat_minor": 2
}
