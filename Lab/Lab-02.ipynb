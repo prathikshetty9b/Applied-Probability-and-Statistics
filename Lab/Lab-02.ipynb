{
  "nbformat": 4,
  "nbformat_minor": 0,
  "metadata": {
    "kernelspec": {
      "display_name": "R",
      "language": "R",
      "name": "ir"
    },
    "language_info": {
      "codemirror_mode": "r",
      "file_extension": ".r",
      "mimetype": "text/x-r-source",
      "name": "R",
      "pygments_lexer": "r",
      "version": "3.3.1"
    },
    "colab": {
      "name": "Lab-2-29-Oct-2021.ipynb",
      "provenance": [],
      "collapsed_sections": []
    }
  },
  "cells": [
    {
      "cell_type": "code",
      "metadata": {
        "id": "dO8c1j8QqPou"
      },
      "source": [
        "library(ggplot2)\n",
        "library(dplyr)"
      ],
      "execution_count": null,
      "outputs": []
    },
    {
      "cell_type": "code",
      "metadata": {
        "colab": {
          "base_uri": "https://localhost:8080/"
        },
        "id": "qJPFKvaSQJ7F",
        "outputId": "b84a8dbe-d45f-4b3b-9056-2538a9bcb90b"
      },
      "source": [
        "# Sampling- (as well as sample-) space for a single fair-coin toss\n",
        "S = c('H', 'T')\n",
        "\n",
        "# Corresponding probabilities\n",
        "p = c(0.8, 0.2)\n",
        "\n",
        "# Samples representing outcomes of the experiment of selecting 1 object from\n",
        "# the sampling space with replacement - this corresponds to genrating outcomes\n",
        "# of the random experiment of tossing a single fair coin\n",
        "#set.seed(1)\n",
        "nsamples = 1e6\n",
        "simulatedData = sample(S, size = nsamples, replace = TRUE, prob = p)\n",
        "#print(simulatedData)\n",
        "#simulatedData == 'H'\n",
        "print(mean(simulatedData == 'H'))\n",
        "#table(simulatedData)"
      ],
      "execution_count": null,
      "outputs": [
        {
          "output_type": "stream",
          "name": "stdout",
          "text": [
            "[1] 0.801328\n"
          ]
        }
      ]
    },
    {
      "cell_type": "code",
      "metadata": {
        "colab": {
          "base_uri": "https://localhost:8080/",
          "height": 51
        },
        "id": "sYraNfHkTxl1",
        "outputId": "e42db57a-2006-4aed-d1b5-d36c3dde6669"
      },
      "source": [
        "# Sampling- (as well as sample-) space for Tossing two fair-coins\n",
        "S = c('H', 'T')\n",
        "\n",
        "# Corresponding probabilities\n",
        "p = c(0.5, 0.5)\n",
        "\n",
        "# Samples representing outcomes of the experiment of selecting 2 object from\n",
        "# the sampling space with replacement - this corresponds to genrating outcomes\n",
        "# of the random experiment of tossing a single fair coin\n",
        "#set.seed(1)\n",
        "nsimulations = 1e6\n",
        "simulatedData = replicate(nsimulations,sample(S, size = 2, replace = TRUE, prob = p))\n",
        "#simulatedData\n",
        "\n",
        "# Calculate the probbility of getting at least one heads\n",
        "checkEvent = function(data){\n",
        "  for (val in data){\n",
        "    if (val == 'H'){\n",
        "      return(1)\n",
        "    }\n",
        "  }\n",
        "  return(0)\n",
        "}\n",
        "#Apply checkEvent() to every column of simulatedData \n",
        "mean(apply(simulatedData,2,checkEvent))\n",
        "\n",
        "\n",
        "# Calculate the probbility of getting two distinct tosses\n",
        "#Function to check if trial results in two distinct tosses\n",
        "checkEvent1 = function(data){\n",
        "  if(length(unique(data)) == 2){\n",
        "    return(1)\n",
        "  }\n",
        "  return(0)\n",
        "}\n",
        "#Apply checkEvent() to every column of simulatedData \n",
        "mean(apply(simulatedData,2,checkEvent1))\n",
        "\n"
      ],
      "execution_count": null,
      "outputs": [
        {
          "output_type": "display_data",
          "data": {
            "text/plain": [
              "[1] 0.750114"
            ],
            "text/latex": "0.750114",
            "text/markdown": "0.750114",
            "text/html": [
              "0.750114"
            ]
          },
          "metadata": {}
        },
        {
          "output_type": "display_data",
          "data": {
            "text/plain": [
              "[1] 0.500038"
            ],
            "text/latex": "0.500038",
            "text/markdown": "0.500038",
            "text/html": [
              "0.500038"
            ]
          },
          "metadata": {}
        }
      ]
    },
    {
      "cell_type": "code",
      "metadata": {
        "id": "4nLuQh3AXXK_"
      },
      "source": [
        "#Sampling Space for tossing Two fair coins\n",
        "s = ('H','T')\n",
        "\n",
        "#Corresponding Probabilities\n",
        "p = c(0.5,0.5)"
      ],
      "execution_count": null,
      "outputs": []
    },
    {
      "cell_type": "code",
      "metadata": {
        "id": "fo7ybUSTRE9L",
        "colab": {
          "base_uri": "https://localhost:8080/",
          "height": 437
        },
        "outputId": "b6d06a67-da32-42e4-b0c6-4a826f772343"
      },
      "source": [
        "# Sampling- (as well as sample-) space for a single fair-coin toss\n",
        "S = c('H', 'T')\n",
        "\n",
        "# Corresponding probabilities\n",
        "p = c(0.5, 0.2)\n",
        "\n",
        "# Samples representing outcomes of the experiment of selecting 1 object from\n",
        "# the sampling space with replacement - this corresponds to genrating outcomes\n",
        "# of the random experiment of tossing a single fair coin\n",
        "#set.seed(1)\n",
        "nsamples = 1e04\n",
        "simulatedData = sample(S, size = nsamples, replace = TRUE, prob = p)\n",
        "\n",
        "# Create dataframe comprising frequency of each possible outcome in the sample space\n",
        "df= as.data.frame(table(simulatedData))\n",
        "colnames(df) = c('Toss', 'Frequency')\n",
        "#print(df)\n",
        "\n",
        "# Frequency plot\n",
        "p = ggplot(data = df, aes(x = Toss, y = Frequency)) +\n",
        "  geom_bar(stat = 'identity', fill=\"steelblue\") +\n",
        "  geom_text(aes(label = Frequency), vjust = -0.3, size = 6)+\n",
        "  theme_minimal()\n",
        "\n",
        "p"
      ],
      "execution_count": null,
      "outputs": [
        {
          "output_type": "display_data",
          "data": {
            "image/png": "[encoded data removed]",
            "text/plain": [
              "plot without title"
            ]
          },
          "metadata": {
            "image/png": {
              "width": 420,
              "height": 420
            }
          }
        }
      ]
    },
    {
      "cell_type": "code",
      "metadata": {
        "id": "olRHeUAYseGf",
        "colab": {
          "base_uri": "https://localhost:8080/",
          "height": 34
        },
        "outputId": "72d85265-d290-4b43-dd6e-e8c2c35d965d"
      },
      "source": [
        "# Sampling- (as well as sample-) space for rolling a pair of fair die\n",
        "\n",
        "S = c(1:6)\n",
        "\n",
        "# Corresponding probabilities\n",
        "p = (1/6)*c(1, 1, 1, 1, 1, 1)\n",
        "\n",
        "#Simulate the random experiment of rolling a pair of fair dice nsimulation times\n",
        "nsimulations = 1e6\n",
        "simulatedData = replicate(nsimulations,sample(S, size = 2, replace = TRUE, prob = p))\n",
        "\n",
        "#function to check if the sum of the rolls is at least 7\n",
        "checkEvent2 = function(data){\n",
        "  if(sum(data) >= 7){\n",
        "    return(1)\n",
        "  }\n",
        "  return(0)\n",
        "}\n",
        "\n",
        "#probability of rolling a pair of dice whose sum is atleast 7 \n",
        "mean(apply(simulatedData,2,checkEvent2))"
      ],
      "execution_count": null,
      "outputs": [
        {
          "output_type": "display_data",
          "data": {
            "text/plain": [
              "[1] 0.583609"
            ],
            "text/latex": "0.583609",
            "text/markdown": "0.583609",
            "text/html": [
              "0.583609"
            ]
          },
          "metadata": {}
        }
      ]
    },
    {
      "cell_type": "code",
      "metadata": {
        "colab": {
          "base_uri": "https://localhost:8080/",
          "height": 34
        },
        "id": "sBzV50w7vLFE",
        "outputId": "4c20bb1f-d900-40f6-e0c7-2cfbf28eb455"
      },
      "source": [
        "#Sampling space for faulty-worker problem \n",
        "S =c('w1','w2','w3','w4','w5')\n",
        "\n",
        "#Probability of a worker breaking a machine \n",
        "p = 1/5 *replicate(5,1)\n",
        "\n",
        "#\n",
        "nsimulations = 1e6\n",
        "simulatedData = replicate(nsimulations,sample(S,size = 5, replace = TRUE, prob = p))\n",
        "\n",
        "checkEvent3 = function(data){\n",
        "  unique = unique(data)\n",
        "  for(val in unique){\n",
        "    if(length(which(data == val))>=4){\n",
        "      return(1)\n",
        "    }\n",
        "  }\n",
        "  return(0)\n",
        "}\n",
        "\n",
        "\n",
        "mean(apply(simulatedData,2,checkEvent3))"
      ],
      "execution_count": null,
      "outputs": [
        {
          "output_type": "display_data",
          "data": {
            "text/plain": [
              "[1] 0.033733"
            ],
            "text/latex": "0.033733",
            "text/markdown": "0.033733",
            "text/html": [
              "0.033733"
            ]
          },
          "metadata": {}
        }
      ]
    },
    {
      "cell_type": "code",
      "metadata": {
        "id": "yu387ZX_v_J4",
        "colab": {
          "base_uri": "https://localhost:8080/",
          "height": 34
        },
        "outputId": "5574827d-4c72-443c-e4ef-363a9199505c"
      },
      "source": [
        "# Sampling- (as well as sample-) space for rolling a single fair die\n",
        "S = c(1:6)\n",
        "\n",
        "# Corresponding probabilities\n",
        "p = (1/6)*c(1, 1, 1, 1, 1, 1)\n",
        "\n",
        "# Samples representing outcomes of the experiment of selecting 2 objects from\n",
        "# the sampling space with replacement - this corresponds to generating outcomes\n",
        "# of the random experiment of rolling two fair dice\n",
        "nsamples = 1e01\n",
        "sample(S, size = 3, replace = TRUE, prob = p)\n",
        "simulatedData = replicate(nsamples, sample(S, size = 2, replace = TRUE, prob = p))\n",
        "#print(simulatedData)\n",
        "\n",
        "# Fraction of outcomes where the sum of the rolls is equal to 7\n",
        "#print(mean(simulatedData[1, ] + simulatedData[2, ] == 7))"
      ],
      "execution_count": null,
      "outputs": [
        {
          "output_type": "display_data",
          "data": {
            "text/plain": [
              "[1] 1 6 4"
            ],
            "text/latex": "\\begin{enumerate*}\n\\item 1\n\\item 6\n\\item 4\n\\end{enumerate*}\n",
            "text/markdown": "1. 1\n2. 6\n3. 4\n\n\n",
            "text/html": [
              "<style>\n",
              ".list-inline {list-style: none; margin:0; padding: 0}\n",
              ".list-inline>li {display: inline-block}\n",
              ".list-inline>li:not(:last-child)::after {content: \"\\00b7\"; padding: 0 .5ex}\n",
              "</style>\n",
              "<ol class=list-inline><li>1</li><li>6</li><li>4</li></ol>\n"
            ]
          },
          "metadata": {}
        }
      ]
    },
    {
      "cell_type": "code",
      "metadata": {
        "id": "knCtE1lg4_t3",
        "colab": {
          "base_uri": "https://localhost:8080/"
        },
        "outputId": "7a54da70-9fad-4fb2-f7d3-c72fa8b10655"
      },
      "source": [
        "# Sampling space for ice-cream selection\n",
        "S = c('vanilla', 'pista', 'strwaberry', 'chocolate', 'blackberry',\n",
        " 'blueberry', 'mango', 'sitaphal', 'chickoo', 'jack fruit')\n",
        "\n",
        "# Corresponding probabilities\n",
        "n = length(S)\n",
        "p = (1/n)*replicate(n, 1)\n",
        "\n",
        "# Samples representing outcomes of the experiment of selecting 3 objects from\n",
        "# the sampling space with replacement - this corresponds to generating outcomes\n",
        "# of the random experiment of selecting 3 flavors from the 10 available\n",
        "#set.seed(1)\n",
        "nsamples = 1e06\n",
        "#sample(S, size = 3, replace = TRUE, prob = p)\n",
        "simulatedData = replicate(nsamples, sample(S, size = 3, replace = TRUE, prob = p))\n",
        "#print(simulatedData)\n",
        "\n",
        "# Approximate probability of getting 3 distinct flavors\n",
        "print(mean(lengths(apply(simulatedData, 2, unique)) == 3))"
      ],
      "execution_count": null,
      "outputs": [
        {
          "output_type": "stream",
          "name": "stdout",
          "text": [
            "[1] 0.720396\n"
          ]
        }
      ]
    },
    {
      "cell_type": "code",
      "metadata": {
        "id": "IAohxl9Iwxmx",
        "colab": {
          "base_uri": "https://localhost:8080/",
          "height": 68
        },
        "outputId": "5e898a25-6359-42ff-c746-1454a5b0c2be"
      },
      "source": [
        "(choose(6,3)*choose(6,2)*choose(4,2)*choose(2,2))/(6^6)\n",
        "(choose(6,1)*5^2*choose(6,4))/(6^6)\n",
        "(choose(5,4)*choose(4,1)+choose(5,5))/(5^5)"
      ],
      "execution_count": null,
      "outputs": [
        {
          "output_type": "display_data",
          "data": {
            "text/plain": [
              "[1] 0.03858025"
            ],
            "text/latex": "0.0385802469135802",
            "text/markdown": "0.0385802469135802",
            "text/html": [
              "0.0385802469135802"
            ]
          },
          "metadata": {}
        },
        {
          "output_type": "display_data",
          "data": {
            "text/plain": [
              "[1] 0.04822531"
            ],
            "text/latex": "0.0482253086419753",
            "text/markdown": "0.0482253086419753",
            "text/html": [
              "0.0482253086419753"
            ]
          },
          "metadata": {}
        },
        {
          "output_type": "display_data",
          "data": {
            "text/plain": [
              "[1] 0.00672"
            ],
            "text/latex": "0.00672",
            "text/markdown": "0.00672",
            "text/html": [
              "0.00672"
            ]
          },
          "metadata": {}
        }
      ]
    },
    {
      "cell_type": "code",
      "metadata": {
        "id": "rJ5KJeEt25BV",
        "colab": {
          "base_uri": "https://localhost:8080/"
        },
        "outputId": "eac90865-d7fb-43d8-d7f3-f47af210b9b6"
      },
      "source": [
        "S = c(1,2,3,4,5) # 5 workers\n",
        "\n",
        "# Corresponding probabilities\n",
        "n = length(S)\n",
        "p = (1/n)*replicate(n, 1)\n",
        "\n",
        "samplesize = 1e6\n",
        "simulatedData = replicate(samplesize, sample(S, size = 5, replace = TRUE, prob = p))\n",
        "# print(simulatedData)\n",
        "\n",
        "checkEvent = function(data){\n",
        "    unique_number = unique(data)                # collecting all the unique values occured\n",
        "    for (val in unique_number){\n",
        "        if (length(which(data==val))>=4){       # checking if any unique value occured 4 times or greater\n",
        "            return (1)\n",
        "        }\n",
        "    }\n",
        "    return (0)\n",
        "}\n",
        "\n",
        "approximate_probability = sum(apply(simulatedData, 2, checkEvent)) / samplesize\n",
        "cat(\"Approximate probability of worker breaking the machine at least 4 times is \", approximate_probability, '\\n')\n"
      ],
      "execution_count": null,
      "outputs": [
        {
          "output_type": "stream",
          "name": "stdout",
          "text": [
            "Approximate probability of worker breaking the machine at least 4 times is  0.033535 \n"
          ]
        }
      ]
    },
    {
      "cell_type": "code",
      "metadata": {
        "id": "wjLrc03bCWeZ",
        "colab": {
          "base_uri": "https://localhost:8080/"
        },
        "outputId": "e9531f0e-018f-45c7-e125-4adbe65e6c01"
      },
      "source": [
        "# Sampling space for rolling a single fair die\n",
        "S = c(1:6)\n",
        "\n",
        "# Corresponding probabilities\n",
        "p = (1/6)*c(1, 1, 1, 1, 1, 1)\n",
        "\n",
        "# Samples representing outcomes of the experiment of selecting 6 objects from\n",
        "# the sampling space with replacement - this corresponds to generating outcomes\n",
        "# of the random experiment of rolling a fair die 6 times\n",
        "samplesize = 1e06\n",
        "simulatedData = replicate(samplesize, sample(S, size = 6, replace = TRUE, prob = p))\n",
        "\n",
        "checkEvent = function(data){\n",
        "    unique_numbers = unique(data) # collecting all the unique values occured\n",
        "    for (val in unique_numbers){\n",
        "      if (sum(val == data) != 2){\n",
        "        return(0)\n",
        "      }\n",
        "    }    \n",
        "    return (1)\n",
        "}\n",
        "\n",
        "approximate_probability = sum(apply(simulatedData, 2, checkEvent)) / samplesize\n",
        "cat(\"Approximate probability of 3 numbers appearing twice each is \", approximate_probability, '\\n')"
      ],
      "execution_count": null,
      "outputs": [
        {
          "output_type": "stream",
          "name": "stdout",
          "text": [
            "Approximate probability of 3 numbers appearing twice each is  0.038642 \n"
          ]
        }
      ]
    },
    {
      "cell_type": "code",
      "metadata": {
        "id": "ozzovD2aDAUS",
        "colab": {
          "base_uri": "https://localhost:8080/"
        },
        "outputId": "f60d392a-3a4d-47cd-934c-4e4b05f25a26"
      },
      "source": [
        "# Sampling space for rolling a single fair die\n",
        "S = c(1:6)\n",
        "\n",
        "# Corresponding probabilities\n",
        "p = (1/length(S))*replicate(length(S), 1)\n",
        "\n",
        "# Samples representing outcomes of the experiment of selecting 1 object from\n",
        "# the sampling space - this corresponds to generating outcome of the random\n",
        "# experiment of rolling a fair die once\n",
        "samplesize = 1e05\n",
        "simulatedData = replicate(samplesize, sample(S, size = 1, prob = p))\n",
        "\n",
        "checkEvent = function(data){\n",
        "  # Check if roll is greater than or equal to 3 and even (E AND F)\n",
        "  if ((data >= 3) && ((data %% 2) == 0)){    \n",
        "    return(1)\n",
        "  }\n",
        "  else{\n",
        "    return(0)\n",
        "  }\n",
        "}\n",
        "\n",
        "approximate_probability = sum(apply(as.matrix(simulatedData), 1, checkEvent)) / samplesize\n",
        "cat(\"Approximate probability of getting a number >=3 and even is \", approximate_probability, '\\n')"
      ],
      "execution_count": null,
      "outputs": [
        {
          "output_type": "stream",
          "name": "stdout",
          "text": [
            "Approximate probability of getting a number >=3 and even is  0.3337 \n"
          ]
        }
      ]
    },
    {
      "cell_type": "code",
      "metadata": {
        "id": "Vl8ZeEOQFCjF",
        "colab": {
          "base_uri": "https://localhost:8080/"
        },
        "outputId": "1b7b6003-8ce1-4154-8b85-5b672c2c89ee"
      },
      "source": [
        "# Sampling space for rolling a single fair die when it is known that the rolls are even\n",
        "S = c(2, 4, 6)\n",
        "\n",
        "# Corresponding probabilities\n",
        "p = (1/length(S))*replicate(length(S), 1)\n",
        "\n",
        "# Samples representing outcomes of the experiment of selecting 1 object from\n",
        "# the sampling space - this corresponds to generating outcome of the random\n",
        "# experiment of rolling a fair die once given that the rolls are known to be even\n",
        "samplesize = 1e05\n",
        "simulatedData = replicate(samplesize, sample(S, size = 1, prob = p))\n",
        "\n",
        "checkEvent = function(data){\n",
        "  # Check if roll is greater than or equal to 3\n",
        "  if (data >= 3){    \n",
        "    return(1)\n",
        "  }\n",
        "  else{\n",
        "    return(0)\n",
        "  }\n",
        "}\n",
        "\n",
        "approximate_probability = sum(apply(as.matrix(simulatedData), 1, checkEvent)) / samplesize\n",
        "cat(\"Approximate probability of getting a number >=3 given that the rolls are even is \", approximate_probability, '\\n')"
      ],
      "execution_count": null,
      "outputs": [
        {
          "output_type": "stream",
          "name": "stdout",
          "text": [
            "Approximate probability of getting a number >=3 given that the rolls are even is  0.6659 \n"
          ]
        }
      ]
    }
  ]
}