{
 "cells": [
  {
   "cell_type": "markdown",
   "metadata": {},
   "source": [
    "# **Compound And Conditional Probability**"
   ]
  },
  {
   "cell_type": "markdown",
   "metadata": {},
   "source": [
    "## **Rolling a pair of fair die problem**\n",
    "**A -> Sum >=7**\n",
    "\n",
    "**B -> First Roll is even**\n",
    "\n",
    "\n",
    "**Compound Probability = P(Sum >= 7 and First Roll is even)**\n",
    "\n",
    "**Conditional Probability = P(Sum >= 7 Given First Roll is even)**"
   ]
  },
  {
   "cell_type": "markdown",
   "metadata": {},
   "source": [
    "### **Compound Probability -> Sum of Rolls is at least 7 and First roll is even**"
   ]
  },
  {
   "cell_type": "code",
   "execution_count": 24,
   "metadata": {},
   "outputs": [
    {
     "data": {
      "text/html": [
       "0.333224"
      ],
      "text/latex": [
       "0.333224"
      ],
      "text/markdown": [
       "0.333224"
      ],
      "text/plain": [
       "[1] 0.333224"
      ]
     },
     "metadata": {},
     "output_type": "display_data"
    }
   ],
   "source": [
    "#Sum of Rolls is at least 7 and First roll is even\n",
    "\n",
    "s = c(1:6)\n",
    "\n",
    "# Corresponding probabilities\n",
    "p = (1/6)*c(1, 1, 1, 1, 1, 1)\n",
    "\n",
    "#Simulate the random experiment of rolling a pair of fair dice nsimulation times\n",
    "nsimulations = 1e6\n",
    "simulatedData = replicate(nsimulations,sample(s, size = 2, replace = TRUE, prob = p))\n",
    "\n",
    "#function to check if the sum of the rolls is at least 7 and first roll is even\n",
    "checkEvent1 = function(data){\n",
    "  if(sum(data) >= 7 && data[1] %% 2 == 0){\n",
    "    return(1)\n",
    "  }\n",
    "  return(0)\n",
    "}\n",
    "\n",
    "#probability of rolling a pair of dice whose sum is atleast 7 \n",
    "mean(apply(simulatedData,2,checkEvent1))\n"
   ]
  },
  {
   "cell_type": "markdown",
   "metadata": {},
   "source": [
    "### **Conditional Probability -> Sum of roll is 7 given first roll is even**"
   ]
  },
  {
   "cell_type": "code",
   "execution_count": 22,
   "metadata": {},
   "outputs": [
    {
     "data": {
      "text/html": [
       "0.665472882330395"
      ],
      "text/latex": [
       "0.665472882330395"
      ],
      "text/markdown": [
       "0.665472882330395"
      ],
      "text/plain": [
       "[1] 0.6654729"
      ]
     },
     "metadata": {},
     "output_type": "display_data"
    }
   ],
   "source": [
    "#Sum of roll is 7 given first roll is even\n",
    "\n",
    "s = c(1:6)\n",
    "\n",
    "# Corresponding probabilities\n",
    "p = (1/6)*c(1, 1, 1, 1, 1, 1)\n",
    "\n",
    "#Simulate the random experiment of rolling a pair of fair dice nsimulation times\n",
    "nsimulations = 1e6\n",
    "simulatedData = replicate(nsimulations,sample(s, size = 2, replace = TRUE, prob = p))\n",
    "\n",
    "\n",
    "#function to check if first roll is even \n",
    "checkEventEven = function(data){\n",
    "  if(data[1] %% 2 == 0){\n",
    "    return(TRUE)\n",
    "  }\n",
    "  return(FALSE)\n",
    "}\n",
    "\n",
    "#function to check if the sum of the rolls is at least 7\n",
    "checkEventGeq7 = function(data){\n",
    "  if(sum(data) >=7 ){\n",
    "    return(1)\n",
    "  }\n",
    "  return(0)\n",
    "}\n",
    "\n",
    "#probability of rolling a pair of dice whose sum is greater than 7 , given first roll is even\n",
    "mean(apply(simulatedData[,apply(simulatedData,2,checkEventEven)],2,checkEventGeq7))"
   ]
  },
  {
   "cell_type": "markdown",
   "metadata": {},
   "source": [
    "### **Conditional Probability -> Bayes Theorem**"
   ]
  },
  {
   "cell_type": "code",
   "execution_count": null,
   "metadata": {},
   "outputs": [],
   "source": [
    "#Probability of A and B\n",
    "ab = "
   ]
  },
  {
   "cell_type": "markdown",
   "metadata": {},
   "source": [
    "## **Conditional Probability Formulas**\n"
   ]
  },
  {
   "cell_type": "markdown",
   "metadata": {},
   "source": [
    "![Image1](images\\conditional-probability-formula.png)\n",
    "\n",
    "### **Bayes Theorem**\n",
    "![Image2](images\\conditional-probability-bayes-theorem1.jpg)\n",
    "\n",
    "### **Different Versions of Bayes Theorem**\n",
    "![Image3](images\\formula-bayes-theorem.png)"
   ]
  },
  {
   "cell_type": "code",
   "execution_count": null,
   "metadata": {},
   "outputs": [],
   "source": []
  },
  {
   "cell_type": "markdown",
   "metadata": {},
   "source": [
    "## **Hospital Management Problem** "
   ]
  },
  {
   "cell_type": "markdown",
   "metadata": {},
   "source": []
  }
 ],
 "metadata": {
  "kernelspec": {
   "display_name": "R",
   "language": "R",
   "name": "ir"
  },
  "language_info": {
   "codemirror_mode": "r",
   "file_extension": ".r",
   "mimetype": "text/x-r-source",
   "name": "R",
   "pygments_lexer": "r",
   "version": "4.1.1"
  },
  "orig_nbformat": 4
 },
 "nbformat": 4,
 "nbformat_minor": 2
}
