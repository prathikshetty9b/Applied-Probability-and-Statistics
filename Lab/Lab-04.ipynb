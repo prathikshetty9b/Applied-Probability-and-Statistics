{
 "cells": [
  {
   "cell_type": "markdown",
   "metadata": {},
   "source": [
    "# **Compound And Conditional Probability**"
   ]
  },
  {
   "cell_type": "markdown",
   "metadata": {},
   "source": [
    "## **Rolling a pair of fair die problem**\n",
    "**A -> Sum >=7**\n",
    "\n",
    "**B -> First Roll is even**\n",
    "\n",
    "\n",
    "**Compound Probability = P(Sum >= 7 and First Roll is even)**\n",
    "\n",
    "**Conditional Probability = P(Sum >= 7 Given First Roll is even)**"
   ]
  },
  {
   "cell_type": "markdown",
   "metadata": {},
   "source": [
    "### **Compound Probability -> Sum of Rolls is at least 7 and First roll is even**"
   ]
  },
  {
   "cell_type": "code",
   "execution_count": 10,
   "metadata": {},
   "outputs": [
    {
     "data": {
      "text/html": [
       "<table class=\"dataframe\">\n",
       "<caption>A matrix: 2 × 10 of type int</caption>\n",
       "<tbody>\n",
       "\t<tr><td>4</td><td>1</td><td>2</td><td>2</td><td>3</td><td>6</td><td>4</td><td>6</td><td>3</td><td>4</td></tr>\n",
       "\t<tr><td>6</td><td>6</td><td>1</td><td>3</td><td>3</td><td>5</td><td>5</td><td>3</td><td>5</td><td>6</td></tr>\n",
       "</tbody>\n",
       "</table>\n"
      ],
      "text/latex": [
       "A matrix: 2 × 10 of type int\n",
       "\\begin{tabular}{llllllllll}\n",
       "\t 4 & 1 & 2 & 2 & 3 & 6 & 4 & 6 & 3 & 4\\\\\n",
       "\t 6 & 6 & 1 & 3 & 3 & 5 & 5 & 3 & 5 & 6\\\\\n",
       "\\end{tabular}\n"
      ],
      "text/markdown": [
       "\n",
       "A matrix: 2 × 10 of type int\n",
       "\n",
       "| 4 | 1 | 2 | 2 | 3 | 6 | 4 | 6 | 3 | 4 |\n",
       "| 6 | 6 | 1 | 3 | 3 | 5 | 5 | 3 | 5 | 6 |\n",
       "\n"
      ],
      "text/plain": [
       "     [,1] [,2] [,3] [,4] [,5] [,6] [,7] [,8] [,9] [,10]\n",
       "[1,] 4    1    2    2    3    6    4    6    3    4    \n",
       "[2,] 6    6    1    3    3    5    5    3    5    6    "
      ]
     },
     "metadata": {},
     "output_type": "display_data"
    },
    {
     "data": {
      "text/html": [
       "<style>\n",
       ".list-inline {list-style: none; margin:0; padding: 0}\n",
       ".list-inline>li {display: inline-block}\n",
       ".list-inline>li:not(:last-child)::after {content: \"\\00b7\"; padding: 0 .5ex}\n",
       "</style>\n",
       "<ol class=list-inline><li>1</li><li>0</li><li>0</li><li>0</li><li>0</li><li>1</li><li>1</li><li>1</li><li>0</li><li>1</li></ol>\n"
      ],
      "text/latex": [
       "\\begin{enumerate*}\n",
       "\\item 1\n",
       "\\item 0\n",
       "\\item 0\n",
       "\\item 0\n",
       "\\item 0\n",
       "\\item 1\n",
       "\\item 1\n",
       "\\item 1\n",
       "\\item 0\n",
       "\\item 1\n",
       "\\end{enumerate*}\n"
      ],
      "text/markdown": [
       "1. 1\n",
       "2. 0\n",
       "3. 0\n",
       "4. 0\n",
       "5. 0\n",
       "6. 1\n",
       "7. 1\n",
       "8. 1\n",
       "9. 0\n",
       "10. 1\n",
       "\n",
       "\n"
      ],
      "text/plain": [
       " [1] 1 0 0 0 0 1 1 1 0 1"
      ]
     },
     "metadata": {},
     "output_type": "display_data"
    },
    {
     "data": {
      "text/html": [
       "0.5"
      ],
      "text/latex": [
       "0.5"
      ],
      "text/markdown": [
       "0.5"
      ],
      "text/plain": [
       "[1] 0.5"
      ]
     },
     "metadata": {},
     "output_type": "display_data"
    }
   ],
   "source": [
    "#Rolling a pair of fair die\n",
    "\n",
    "\n",
    "s = c(1:6)\n",
    "\n",
    "# Corresponding probabilities\n",
    "p = (1/6)*c(1, 1, 1, 1, 1, 1)\n",
    "\n",
    "#Simulate the random experiment of rolling a pair of fair dice nsimulation times\n",
    "nsimulations = 1e6\n",
    "simulatedData = replicate(nsimulations,sample(s, size = 2, replace = TRUE, prob = p))\n",
    "#function to check if the sum of the rolls is at least 7 and first roll is even\n",
    "checkEvent1 = function(data){\n",
    "  if(sum(data) >= 7 && data[1] %% 2 == 0){\n",
    "    return(1)\n",
    "  }\n",
    "  return(0)\n",
    "}\n",
    "\n",
    "#probability of rolling a pair of dice whose sum is atleast 7 \n",
    "apply(simulatedData,2,checkEvent1)\n",
    "mean(apply(simulatedData,2,checkEvent1))\n"
   ]
  },
  {
   "cell_type": "markdown",
   "metadata": {},
   "source": [
    "### **Conditional Probability -> Sum of roll is 7 given first roll is even**"
   ]
  },
  {
   "cell_type": "code",
   "execution_count": 22,
   "metadata": {},
   "outputs": [
    {
     "data": {
      "text/html": [
       "0.665472882330395"
      ],
      "text/latex": [
       "0.665472882330395"
      ],
      "text/markdown": [
       "0.665472882330395"
      ],
      "text/plain": [
       "[1] 0.6654729"
      ]
     },
     "metadata": {},
     "output_type": "display_data"
    }
   ],
   "source": [
    "s = c(1:6)\n",
    "\n",
    "# Corresponding probabilities\n",
    "p = (1/6)*c(1, 1, 1, 1, 1, 1)\n",
    "\n",
    "#Simulate the random experiment of rolling a pair of fair dice nsimulation times\n",
    "nsimulations = 1e6\n",
    "simulatedData = replicate(nsimulations,sample(s, size = 2, replace = TRUE, prob = p))\n",
    "\n",
    "\n",
    "#function to check if first roll is even \n",
    "checkEventEven = function(data){\n",
    "  if(data[1] %% 2 == 0){\n",
    "    return(TRUE)\n",
    "  }\n",
    "  return(FALSE)\n",
    "}\n",
    "\n",
    "#function to check if the sum of the rolls is at least 7\n",
    "checkEventGeq7 = function(data){\n",
    "  if(sum(data) >=7 ){\n",
    "    return(1)\n",
    "  }\n",
    "  return(0)\n",
    "}\n",
    "\n",
    "#probability of rolling a pair of dice whose sum is greater than 7 , given first roll is even\n",
    "mean(apply(simulatedData[,apply(simulatedData,2,checkEventEven)],2,checkEventGeq7))"
   ]
  },
  {
   "cell_type": "code",
   "execution_count": null,
   "metadata": {},
   "outputs": [],
   "source": []
  }
 ],
 "metadata": {
  "kernelspec": {
   "display_name": "R",
   "language": "R",
   "name": "ir"
  },
  "language_info": {
   "codemirror_mode": "r",
   "file_extension": ".r",
   "mimetype": "text/x-r-source",
   "name": "R",
   "pygments_lexer": "r",
   "version": "4.1.1"
  },
  "orig_nbformat": 4
 },
 "nbformat": 4,
 "nbformat_minor": 2
}
