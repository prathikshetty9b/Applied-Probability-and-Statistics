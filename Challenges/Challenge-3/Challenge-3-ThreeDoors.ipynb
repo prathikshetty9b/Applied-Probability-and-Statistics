{
 "cells": [
  {
   "cell_type": "markdown",
   "metadata": {},
   "source": [
    "# **Three Door's**"
   ]
  },
  {
   "cell_type": "markdown",
   "metadata": {},
   "source": [
    "## **Problem Statement**"
   ]
  },
  {
   "cell_type": "markdown",
   "metadata": {},
   "source": [
    "\n",
    " A game show has the following setup: there are 3 doors, say A, B, and, C. Behind one  \n",
    "  random door is a prize, and behind the other two doors, there is nothing.  \n",
    " The game participant is asked to select a door first. After that, the game host opens  \n",
    " one among the other two doors  (that the participant has not selected) behind which is empty.  \n",
    " Now the participant is offered the choice to switch (between the door that has been selected  \n",
    " and the one that the host has not opened). If you are the participant, would you switch or not?  "
   ]
  },
  {
   "cell_type": "code",
   "execution_count": 24,
   "metadata": {},
   "outputs": [
    {
     "data": {
      "text/html": [
       "0.333822"
      ],
      "text/latex": [
       "0.333822"
      ],
      "text/markdown": [
       "0.333822"
      ],
      "text/plain": [
       "[1] 0.333822"
      ]
     },
     "metadata": {},
     "output_type": "display_data"
    },
    {
     "data": {
      "text/html": [
       "0.666178"
      ],
      "text/latex": [
       "0.666178"
      ],
      "text/markdown": [
       "0.666178"
      ],
      "text/plain": [
       "[1] 0.666178"
      ]
     },
     "metadata": {},
     "output_type": "display_data"
    }
   ],
   "source": [
    "# Sampling space \n",
    "s = c('D1','D2','D3');\n",
    "\n",
    "# Corresponding Probabilities\n",
    "p = (1/3) *c(1,1,1)\n",
    "\n",
    "\n",
    "#pickDoor = sample(s ,size = 1, replace = FALSE, prob = p )\n",
    "#pickDoor\n",
    "\n",
    "\n",
    "#priceDoor = sample(s, size = 1, replace = FALSE, prob = p)\n",
    "#priceDoor\n",
    "\n",
    "#First Row indicates Participants Choice , Second Row indicates Winning Door\n",
    "nsimulations = 1e6\n",
    "simulatedData = replicate(nsimulations,sample(s, size = 2 , replace = TRUE, prob = p)) \n",
    "\n",
    "#We already know that host will choose a door without prize\n",
    "\n",
    "#Liklihood of him winning if he sticks to his decision \n",
    "checkEventWin1 = function(data) {\n",
    "    if(data[1] == data[2])\n",
    "    {\n",
    "        return(1) \n",
    "    }\n",
    "    return(0) \n",
    "\n",
    "}\n",
    "\n",
    "mean(apply(simulatedData,2,checkEventWin1))\n",
    "\n",
    "#Liklihood of him winning if he switches doors \n",
    "checkEventWin2 = function(data) {\n",
    "    if(data[1] != data[2])\n",
    "    {\n",
    "        return(1) #switch if participant didn't choose the winning door \n",
    "    }\n",
    "    return(0) #don't switch if participant chose the winning door\n",
    "}\n",
    "\n",
    "mean(apply(simulatedData,2,checkEventWin2))"
   ]
  }
 ],
 "metadata": {
  "kernelspec": {
   "display_name": "R",
   "language": "R",
   "name": "ir"
  },
  "language_info": {
   "codemirror_mode": "r",
   "file_extension": ".r",
   "mimetype": "text/x-r-source",
   "name": "R",
   "pygments_lexer": "r",
   "version": "4.1.1"
  },
  "orig_nbformat": 4
 },
 "nbformat": 4,
 "nbformat_minor": 2
}
